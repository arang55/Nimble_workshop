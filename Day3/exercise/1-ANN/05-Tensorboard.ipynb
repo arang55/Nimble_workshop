{
 "cells": [
  {
   "cell_type": "markdown",
   "metadata": {},
   "source": [
    "# Tensorboard\n",
    "\n",
    "Let's explore the built in data visualization capabilities that come with Tensorboard.\n",
    "\n",
    "## Data"
   ]
  },
  {
   "cell_type": "code",
   "execution_count": 3,
   "metadata": {},
   "outputs": [],
   "source": [
    "import pandas as pd\n",
    "import numpy as np"
   ]
  },
  {
   "cell_type": "code",
   "execution_count": 4,
   "metadata": {},
   "outputs": [],
   "source": [
    "df = pd.read_csv('./DATA/cancer_classification.csv')"
   ]
  },
  {
   "cell_type": "markdown",
   "metadata": {},
   "source": [
    "### Train Test Split"
   ]
  },
  {
   "cell_type": "code",
   "execution_count": 5,
   "metadata": {},
   "outputs": [],
   "source": [
    "X = df.drop('benign_0__mal_1',axis=1).values\n",
    "y = df['benign_0__mal_1'].values"
   ]
  },
  {
   "cell_type": "code",
   "execution_count": 6,
   "metadata": {},
   "outputs": [
    {
     "name": "stderr",
     "output_type": "stream",
     "text": [
      "c:\\Users\\arang\\anaconda3\\envs\\myEnv\\lib\\site-packages\\scipy\\__init__.py:146: UserWarning: A NumPy version >=1.17.3 and <1.25.0 is required for this version of SciPy (detected version 1.26.4\n",
      "  warnings.warn(f\"A NumPy version >={np_minversion} and <{np_maxversion}\"\n"
     ]
    }
   ],
   "source": [
    "from sklearn.model_selection import train_test_split"
   ]
  },
  {
   "cell_type": "code",
   "execution_count": 7,
   "metadata": {},
   "outputs": [],
   "source": [
    "X_train, X_test, y_train, y_test = train_test_split(X,y,test_size=0.25,random_state=101)"
   ]
  },
  {
   "cell_type": "markdown",
   "metadata": {},
   "source": [
    "\n",
    "### Scaling Data"
   ]
  },
  {
   "cell_type": "code",
   "execution_count": 8,
   "metadata": {},
   "outputs": [],
   "source": [
    "from sklearn.preprocessing import MinMaxScaler"
   ]
  },
  {
   "cell_type": "code",
   "execution_count": 9,
   "metadata": {},
   "outputs": [],
   "source": [
    "scaler = MinMaxScaler()"
   ]
  },
  {
   "cell_type": "code",
   "execution_count": 10,
   "metadata": {},
   "outputs": [
    {
     "data": {
      "text/plain": [
       "MinMaxScaler()"
      ]
     },
     "execution_count": 10,
     "metadata": {},
     "output_type": "execute_result"
    }
   ],
   "source": [
    "scaler.fit(X_train)"
   ]
  },
  {
   "cell_type": "code",
   "execution_count": 11,
   "metadata": {},
   "outputs": [],
   "source": [
    "X_train = scaler.transform(X_train)\n",
    "X_test = scaler.transform(X_test)"
   ]
  },
  {
   "cell_type": "markdown",
   "metadata": {},
   "source": [
    "## Creating the Model"
   ]
  },
  {
   "cell_type": "code",
   "execution_count": 12,
   "metadata": {},
   "outputs": [
    {
     "name": "stdout",
     "output_type": "stream",
     "text": [
      "WARNING:tensorflow:From c:\\Users\\arang\\anaconda3\\envs\\myEnv\\lib\\site-packages\\keras\\src\\losses.py:2976: The name tf.losses.sparse_softmax_cross_entropy is deprecated. Please use tf.compat.v1.losses.sparse_softmax_cross_entropy instead.\n",
      "\n"
     ]
    }
   ],
   "source": [
    "import tensorflow as tf\n",
    "from tensorflow.keras.models import Sequential\n",
    "from tensorflow.keras.layers import Dense, Activation,Dropout"
   ]
  },
  {
   "cell_type": "code",
   "execution_count": 13,
   "metadata": {},
   "outputs": [],
   "source": [
    "from tensorflow.keras.callbacks import EarlyStopping,TensorBoard"
   ]
  },
  {
   "cell_type": "code",
   "execution_count": 14,
   "metadata": {},
   "outputs": [],
   "source": [
    "early_stop = EarlyStopping(monitor='val_loss', mode='min', verbose=1, patience=25)"
   ]
  },
  {
   "cell_type": "code",
   "execution_count": 15,
   "metadata": {},
   "outputs": [
    {
     "data": {
      "text/plain": [
       "'c:\\\\Users\\\\arang\\\\OneDrive\\\\Desktop\\\\Aruba Training\\\\Nimble\\\\Course2\\\\Day1\\\\excercise\\\\1 Ann'"
      ]
     },
     "execution_count": 15,
     "metadata": {},
     "output_type": "execute_result"
    }
   ],
   "source": [
    "pwd"
   ]
  },
  {
   "cell_type": "markdown",
   "metadata": {},
   "source": [
    "## Creating the Tensorboard Callback\n",
    "\n",
    "TensorBoard is a visualization tool provided with TensorFlow.\n",
    "\n",
    "This callback logs events for TensorBoard, including:\n",
    "* Metrics summary plots\n",
    "* Training graph visualization\n",
    "* Activation histograms\n",
    "* Sampled profiling\n",
    "\n",
    "If you have installed TensorFlow with pip, you should be able\n",
    "to launch TensorBoard from the command line:\n",
    "\n",
    "```sh\n",
    "tensorboard --logdir=path_to_your_logs\n",
    "```\n",
    "\n",
    "You can find more information about TensorBoard\n",
    "[here](https://www.tensorflow.org/tensorboard/).\n",
    "\n",
    "    Arguments:\n",
    "        log_dir: the path of the directory where to save the log files to be\n",
    "          parsed by TensorBoard.\n",
    "        histogram_freq: frequency (in epochs) at which to compute activation and\n",
    "          weight histograms for the layers of the model. If set to 0, histograms\n",
    "          won't be computed. Validation data (or split) must be specified for\n",
    "          histogram visualizations.\n",
    "        write_graph: whether to visualize the graph in TensorBoard. The log file\n",
    "          can become quite large when write_graph is set to True.\n",
    "        write_images: whether to write model weights to visualize as image in\n",
    "          TensorBoard.\n",
    "        update_freq: `'batch'` or `'epoch'` or integer. When using `'batch'`,\n",
    "          writes the losses and metrics to TensorBoard after each batch. The same\n",
    "          applies for `'epoch'`. If using an integer, let's say `1000`, the\n",
    "          callback will write the metrics and losses to TensorBoard every 1000\n",
    "          samples. Note that writing too frequently to TensorBoard can slow down\n",
    "          your training.\n",
    "        profile_batch: Profile the batch to sample compute characteristics. By\n",
    "          default, it will profile the second batch. Set profile_batch=0 to\n",
    "          disable profiling. Must run in TensorFlow eager mode.\n",
    "        embeddings_freq: frequency (in epochs) at which embedding layers will\n",
    "          be visualized. If set to 0, embeddings won't be visualized.\n",
    "       "
   ]
  },
  {
   "cell_type": "code",
   "execution_count": 16,
   "metadata": {},
   "outputs": [],
   "source": [
    "from datetime import datetime"
   ]
  },
  {
   "cell_type": "code",
   "execution_count": 17,
   "metadata": {},
   "outputs": [
    {
     "data": {
      "text/plain": [
       "'2024-04-11--2322'"
      ]
     },
     "execution_count": 17,
     "metadata": {},
     "output_type": "execute_result"
    }
   ],
   "source": [
    "datetime.now().strftime(\"%Y-%m-%d--%H%M\")"
   ]
  },
  {
   "cell_type": "code",
   "execution_count": 18,
   "metadata": {},
   "outputs": [],
   "source": [
    "# WINDOWS: Use \"logs\\\\fit\"\n",
    "# MACOS/LINUX: Use \"logs\\fit\"\n",
    "\n",
    "log_directory = 'logs\\\\fit'\n",
    "\n",
    "# OPTIONAL: ADD A TIMESTAMP FOR UNIQUE FOLDER\n",
    "# timestamp = datetime.now().strftime(\"%Y-%m-%d--%H%M\")\n",
    "# log_directory = log_directory + '\\\\' + timestamp\n",
    "\n",
    "\n",
    "board = TensorBoard(log_dir=log_directory,histogram_freq=1,\n",
    "    write_graph=True,\n",
    "    write_images=True,\n",
    "    update_freq='epoch',\n",
    "    profile_batch=2,\n",
    "    embeddings_freq=1)"
   ]
  },
  {
   "cell_type": "markdown",
   "metadata": {},
   "source": [
    "Now create the model layers:"
   ]
  },
  {
   "cell_type": "code",
   "execution_count": 19,
   "metadata": {},
   "outputs": [
    {
     "name": "stdout",
     "output_type": "stream",
     "text": [
      "WARNING:tensorflow:From c:\\Users\\arang\\anaconda3\\envs\\myEnv\\lib\\site-packages\\keras\\src\\backend.py:873: The name tf.get_default_graph is deprecated. Please use tf.compat.v1.get_default_graph instead.\n",
      "\n",
      "WARNING:tensorflow:From c:\\Users\\arang\\anaconda3\\envs\\myEnv\\lib\\site-packages\\keras\\src\\optimizers\\__init__.py:309: The name tf.train.Optimizer is deprecated. Please use tf.compat.v1.train.Optimizer instead.\n",
      "\n"
     ]
    }
   ],
   "source": [
    "model = Sequential()\n",
    "model.add(Dense(units=30,activation='relu'))\n",
    "model.add(Dropout(0.5))\n",
    "model.add(Dense(units=15,activation='relu'))\n",
    "model.add(Dropout(0.5))\n",
    "model.add(Dense(units=1,activation='sigmoid'))\n",
    "model.compile(loss='binary_crossentropy', optimizer='adam')"
   ]
  },
  {
   "cell_type": "markdown",
   "metadata": {},
   "source": [
    "## Train the Model"
   ]
  },
  {
   "cell_type": "code",
   "execution_count": 20,
   "metadata": {},
   "outputs": [
    {
     "name": "stdout",
     "output_type": "stream",
     "text": [
      "Epoch 1/600\n",
      "WARNING:tensorflow:From c:\\Users\\arang\\anaconda3\\envs\\myEnv\\lib\\site-packages\\keras\\src\\utils\\tf_utils.py:492: The name tf.ragged.RaggedTensorValue is deprecated. Please use tf.compat.v1.ragged.RaggedTensorValue instead.\n",
      "\n",
      "14/14 [==============================] - 4s 100ms/step - loss: 0.7157 - val_loss: 0.6908\n",
      "Epoch 2/600\n",
      "14/14 [==============================] - 1s 42ms/step - loss: 0.7040 - val_loss: 0.6751\n",
      "Epoch 3/600\n",
      "14/14 [==============================] - 0s 36ms/step - loss: 0.6789 - val_loss: 0.6648\n",
      "Epoch 4/600\n",
      "14/14 [==============================] - 0s 31ms/step - loss: 0.6679 - val_loss: 0.6542\n",
      "Epoch 5/600\n",
      "14/14 [==============================] - 1s 39ms/step - loss: 0.6499 - val_loss: 0.6386\n",
      "Epoch 6/600\n",
      "14/14 [==============================] - 0s 37ms/step - loss: 0.6370 - val_loss: 0.6163\n",
      "Epoch 7/600\n",
      "14/14 [==============================] - 0s 35ms/step - loss: 0.6120 - val_loss: 0.5830\n",
      "Epoch 8/600\n",
      "14/14 [==============================] - 0s 31ms/step - loss: 0.5971 - val_loss: 0.5449\n",
      "Epoch 9/600\n",
      "14/14 [==============================] - 1s 44ms/step - loss: 0.5687 - val_loss: 0.5149\n",
      "Epoch 10/600\n",
      "14/14 [==============================] - 1s 40ms/step - loss: 0.5459 - val_loss: 0.4836\n",
      "Epoch 11/600\n",
      "14/14 [==============================] - 1s 45ms/step - loss: 0.5310 - val_loss: 0.4559\n",
      "Epoch 12/600\n",
      "14/14 [==============================] - 1s 40ms/step - loss: 0.5270 - val_loss: 0.4323\n",
      "Epoch 13/600\n",
      "14/14 [==============================] - 1s 53ms/step - loss: 0.4956 - val_loss: 0.4132\n",
      "Epoch 14/600\n",
      "14/14 [==============================] - 1s 47ms/step - loss: 0.4640 - val_loss: 0.3900\n",
      "Epoch 15/600\n",
      "14/14 [==============================] - 1s 48ms/step - loss: 0.4504 - val_loss: 0.3703\n",
      "Epoch 16/600\n",
      "14/14 [==============================] - 1s 48ms/step - loss: 0.4556 - val_loss: 0.3622\n",
      "Epoch 17/600\n",
      "14/14 [==============================] - 1s 50ms/step - loss: 0.4386 - val_loss: 0.3408\n",
      "Epoch 18/600\n",
      "14/14 [==============================] - 1s 52ms/step - loss: 0.3970 - val_loss: 0.3181\n",
      "Epoch 19/600\n",
      "14/14 [==============================] - 1s 49ms/step - loss: 0.4015 - val_loss: 0.2974\n",
      "Epoch 20/600\n",
      "14/14 [==============================] - 0s 34ms/step - loss: 0.3640 - val_loss: 0.2772\n",
      "Epoch 21/600\n",
      "14/14 [==============================] - 0s 30ms/step - loss: 0.3578 - val_loss: 0.2618\n",
      "Epoch 22/600\n",
      "14/14 [==============================] - 1s 57ms/step - loss: 0.3483 - val_loss: 0.2520\n",
      "Epoch 23/600\n",
      "14/14 [==============================] - 1s 62ms/step - loss: 0.3431 - val_loss: 0.2404\n",
      "Epoch 24/600\n",
      "14/14 [==============================] - 1s 53ms/step - loss: 0.3392 - val_loss: 0.2309\n",
      "Epoch 25/600\n",
      "14/14 [==============================] - 1s 50ms/step - loss: 0.3431 - val_loss: 0.2215\n",
      "Epoch 26/600\n",
      "14/14 [==============================] - 1s 42ms/step - loss: 0.3303 - val_loss: 0.2128\n",
      "Epoch 27/600\n",
      "14/14 [==============================] - 1s 50ms/step - loss: 0.3144 - val_loss: 0.2046\n",
      "Epoch 28/600\n",
      "14/14 [==============================] - 0s 18ms/step - loss: 0.2749 - val_loss: 0.1956\n",
      "Epoch 29/600\n",
      "14/14 [==============================] - 0s 18ms/step - loss: 0.2708 - val_loss: 0.1826\n",
      "Epoch 30/600\n",
      "14/14 [==============================] - 0s 19ms/step - loss: 0.2703 - val_loss: 0.1749\n",
      "Epoch 31/600\n",
      "14/14 [==============================] - 0s 24ms/step - loss: 0.2777 - val_loss: 0.1749\n",
      "Epoch 32/600\n",
      "14/14 [==============================] - 0s 18ms/step - loss: 0.2473 - val_loss: 0.1657\n",
      "Epoch 33/600\n",
      "14/14 [==============================] - 0s 19ms/step - loss: 0.2715 - val_loss: 0.1640\n",
      "Epoch 34/600\n",
      "14/14 [==============================] - 0s 20ms/step - loss: 0.2362 - val_loss: 0.1551\n",
      "Epoch 35/600\n",
      "14/14 [==============================] - 0s 18ms/step - loss: 0.2190 - val_loss: 0.1571\n",
      "Epoch 36/600\n",
      "14/14 [==============================] - 0s 21ms/step - loss: 0.2542 - val_loss: 0.1490\n",
      "Epoch 37/600\n",
      "14/14 [==============================] - 0s 21ms/step - loss: 0.2456 - val_loss: 0.1434\n",
      "Epoch 38/600\n",
      "14/14 [==============================] - 0s 21ms/step - loss: 0.2351 - val_loss: 0.1413\n",
      "Epoch 39/600\n",
      "14/14 [==============================] - 0s 21ms/step - loss: 0.2266 - val_loss: 0.1475\n",
      "Epoch 40/600\n",
      "14/14 [==============================] - 0s 20ms/step - loss: 0.2303 - val_loss: 0.1355\n",
      "Epoch 41/600\n",
      "14/14 [==============================] - 0s 19ms/step - loss: 0.2197 - val_loss: 0.1331\n",
      "Epoch 42/600\n",
      "14/14 [==============================] - 0s 18ms/step - loss: 0.2188 - val_loss: 0.1297\n",
      "Epoch 43/600\n",
      "14/14 [==============================] - 0s 21ms/step - loss: 0.2295 - val_loss: 0.1330\n",
      "Epoch 44/600\n",
      "14/14 [==============================] - 0s 21ms/step - loss: 0.1977 - val_loss: 0.1294\n",
      "Epoch 45/600\n",
      "14/14 [==============================] - 0s 21ms/step - loss: 0.2020 - val_loss: 0.1316\n",
      "Epoch 46/600\n",
      "14/14 [==============================] - 0s 26ms/step - loss: 0.2081 - val_loss: 0.1292\n",
      "Epoch 47/600\n",
      "14/14 [==============================] - 0s 22ms/step - loss: 0.1971 - val_loss: 0.1277\n",
      "Epoch 48/600\n",
      "14/14 [==============================] - 0s 28ms/step - loss: 0.1965 - val_loss: 0.1222\n",
      "Epoch 49/600\n",
      "14/14 [==============================] - 0s 24ms/step - loss: 0.2098 - val_loss: 0.1231\n",
      "Epoch 50/600\n",
      "14/14 [==============================] - 0s 20ms/step - loss: 0.2084 - val_loss: 0.1236\n",
      "Epoch 51/600\n",
      "14/14 [==============================] - 0s 24ms/step - loss: 0.1772 - val_loss: 0.1241\n",
      "Epoch 52/600\n",
      "14/14 [==============================] - 0s 26ms/step - loss: 0.1684 - val_loss: 0.1213\n",
      "Epoch 53/600\n",
      "14/14 [==============================] - 0s 26ms/step - loss: 0.1884 - val_loss: 0.1187\n",
      "Epoch 54/600\n",
      "14/14 [==============================] - 0s 21ms/step - loss: 0.1798 - val_loss: 0.1207\n",
      "Epoch 55/600\n",
      "14/14 [==============================] - 0s 22ms/step - loss: 0.1859 - val_loss: 0.1152\n",
      "Epoch 56/600\n",
      "14/14 [==============================] - 0s 23ms/step - loss: 0.1931 - val_loss: 0.1159\n",
      "Epoch 57/600\n",
      "14/14 [==============================] - 0s 24ms/step - loss: 0.1765 - val_loss: 0.1173\n",
      "Epoch 58/600\n",
      "14/14 [==============================] - 0s 26ms/step - loss: 0.1517 - val_loss: 0.1150\n",
      "Epoch 59/600\n",
      "14/14 [==============================] - 0s 23ms/step - loss: 0.1552 - val_loss: 0.1130\n",
      "Epoch 60/600\n",
      "14/14 [==============================] - 0s 21ms/step - loss: 0.1828 - val_loss: 0.1124\n",
      "Epoch 61/600\n",
      "14/14 [==============================] - 0s 21ms/step - loss: 0.1517 - val_loss: 0.1093\n",
      "Epoch 62/600\n",
      "14/14 [==============================] - 0s 20ms/step - loss: 0.1641 - val_loss: 0.1062\n",
      "Epoch 63/600\n",
      "14/14 [==============================] - 0s 24ms/step - loss: 0.1501 - val_loss: 0.1142\n",
      "Epoch 64/600\n",
      "14/14 [==============================] - 0s 22ms/step - loss: 0.1959 - val_loss: 0.1109\n",
      "Epoch 65/600\n",
      "14/14 [==============================] - 0s 24ms/step - loss: 0.1683 - val_loss: 0.1129\n",
      "Epoch 66/600\n",
      "14/14 [==============================] - 0s 22ms/step - loss: 0.1444 - val_loss: 0.1107\n",
      "Epoch 67/600\n",
      "14/14 [==============================] - 0s 19ms/step - loss: 0.1486 - val_loss: 0.1066\n",
      "Epoch 68/600\n",
      "14/14 [==============================] - 0s 18ms/step - loss: 0.1689 - val_loss: 0.1067\n",
      "Epoch 69/600\n",
      "14/14 [==============================] - 0s 20ms/step - loss: 0.1509 - val_loss: 0.1055\n",
      "Epoch 70/600\n",
      "14/14 [==============================] - 0s 20ms/step - loss: 0.1684 - val_loss: 0.1085\n",
      "Epoch 71/600\n",
      "14/14 [==============================] - 0s 22ms/step - loss: 0.1291 - val_loss: 0.1031\n",
      "Epoch 72/600\n",
      "14/14 [==============================] - 0s 24ms/step - loss: 0.1402 - val_loss: 0.1040\n",
      "Epoch 73/600\n",
      "14/14 [==============================] - 0s 21ms/step - loss: 0.1409 - val_loss: 0.1066\n",
      "Epoch 74/600\n",
      "14/14 [==============================] - 0s 21ms/step - loss: 0.1381 - val_loss: 0.1018\n",
      "Epoch 75/600\n",
      "14/14 [==============================] - 0s 20ms/step - loss: 0.1529 - val_loss: 0.1082\n",
      "Epoch 76/600\n",
      "14/14 [==============================] - 0s 20ms/step - loss: 0.1342 - val_loss: 0.1053\n",
      "Epoch 77/600\n",
      "14/14 [==============================] - 0s 25ms/step - loss: 0.1466 - val_loss: 0.1057\n",
      "Epoch 78/600\n",
      "14/14 [==============================] - 0s 27ms/step - loss: 0.1292 - val_loss: 0.1040\n",
      "Epoch 79/600\n",
      "14/14 [==============================] - 0s 23ms/step - loss: 0.1395 - val_loss: 0.1018\n",
      "Epoch 80/600\n",
      "14/14 [==============================] - 0s 24ms/step - loss: 0.1280 - val_loss: 0.1065\n",
      "Epoch 81/600\n",
      "14/14 [==============================] - 0s 22ms/step - loss: 0.1270 - val_loss: 0.1041\n",
      "Epoch 82/600\n",
      "14/14 [==============================] - 0s 22ms/step - loss: 0.1448 - val_loss: 0.1025\n",
      "Epoch 83/600\n",
      "14/14 [==============================] - 0s 22ms/step - loss: 0.1286 - val_loss: 0.1048\n",
      "Epoch 84/600\n",
      "14/14 [==============================] - 0s 23ms/step - loss: 0.1403 - val_loss: 0.1056\n",
      "Epoch 85/600\n",
      "14/14 [==============================] - 0s 22ms/step - loss: 0.1251 - val_loss: 0.1037\n",
      "Epoch 86/600\n",
      "14/14 [==============================] - 0s 24ms/step - loss: 0.1161 - val_loss: 0.1130\n",
      "Epoch 87/600\n",
      "14/14 [==============================] - 0s 21ms/step - loss: 0.1157 - val_loss: 0.1010\n",
      "Epoch 88/600\n",
      "14/14 [==============================] - 0s 21ms/step - loss: 0.1209 - val_loss: 0.1008\n",
      "Epoch 89/600\n",
      "14/14 [==============================] - 0s 19ms/step - loss: 0.1239 - val_loss: 0.1032\n",
      "Epoch 90/600\n",
      "14/14 [==============================] - 0s 21ms/step - loss: 0.1361 - val_loss: 0.1017\n",
      "Epoch 91/600\n",
      "14/14 [==============================] - 0s 22ms/step - loss: 0.1236 - val_loss: 0.1037\n",
      "Epoch 92/600\n",
      "14/14 [==============================] - 1s 43ms/step - loss: 0.1294 - val_loss: 0.1073\n",
      "Epoch 93/600\n",
      "14/14 [==============================] - 0s 24ms/step - loss: 0.1337 - val_loss: 0.1003\n",
      "Epoch 94/600\n",
      "14/14 [==============================] - 0s 23ms/step - loss: 0.1277 - val_loss: 0.1033\n",
      "Epoch 95/600\n",
      "14/14 [==============================] - 0s 25ms/step - loss: 0.1210 - val_loss: 0.1074\n",
      "Epoch 96/600\n",
      "14/14 [==============================] - 0s 27ms/step - loss: 0.1233 - val_loss: 0.1018\n",
      "Epoch 97/600\n",
      "14/14 [==============================] - 0s 31ms/step - loss: 0.1391 - val_loss: 0.0985\n",
      "Epoch 98/600\n",
      "14/14 [==============================] - 1s 38ms/step - loss: 0.1212 - val_loss: 0.1039\n",
      "Epoch 99/600\n",
      "14/14 [==============================] - 0s 20ms/step - loss: 0.1077 - val_loss: 0.1000\n",
      "Epoch 100/600\n",
      "14/14 [==============================] - 0s 18ms/step - loss: 0.1344 - val_loss: 0.1057\n",
      "Epoch 101/600\n",
      "14/14 [==============================] - 0s 23ms/step - loss: 0.1180 - val_loss: 0.0995\n",
      "Epoch 102/600\n",
      "14/14 [==============================] - 0s 23ms/step - loss: 0.1214 - val_loss: 0.1002\n",
      "Epoch 103/600\n",
      "14/14 [==============================] - 0s 24ms/step - loss: 0.1075 - val_loss: 0.0986\n",
      "Epoch 104/600\n",
      "14/14 [==============================] - 0s 28ms/step - loss: 0.1056 - val_loss: 0.0965\n",
      "Epoch 105/600\n",
      "14/14 [==============================] - 0s 21ms/step - loss: 0.1067 - val_loss: 0.0952\n",
      "Epoch 106/600\n",
      "14/14 [==============================] - 0s 19ms/step - loss: 0.1305 - val_loss: 0.1025\n",
      "Epoch 107/600\n",
      "14/14 [==============================] - 0s 26ms/step - loss: 0.1132 - val_loss: 0.0986\n",
      "Epoch 108/600\n",
      "14/14 [==============================] - 0s 23ms/step - loss: 0.1217 - val_loss: 0.0995\n",
      "Epoch 109/600\n",
      "14/14 [==============================] - 0s 22ms/step - loss: 0.1053 - val_loss: 0.0974\n",
      "Epoch 110/600\n",
      "14/14 [==============================] - 0s 23ms/step - loss: 0.0978 - val_loss: 0.0990\n",
      "Epoch 111/600\n",
      "14/14 [==============================] - 0s 20ms/step - loss: 0.1028 - val_loss: 0.0994\n",
      "Epoch 112/600\n",
      "14/14 [==============================] - 0s 21ms/step - loss: 0.1106 - val_loss: 0.1044\n",
      "Epoch 113/600\n",
      "14/14 [==============================] - 0s 18ms/step - loss: 0.1130 - val_loss: 0.1000\n",
      "Epoch 114/600\n",
      "14/14 [==============================] - 0s 21ms/step - loss: 0.0899 - val_loss: 0.0989\n",
      "Epoch 115/600\n",
      "14/14 [==============================] - 0s 22ms/step - loss: 0.0915 - val_loss: 0.0994\n",
      "Epoch 116/600\n",
      "14/14 [==============================] - 0s 20ms/step - loss: 0.0953 - val_loss: 0.1049\n",
      "Epoch 117/600\n",
      "14/14 [==============================] - 0s 22ms/step - loss: 0.1110 - val_loss: 0.1000\n",
      "Epoch 118/600\n",
      "14/14 [==============================] - 0s 21ms/step - loss: 0.1058 - val_loss: 0.1135\n",
      "Epoch 119/600\n",
      "14/14 [==============================] - 0s 24ms/step - loss: 0.0873 - val_loss: 0.0977\n",
      "Epoch 120/600\n",
      "14/14 [==============================] - 0s 22ms/step - loss: 0.1010 - val_loss: 0.1086\n",
      "Epoch 121/600\n",
      "14/14 [==============================] - 0s 24ms/step - loss: 0.1076 - val_loss: 0.1085\n",
      "Epoch 122/600\n",
      "14/14 [==============================] - 0s 23ms/step - loss: 0.1064 - val_loss: 0.0979\n",
      "Epoch 123/600\n",
      "14/14 [==============================] - 0s 26ms/step - loss: 0.1237 - val_loss: 0.0967\n",
      "Epoch 124/600\n",
      "14/14 [==============================] - 0s 25ms/step - loss: 0.1181 - val_loss: 0.0968\n",
      "Epoch 125/600\n",
      "14/14 [==============================] - 0s 22ms/step - loss: 0.1046 - val_loss: 0.0988\n",
      "Epoch 126/600\n",
      "14/14 [==============================] - 0s 29ms/step - loss: 0.1042 - val_loss: 0.1053\n",
      "Epoch 127/600\n",
      "14/14 [==============================] - 0s 23ms/step - loss: 0.1109 - val_loss: 0.0954\n",
      "Epoch 128/600\n",
      "14/14 [==============================] - 0s 28ms/step - loss: 0.1152 - val_loss: 0.0952\n",
      "Epoch 129/600\n",
      "14/14 [==============================] - 0s 22ms/step - loss: 0.1002 - val_loss: 0.1016\n",
      "Epoch 130/600\n",
      "14/14 [==============================] - 0s 21ms/step - loss: 0.0812 - val_loss: 0.1053\n",
      "Epoch 131/600\n",
      "14/14 [==============================] - 0s 20ms/step - loss: 0.1233 - val_loss: 0.1007\n",
      "Epoch 132/600\n",
      "14/14 [==============================] - 0s 24ms/step - loss: 0.1016 - val_loss: 0.0976\n",
      "Epoch 133/600\n",
      "14/14 [==============================] - 0s 19ms/step - loss: 0.0773 - val_loss: 0.0983\n",
      "Epoch 134/600\n",
      "14/14 [==============================] - 0s 21ms/step - loss: 0.0879 - val_loss: 0.1098\n",
      "Epoch 135/600\n",
      "14/14 [==============================] - 0s 20ms/step - loss: 0.1020 - val_loss: 0.0991\n",
      "Epoch 136/600\n",
      "14/14 [==============================] - 0s 25ms/step - loss: 0.0858 - val_loss: 0.0973\n",
      "Epoch 137/600\n",
      "14/14 [==============================] - 0s 23ms/step - loss: 0.0802 - val_loss: 0.0967\n",
      "Epoch 138/600\n",
      "14/14 [==============================] - 0s 23ms/step - loss: 0.1208 - val_loss: 0.1025\n",
      "Epoch 139/600\n",
      "14/14 [==============================] - 0s 26ms/step - loss: 0.0932 - val_loss: 0.1012\n",
      "Epoch 140/600\n",
      "14/14 [==============================] - 0s 21ms/step - loss: 0.0940 - val_loss: 0.1026\n",
      "Epoch 141/600\n",
      "14/14 [==============================] - 0s 22ms/step - loss: 0.0806 - val_loss: 0.1018\n",
      "Epoch 142/600\n",
      "14/14 [==============================] - 0s 23ms/step - loss: 0.0715 - val_loss: 0.1110\n",
      "Epoch 143/600\n",
      "14/14 [==============================] - 0s 24ms/step - loss: 0.0972 - val_loss: 0.1131\n",
      "Epoch 144/600\n",
      "14/14 [==============================] - 0s 20ms/step - loss: 0.0889 - val_loss: 0.1049\n",
      "Epoch 145/600\n",
      "14/14 [==============================] - 0s 24ms/step - loss: 0.1025 - val_loss: 0.0998\n",
      "Epoch 146/600\n",
      "14/14 [==============================] - 0s 18ms/step - loss: 0.0858 - val_loss: 0.0980\n",
      "Epoch 147/600\n",
      "14/14 [==============================] - 0s 18ms/step - loss: 0.0931 - val_loss: 0.1116\n",
      "Epoch 148/600\n",
      "14/14 [==============================] - 0s 20ms/step - loss: 0.0889 - val_loss: 0.1013\n",
      "Epoch 149/600\n",
      "14/14 [==============================] - 0s 20ms/step - loss: 0.1013 - val_loss: 0.1020\n",
      "Epoch 150/600\n",
      "14/14 [==============================] - 0s 27ms/step - loss: 0.0759 - val_loss: 0.1036\n",
      "Epoch 151/600\n",
      "14/14 [==============================] - 0s 24ms/step - loss: 0.1010 - val_loss: 0.1042\n",
      "Epoch 152/600\n",
      "14/14 [==============================] - 0s 20ms/step - loss: 0.0756 - val_loss: 0.1055\n",
      "Epoch 153/600\n",
      "14/14 [==============================] - 0s 19ms/step - loss: 0.1139 - val_loss: 0.1139\n",
      "Epoch 153: early stopping\n"
     ]
    },
    {
     "data": {
      "text/plain": [
       "<keras.src.callbacks.History at 0x21fc2089940>"
      ]
     },
     "execution_count": 20,
     "metadata": {},
     "output_type": "execute_result"
    }
   ],
   "source": [
    "model.fit(x=X_train, \n",
    "          y=y_train, \n",
    "          epochs=600,\n",
    "          validation_data=(X_test, y_test), verbose=1,\n",
    "          callbacks=[early_stop,board]\n",
    "          )"
   ]
  },
  {
   "cell_type": "markdown",
   "metadata": {},
   "source": [
    "# Running Tensorboard\n"
   ]
  },
  {
   "cell_type": "markdown",
   "metadata": {},
   "source": [
    "## Running through the Command Line\n",
    "\n",
    "**Watch video to see how to run Tensorboard through a command line call.**"
   ]
  },
  {
   "cell_type": "markdown",
   "metadata": {},
   "source": [
    "Tensorboard will run locally in your browser at [http://localhost:6006/](http://localhost:6006/)\n"
   ]
  },
  {
   "cell_type": "code",
   "execution_count": 21,
   "metadata": {},
   "outputs": [
    {
     "name": "stdout",
     "output_type": "stream",
     "text": [
      "logs\\fit\n"
     ]
    }
   ],
   "source": [
    "print(log_directory)"
   ]
  },
  {
   "cell_type": "code",
   "execution_count": 22,
   "metadata": {},
   "outputs": [
    {
     "data": {
      "text/plain": [
       "'c:\\\\Users\\\\arang\\\\OneDrive\\\\Desktop\\\\Aruba Training\\\\Nimble\\\\Course2\\\\Day1\\\\excercise\\\\1 Ann'"
      ]
     },
     "execution_count": 22,
     "metadata": {},
     "output_type": "execute_result"
    }
   ],
   "source": [
    "pwd"
   ]
  },
  {
   "cell_type": "markdown",
   "metadata": {},
   "source": [
    "### Use cd at your command line to change directory to the file path reported back by pwd or your current .py file location.\n",
    "### Then run this code at your command line or terminal"
   ]
  },
  {
   "cell_type": "code",
   "execution_count": 23,
   "metadata": {},
   "outputs": [
    {
     "ename": "SyntaxError",
     "evalue": "invalid syntax (1592440942.py, line 1)",
     "output_type": "error",
     "traceback": [
      "\u001b[1;36m  Input \u001b[1;32mIn [23]\u001b[1;36m\u001b[0m\n\u001b[1;33m    tensorboard --logdir logs\\fit\u001b[0m\n\u001b[1;37m                         ^\u001b[0m\n\u001b[1;31mSyntaxError\u001b[0m\u001b[1;31m:\u001b[0m invalid syntax\n"
     ]
    }
   ],
   "source": [
    "tensorboard --logdir logs\\fit "
   ]
  }
 ],
 "metadata": {
  "kernelspec": {
   "display_name": "Python 3 (ipykernel)",
   "language": "python",
   "name": "python3"
  },
  "language_info": {
   "codemirror_mode": {
    "name": "ipython",
    "version": 3
   },
   "file_extension": ".py",
   "mimetype": "text/x-python",
   "name": "python",
   "nbconvert_exporter": "python",
   "pygments_lexer": "ipython3",
   "version": "3.9.7"
  }
 },
 "nbformat": 4,
 "nbformat_minor": 2
}
