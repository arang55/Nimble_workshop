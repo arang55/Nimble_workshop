{
 "cells": [
  {
   "cell_type": "code",
   "execution_count": 1,
   "id": "5e5fb238",
   "metadata": {},
   "outputs": [],
   "source": [
    "#pip install plotly"
   ]
  },
  {
   "cell_type": "code",
   "execution_count": 2,
   "id": "3ff5065b",
   "metadata": {},
   "outputs": [],
   "source": [
    "#pip install cufflinks"
   ]
  },
  {
   "cell_type": "code",
   "execution_count": 3,
   "id": "549c0ae1",
   "metadata": {},
   "outputs": [],
   "source": [
    "#pip install chart-studio"
   ]
  },
  {
   "cell_type": "code",
   "execution_count": 4,
   "id": "83eb6dc2",
   "metadata": {},
   "outputs": [],
   "source": [
    "import chart_studio.plotly as py"
   ]
  },
  {
   "cell_type": "code",
   "execution_count": 15,
   "id": "a47ba04d",
   "metadata": {},
   "outputs": [],
   "source": [
    "import pandas as pd\n",
    "import numpy as np\n",
    "%matplotlib inline"
   ]
  },
  {
   "cell_type": "code",
   "execution_count": 6,
   "id": "b819daad",
   "metadata": {},
   "outputs": [],
   "source": [
    "import cufflinks as cf"
   ]
  },
  {
   "cell_type": "code",
   "execution_count": 8,
   "id": "09628dd2",
   "metadata": {},
   "outputs": [],
   "source": [
    "from plotly.offline import download_plotlyjs,init_notebook_mode,plot,iplot"
   ]
  },
  {
   "cell_type": "code",
   "execution_count": 9,
   "id": "6372d5a0",
   "metadata": {},
   "outputs": [
    {
     "data": {
      "text/html": [
       "        <script type=\"text/javascript\">\n",
       "        window.PlotlyConfig = {MathJaxConfig: 'local'};\n",
       "        if (window.MathJax) {MathJax.Hub.Config({SVG: {font: \"STIX-Web\"}});}\n",
       "        if (typeof require !== 'undefined') {\n",
       "        require.undef(\"plotly\");\n",
       "        requirejs.config({\n",
       "            paths: {\n",
       "                'plotly': ['https://cdn.plot.ly/plotly-latest.min']\n",
       "            }\n",
       "        });\n",
       "        require(['plotly'], function(Plotly) {\n",
       "            window._Plotly = Plotly;\n",
       "        });\n",
       "        }\n",
       "        </script>\n",
       "        "
      ]
     },
     "metadata": {},
     "output_type": "display_data"
    }
   ],
   "source": [
    "init_notebook_mode(connected=True)\n",
    "#to access viz"
   ]
  },
  {
   "cell_type": "code",
   "execution_count": 10,
   "id": "46071b14",
   "metadata": {},
   "outputs": [
    {
     "data": {
      "text/html": [
       "        <script type=\"text/javascript\">\n",
       "        window.PlotlyConfig = {MathJaxConfig: 'local'};\n",
       "        if (window.MathJax) {MathJax.Hub.Config({SVG: {font: \"STIX-Web\"}});}\n",
       "        if (typeof require !== 'undefined') {\n",
       "        require.undef(\"plotly\");\n",
       "        requirejs.config({\n",
       "            paths: {\n",
       "                'plotly': ['https://cdn.plot.ly/plotly-latest.min']\n",
       "            }\n",
       "        });\n",
       "        require(['plotly'], function(Plotly) {\n",
       "            window._Plotly = Plotly;\n",
       "        });\n",
       "        }\n",
       "        </script>\n",
       "        "
      ]
     },
     "metadata": {},
     "output_type": "display_data"
    }
   ],
   "source": [
    "cf.go_offline()\n",
    "#to use cufflinks offline"
   ]
  },
  {
   "cell_type": "code",
   "execution_count": 13,
   "id": "0b6d1139",
   "metadata": {},
   "outputs": [
    {
     "data": {
      "text/html": [
       "<div>\n",
       "<style scoped>\n",
       "    .dataframe tbody tr th:only-of-type {\n",
       "        vertical-align: middle;\n",
       "    }\n",
       "\n",
       "    .dataframe tbody tr th {\n",
       "        vertical-align: top;\n",
       "    }\n",
       "\n",
       "    .dataframe thead th {\n",
       "        text-align: right;\n",
       "    }\n",
       "</style>\n",
       "<table border=\"1\" class=\"dataframe\">\n",
       "  <thead>\n",
       "    <tr style=\"text-align: right;\">\n",
       "      <th></th>\n",
       "      <th>a</th>\n",
       "      <th>b</th>\n",
       "      <th>c</th>\n",
       "      <th>d</th>\n",
       "    </tr>\n",
       "  </thead>\n",
       "  <tbody>\n",
       "    <tr>\n",
       "      <th>0</th>\n",
       "      <td>-0.293925</td>\n",
       "      <td>1.751720</td>\n",
       "      <td>-1.166519</td>\n",
       "      <td>-0.280487</td>\n",
       "    </tr>\n",
       "    <tr>\n",
       "      <th>1</th>\n",
       "      <td>2.097008</td>\n",
       "      <td>-0.353600</td>\n",
       "      <td>0.447039</td>\n",
       "      <td>0.385890</td>\n",
       "    </tr>\n",
       "    <tr>\n",
       "      <th>2</th>\n",
       "      <td>0.617378</td>\n",
       "      <td>-0.191339</td>\n",
       "      <td>-2.229050</td>\n",
       "      <td>-0.245559</td>\n",
       "    </tr>\n",
       "    <tr>\n",
       "      <th>3</th>\n",
       "      <td>0.237504</td>\n",
       "      <td>0.094258</td>\n",
       "      <td>-1.383661</td>\n",
       "      <td>1.035993</td>\n",
       "    </tr>\n",
       "    <tr>\n",
       "      <th>4</th>\n",
       "      <td>1.474261</td>\n",
       "      <td>0.313266</td>\n",
       "      <td>-0.948560</td>\n",
       "      <td>2.188602</td>\n",
       "    </tr>\n",
       "    <tr>\n",
       "      <th>...</th>\n",
       "      <td>...</td>\n",
       "      <td>...</td>\n",
       "      <td>...</td>\n",
       "      <td>...</td>\n",
       "    </tr>\n",
       "    <tr>\n",
       "      <th>95</th>\n",
       "      <td>0.055462</td>\n",
       "      <td>0.070012</td>\n",
       "      <td>-1.345087</td>\n",
       "      <td>-0.887263</td>\n",
       "    </tr>\n",
       "    <tr>\n",
       "      <th>96</th>\n",
       "      <td>-0.886353</td>\n",
       "      <td>-0.360461</td>\n",
       "      <td>0.143290</td>\n",
       "      <td>2.062926</td>\n",
       "    </tr>\n",
       "    <tr>\n",
       "      <th>97</th>\n",
       "      <td>0.129446</td>\n",
       "      <td>-0.326798</td>\n",
       "      <td>2.079746</td>\n",
       "      <td>0.200042</td>\n",
       "    </tr>\n",
       "    <tr>\n",
       "      <th>98</th>\n",
       "      <td>-0.677070</td>\n",
       "      <td>-0.432417</td>\n",
       "      <td>1.544952</td>\n",
       "      <td>0.583987</td>\n",
       "    </tr>\n",
       "    <tr>\n",
       "      <th>99</th>\n",
       "      <td>-1.160315</td>\n",
       "      <td>1.030868</td>\n",
       "      <td>1.454417</td>\n",
       "      <td>-2.117115</td>\n",
       "    </tr>\n",
       "  </tbody>\n",
       "</table>\n",
       "<p>100 rows × 4 columns</p>\n",
       "</div>"
      ],
      "text/plain": [
       "           a         b         c         d\n",
       "0  -0.293925  1.751720 -1.166519 -0.280487\n",
       "1   2.097008 -0.353600  0.447039  0.385890\n",
       "2   0.617378 -0.191339 -2.229050 -0.245559\n",
       "3   0.237504  0.094258 -1.383661  1.035993\n",
       "4   1.474261  0.313266 -0.948560  2.188602\n",
       "..       ...       ...       ...       ...\n",
       "95  0.055462  0.070012 -1.345087 -0.887263\n",
       "96 -0.886353 -0.360461  0.143290  2.062926\n",
       "97  0.129446 -0.326798  2.079746  0.200042\n",
       "98 -0.677070 -0.432417  1.544952  0.583987\n",
       "99 -1.160315  1.030868  1.454417 -2.117115\n",
       "\n",
       "[100 rows x 4 columns]"
      ]
     },
     "execution_count": 13,
     "metadata": {},
     "output_type": "execute_result"
    }
   ],
   "source": [
    "df=pd.DataFrame(np.random.randn(100,4),columns='a b c d'.split())\n",
    "df"
   ]
  },
  {
   "cell_type": "code",
   "execution_count": 14,
   "id": "1fe93f24",
   "metadata": {},
   "outputs": [
    {
     "data": {
      "text/html": [
       "<div>\n",
       "<style scoped>\n",
       "    .dataframe tbody tr th:only-of-type {\n",
       "        vertical-align: middle;\n",
       "    }\n",
       "\n",
       "    .dataframe tbody tr th {\n",
       "        vertical-align: top;\n",
       "    }\n",
       "\n",
       "    .dataframe thead th {\n",
       "        text-align: right;\n",
       "    }\n",
       "</style>\n",
       "<table border=\"1\" class=\"dataframe\">\n",
       "  <thead>\n",
       "    <tr style=\"text-align: right;\">\n",
       "      <th></th>\n",
       "      <th>Category</th>\n",
       "      <th>Values</th>\n",
       "    </tr>\n",
       "  </thead>\n",
       "  <tbody>\n",
       "    <tr>\n",
       "      <th>0</th>\n",
       "      <td>A</td>\n",
       "      <td>32</td>\n",
       "    </tr>\n",
       "    <tr>\n",
       "      <th>1</th>\n",
       "      <td>B</td>\n",
       "      <td>43</td>\n",
       "    </tr>\n",
       "    <tr>\n",
       "      <th>2</th>\n",
       "      <td>C</td>\n",
       "      <td>50</td>\n",
       "    </tr>\n",
       "  </tbody>\n",
       "</table>\n",
       "</div>"
      ],
      "text/plain": [
       "  Category  Values\n",
       "0        A      32\n",
       "1        B      43\n",
       "2        C      50"
      ]
     },
     "execution_count": 14,
     "metadata": {},
     "output_type": "execute_result"
    }
   ],
   "source": [
    "df2=pd.DataFrame({'Category':['A','B','C'],'Values':[32,43,50]})\n",
    "df2"
   ]
  },
  {
   "cell_type": "code",
   "execution_count": 16,
   "id": "16691a3f",
   "metadata": {},
   "outputs": [
    {
     "data": {
      "text/plain": [
       "<AxesSubplot:>"
      ]
     },
     "execution_count": 16,
     "metadata": {},
     "output_type": "execute_result"
    },
    {
     "data": {
      "image/png": "[encoded data removed]",
      "text/plain": [
       "<Figure size 432x288 with 1 Axes>"
      ]
     },
     "metadata": {
      "needs_background": "light"
     },
     "output_type": "display_data"
    }
   ],
   "source": [
    "df.plot()"
   ]
  },
  {
   "cell_type": "code",
   "execution_count": 18,
   "id": "092a8921",
   "metadata": {},
   "outputs": [
    {
     "data": {
      "application/vnd.plotly.v1+json": {
       "config": {
        "linkText": "Export to plot.ly",
        "plotlyServerURL": "https://plot.ly",
        "showLink": true
       },
       "data": [
        {
         "line": {
          "color": "rgba(255, 153, 51, 1.0)",
          "dash": "solid",
          "shape": "linear",
          "width": 1.3
         },
         "mode": "lines",
         "name": "a",
         "text": "",
         "type": "scatter",
         "x": [
          0,
          1,
          2,
          3,
          4,
          5,
          6,
          7,
          8,
          9,
          10,
          11,
          12,
          13,
          14,
          15,
          16,
          17,
          18,
          19,
          20,
          21,
          22,
          23,
          24,
          25,
          26,
          27,
          28,
          29,
          30,
          31,
          32,
          33,
          34,
          35,
          36,
          37,
          38,
          39,
          40,
          41,
          42,
          43,
          44,
          45,
          46,
          47,
          48,
          49,
          50,
          51,
          52,
          53,
          54,
          55,
          56,
          57,
          58,
          59,
          60,
          61,
          62,
          63,
          64,
          65,
          66,
          67,
          68,
          69,
          70,
          71,
          72,
          73,
          74,
          75,
          76,
          77,
          78,
          79,
          80,
          81,
          82,
          83,
          84,
          85,
          86,
          87,
          88,
          89,
          90,
          91,
          92,
          93,
          94,
          95,
          96,
          97,
          98,
          99
         ],
         "y": [
          -0.2939247089538375,
          2.0970076509999784,
          0.6173777106200816,
          0.23750356151887284,
          1.4742614481713527,
          -0.5385616431849475,
          -0.45321074945949447,
          0.12167449125140922,
          0.20428924065632798,
          0.22236282194300827,
          -0.6875098311811151,
          0.359616715882246,
          2.3950352145362634,
          -1.6207985178635114,
          1.1035412290025228,
          0.08046177444574407,
          0.6606756828275522,
          -0.23956254477490263,
          -0.17851923115075505,
          -1.3840621342640793,
          -0.18702848968924107,
          -0.022384496392856452,
          0.22508891444086587,
          -0.08976387372755973,
          1.5689953760605144,
          -0.8888438575279914,
          0.7570847381702218,
          0.18871608700229803,
          0.2010714627780046,
          -0.9376698821651582,
          0.6750759305528278,
          -2.6466285425274574,
          0.37476265045813056,
          -0.901004002901094,
          -0.9650386990444001,
          0.9978649274376844,
          1.1449823043540495,
          -0.08122776362240577,
          -0.46399287651831483,
          -0.327973144710316,
          -0.7052750047259908,
          -0.8404245727219606,
          -1.8027200625992401,
          -0.41612955979023686,
          1.744646834426262,
          2.08660268843734,
          -0.3575218095405308,
          -1.3969976767306818,
          -2.209247335595158,
          -0.01949960232712651,
          -0.43249537867595117,
          0.3276816794140001,
          1.3947314018656503,
          -0.8707272296934853,
          2.119916665770619,
          0.35932321797338723,
          -1.8635994759219356,
          -0.18346970394873846,
          0.20263335913174033,
          -0.47349177490276445,
          -1.4520362442968655,
          -2.1149498689947457,
          0.9130783150932135,
          -0.5495136750215502,
          -1.0960621283754712,
          1.4451572160950985,
          2.031408286352337,
          0.5425598066205446,
          -0.4775211880584021,
          1.3308282537961023,
          1.054353691401902,
          1.612940625060723,
          -0.6109625761183942,
          -0.3821873570921796,
          0.06843039203537875,
          -0.851254205028847,
          -0.4766492013005475,
          -0.5890194171164326,
          2.442183066498214,
          -0.6194169874355799,
          -1.2222617029743152,
          -0.38402757215563416,
          1.2903773269289678,
          0.5971276344830816,
          0.19293385964319268,
          -1.943140647316925,
          2.5316619216308647,
          -1.0653518979213665,
          1.4221772704069156,
          0.2182038837841717,
          -0.17473296264917926,
          1.2593089788564307,
          0.4037842122693207,
          0.41043879549939155,
          0.017209646728323726,
          0.05546188946749892,
          -0.8863530371688454,
          0.1294464356696457,
          -0.677070174398935,
          -1.16031510980759
         ]
        },
        {
         "line": {
          "color": "rgba(55, 128, 191, 1.0)",
          "dash": "solid",
          "shape": "linear",
          "width": 1.3
         },
         "mode": "lines",
         "name": "b",
         "text": "",
         "type": "scatter",
         "x": [
          0,
          1,
          2,
          3,
          4,
          5,
          6,
          7,
          8,
          9,
          10,
          11,
          12,
          13,
          14,
          15,
          16,
          17,
          18,
          19,
          20,
          21,
          22,
          23,
          24,
          25,
          26,
          27,
          28,
          29,
          30,
          31,
          32,
          33,
          34,
          35,
          36,
          37,
          38,
          39,
          40,
          41,
          42,
          43,
          44,
          45,
          46,
          47,
          48,
          49,
          50,
          51,
          52,
          53,
          54,
          55,
          56,
          57,
          58,
          59,
          60,
          61,
          62,
          63,
          64,
          65,
          66,
          67,
          68,
          69,
          70,
          71,
          72,
          73,
          74,
          75,
          76,
          77,
          78,
          79,
          80,
          81,
          82,
          83,
          84,
          85,
          86,
          87,
          88,
          89,
          90,
          91,
          92,
          93,
          94,
          95,
          96,
          97,
          98,
          99
         ],
         "y": [
          1.7517195955247546,
          -0.35359986253618086,
          -0.19133904818374425,
          0.09425845259705241,
          0.3132660279058182,
          0.5781971553314883,
          -2.067783326993488,
          0.6099826326983443,
          0.4237298386704434,
          -0.726227751579507,
          -0.7189066348304399,
          -1.1621193679555342,
          -0.8387188227282664,
          1.8446352326960413,
          -1.5261234234571448,
          0.25184511373240026,
          0.507382596728712,
          -0.7676055455944559,
          0.3345289985935182,
          -0.519930862281465,
          -1.1875187855113214,
          0.28321083692873156,
          0.4439022981463856,
          -0.647070647038372,
          -0.13382994045631505,
          -0.8231744385020477,
          -0.7760002891058501,
          -1.8811016466011998,
          -0.5400669646741258,
          0.6417993920365667,
          -1.0750433645350408,
          -0.8535304068144485,
          1.7366198720263866,
          -0.7460551345224858,
          -0.42652411311431265,
          0.20228592023185543,
          -1.2709086692771747,
          -1.4133149883151543,
          0.548228842737083,
          -0.9812532497119463,
          -1.4533376337289736,
          0.15096058684193256,
          1.1737197584881935,
          -0.052932881986239355,
          0.11726895488462656,
          -1.2633287230708576,
          -1.4576819453135772,
          -1.3093283709027084,
          -0.3055126935028742,
          -0.04722359550452384,
          0.11528089339140782,
          -0.12480741368796602,
          0.5678519074032968,
          -1.651854518362437,
          -0.3672919727036017,
          0.25200949602089007,
          -0.37351570168002984,
          -1.045903428320767,
          0.5206368286408477,
          1.1232227278371094,
          -1.340085574768691,
          -0.86400745936875,
          1.0550957715631073,
          0.459542071919937,
          -0.21526127396496744,
          -0.08755215527323648,
          0.49115860321273747,
          -0.22641865914983392,
          -0.900489261026163,
          -0.4097112328735374,
          -0.4670675693241242,
          0.36811600188979976,
          -0.035211946204871995,
          0.5760790785247979,
          -0.2898062105937861,
          -0.6454669574803571,
          1.0872247062936047,
          0.8388304270804362,
          1.2010283395645696,
          0.9091166353159125,
          -0.4165958388206629,
          -0.6321804012839619,
          0.09215744767250596,
          1.5640594486311639,
          1.1593665190780447,
          0.8373592918589178,
          -0.4103626401331422,
          0.3403785041925423,
          -0.2971058215438673,
          -0.6546234291796629,
          0.6718839090767289,
          -0.08626567553004098,
          0.34493128880227797,
          -1.3166805505068733,
          -0.5915004452066159,
          0.07001232138335309,
          -0.3604605295372551,
          -0.3267979890598825,
          -0.43241655790310934,
          1.0308675380964412
         ]
        },
        {
         "line": {
          "color": "rgba(50, 171, 96, 1.0)",
          "dash": "solid",
          "shape": "linear",
          "width": 1.3
         },
         "mode": "lines",
         "name": "c",
         "text": "",
         "type": "scatter",
         "x": [
          0,
          1,
          2,
          3,
          4,
          5,
          6,
          7,
          8,
          9,
          10,
          11,
          12,
          13,
          14,
          15,
          16,
          17,
          18,
          19,
          20,
          21,
          22,
          23,
          24,
          25,
          26,
          27,
          28,
          29,
          30,
          31,
          32,
          33,
          34,
          35,
          36,
          37,
          38,
          39,
          40,
          41,
          42,
          43,
          44,
          45,
          46,
          47,
          48,
          49,
          50,
          51,
          52,
          53,
          54,
          55,
          56,
          57,
          58,
          59,
          60,
          61,
          62,
          63,
          64,
          65,
          66,
          67,
          68,
          69,
          70,
          71,
          72,
          73,
          74,
          75,
          76,
          77,
          78,
          79,
          80,
          81,
          82,
          83,
          84,
          85,
          86,
          87,
          88,
          89,
          90,
          91,
          92,
          93,
          94,
          95,
          96,
          97,
          98,
          99
         ],
         "y": [
          -1.1665185982253494,
          0.44703916324171267,
          -2.229049902899732,
          -1.3836613335459687,
          -0.9485604622744072,
          -0.19636657192360915,
          -0.8645187066477877,
          1.1878271335269805,
          -0.7153177601251083,
          -1.5708769235393547,
          -0.9610121109570703,
          -0.20297366509109127,
          0.32931720596616937,
          -0.37905430856274264,
          -1.4181649222721624,
          0.6521683397958095,
          0.717256245918316,
          1.985701377744813,
          -1.01265751574874,
          1.8311572262058446,
          -1.8659600216036445,
          0.28815525025711985,
          0.006893738773197523,
          0.030200376884393546,
          2.381376433069506,
          -1.178264522799092,
          0.4846967282491856,
          0.1401510638317766,
          0.007629462492196791,
          -0.2899933489843769,
          -0.7191409376355365,
          -0.13327718346489367,
          -0.23278778299188033,
          -0.5542201742034805,
          1.130817516835987,
          -1.0203156236294415,
          -0.6560003451263542,
          1.9050964763882963,
          -0.48873438331956637,
          -0.19443868973228298,
          0.2078750770823177,
          -0.11224911009580876,
          1.8798466545665753,
          -0.367455864130886,
          -0.11819328300870134,
          -0.15193007603728442,
          0.9203915705812769,
          0.17994717183003192,
          0.028378077636339434,
          -1.1727911766586867,
          -0.27428142872025896,
          -0.40614186493007615,
          0.9197185999998129,
          1.5675331492287392,
          0.31549790306323383,
          -0.9600468947852062,
          -0.7898783312417721,
          -0.4650998066750889,
          0.7327378277474271,
          -1.4504063668945508,
          1.9594864969323,
          -1.1837997404232803,
          0.06710462339755838,
          -0.5439250147730456,
          -0.6805202673031998,
          -0.18660028703268128,
          -0.30564296100900584,
          -0.3749226214508793,
          0.3792636917660674,
          0.7726839407126967,
          0.8489104984466974,
          0.8509562364366888,
          0.8017633886647397,
          -0.64049567558334,
          -2.261208818427529,
          -2.535064947627141,
          -0.22110638537596014,
          1.6324168208268681,
          -0.7761354871003384,
          -0.42734958754239893,
          -0.14351041266370718,
          -0.12263629059096863,
          -0.5876526082928746,
          0.998850201939234,
          0.8918621098146288,
          -0.911802610468548,
          -0.107483819096009,
          -0.28227227913320946,
          0.6245701802471451,
          0.07321836835851156,
          1.1169438714769597,
          1.2778705156173897,
          0.815773569270344,
          0.9970761608278822,
          -1.3789977188461464,
          -1.3450874453770818,
          0.14328961191665385,
          2.0797462282022345,
          1.5449517630974585,
          1.4544167474742808
         ]
        },
        {
         "line": {
          "color": "rgba(128, 0, 128, 1.0)",
          "dash": "solid",
          "shape": "linear",
          "width": 1.3
         },
         "mode": "lines",
         "name": "d",
         "text": "",
         "type": "scatter",
         "x": [
          0,
          1,
          2,
          3,
          4,
          5,
          6,
          7,
          8,
          9,
          10,
          11,
          12,
          13,
          14,
          15,
          16,
          17,
          18,
          19,
          20,
          21,
          22,
          23,
          24,
          25,
          26,
          27,
          28,
          29,
          30,
          31,
          32,
          33,
          34,
          35,
          36,
          37,
          38,
          39,
          40,
          41,
          42,
          43,
          44,
          45,
          46,
          47,
          48,
          49,
          50,
          51,
          52,
          53,
          54,
          55,
          56,
          57,
          58,
          59,
          60,
          61,
          62,
          63,
          64,
          65,
          66,
          67,
          68,
          69,
          70,
          71,
          72,
          73,
          74,
          75,
          76,
          77,
          78,
          79,
          80,
          81,
          82,
          83,
          84,
          85,
          86,
          87,
          88,
          89,
          90,
          91,
          92,
          93,
          94,
          95,
          96,
          97,
          98,
          99
         ],
         "y": [
          -0.28048716161916,
          0.38589042597645334,
          -0.24555896355230156,
          1.0359933876068943,
          2.188602424554546,
          -0.37483742833276074,
          -0.06152544592235071,
          -0.33744135882751547,
          0.2906250898137876,
          -1.0924854508790909,
          -0.2068158441813486,
          -1.8728412712076505,
          -0.3531552351063383,
          0.5372122551350138,
          -2.9674873834537734,
          -0.3005238614058087,
          -1.7393975655822014,
          0.41978060727531724,
          -0.7863600332339782,
          -0.39397655827621203,
          1.6171266606089163,
          0.7637431942159277,
          0.4090932470552176,
          1.986463868774873,
          0.05938797301543664,
          -0.15103568029575504,
          -0.2997104944680906,
          2.9227042979261486,
          0.08815006639147839,
          -1.274066078955945,
          0.017959183940567117,
          -0.3511043178642469,
          -0.7148162366809442,
          1.4793676171030348,
          0.033139292377156536,
          -0.6594075747595262,
          -0.7310276316427899,
          -0.2670019744567271,
          -0.13361484696476697,
          0.9811250183384784,
          1.3041030439701036,
          -1.5520338753125933,
          -1.2669180128447932,
          -0.6419806582859231,
          0.48530503422526017,
          -1.0804420757427589,
          -1.3530587223162485,
          -0.5367496625638137,
          -0.5339709398509465,
          1.1011604095373158,
          0.8022156504237581,
          -0.668547460007973,
          -0.48133355497319047,
          1.29383729573397,
          -0.9135629504590587,
          -0.04934407389542167,
          -1.2706240982625403,
          -0.6556031143886947,
          1.0241986254924382,
          -0.46563454761994066,
          0.2733482279459654,
          1.5345044369997993,
          -1.7372038688744909,
          0.666806989228242,
          -0.08340980571751967,
          0.7024417091367539,
          0.36885977087007676,
          -1.243335553024747,
          0.18291365920098274,
          -0.017436565628707122,
          -0.46624467691635046,
          -1.0951404872243835,
          0.8223100314303123,
          -0.7376289367241221,
          0.33792468585131574,
          -1.7010921501841583,
          0.05864850995894906,
          0.6131855591589759,
          1.8343976598091685,
          0.7141275399998634,
          0.39757337321541675,
          0.13641646616786698,
          0.9738560319450598,
          -0.451621107940339,
          1.258206993496081,
          -0.5246405435883648,
          0.7202535805908966,
          0.2473480789820883,
          -1.0808258434385758,
          -0.10729158726169893,
          -1.8429497353902775,
          0.37677638524818696,
          0.9340574794462572,
          0.594786084820459,
          0.0031055629632219086,
          -0.8872625988730557,
          2.0629264388795066,
          0.2000416837259496,
          0.5839869034838178,
          -2.1171149617801857
         ]
        }
       ],
       "layout": {
        "legend": {
         "bgcolor": "#F5F6F9",
         "font": {
          "color": "#4D5663"
         }
        },
        "paper_bgcolor": "#F5F6F9",
        "plot_bgcolor": "#F5F6F9",
        "template": {
         "data": {
          "bar": [
           {
            "error_x": {
             "color": "#2a3f5f"
            },
            "error_y": {
             "color": "#2a3f5f"
            },
            "marker": {
             "line": {
              "color": "#E5ECF6",
              "width": 0.5
             }
            },
            "type": "bar"
           }
          ],
          "barpolar": [
           {
            "marker": {
             "line": {
              "color": "#E5ECF6",
              "width": 0.5
             }
            },
            "type": "barpolar"
           }
          ],
          "carpet": [
           {
            "aaxis": {
             "endlinecolor": "#2a3f5f",
             "gridcolor": "white",
             "linecolor": "white",
             "minorgridcolor": "white",
             "startlinecolor": "#2a3f5f"
            },
            "baxis": {
             "endlinecolor": "#2a3f5f",
             "gridcolor": "white",
             "linecolor": "white",
             "minorgridcolor": "white",
             "startlinecolor": "#2a3f5f"
            },
            "type": "carpet"
           }
          ],
          "choropleth": [
           {
            "colorbar": {
             "outlinewidth": 0,
             "ticks": ""
            },
            "type": "choropleth"
           }
          ],
          "contour": [
           {
            "colorbar": {
             "outlinewidth": 0,
             "ticks": ""
            },
            "colorscale": [
             [
              0,
              "#0d0887"
             ],
             [
              0.1111111111111111,
              "#46039f"
             ],
             [
              0.2222222222222222,
              "#7201a8"
             ],
             [
              0.3333333333333333,
              "#9c179e"
             ],
             [
              0.4444444444444444,
              "#bd3786"
             ],
             [
              0.5555555555555556,
              "#d8576b"
             ],
             [
              0.6666666666666666,
              "#ed7953"
             ],
             [
              0.7777777777777778,
              "#fb9f3a"
             ],
             [
              0.8888888888888888,
              "#fdca26"
             ],
             [
              1,
              "#f0f921"
             ]
            ],
            "type": "contour"
           }
          ],
          "contourcarpet": [
           {
            "colorbar": {
             "outlinewidth": 0,
             "ticks": ""
            },
            "type": "contourcarpet"
           }
          ],
          "heatmap": [
           {
            "colorbar": {
             "outlinewidth": 0,
             "ticks": ""
            },
            "colorscale": [
             [
              0,
              "#0d0887"
             ],
             [
              0.1111111111111111,
              "#46039f"
             ],
             [
              0.2222222222222222,
              "#7201a8"
             ],
             [
              0.3333333333333333,
              "#9c179e"
             ],
             [
              0.4444444444444444,
              "#bd3786"
             ],
             [
              0.5555555555555556,
              "#d8576b"
             ],
             [
              0.6666666666666666,
              "#ed7953"
             ],
             [
              0.7777777777777778,
              "#fb9f3a"
             ],
             [
              0.8888888888888888,
              "#fdca26"
             ],
             [
              1,
              "#f0f921"
             ]
            ],
            "type": "heatmap"
           }
          ],
          "heatmapgl": [
           {
            "colorbar": {
             "outlinewidth": 0,
             "ticks": ""
            },
            "colorscale": [
             [
              0,
              "#0d0887"
             ],
             [
              0.1111111111111111,
              "#46039f"
             ],
             [
              0.2222222222222222,
              "#7201a8"
             ],
             [
              0.3333333333333333,
              "#9c179e"
             ],
             [
              0.4444444444444444,
              "#bd3786"
             ],
             [
              0.5555555555555556,
              "#d8576b"
             ],
             [
              0.6666666666666666,
              "#ed7953"
             ],
             [
              0.7777777777777778,
              "#fb9f3a"
             ],
             [
              0.8888888888888888,
              "#fdca26"
             ],
             [
              1,
              "#f0f921"
             ]
            ],
            "type": "heatmapgl"
           }
          ],
          "histogram": [
           {
            "marker": {
             "colorbar": {
              "outlinewidth": 0,
              "ticks": ""
             }
            },
            "type": "histogram"
           }
          ],
          "histogram2d": [
           {
            "colorbar": {
             "outlinewidth": 0,
             "ticks": ""
            },
            "colorscale": [
             [
              0,
              "#0d0887"
             ],
             [
              0.1111111111111111,
              "#46039f"
             ],
             [
              0.2222222222222222,
              "#7201a8"
             ],
             [
              0.3333333333333333,
              "#9c179e"
             ],
             [
              0.4444444444444444,
              "#bd3786"
             ],
             [
              0.5555555555555556,
              "#d8576b"
             ],
             [
              0.6666666666666666,
              "#ed7953"
             ],
             [
              0.7777777777777778,
              "#fb9f3a"
             ],
             [
              0.8888888888888888,
              "#fdca26"
             ],
             [
              1,
              "#f0f921"
             ]
            ],
            "type": "histogram2d"
           }
          ],
          "histogram2dcontour": [
           {
            "colorbar": {
             "outlinewidth": 0,
             "ticks": ""
            },
            "colorscale": [
             [
              0,
              "#0d0887"
             ],
             [
              0.1111111111111111,
              "#46039f"
             ],
             [
              0.2222222222222222,
              "#7201a8"
             ],
             [
              0.3333333333333333,
              "#9c179e"
             ],
             [
              0.4444444444444444,
              "#bd3786"
             ],
             [
              0.5555555555555556,
              "#d8576b"
             ],
             [
              0.6666666666666666,
              "#ed7953"
             ],
             [
              0.7777777777777778,
              "#fb9f3a"
             ],
             [
              0.8888888888888888,
              "#fdca26"
             ],
             [
              1,
              "#f0f921"
             ]
            ],
            "type": "histogram2dcontour"
           }
          ],
          "mesh3d": [
           {
            "colorbar": {
             "outlinewidth": 0,
             "ticks": ""
            },
            "type": "mesh3d"
           }
          ],
          "parcoords": [
           {
            "line": {
             "colorbar": {
              "outlinewidth": 0,
              "ticks": ""
             }
            },
            "type": "parcoords"
           }
          ],
          "pie": [
           {
            "automargin": true,
            "type": "pie"
           }
          ],
          "scatter": [
           {
            "marker": {
             "colorbar": {
              "outlinewidth": 0,
              "ticks": ""
             }
            },
            "type": "scatter"
           }
          ],
          "scatter3d": [
           {
            "line": {
             "colorbar": {
              "outlinewidth": 0,
              "ticks": ""
             }
            },
            "marker": {
             "colorbar": {
              "outlinewidth": 0,
              "ticks": ""
             }
            },
            "type": "scatter3d"
           }
          ],
          "scattercarpet": [
           {
            "marker": {
             "colorbar": {
              "outlinewidth": 0,
              "ticks": ""
             }
            },
            "type": "scattercarpet"
           }
          ],
          "scattergeo": [
           {
            "marker": {
             "colorbar": {
              "outlinewidth": 0,
              "ticks": ""
             }
            },
            "type": "scattergeo"
           }
          ],
          "scattergl": [
           {
            "marker": {
             "colorbar": {
              "outlinewidth": 0,
              "ticks": ""
             }
            },
            "type": "scattergl"
           }
          ],
          "scattermapbox": [
           {
            "marker": {
             "colorbar": {
              "outlinewidth": 0,
              "ticks": ""
             }
            },
            "type": "scattermapbox"
           }
          ],
          "scatterpolar": [
           {
            "marker": {
             "colorbar": {
              "outlinewidth": 0,
              "ticks": ""
             }
            },
            "type": "scatterpolar"
           }
          ],
          "scatterpolargl": [
           {
            "marker": {
             "colorbar": {
              "outlinewidth": 0,
              "ticks": ""
             }
            },
            "type": "scatterpolargl"
           }
          ],
          "scatterternary": [
           {
            "marker": {
             "colorbar": {
              "outlinewidth": 0,
              "ticks": ""
             }
            },
            "type": "scatterternary"
           }
          ],
          "surface": [
           {
            "colorbar": {
             "outlinewidth": 0,
             "ticks": ""
            },
            "colorscale": [
             [
              0,
              "#0d0887"
             ],
             [
              0.1111111111111111,
              "#46039f"
             ],
             [
              0.2222222222222222,
              "#7201a8"
             ],
             [
              0.3333333333333333,
              "#9c179e"
             ],
             [
              0.4444444444444444,
              "#bd3786"
             ],
             [
              0.5555555555555556,
              "#d8576b"
             ],
             [
              0.6666666666666666,
              "#ed7953"
             ],
             [
              0.7777777777777778,
              "#fb9f3a"
             ],
             [
              0.8888888888888888,
              "#fdca26"
             ],
             [
              1,
              "#f0f921"
             ]
            ],
            "type": "surface"
           }
          ],
          "table": [
           {
            "cells": {
             "fill": {
              "color": "#EBF0F8"
             },
             "line": {
              "color": "white"
             }
            },
            "header": {
             "fill": {
              "color": "#C8D4E3"
             },
             "line": {
              "color": "white"
             }
            },
            "type": "table"
           }
          ]
         },
         "layout": {
          "annotationdefaults": {
           "arrowcolor": "#2a3f5f",
           "arrowhead": 0,
           "arrowwidth": 1
          },
          "autotypenumbers": "strict",
          "coloraxis": {
           "colorbar": {
            "outlinewidth": 0,
            "ticks": ""
           }
          },
          "colorscale": {
           "diverging": [
            [
             0,
             "#8e0152"
            ],
            [
             0.1,
             "#c51b7d"
            ],
            [
             0.2,
             "#de77ae"
            ],
            [
             0.3,
             "#f1b6da"
            ],
            [
             0.4,
             "#fde0ef"
            ],
            [
             0.5,
             "#f7f7f7"
            ],
            [
             0.6,
             "#e6f5d0"
            ],
            [
             0.7,
             "#b8e186"
            ],
            [
             0.8,
             "#7fbc41"
            ],
            [
             0.9,
             "#4d9221"
            ],
            [
             1,
             "#276419"
            ]
           ],
           "sequential": [
            [
             0,
             "#0d0887"
            ],
            [
             0.1111111111111111,
             "#46039f"
            ],
            [
             0.2222222222222222,
             "#7201a8"
            ],
            [
             0.3333333333333333,
             "#9c179e"
            ],
            [
             0.4444444444444444,
             "#bd3786"
            ],
            [
             0.5555555555555556,
             "#d8576b"
            ],
            [
             0.6666666666666666,
             "#ed7953"
            ],
            [
             0.7777777777777778,
             "#fb9f3a"
            ],
            [
             0.8888888888888888,
             "#fdca26"
            ],
            [
             1,
             "#f0f921"
            ]
           ],
           "sequentialminus": [
            [
             0,
             "#0d0887"
            ],
            [
             0.1111111111111111,
             "#46039f"
            ],
            [
             0.2222222222222222,
             "#7201a8"
            ],
            [
             0.3333333333333333,
             "#9c179e"
            ],
            [
             0.4444444444444444,
             "#bd3786"
            ],
            [
             0.5555555555555556,
             "#d8576b"
            ],
            [
             0.6666666666666666,
             "#ed7953"
            ],
            [
             0.7777777777777778,
             "#fb9f3a"
            ],
            [
             0.8888888888888888,
             "#fdca26"
            ],
            [
             1,
             "#f0f921"
            ]
           ]
          },
          "colorway": [
           "#636efa",
           "#EF553B",
           "#00cc96",
           "#ab63fa",
           "#FFA15A",
           "#19d3f3",
           "#FF6692",
           "#B6E880",
           "#FF97FF",
           "#FECB52"
          ],
          "font": {
           "color": "#2a3f5f"
          },
          "geo": {
           "bgcolor": "white",
           "lakecolor": "white",
           "landcolor": "#E5ECF6",
           "showlakes": true,
           "showland": true,
           "subunitcolor": "white"
          },
          "hoverlabel": {
           "align": "left"
          },
          "hovermode": "closest",
          "mapbox": {
           "style": "light"
          },
          "paper_bgcolor": "white",
          "plot_bgcolor": "#E5ECF6",
          "polar": {
           "angularaxis": {
            "gridcolor": "white",
            "linecolor": "white",
            "ticks": ""
           },
           "bgcolor": "#E5ECF6",
           "radialaxis": {
            "gridcolor": "white",
            "linecolor": "white",
            "ticks": ""
           }
          },
          "scene": {
           "xaxis": {
            "backgroundcolor": "#E5ECF6",
            "gridcolor": "white",
            "gridwidth": 2,
            "linecolor": "white",
            "showbackground": true,
            "ticks": "",
            "zerolinecolor": "white"
           },
           "yaxis": {
            "backgroundcolor": "#E5ECF6",
            "gridcolor": "white",
            "gridwidth": 2,
            "linecolor": "white",
            "showbackground": true,
            "ticks": "",
            "zerolinecolor": "white"
           },
           "zaxis": {
            "backgroundcolor": "#E5ECF6",
            "gridcolor": "white",
            "gridwidth": 2,
            "linecolor": "white",
            "showbackground": true,
            "ticks": "",
            "zerolinecolor": "white"
           }
          },
          "shapedefaults": {
           "line": {
            "color": "#2a3f5f"
           }
          },
          "ternary": {
           "aaxis": {
            "gridcolor": "white",
            "linecolor": "white",
            "ticks": ""
           },
           "baxis": {
            "gridcolor": "white",
            "linecolor": "white",
            "ticks": ""
           },
           "bgcolor": "#E5ECF6",
           "caxis": {
            "gridcolor": "white",
            "linecolor": "white",
            "ticks": ""
           }
          },
          "title": {
           "x": 0.05
          },
          "xaxis": {
           "automargin": true,
           "gridcolor": "white",
           "linecolor": "white",
           "ticks": "",
           "title": {
            "standoff": 15
           },
           "zerolinecolor": "white",
           "zerolinewidth": 2
          },
          "yaxis": {
           "automargin": true,
           "gridcolor": "white",
           "linecolor": "white",
           "ticks": "",
           "title": {
            "standoff": 15
           },
           "zerolinecolor": "white",
           "zerolinewidth": 2
          }
         }
        },
        "title": {
         "font": {
          "color": "#4D5663"
         }
        },
        "xaxis": {
         "gridcolor": "#E1E5ED",
         "showgrid": true,
         "tickfont": {
          "color": "#4D5663"
         },
         "title": {
          "font": {
           "color": "#4D5663"
          },
          "text": ""
         },
         "zerolinecolor": "#E1E5ED"
        },
        "yaxis": {
         "gridcolor": "#E1E5ED",
         "showgrid": true,
         "tickfont": {
          "color": "#4D5663"
         },
         "title": {
          "font": {
           "color": "#4D5663"
          },
          "text": ""
         },
         "zerolinecolor": "#E1E5ED"
        }
       }
      },
      "text/html": [
       "<div>                            <div id=\"dc54812c-3577-4e6a-9e1d-3542e147f893\" class=\"plotly-graph-div\" style=\"height:525px; width:100%;\"></div>            <script type=\"text/javascript\">                require([\"plotly\"], function(Plotly) {                    window.PLOTLYENV=window.PLOTLYENV || {};\n",
       "                    window.PLOTLYENV.BASE_URL='https://plot.ly';                                    if (document.getElementById(\"dc54812c-3577-4e6a-9e1d-3542e147f893\")) {                    Plotly.newPlot(                        \"dc54812c-3577-4e6a-9e1d-3542e147f893\",                        [{\"line\": {\"color\": \"rgba(255, 153, 51, 1.0)\", \"dash\": \"solid\", \"shape\": \"linear\", \"width\": 1.3}, \"mode\": \"lines\", \"name\": \"a\", \"text\": \"\", \"type\": \"scatter\", \"x\": [0, 1, 2, 3, 4, 5, 6, 7, 8, 9, 10, 11, 12, 13, 14, 15, 16, 17, 18, 19, 20, 21, 22, 23, 24, 25, 26, 27, 28, 29, 30, 31, 32, 33, 34, 35, 36, 37, 38, 39, 40, 41, 42, 43, 44, 45, 46, 47, 48, 49, 50, 51, 52, 53, 54, 55, 56, 57, 58, 59, 60, 61, 62, 63, 64, 65, 66, 67, 68, 69, 70, 71, 72, 73, 74, 75, 76, 77, 78, 79, 80, 81, 82, 83, 84, 85, 86, 87, 88, 89, 90, 91, 92, 93, 94, 95, 96, 97, 98, 99], \"y\": [-0.2939247089538375, 2.0970076509999784, 0.6173777106200816, 0.23750356151887284, 1.4742614481713527, -0.5385616431849475, -0.45321074945949447, 0.12167449125140922, 0.20428924065632798, 0.22236282194300827, -0.6875098311811151, 0.359616715882246, 2.3950352145362634, -1.6207985178635114, 1.1035412290025228, 0.08046177444574407, 0.6606756828275522, -0.23956254477490263, -0.17851923115075505, -1.3840621342640793, -0.18702848968924107, -0.022384496392856452, 0.22508891444086587, -0.08976387372755973, 1.5689953760605144, -0.8888438575279914, 0.7570847381702218, 0.18871608700229803, 0.2010714627780046, -0.9376698821651582, 0.6750759305528278, -2.6466285425274574, 0.37476265045813056, -0.901004002901094, -0.9650386990444001, 0.9978649274376844, 1.1449823043540495, -0.08122776362240577, -0.46399287651831483, -0.327973144710316, -0.7052750047259908, -0.8404245727219606, -1.8027200625992401, -0.41612955979023686, 1.744646834426262, 2.08660268843734, -0.3575218095405308, -1.3969976767306818, -2.209247335595158, -0.01949960232712651, -0.43249537867595117, 0.3276816794140001, 1.3947314018656503, -0.8707272296934853, 2.119916665770619, 0.35932321797338723, -1.8635994759219356, -0.18346970394873846, 0.20263335913174033, -0.47349177490276445, -1.4520362442968655, -2.1149498689947457, 0.9130783150932135, -0.5495136750215502, -1.0960621283754712, 1.4451572160950985, 2.031408286352337, 0.5425598066205446, -0.4775211880584021, 1.3308282537961023, 1.054353691401902, 1.612940625060723, -0.6109625761183942, -0.3821873570921796, 0.06843039203537875, -0.851254205028847, -0.4766492013005475, -0.5890194171164326, 2.442183066498214, -0.6194169874355799, -1.2222617029743152, -0.38402757215563416, 1.2903773269289678, 0.5971276344830816, 0.19293385964319268, -1.943140647316925, 2.5316619216308647, -1.0653518979213665, 1.4221772704069156, 0.2182038837841717, -0.17473296264917926, 1.2593089788564307, 0.4037842122693207, 0.41043879549939155, 0.017209646728323726, 0.05546188946749892, -0.8863530371688454, 0.1294464356696457, -0.677070174398935, -1.16031510980759]}, {\"line\": {\"color\": \"rgba(55, 128, 191, 1.0)\", \"dash\": \"solid\", \"shape\": \"linear\", \"width\": 1.3}, \"mode\": \"lines\", \"name\": \"b\", \"text\": \"\", \"type\": \"scatter\", \"x\": [0, 1, 2, 3, 4, 5, 6, 7, 8, 9, 10, 11, 12, 13, 14, 15, 16, 17, 18, 19, 20, 21, 22, 23, 24, 25, 26, 27, 28, 29, 30, 31, 32, 33, 34, 35, 36, 37, 38, 39, 40, 41, 42, 43, 44, 45, 46, 47, 48, 49, 50, 51, 52, 53, 54, 55, 56, 57, 58, 59, 60, 61, 62, 63, 64, 65, 66, 67, 68, 69, 70, 71, 72, 73, 74, 75, 76, 77, 78, 79, 80, 81, 82, 83, 84, 85, 86, 87, 88, 89, 90, 91, 92, 93, 94, 95, 96, 97, 98, 99], \"y\": [1.7517195955247546, -0.35359986253618086, -0.19133904818374425, 0.09425845259705241, 0.3132660279058182, 0.5781971553314883, -2.067783326993488, 0.6099826326983443, 0.4237298386704434, -0.726227751579507, -0.7189066348304399, -1.1621193679555342, -0.8387188227282664, 1.8446352326960413, -1.5261234234571448, 0.25184511373240026, 0.507382596728712, -0.7676055455944559, 0.3345289985935182, -0.519930862281465, -1.1875187855113214, 0.28321083692873156, 0.4439022981463856, -0.647070647038372, -0.13382994045631505, -0.8231744385020477, -0.7760002891058501, -1.8811016466011998, -0.5400669646741258, 0.6417993920365667, -1.0750433645350408, -0.8535304068144485, 1.7366198720263866, -0.7460551345224858, -0.42652411311431265, 0.20228592023185543, -1.2709086692771747, -1.4133149883151543, 0.548228842737083, -0.9812532497119463, -1.4533376337289736, 0.15096058684193256, 1.1737197584881935, -0.052932881986239355, 0.11726895488462656, -1.2633287230708576, -1.4576819453135772, -1.3093283709027084, -0.3055126935028742, -0.04722359550452384, 0.11528089339140782, -0.12480741368796602, 0.5678519074032968, -1.651854518362437, -0.3672919727036017, 0.25200949602089007, -0.37351570168002984, -1.045903428320767, 0.5206368286408477, 1.1232227278371094, -1.340085574768691, -0.86400745936875, 1.0550957715631073, 0.459542071919937, -0.21526127396496744, -0.08755215527323648, 0.49115860321273747, -0.22641865914983392, -0.900489261026163, -0.4097112328735374, -0.4670675693241242, 0.36811600188979976, -0.035211946204871995, 0.5760790785247979, -0.2898062105937861, -0.6454669574803571, 1.0872247062936047, 0.8388304270804362, 1.2010283395645696, 0.9091166353159125, -0.4165958388206629, -0.6321804012839619, 0.09215744767250596, 1.5640594486311639, 1.1593665190780447, 0.8373592918589178, -0.4103626401331422, 0.3403785041925423, -0.2971058215438673, -0.6546234291796629, 0.6718839090767289, -0.08626567553004098, 0.34493128880227797, -1.3166805505068733, -0.5915004452066159, 0.07001232138335309, -0.3604605295372551, -0.3267979890598825, -0.43241655790310934, 1.0308675380964412]}, {\"line\": {\"color\": \"rgba(50, 171, 96, 1.0)\", \"dash\": \"solid\", \"shape\": \"linear\", \"width\": 1.3}, \"mode\": \"lines\", \"name\": \"c\", \"text\": \"\", \"type\": \"scatter\", \"x\": [0, 1, 2, 3, 4, 5, 6, 7, 8, 9, 10, 11, 12, 13, 14, 15, 16, 17, 18, 19, 20, 21, 22, 23, 24, 25, 26, 27, 28, 29, 30, 31, 32, 33, 34, 35, 36, 37, 38, 39, 40, 41, 42, 43, 44, 45, 46, 47, 48, 49, 50, 51, 52, 53, 54, 55, 56, 57, 58, 59, 60, 61, 62, 63, 64, 65, 66, 67, 68, 69, 70, 71, 72, 73, 74, 75, 76, 77, 78, 79, 80, 81, 82, 83, 84, 85, 86, 87, 88, 89, 90, 91, 92, 93, 94, 95, 96, 97, 98, 99], \"y\": [-1.1665185982253494, 0.44703916324171267, -2.229049902899732, -1.3836613335459687, -0.9485604622744072, -0.19636657192360915, -0.8645187066477877, 1.1878271335269805, -0.7153177601251083, -1.5708769235393547, -0.9610121109570703, -0.20297366509109127, 0.32931720596616937, -0.37905430856274264, -1.4181649222721624, 0.6521683397958095, 0.717256245918316, 1.985701377744813, -1.01265751574874, 1.8311572262058446, -1.8659600216036445, 0.28815525025711985, 0.006893738773197523, 0.030200376884393546, 2.381376433069506, -1.178264522799092, 0.4846967282491856, 0.1401510638317766, 0.007629462492196791, -0.2899933489843769, -0.7191409376355365, -0.13327718346489367, -0.23278778299188033, -0.5542201742034805, 1.130817516835987, -1.0203156236294415, -0.6560003451263542, 1.9050964763882963, -0.48873438331956637, -0.19443868973228298, 0.2078750770823177, -0.11224911009580876, 1.8798466545665753, -0.367455864130886, -0.11819328300870134, -0.15193007603728442, 0.9203915705812769, 0.17994717183003192, 0.028378077636339434, -1.1727911766586867, -0.27428142872025896, -0.40614186493007615, 0.9197185999998129, 1.5675331492287392, 0.31549790306323383, -0.9600468947852062, -0.7898783312417721, -0.4650998066750889, 0.7327378277474271, -1.4504063668945508, 1.9594864969323, -1.1837997404232803, 0.06710462339755838, -0.5439250147730456, -0.6805202673031998, -0.18660028703268128, -0.30564296100900584, -0.3749226214508793, 0.3792636917660674, 0.7726839407126967, 0.8489104984466974, 0.8509562364366888, 0.8017633886647397, -0.64049567558334, -2.261208818427529, -2.535064947627141, -0.22110638537596014, 1.6324168208268681, -0.7761354871003384, -0.42734958754239893, -0.14351041266370718, -0.12263629059096863, -0.5876526082928746, 0.998850201939234, 0.8918621098146288, -0.911802610468548, -0.107483819096009, -0.28227227913320946, 0.6245701802471451, 0.07321836835851156, 1.1169438714769597, 1.2778705156173897, 0.815773569270344, 0.9970761608278822, -1.3789977188461464, -1.3450874453770818, 0.14328961191665385, 2.0797462282022345, 1.5449517630974585, 1.4544167474742808]}, {\"line\": {\"color\": \"rgba(128, 0, 128, 1.0)\", \"dash\": \"solid\", \"shape\": \"linear\", \"width\": 1.3}, \"mode\": \"lines\", \"name\": \"d\", \"text\": \"\", \"type\": \"scatter\", \"x\": [0, 1, 2, 3, 4, 5, 6, 7, 8, 9, 10, 11, 12, 13, 14, 15, 16, 17, 18, 19, 20, 21, 22, 23, 24, 25, 26, 27, 28, 29, 30, 31, 32, 33, 34, 35, 36, 37, 38, 39, 40, 41, 42, 43, 44, 45, 46, 47, 48, 49, 50, 51, 52, 53, 54, 55, 56, 57, 58, 59, 60, 61, 62, 63, 64, 65, 66, 67, 68, 69, 70, 71, 72, 73, 74, 75, 76, 77, 78, 79, 80, 81, 82, 83, 84, 85, 86, 87, 88, 89, 90, 91, 92, 93, 94, 95, 96, 97, 98, 99], \"y\": [-0.28048716161916, 0.38589042597645334, -0.24555896355230156, 1.0359933876068943, 2.188602424554546, -0.37483742833276074, -0.06152544592235071, -0.33744135882751547, 0.2906250898137876, -1.0924854508790909, -0.2068158441813486, -1.8728412712076505, -0.3531552351063383, 0.5372122551350138, -2.9674873834537734, -0.3005238614058087, -1.7393975655822014, 0.41978060727531724, -0.7863600332339782, -0.39397655827621203, 1.6171266606089163, 0.7637431942159277, 0.4090932470552176, 1.986463868774873, 0.05938797301543664, -0.15103568029575504, -0.2997104944680906, 2.9227042979261486, 0.08815006639147839, -1.274066078955945, 0.017959183940567117, -0.3511043178642469, -0.7148162366809442, 1.4793676171030348, 0.033139292377156536, -0.6594075747595262, -0.7310276316427899, -0.2670019744567271, -0.13361484696476697, 0.9811250183384784, 1.3041030439701036, -1.5520338753125933, -1.2669180128447932, -0.6419806582859231, 0.48530503422526017, -1.0804420757427589, -1.3530587223162485, -0.5367496625638137, -0.5339709398509465, 1.1011604095373158, 0.8022156504237581, -0.668547460007973, -0.48133355497319047, 1.29383729573397, -0.9135629504590587, -0.04934407389542167, -1.2706240982625403, -0.6556031143886947, 1.0241986254924382, -0.46563454761994066, 0.2733482279459654, 1.5345044369997993, -1.7372038688744909, 0.666806989228242, -0.08340980571751967, 0.7024417091367539, 0.36885977087007676, -1.243335553024747, 0.18291365920098274, -0.017436565628707122, -0.46624467691635046, -1.0951404872243835, 0.8223100314303123, -0.7376289367241221, 0.33792468585131574, -1.7010921501841583, 0.05864850995894906, 0.6131855591589759, 1.8343976598091685, 0.7141275399998634, 0.39757337321541675, 0.13641646616786698, 0.9738560319450598, -0.451621107940339, 1.258206993496081, -0.5246405435883648, 0.7202535805908966, 0.2473480789820883, -1.0808258434385758, -0.10729158726169893, -1.8429497353902775, 0.37677638524818696, 0.9340574794462572, 0.594786084820459, 0.0031055629632219086, -0.8872625988730557, 2.0629264388795066, 0.2000416837259496, 0.5839869034838178, -2.1171149617801857]}],                        {\"legend\": {\"bgcolor\": \"#F5F6F9\", \"font\": {\"color\": \"#4D5663\"}}, \"paper_bgcolor\": \"#F5F6F9\", \"plot_bgcolor\": \"#F5F6F9\", \"template\": {\"data\": {\"bar\": [{\"error_x\": {\"color\": \"#2a3f5f\"}, \"error_y\": {\"color\": \"#2a3f5f\"}, \"marker\": {\"line\": {\"color\": \"#E5ECF6\", \"width\": 0.5}}, \"type\": \"bar\"}], \"barpolar\": [{\"marker\": {\"line\": {\"color\": \"#E5ECF6\", \"width\": 0.5}}, \"type\": \"barpolar\"}], \"carpet\": [{\"aaxis\": {\"endlinecolor\": \"#2a3f5f\", \"gridcolor\": \"white\", \"linecolor\": \"white\", \"minorgridcolor\": \"white\", \"startlinecolor\": \"#2a3f5f\"}, \"baxis\": {\"endlinecolor\": \"#2a3f5f\", \"gridcolor\": \"white\", \"linecolor\": \"white\", \"minorgridcolor\": \"white\", \"startlinecolor\": \"#2a3f5f\"}, \"type\": \"carpet\"}], \"choropleth\": [{\"colorbar\": {\"outlinewidth\": 0, \"ticks\": \"\"}, \"type\": \"choropleth\"}], \"contour\": [{\"colorbar\": {\"outlinewidth\": 0, \"ticks\": \"\"}, \"colorscale\": [[0.0, \"#0d0887\"], [0.1111111111111111, \"#46039f\"], [0.2222222222222222, \"#7201a8\"], [0.3333333333333333, \"#9c179e\"], [0.4444444444444444, \"#bd3786\"], [0.5555555555555556, \"#d8576b\"], [0.6666666666666666, \"#ed7953\"], [0.7777777777777778, \"#fb9f3a\"], [0.8888888888888888, \"#fdca26\"], [1.0, \"#f0f921\"]], \"type\": \"contour\"}], \"contourcarpet\": [{\"colorbar\": {\"outlinewidth\": 0, \"ticks\": \"\"}, \"type\": \"contourcarpet\"}], \"heatmap\": [{\"colorbar\": {\"outlinewidth\": 0, \"ticks\": \"\"}, \"colorscale\": [[0.0, \"#0d0887\"], [0.1111111111111111, \"#46039f\"], [0.2222222222222222, \"#7201a8\"], [0.3333333333333333, \"#9c179e\"], [0.4444444444444444, \"#bd3786\"], [0.5555555555555556, \"#d8576b\"], [0.6666666666666666, \"#ed7953\"], [0.7777777777777778, \"#fb9f3a\"], [0.8888888888888888, \"#fdca26\"], [1.0, \"#f0f921\"]], \"type\": \"heatmap\"}], \"heatmapgl\": [{\"colorbar\": {\"outlinewidth\": 0, \"ticks\": \"\"}, \"colorscale\": [[0.0, \"#0d0887\"], [0.1111111111111111, \"#46039f\"], [0.2222222222222222, \"#7201a8\"], [0.3333333333333333, \"#9c179e\"], [0.4444444444444444, \"#bd3786\"], [0.5555555555555556, \"#d8576b\"], [0.6666666666666666, \"#ed7953\"], [0.7777777777777778, \"#fb9f3a\"], [0.8888888888888888, \"#fdca26\"], [1.0, \"#f0f921\"]], \"type\": \"heatmapgl\"}], \"histogram\": [{\"marker\": {\"colorbar\": {\"outlinewidth\": 0, \"ticks\": \"\"}}, \"type\": \"histogram\"}], \"histogram2d\": [{\"colorbar\": {\"outlinewidth\": 0, \"ticks\": \"\"}, \"colorscale\": [[0.0, \"#0d0887\"], [0.1111111111111111, \"#46039f\"], [0.2222222222222222, \"#7201a8\"], [0.3333333333333333, \"#9c179e\"], [0.4444444444444444, \"#bd3786\"], [0.5555555555555556, \"#d8576b\"], [0.6666666666666666, \"#ed7953\"], [0.7777777777777778, \"#fb9f3a\"], [0.8888888888888888, \"#fdca26\"], [1.0, \"#f0f921\"]], \"type\": \"histogram2d\"}], \"histogram2dcontour\": [{\"colorbar\": {\"outlinewidth\": 0, \"ticks\": \"\"}, \"colorscale\": [[0.0, \"#0d0887\"], [0.1111111111111111, \"#46039f\"], [0.2222222222222222, \"#7201a8\"], [0.3333333333333333, \"#9c179e\"], [0.4444444444444444, \"#bd3786\"], [0.5555555555555556, \"#d8576b\"], [0.6666666666666666, \"#ed7953\"], [0.7777777777777778, \"#fb9f3a\"], [0.8888888888888888, \"#fdca26\"], [1.0, \"#f0f921\"]], \"type\": \"histogram2dcontour\"}], \"mesh3d\": [{\"colorbar\": {\"outlinewidth\": 0, \"ticks\": \"\"}, \"type\": \"mesh3d\"}], \"parcoords\": [{\"line\": {\"colorbar\": {\"outlinewidth\": 0, \"ticks\": \"\"}}, \"type\": \"parcoords\"}], \"pie\": [{\"automargin\": true, \"type\": \"pie\"}], \"scatter\": [{\"marker\": {\"colorbar\": {\"outlinewidth\": 0, \"ticks\": \"\"}}, \"type\": \"scatter\"}], \"scatter3d\": [{\"line\": {\"colorbar\": {\"outlinewidth\": 0, \"ticks\": \"\"}}, \"marker\": {\"colorbar\": {\"outlinewidth\": 0, \"ticks\": \"\"}}, \"type\": \"scatter3d\"}], \"scattercarpet\": [{\"marker\": {\"colorbar\": {\"outlinewidth\": 0, \"ticks\": \"\"}}, \"type\": \"scattercarpet\"}], \"scattergeo\": [{\"marker\": {\"colorbar\": {\"outlinewidth\": 0, \"ticks\": \"\"}}, \"type\": \"scattergeo\"}], \"scattergl\": [{\"marker\": {\"colorbar\": {\"outlinewidth\": 0, \"ticks\": \"\"}}, \"type\": \"scattergl\"}], \"scattermapbox\": [{\"marker\": {\"colorbar\": {\"outlinewidth\": 0, \"ticks\": \"\"}}, \"type\": \"scattermapbox\"}], \"scatterpolar\": [{\"marker\": {\"colorbar\": {\"outlinewidth\": 0, \"ticks\": \"\"}}, \"type\": \"scatterpolar\"}], \"scatterpolargl\": [{\"marker\": {\"colorbar\": {\"outlinewidth\": 0, \"ticks\": \"\"}}, \"type\": \"scatterpolargl\"}], \"scatterternary\": [{\"marker\": {\"colorbar\": {\"outlinewidth\": 0, \"ticks\": \"\"}}, \"type\": \"scatterternary\"}], \"surface\": [{\"colorbar\": {\"outlinewidth\": 0, \"ticks\": \"\"}, \"colorscale\": [[0.0, \"#0d0887\"], [0.1111111111111111, \"#46039f\"], [0.2222222222222222, \"#7201a8\"], [0.3333333333333333, \"#9c179e\"], [0.4444444444444444, \"#bd3786\"], [0.5555555555555556, \"#d8576b\"], [0.6666666666666666, \"#ed7953\"], [0.7777777777777778, \"#fb9f3a\"], [0.8888888888888888, \"#fdca26\"], [1.0, \"#f0f921\"]], \"type\": \"surface\"}], \"table\": [{\"cells\": {\"fill\": {\"color\": \"#EBF0F8\"}, \"line\": {\"color\": \"white\"}}, \"header\": {\"fill\": {\"color\": \"#C8D4E3\"}, \"line\": {\"color\": \"white\"}}, \"type\": \"table\"}]}, \"layout\": {\"annotationdefaults\": {\"arrowcolor\": \"#2a3f5f\", \"arrowhead\": 0, \"arrowwidth\": 1}, \"autotypenumbers\": \"strict\", \"coloraxis\": {\"colorbar\": {\"outlinewidth\": 0, \"ticks\": \"\"}}, \"colorscale\": {\"diverging\": [[0, \"#8e0152\"], [0.1, \"#c51b7d\"], [0.2, \"#de77ae\"], [0.3, \"#f1b6da\"], [0.4, \"#fde0ef\"], [0.5, \"#f7f7f7\"], [0.6, \"#e6f5d0\"], [0.7, \"#b8e186\"], [0.8, \"#7fbc41\"], [0.9, \"#4d9221\"], [1, \"#276419\"]], \"sequential\": [[0.0, \"#0d0887\"], [0.1111111111111111, \"#46039f\"], [0.2222222222222222, \"#7201a8\"], [0.3333333333333333, \"#9c179e\"], [0.4444444444444444, \"#bd3786\"], [0.5555555555555556, \"#d8576b\"], [0.6666666666666666, \"#ed7953\"], [0.7777777777777778, \"#fb9f3a\"], [0.8888888888888888, \"#fdca26\"], [1.0, \"#f0f921\"]], \"sequentialminus\": [[0.0, \"#0d0887\"], [0.1111111111111111, \"#46039f\"], [0.2222222222222222, \"#7201a8\"], [0.3333333333333333, \"#9c179e\"], [0.4444444444444444, \"#bd3786\"], [0.5555555555555556, \"#d8576b\"], [0.6666666666666666, \"#ed7953\"], [0.7777777777777778, \"#fb9f3a\"], [0.8888888888888888, \"#fdca26\"], [1.0, \"#f0f921\"]]}, \"colorway\": [\"#636efa\", \"#EF553B\", \"#00cc96\", \"#ab63fa\", \"#FFA15A\", \"#19d3f3\", \"#FF6692\", \"#B6E880\", \"#FF97FF\", \"#FECB52\"], \"font\": {\"color\": \"#2a3f5f\"}, \"geo\": {\"bgcolor\": \"white\", \"lakecolor\": \"white\", \"landcolor\": \"#E5ECF6\", \"showlakes\": true, \"showland\": true, \"subunitcolor\": \"white\"}, \"hoverlabel\": {\"align\": \"left\"}, \"hovermode\": \"closest\", \"mapbox\": {\"style\": \"light\"}, \"paper_bgcolor\": \"white\", \"plot_bgcolor\": \"#E5ECF6\", \"polar\": {\"angularaxis\": {\"gridcolor\": \"white\", \"linecolor\": \"white\", \"ticks\": \"\"}, \"bgcolor\": \"#E5ECF6\", \"radialaxis\": {\"gridcolor\": \"white\", \"linecolor\": \"white\", \"ticks\": \"\"}}, \"scene\": {\"xaxis\": {\"backgroundcolor\": \"#E5ECF6\", \"gridcolor\": \"white\", \"gridwidth\": 2, \"linecolor\": \"white\", \"showbackground\": true, \"ticks\": \"\", \"zerolinecolor\": \"white\"}, \"yaxis\": {\"backgroundcolor\": \"#E5ECF6\", \"gridcolor\": \"white\", \"gridwidth\": 2, \"linecolor\": \"white\", \"showbackground\": true, \"ticks\": \"\", \"zerolinecolor\": \"white\"}, \"zaxis\": {\"backgroundcolor\": \"#E5ECF6\", \"gridcolor\": \"white\", \"gridwidth\": 2, \"linecolor\": \"white\", \"showbackground\": true, \"ticks\": \"\", \"zerolinecolor\": \"white\"}}, \"shapedefaults\": {\"line\": {\"color\": \"#2a3f5f\"}}, \"ternary\": {\"aaxis\": {\"gridcolor\": \"white\", \"linecolor\": \"white\", \"ticks\": \"\"}, \"baxis\": {\"gridcolor\": \"white\", \"linecolor\": \"white\", \"ticks\": \"\"}, \"bgcolor\": \"#E5ECF6\", \"caxis\": {\"gridcolor\": \"white\", \"linecolor\": \"white\", \"ticks\": \"\"}}, \"title\": {\"x\": 0.05}, \"xaxis\": {\"automargin\": true, \"gridcolor\": \"white\", \"linecolor\": \"white\", \"ticks\": \"\", \"title\": {\"standoff\": 15}, \"zerolinecolor\": \"white\", \"zerolinewidth\": 2}, \"yaxis\": {\"automargin\": true, \"gridcolor\": \"white\", \"linecolor\": \"white\", \"ticks\": \"\", \"title\": {\"standoff\": 15}, \"zerolinecolor\": \"white\", \"zerolinewidth\": 2}}}, \"title\": {\"font\": {\"color\": \"#4D5663\"}}, \"xaxis\": {\"gridcolor\": \"#E1E5ED\", \"showgrid\": true, \"tickfont\": {\"color\": \"#4D5663\"}, \"title\": {\"font\": {\"color\": \"#4D5663\"}, \"text\": \"\"}, \"zerolinecolor\": \"#E1E5ED\"}, \"yaxis\": {\"gridcolor\": \"#E1E5ED\", \"showgrid\": true, \"tickfont\": {\"color\": \"#4D5663\"}, \"title\": {\"font\": {\"color\": \"#4D5663\"}, \"text\": \"\"}, \"zerolinecolor\": \"#E1E5ED\"}},                        {\"showLink\": true, \"linkText\": \"Export to plot.ly\", \"plotlyServerURL\": \"https://plot.ly\", \"responsive\": true}                    ).then(function(){\n",
       "                            \n",
       "var gd = document.getElementById('dc54812c-3577-4e6a-9e1d-3542e147f893');\n",
       "var x = new MutationObserver(function (mutations, observer) {{\n",
       "        var display = window.getComputedStyle(gd).display;\n",
       "        if (!display || display === 'none') {{\n",
       "            console.log([gd, 'removed!']);\n",
       "            Plotly.purge(gd);\n",
       "            observer.disconnect();\n",
       "        }}\n",
       "}});\n",
       "\n",
       "// Listen for the removal of the full notebook cells\n",
       "var notebookContainer = gd.closest('#notebook-container');\n",
       "if (notebookContainer) {{\n",
       "    x.observe(notebookContainer, {childList: true});\n",
       "}}\n",
       "\n",
       "// Listen for the clearing of the current output cell\n",
       "var outputEl = gd.closest('.output');\n",
       "if (outputEl) {{\n",
       "    x.observe(outputEl, {childList: true});\n",
       "}}\n",
       "\n",
       "                        })                };                });            </script>        </div>"
      ]
     },
     "metadata": {},
     "output_type": "display_data"
    }
   ],
   "source": [
    "df.iplot()"
   ]
  },
  {
   "cell_type": "code",
   "execution_count": 19,
   "id": "60363234",
   "metadata": {},
   "outputs": [
    {
     "data": {
      "application/vnd.plotly.v1+json": {
       "config": {
        "linkText": "Export to plot.ly",
        "plotlyServerURL": "https://plot.ly",
        "showLink": true
       },
       "data": [
        {
         "line": {
          "color": "rgba(255, 153, 51, 1.0)",
          "dash": "solid",
          "shape": "linear",
          "width": 1.3
         },
         "marker": {
          "size": 12,
          "symbol": "circle"
         },
         "mode": "markers",
         "name": "b",
         "text": "",
         "type": "scatter",
         "x": [
          -0.2939247089538375,
          2.0970076509999784,
          0.6173777106200816,
          0.23750356151887284,
          1.4742614481713527,
          -0.5385616431849475,
          -0.45321074945949447,
          0.12167449125140922,
          0.20428924065632798,
          0.22236282194300827,
          -0.6875098311811151,
          0.359616715882246,
          2.3950352145362634,
          -1.6207985178635114,
          1.1035412290025228,
          0.08046177444574407,
          0.6606756828275522,
          -0.23956254477490263,
          -0.17851923115075505,
          -1.3840621342640793,
          -0.18702848968924107,
          -0.022384496392856452,
          0.22508891444086587,
          -0.08976387372755973,
          1.5689953760605144,
          -0.8888438575279914,
          0.7570847381702218,
          0.18871608700229803,
          0.2010714627780046,
          -0.9376698821651582,
          0.6750759305528278,
          -2.6466285425274574,
          0.37476265045813056,
          -0.901004002901094,
          -0.9650386990444001,
          0.9978649274376844,
          1.1449823043540495,
          -0.08122776362240577,
          -0.46399287651831483,
          -0.327973144710316,
          -0.7052750047259908,
          -0.8404245727219606,
          -1.8027200625992401,
          -0.41612955979023686,
          1.744646834426262,
          2.08660268843734,
          -0.3575218095405308,
          -1.3969976767306818,
          -2.209247335595158,
          -0.01949960232712651,
          -0.43249537867595117,
          0.3276816794140001,
          1.3947314018656503,
          -0.8707272296934853,
          2.119916665770619,
          0.35932321797338723,
          -1.8635994759219356,
          -0.18346970394873846,
          0.20263335913174033,
          -0.47349177490276445,
          -1.4520362442968655,
          -2.1149498689947457,
          0.9130783150932135,
          -0.5495136750215502,
          -1.0960621283754712,
          1.4451572160950985,
          2.031408286352337,
          0.5425598066205446,
          -0.4775211880584021,
          1.3308282537961023,
          1.054353691401902,
          1.612940625060723,
          -0.6109625761183942,
          -0.3821873570921796,
          0.06843039203537875,
          -0.851254205028847,
          -0.4766492013005475,
          -0.5890194171164326,
          2.442183066498214,
          -0.6194169874355799,
          -1.2222617029743152,
          -0.38402757215563416,
          1.2903773269289678,
          0.5971276344830816,
          0.19293385964319268,
          -1.943140647316925,
          2.5316619216308647,
          -1.0653518979213665,
          1.4221772704069156,
          0.2182038837841717,
          -0.17473296264917926,
          1.2593089788564307,
          0.4037842122693207,
          0.41043879549939155,
          0.017209646728323726,
          0.05546188946749892,
          -0.8863530371688454,
          0.1294464356696457,
          -0.677070174398935,
          -1.16031510980759
         ],
         "y": [
          1.7517195955247546,
          -0.35359986253618086,
          -0.19133904818374425,
          0.09425845259705241,
          0.3132660279058182,
          0.5781971553314883,
          -2.067783326993488,
          0.6099826326983443,
          0.4237298386704434,
          -0.726227751579507,
          -0.7189066348304399,
          -1.1621193679555342,
          -0.8387188227282664,
          1.8446352326960413,
          -1.5261234234571448,
          0.25184511373240026,
          0.507382596728712,
          -0.7676055455944559,
          0.3345289985935182,
          -0.519930862281465,
          -1.1875187855113214,
          0.28321083692873156,
          0.4439022981463856,
          -0.647070647038372,
          -0.13382994045631505,
          -0.8231744385020477,
          -0.7760002891058501,
          -1.8811016466011998,
          -0.5400669646741258,
          0.6417993920365667,
          -1.0750433645350408,
          -0.8535304068144485,
          1.7366198720263866,
          -0.7460551345224858,
          -0.42652411311431265,
          0.20228592023185543,
          -1.2709086692771747,
          -1.4133149883151543,
          0.548228842737083,
          -0.9812532497119463,
          -1.4533376337289736,
          0.15096058684193256,
          1.1737197584881935,
          -0.052932881986239355,
          0.11726895488462656,
          -1.2633287230708576,
          -1.4576819453135772,
          -1.3093283709027084,
          -0.3055126935028742,
          -0.04722359550452384,
          0.11528089339140782,
          -0.12480741368796602,
          0.5678519074032968,
          -1.651854518362437,
          -0.3672919727036017,
          0.25200949602089007,
          -0.37351570168002984,
          -1.045903428320767,
          0.5206368286408477,
          1.1232227278371094,
          -1.340085574768691,
          -0.86400745936875,
          1.0550957715631073,
          0.459542071919937,
          -0.21526127396496744,
          -0.08755215527323648,
          0.49115860321273747,
          -0.22641865914983392,
          -0.900489261026163,
          -0.4097112328735374,
          -0.4670675693241242,
          0.36811600188979976,
          -0.035211946204871995,
          0.5760790785247979,
          -0.2898062105937861,
          -0.6454669574803571,
          1.0872247062936047,
          0.8388304270804362,
          1.2010283395645696,
          0.9091166353159125,
          -0.4165958388206629,
          -0.6321804012839619,
          0.09215744767250596,
          1.5640594486311639,
          1.1593665190780447,
          0.8373592918589178,
          -0.4103626401331422,
          0.3403785041925423,
          -0.2971058215438673,
          -0.6546234291796629,
          0.6718839090767289,
          -0.08626567553004098,
          0.34493128880227797,
          -1.3166805505068733,
          -0.5915004452066159,
          0.07001232138335309,
          -0.3604605295372551,
          -0.3267979890598825,
          -0.43241655790310934,
          1.0308675380964412
         ]
        }
       ],
       "layout": {
        "legend": {
         "bgcolor": "#F5F6F9",
         "font": {
          "color": "#4D5663"
         }
        },
        "paper_bgcolor": "#F5F6F9",
        "plot_bgcolor": "#F5F6F9",
        "template": {
         "data": {
          "bar": [
           {
            "error_x": {
             "color": "#2a3f5f"
            },
            "error_y": {
             "color": "#2a3f5f"
            },
            "marker": {
             "line": {
              "color": "#E5ECF6",
              "width": 0.5
             }
            },
            "type": "bar"
           }
          ],
          "barpolar": [
           {
            "marker": {
             "line": {
              "color": "#E5ECF6",
              "width": 0.5
             }
            },
            "type": "barpolar"
           }
          ],
          "carpet": [
           {
            "aaxis": {
             "endlinecolor": "#2a3f5f",
             "gridcolor": "white",
             "linecolor": "white",
             "minorgridcolor": "white",
             "startlinecolor": "#2a3f5f"
            },
            "baxis": {
             "endlinecolor": "#2a3f5f",
             "gridcolor": "white",
             "linecolor": "white",
             "minorgridcolor": "white",
             "startlinecolor": "#2a3f5f"
            },
            "type": "carpet"
           }
          ],
          "choropleth": [
           {
            "colorbar": {
             "outlinewidth": 0,
             "ticks": ""
            },
            "type": "choropleth"
           }
          ],
          "contour": [
           {
            "colorbar": {
             "outlinewidth": 0,
             "ticks": ""
            },
            "colorscale": [
             [
              0,
              "#0d0887"
             ],
             [
              0.1111111111111111,
              "#46039f"
             ],
             [
              0.2222222222222222,
              "#7201a8"
             ],
             [
              0.3333333333333333,
              "#9c179e"
             ],
             [
              0.4444444444444444,
              "#bd3786"
             ],
             [
              0.5555555555555556,
              "#d8576b"
             ],
             [
              0.6666666666666666,
              "#ed7953"
             ],
             [
              0.7777777777777778,
              "#fb9f3a"
             ],
             [
              0.8888888888888888,
              "#fdca26"
             ],
             [
              1,
              "#f0f921"
             ]
            ],
            "type": "contour"
           }
          ],
          "contourcarpet": [
           {
            "colorbar": {
             "outlinewidth": 0,
             "ticks": ""
            },
            "type": "contourcarpet"
           }
          ],
          "heatmap": [
           {
            "colorbar": {
             "outlinewidth": 0,
             "ticks": ""
            },
            "colorscale": [
             [
              0,
              "#0d0887"
             ],
             [
              0.1111111111111111,
              "#46039f"
             ],
             [
              0.2222222222222222,
              "#7201a8"
             ],
             [
              0.3333333333333333,
              "#9c179e"
             ],
             [
              0.4444444444444444,
              "#bd3786"
             ],
             [
              0.5555555555555556,
              "#d8576b"
             ],
             [
              0.6666666666666666,
              "#ed7953"
             ],
             [
              0.7777777777777778,
              "#fb9f3a"
             ],
             [
              0.8888888888888888,
              "#fdca26"
             ],
             [
              1,
              "#f0f921"
             ]
            ],
            "type": "heatmap"
           }
          ],
          "heatmapgl": [
           {
            "colorbar": {
             "outlinewidth": 0,
             "ticks": ""
            },
            "colorscale": [
             [
              0,
              "#0d0887"
             ],
             [
              0.1111111111111111,
              "#46039f"
             ],
             [
              0.2222222222222222,
              "#7201a8"
             ],
             [
              0.3333333333333333,
              "#9c179e"
             ],
             [
              0.4444444444444444,
              "#bd3786"
             ],
             [
              0.5555555555555556,
              "#d8576b"
             ],
             [
              0.6666666666666666,
              "#ed7953"
             ],
             [
              0.7777777777777778,
              "#fb9f3a"
             ],
             [
              0.8888888888888888,
              "#fdca26"
             ],
             [
              1,
              "#f0f921"
             ]
            ],
            "type": "heatmapgl"
           }
          ],
          "histogram": [
           {
            "marker": {
             "colorbar": {
              "outlinewidth": 0,
              "ticks": ""
             }
            },
            "type": "histogram"
           }
          ],
          "histogram2d": [
           {
            "colorbar": {
             "outlinewidth": 0,
             "ticks": ""
            },
            "colorscale": [
             [
              0,
              "#0d0887"
             ],
             [
              0.1111111111111111,
              "#46039f"
             ],
             [
              0.2222222222222222,
              "#7201a8"
             ],
             [
              0.3333333333333333,
              "#9c179e"
             ],
             [
              0.4444444444444444,
              "#bd3786"
             ],
             [
              0.5555555555555556,
              "#d8576b"
             ],
             [
              0.6666666666666666,
              "#ed7953"
             ],
             [
              0.7777777777777778,
              "#fb9f3a"
             ],
             [
              0.8888888888888888,
              "#fdca26"
             ],
             [
              1,
              "#f0f921"
             ]
            ],
            "type": "histogram2d"
           }
          ],
          "histogram2dcontour": [
           {
            "colorbar": {
             "outlinewidth": 0,
             "ticks": ""
            },
            "colorscale": [
             [
              0,
              "#0d0887"
             ],
             [
              0.1111111111111111,
              "#46039f"
             ],
             [
              0.2222222222222222,
              "#7201a8"
             ],
             [
              0.3333333333333333,
              "#9c179e"
             ],
             [
              0.4444444444444444,
              "#bd3786"
             ],
             [
              0.5555555555555556,
              "#d8576b"
             ],
             [
              0.6666666666666666,
              "#ed7953"
             ],
             [
              0.7777777777777778,
              "#fb9f3a"
             ],
             [
              0.8888888888888888,
              "#fdca26"
             ],
             [
              1,
              "#f0f921"
             ]
            ],
            "type": "histogram2dcontour"
           }
          ],
          "mesh3d": [
           {
            "colorbar": {
             "outlinewidth": 0,
             "ticks": ""
            },
            "type": "mesh3d"
           }
          ],
          "parcoords": [
           {
            "line": {
             "colorbar": {
              "outlinewidth": 0,
              "ticks": ""
             }
            },
            "type": "parcoords"
           }
          ],
          "pie": [
           {
            "automargin": true,
            "type": "pie"
           }
          ],
          "scatter": [
           {
            "marker": {
             "colorbar": {
              "outlinewidth": 0,
              "ticks": ""
             }
            },
            "type": "scatter"
           }
          ],
          "scatter3d": [
           {
            "line": {
             "colorbar": {
              "outlinewidth": 0,
              "ticks": ""
             }
            },
            "marker": {
             "colorbar": {
              "outlinewidth": 0,
              "ticks": ""
             }
            },
            "type": "scatter3d"
           }
          ],
          "scattercarpet": [
           {
            "marker": {
             "colorbar": {
              "outlinewidth": 0,
              "ticks": ""
             }
            },
            "type": "scattercarpet"
           }
          ],
          "scattergeo": [
           {
            "marker": {
             "colorbar": {
              "outlinewidth": 0,
              "ticks": ""
             }
            },
            "type": "scattergeo"
           }
          ],
          "scattergl": [
           {
            "marker": {
             "colorbar": {
              "outlinewidth": 0,
              "ticks": ""
             }
            },
            "type": "scattergl"
           }
          ],
          "scattermapbox": [
           {
            "marker": {
             "colorbar": {
              "outlinewidth": 0,
              "ticks": ""
             }
            },
            "type": "scattermapbox"
           }
          ],
          "scatterpolar": [
           {
            "marker": {
             "colorbar": {
              "outlinewidth": 0,
              "ticks": ""
             }
            },
            "type": "scatterpolar"
           }
          ],
          "scatterpolargl": [
           {
            "marker": {
             "colorbar": {
              "outlinewidth": 0,
              "ticks": ""
             }
            },
            "type": "scatterpolargl"
           }
          ],
          "scatterternary": [
           {
            "marker": {
             "colorbar": {
              "outlinewidth": 0,
              "ticks": ""
             }
            },
            "type": "scatterternary"
           }
          ],
          "surface": [
           {
            "colorbar": {
             "outlinewidth": 0,
             "ticks": ""
            },
            "colorscale": [
             [
              0,
              "#0d0887"
             ],
             [
              0.1111111111111111,
              "#46039f"
             ],
             [
              0.2222222222222222,
              "#7201a8"
             ],
             [
              0.3333333333333333,
              "#9c179e"
             ],
             [
              0.4444444444444444,
              "#bd3786"
             ],
             [
              0.5555555555555556,
              "#d8576b"
             ],
             [
              0.6666666666666666,
              "#ed7953"
             ],
             [
              0.7777777777777778,
              "#fb9f3a"
             ],
             [
              0.8888888888888888,
              "#fdca26"
             ],
             [
              1,
              "#f0f921"
             ]
            ],
            "type": "surface"
           }
          ],
          "table": [
           {
            "cells": {
             "fill": {
              "color": "#EBF0F8"
             },
             "line": {
              "color": "white"
             }
            },
            "header": {
             "fill": {
              "color": "#C8D4E3"
             },
             "line": {
              "color": "white"
             }
            },
            "type": "table"
           }
          ]
         },
         "layout": {
          "annotationdefaults": {
           "arrowcolor": "#2a3f5f",
           "arrowhead": 0,
           "arrowwidth": 1
          },
          "autotypenumbers": "strict",
          "coloraxis": {
           "colorbar": {
            "outlinewidth": 0,
            "ticks": ""
           }
          },
          "colorscale": {
           "diverging": [
            [
             0,
             "#8e0152"
            ],
            [
             0.1,
             "#c51b7d"
            ],
            [
             0.2,
             "#de77ae"
            ],
            [
             0.3,
             "#f1b6da"
            ],
            [
             0.4,
             "#fde0ef"
            ],
            [
             0.5,
             "#f7f7f7"
            ],
            [
             0.6,
             "#e6f5d0"
            ],
            [
             0.7,
             "#b8e186"
            ],
            [
             0.8,
             "#7fbc41"
            ],
            [
             0.9,
             "#4d9221"
            ],
            [
             1,
             "#276419"
            ]
           ],
           "sequential": [
            [
             0,
             "#0d0887"
            ],
            [
             0.1111111111111111,
             "#46039f"
            ],
            [
             0.2222222222222222,
             "#7201a8"
            ],
            [
             0.3333333333333333,
             "#9c179e"
            ],
            [
             0.4444444444444444,
             "#bd3786"
            ],
            [
             0.5555555555555556,
             "#d8576b"
            ],
            [
             0.6666666666666666,
             "#ed7953"
            ],
            [
             0.7777777777777778,
             "#fb9f3a"
            ],
            [
             0.8888888888888888,
             "#fdca26"
            ],
            [
             1,
             "#f0f921"
            ]
           ],
           "sequentialminus": [
            [
             0,
             "#0d0887"
            ],
            [
             0.1111111111111111,
             "#46039f"
            ],
            [
             0.2222222222222222,
             "#7201a8"
            ],
            [
             0.3333333333333333,
             "#9c179e"
            ],
            [
             0.4444444444444444,
             "#bd3786"
            ],
            [
             0.5555555555555556,
             "#d8576b"
            ],
            [
             0.6666666666666666,
             "#ed7953"
            ],
            [
             0.7777777777777778,
             "#fb9f3a"
            ],
            [
             0.8888888888888888,
             "#fdca26"
            ],
            [
             1,
             "#f0f921"
            ]
           ]
          },
          "colorway": [
           "#636efa",
           "#EF553B",
           "#00cc96",
           "#ab63fa",
           "#FFA15A",
           "#19d3f3",
           "#FF6692",
           "#B6E880",
           "#FF97FF",
           "#FECB52"
          ],
          "font": {
           "color": "#2a3f5f"
          },
          "geo": {
           "bgcolor": "white",
           "lakecolor": "white",
           "landcolor": "#E5ECF6",
           "showlakes": true,
           "showland": true,
           "subunitcolor": "white"
          },
          "hoverlabel": {
           "align": "left"
          },
          "hovermode": "closest",
          "mapbox": {
           "style": "light"
          },
          "paper_bgcolor": "white",
          "plot_bgcolor": "#E5ECF6",
          "polar": {
           "angularaxis": {
            "gridcolor": "white",
            "linecolor": "white",
            "ticks": ""
           },
           "bgcolor": "#E5ECF6",
           "radialaxis": {
            "gridcolor": "white",
            "linecolor": "white",
            "ticks": ""
           }
          },
          "scene": {
           "xaxis": {
            "backgroundcolor": "#E5ECF6",
            "gridcolor": "white",
            "gridwidth": 2,
            "linecolor": "white",
            "showbackground": true,
            "ticks": "",
            "zerolinecolor": "white"
           },
           "yaxis": {
            "backgroundcolor": "#E5ECF6",
            "gridcolor": "white",
            "gridwidth": 2,
            "linecolor": "white",
            "showbackground": true,
            "ticks": "",
            "zerolinecolor": "white"
           },
           "zaxis": {
            "backgroundcolor": "#E5ECF6",
            "gridcolor": "white",
            "gridwidth": 2,
            "linecolor": "white",
            "showbackground": true,
            "ticks": "",
            "zerolinecolor": "white"
           }
          },
          "shapedefaults": {
           "line": {
            "color": "#2a3f5f"
           }
          },
          "ternary": {
           "aaxis": {
            "gridcolor": "white",
            "linecolor": "white",
            "ticks": ""
           },
           "baxis": {
            "gridcolor": "white",
            "linecolor": "white",
            "ticks": ""
           },
           "bgcolor": "#E5ECF6",
           "caxis": {
            "gridcolor": "white",
            "linecolor": "white",
            "ticks": ""
           }
          },
          "title": {
           "x": 0.05
          },
          "xaxis": {
           "automargin": true,
           "gridcolor": "white",
           "linecolor": "white",
           "ticks": "",
           "title": {
            "standoff": 15
           },
           "zerolinecolor": "white",
           "zerolinewidth": 2
          },
          "yaxis": {
           "automargin": true,
           "gridcolor": "white",
           "linecolor": "white",
           "ticks": "",
           "title": {
            "standoff": 15
           },
           "zerolinecolor": "white",
           "zerolinewidth": 2
          }
         }
        },
        "title": {
         "font": {
          "color": "#4D5663"
         }
        },
        "xaxis": {
         "gridcolor": "#E1E5ED",
         "showgrid": true,
         "tickfont": {
          "color": "#4D5663"
         },
         "title": {
          "font": {
           "color": "#4D5663"
          },
          "text": ""
         },
         "zerolinecolor": "#E1E5ED"
        },
        "yaxis": {
         "gridcolor": "#E1E5ED",
         "showgrid": true,
         "tickfont": {
          "color": "#4D5663"
         },
         "title": {
          "font": {
           "color": "#4D5663"
          },
          "text": ""
         },
         "zerolinecolor": "#E1E5ED"
        }
       }
      },
      "text/html": [
       "<div>                            <div id=\"ccbf519c-71fc-4fd4-a8e4-83ff1df9bb2d\" class=\"plotly-graph-div\" style=\"height:525px; width:100%;\"></div>            <script type=\"text/javascript\">                require([\"plotly\"], function(Plotly) {                    window.PLOTLYENV=window.PLOTLYENV || {};\n",
       "                    window.PLOTLYENV.BASE_URL='https://plot.ly';                                    if (document.getElementById(\"ccbf519c-71fc-4fd4-a8e4-83ff1df9bb2d\")) {                    Plotly.newPlot(                        \"ccbf519c-71fc-4fd4-a8e4-83ff1df9bb2d\",                        [{\"line\": {\"color\": \"rgba(255, 153, 51, 1.0)\", \"dash\": \"solid\", \"shape\": \"linear\", \"width\": 1.3}, \"marker\": {\"size\": 12, \"symbol\": \"circle\"}, \"mode\": \"markers\", \"name\": \"b\", \"text\": \"\", \"type\": \"scatter\", \"x\": [-0.2939247089538375, 2.0970076509999784, 0.6173777106200816, 0.23750356151887284, 1.4742614481713527, -0.5385616431849475, -0.45321074945949447, 0.12167449125140922, 0.20428924065632798, 0.22236282194300827, -0.6875098311811151, 0.359616715882246, 2.3950352145362634, -1.6207985178635114, 1.1035412290025228, 0.08046177444574407, 0.6606756828275522, -0.23956254477490263, -0.17851923115075505, -1.3840621342640793, -0.18702848968924107, -0.022384496392856452, 0.22508891444086587, -0.08976387372755973, 1.5689953760605144, -0.8888438575279914, 0.7570847381702218, 0.18871608700229803, 0.2010714627780046, -0.9376698821651582, 0.6750759305528278, -2.6466285425274574, 0.37476265045813056, -0.901004002901094, -0.9650386990444001, 0.9978649274376844, 1.1449823043540495, -0.08122776362240577, -0.46399287651831483, -0.327973144710316, -0.7052750047259908, -0.8404245727219606, -1.8027200625992401, -0.41612955979023686, 1.744646834426262, 2.08660268843734, -0.3575218095405308, -1.3969976767306818, -2.209247335595158, -0.01949960232712651, -0.43249537867595117, 0.3276816794140001, 1.3947314018656503, -0.8707272296934853, 2.119916665770619, 0.35932321797338723, -1.8635994759219356, -0.18346970394873846, 0.20263335913174033, -0.47349177490276445, -1.4520362442968655, -2.1149498689947457, 0.9130783150932135, -0.5495136750215502, -1.0960621283754712, 1.4451572160950985, 2.031408286352337, 0.5425598066205446, -0.4775211880584021, 1.3308282537961023, 1.054353691401902, 1.612940625060723, -0.6109625761183942, -0.3821873570921796, 0.06843039203537875, -0.851254205028847, -0.4766492013005475, -0.5890194171164326, 2.442183066498214, -0.6194169874355799, -1.2222617029743152, -0.38402757215563416, 1.2903773269289678, 0.5971276344830816, 0.19293385964319268, -1.943140647316925, 2.5316619216308647, -1.0653518979213665, 1.4221772704069156, 0.2182038837841717, -0.17473296264917926, 1.2593089788564307, 0.4037842122693207, 0.41043879549939155, 0.017209646728323726, 0.05546188946749892, -0.8863530371688454, 0.1294464356696457, -0.677070174398935, -1.16031510980759], \"y\": [1.7517195955247546, -0.35359986253618086, -0.19133904818374425, 0.09425845259705241, 0.3132660279058182, 0.5781971553314883, -2.067783326993488, 0.6099826326983443, 0.4237298386704434, -0.726227751579507, -0.7189066348304399, -1.1621193679555342, -0.8387188227282664, 1.8446352326960413, -1.5261234234571448, 0.25184511373240026, 0.507382596728712, -0.7676055455944559, 0.3345289985935182, -0.519930862281465, -1.1875187855113214, 0.28321083692873156, 0.4439022981463856, -0.647070647038372, -0.13382994045631505, -0.8231744385020477, -0.7760002891058501, -1.8811016466011998, -0.5400669646741258, 0.6417993920365667, -1.0750433645350408, -0.8535304068144485, 1.7366198720263866, -0.7460551345224858, -0.42652411311431265, 0.20228592023185543, -1.2709086692771747, -1.4133149883151543, 0.548228842737083, -0.9812532497119463, -1.4533376337289736, 0.15096058684193256, 1.1737197584881935, -0.052932881986239355, 0.11726895488462656, -1.2633287230708576, -1.4576819453135772, -1.3093283709027084, -0.3055126935028742, -0.04722359550452384, 0.11528089339140782, -0.12480741368796602, 0.5678519074032968, -1.651854518362437, -0.3672919727036017, 0.25200949602089007, -0.37351570168002984, -1.045903428320767, 0.5206368286408477, 1.1232227278371094, -1.340085574768691, -0.86400745936875, 1.0550957715631073, 0.459542071919937, -0.21526127396496744, -0.08755215527323648, 0.49115860321273747, -0.22641865914983392, -0.900489261026163, -0.4097112328735374, -0.4670675693241242, 0.36811600188979976, -0.035211946204871995, 0.5760790785247979, -0.2898062105937861, -0.6454669574803571, 1.0872247062936047, 0.8388304270804362, 1.2010283395645696, 0.9091166353159125, -0.4165958388206629, -0.6321804012839619, 0.09215744767250596, 1.5640594486311639, 1.1593665190780447, 0.8373592918589178, -0.4103626401331422, 0.3403785041925423, -0.2971058215438673, -0.6546234291796629, 0.6718839090767289, -0.08626567553004098, 0.34493128880227797, -1.3166805505068733, -0.5915004452066159, 0.07001232138335309, -0.3604605295372551, -0.3267979890598825, -0.43241655790310934, 1.0308675380964412]}],                        {\"legend\": {\"bgcolor\": \"#F5F6F9\", \"font\": {\"color\": \"#4D5663\"}}, \"paper_bgcolor\": \"#F5F6F9\", \"plot_bgcolor\": \"#F5F6F9\", \"template\": {\"data\": {\"bar\": [{\"error_x\": {\"color\": \"#2a3f5f\"}, \"error_y\": {\"color\": \"#2a3f5f\"}, \"marker\": {\"line\": {\"color\": \"#E5ECF6\", \"width\": 0.5}}, \"type\": \"bar\"}], \"barpolar\": [{\"marker\": {\"line\": {\"color\": \"#E5ECF6\", \"width\": 0.5}}, \"type\": \"barpolar\"}], \"carpet\": [{\"aaxis\": {\"endlinecolor\": \"#2a3f5f\", \"gridcolor\": \"white\", \"linecolor\": \"white\", \"minorgridcolor\": \"white\", \"startlinecolor\": \"#2a3f5f\"}, \"baxis\": {\"endlinecolor\": \"#2a3f5f\", \"gridcolor\": \"white\", \"linecolor\": \"white\", \"minorgridcolor\": \"white\", \"startlinecolor\": \"#2a3f5f\"}, \"type\": \"carpet\"}], \"choropleth\": [{\"colorbar\": {\"outlinewidth\": 0, \"ticks\": \"\"}, \"type\": \"choropleth\"}], \"contour\": [{\"colorbar\": {\"outlinewidth\": 0, \"ticks\": \"\"}, \"colorscale\": [[0.0, \"#0d0887\"], [0.1111111111111111, \"#46039f\"], [0.2222222222222222, \"#7201a8\"], [0.3333333333333333, \"#9c179e\"], [0.4444444444444444, \"#bd3786\"], [0.5555555555555556, \"#d8576b\"], [0.6666666666666666, \"#ed7953\"], [0.7777777777777778, \"#fb9f3a\"], [0.8888888888888888, \"#fdca26\"], [1.0, \"#f0f921\"]], \"type\": \"contour\"}], \"contourcarpet\": [{\"colorbar\": {\"outlinewidth\": 0, \"ticks\": \"\"}, \"type\": \"contourcarpet\"}], \"heatmap\": [{\"colorbar\": {\"outlinewidth\": 0, \"ticks\": \"\"}, \"colorscale\": [[0.0, \"#0d0887\"], [0.1111111111111111, \"#46039f\"], [0.2222222222222222, \"#7201a8\"], [0.3333333333333333, \"#9c179e\"], [0.4444444444444444, \"#bd3786\"], [0.5555555555555556, \"#d8576b\"], [0.6666666666666666, \"#ed7953\"], [0.7777777777777778, \"#fb9f3a\"], [0.8888888888888888, \"#fdca26\"], [1.0, \"#f0f921\"]], \"type\": \"heatmap\"}], \"heatmapgl\": [{\"colorbar\": {\"outlinewidth\": 0, \"ticks\": \"\"}, \"colorscale\": [[0.0, \"#0d0887\"], [0.1111111111111111, \"#46039f\"], [0.2222222222222222, \"#7201a8\"], [0.3333333333333333, \"#9c179e\"], [0.4444444444444444, \"#bd3786\"], [0.5555555555555556, \"#d8576b\"], [0.6666666666666666, \"#ed7953\"], [0.7777777777777778, \"#fb9f3a\"], [0.8888888888888888, \"#fdca26\"], [1.0, \"#f0f921\"]], \"type\": \"heatmapgl\"}], \"histogram\": [{\"marker\": {\"colorbar\": {\"outlinewidth\": 0, \"ticks\": \"\"}}, \"type\": \"histogram\"}], \"histogram2d\": [{\"colorbar\": {\"outlinewidth\": 0, \"ticks\": \"\"}, \"colorscale\": [[0.0, \"#0d0887\"], [0.1111111111111111, \"#46039f\"], [0.2222222222222222, \"#7201a8\"], [0.3333333333333333, \"#9c179e\"], [0.4444444444444444, \"#bd3786\"], [0.5555555555555556, \"#d8576b\"], [0.6666666666666666, \"#ed7953\"], [0.7777777777777778, \"#fb9f3a\"], [0.8888888888888888, \"#fdca26\"], [1.0, \"#f0f921\"]], \"type\": \"histogram2d\"}], \"histogram2dcontour\": [{\"colorbar\": {\"outlinewidth\": 0, \"ticks\": \"\"}, \"colorscale\": [[0.0, \"#0d0887\"], [0.1111111111111111, \"#46039f\"], [0.2222222222222222, \"#7201a8\"], [0.3333333333333333, \"#9c179e\"], [0.4444444444444444, \"#bd3786\"], [0.5555555555555556, \"#d8576b\"], [0.6666666666666666, \"#ed7953\"], [0.7777777777777778, \"#fb9f3a\"], [0.8888888888888888, \"#fdca26\"], [1.0, \"#f0f921\"]], \"type\": \"histogram2dcontour\"}], \"mesh3d\": [{\"colorbar\": {\"outlinewidth\": 0, \"ticks\": \"\"}, \"type\": \"mesh3d\"}], \"parcoords\": [{\"line\": {\"colorbar\": {\"outlinewidth\": 0, \"ticks\": \"\"}}, \"type\": \"parcoords\"}], \"pie\": [{\"automargin\": true, \"type\": \"pie\"}], \"scatter\": [{\"marker\": {\"colorbar\": {\"outlinewidth\": 0, \"ticks\": \"\"}}, \"type\": \"scatter\"}], \"scatter3d\": [{\"line\": {\"colorbar\": {\"outlinewidth\": 0, \"ticks\": \"\"}}, \"marker\": {\"colorbar\": {\"outlinewidth\": 0, \"ticks\": \"\"}}, \"type\": \"scatter3d\"}], \"scattercarpet\": [{\"marker\": {\"colorbar\": {\"outlinewidth\": 0, \"ticks\": \"\"}}, \"type\": \"scattercarpet\"}], \"scattergeo\": [{\"marker\": {\"colorbar\": {\"outlinewidth\": 0, \"ticks\": \"\"}}, \"type\": \"scattergeo\"}], \"scattergl\": [{\"marker\": {\"colorbar\": {\"outlinewidth\": 0, \"ticks\": \"\"}}, \"type\": \"scattergl\"}], \"scattermapbox\": [{\"marker\": {\"colorbar\": {\"outlinewidth\": 0, \"ticks\": \"\"}}, \"type\": \"scattermapbox\"}], \"scatterpolar\": [{\"marker\": {\"colorbar\": {\"outlinewidth\": 0, \"ticks\": \"\"}}, \"type\": \"scatterpolar\"}], \"scatterpolargl\": [{\"marker\": {\"colorbar\": {\"outlinewidth\": 0, \"ticks\": \"\"}}, \"type\": \"scatterpolargl\"}], \"scatterternary\": [{\"marker\": {\"colorbar\": {\"outlinewidth\": 0, \"ticks\": \"\"}}, \"type\": \"scatterternary\"}], \"surface\": [{\"colorbar\": {\"outlinewidth\": 0, \"ticks\": \"\"}, \"colorscale\": [[0.0, \"#0d0887\"], [0.1111111111111111, \"#46039f\"], [0.2222222222222222, \"#7201a8\"], [0.3333333333333333, \"#9c179e\"], [0.4444444444444444, \"#bd3786\"], [0.5555555555555556, \"#d8576b\"], [0.6666666666666666, \"#ed7953\"], [0.7777777777777778, \"#fb9f3a\"], [0.8888888888888888, \"#fdca26\"], [1.0, \"#f0f921\"]], \"type\": \"surface\"}], \"table\": [{\"cells\": {\"fill\": {\"color\": \"#EBF0F8\"}, \"line\": {\"color\": \"white\"}}, \"header\": {\"fill\": {\"color\": \"#C8D4E3\"}, \"line\": {\"color\": \"white\"}}, \"type\": \"table\"}]}, \"layout\": {\"annotationdefaults\": {\"arrowcolor\": \"#2a3f5f\", \"arrowhead\": 0, \"arrowwidth\": 1}, \"autotypenumbers\": \"strict\", \"coloraxis\": {\"colorbar\": {\"outlinewidth\": 0, \"ticks\": \"\"}}, \"colorscale\": {\"diverging\": [[0, \"#8e0152\"], [0.1, \"#c51b7d\"], [0.2, \"#de77ae\"], [0.3, \"#f1b6da\"], [0.4, \"#fde0ef\"], [0.5, \"#f7f7f7\"], [0.6, \"#e6f5d0\"], [0.7, \"#b8e186\"], [0.8, \"#7fbc41\"], [0.9, \"#4d9221\"], [1, \"#276419\"]], \"sequential\": [[0.0, \"#0d0887\"], [0.1111111111111111, \"#46039f\"], [0.2222222222222222, \"#7201a8\"], [0.3333333333333333, \"#9c179e\"], [0.4444444444444444, \"#bd3786\"], [0.5555555555555556, \"#d8576b\"], [0.6666666666666666, \"#ed7953\"], [0.7777777777777778, \"#fb9f3a\"], [0.8888888888888888, \"#fdca26\"], [1.0, \"#f0f921\"]], \"sequentialminus\": [[0.0, \"#0d0887\"], [0.1111111111111111, \"#46039f\"], [0.2222222222222222, \"#7201a8\"], [0.3333333333333333, \"#9c179e\"], [0.4444444444444444, \"#bd3786\"], [0.5555555555555556, \"#d8576b\"], [0.6666666666666666, \"#ed7953\"], [0.7777777777777778, \"#fb9f3a\"], [0.8888888888888888, \"#fdca26\"], [1.0, \"#f0f921\"]]}, \"colorway\": [\"#636efa\", \"#EF553B\", \"#00cc96\", \"#ab63fa\", \"#FFA15A\", \"#19d3f3\", \"#FF6692\", \"#B6E880\", \"#FF97FF\", \"#FECB52\"], \"font\": {\"color\": \"#2a3f5f\"}, \"geo\": {\"bgcolor\": \"white\", \"lakecolor\": \"white\", \"landcolor\": \"#E5ECF6\", \"showlakes\": true, \"showland\": true, \"subunitcolor\": \"white\"}, \"hoverlabel\": {\"align\": \"left\"}, \"hovermode\": \"closest\", \"mapbox\": {\"style\": \"light\"}, \"paper_bgcolor\": \"white\", \"plot_bgcolor\": \"#E5ECF6\", \"polar\": {\"angularaxis\": {\"gridcolor\": \"white\", \"linecolor\": \"white\", \"ticks\": \"\"}, \"bgcolor\": \"#E5ECF6\", \"radialaxis\": {\"gridcolor\": \"white\", \"linecolor\": \"white\", \"ticks\": \"\"}}, \"scene\": {\"xaxis\": {\"backgroundcolor\": \"#E5ECF6\", \"gridcolor\": \"white\", \"gridwidth\": 2, \"linecolor\": \"white\", \"showbackground\": true, \"ticks\": \"\", \"zerolinecolor\": \"white\"}, \"yaxis\": {\"backgroundcolor\": \"#E5ECF6\", \"gridcolor\": \"white\", \"gridwidth\": 2, \"linecolor\": \"white\", \"showbackground\": true, \"ticks\": \"\", \"zerolinecolor\": \"white\"}, \"zaxis\": {\"backgroundcolor\": \"#E5ECF6\", \"gridcolor\": \"white\", \"gridwidth\": 2, \"linecolor\": \"white\", \"showbackground\": true, \"ticks\": \"\", \"zerolinecolor\": \"white\"}}, \"shapedefaults\": {\"line\": {\"color\": \"#2a3f5f\"}}, \"ternary\": {\"aaxis\": {\"gridcolor\": \"white\", \"linecolor\": \"white\", \"ticks\": \"\"}, \"baxis\": {\"gridcolor\": \"white\", \"linecolor\": \"white\", \"ticks\": \"\"}, \"bgcolor\": \"#E5ECF6\", \"caxis\": {\"gridcolor\": \"white\", \"linecolor\": \"white\", \"ticks\": \"\"}}, \"title\": {\"x\": 0.05}, \"xaxis\": {\"automargin\": true, \"gridcolor\": \"white\", \"linecolor\": \"white\", \"ticks\": \"\", \"title\": {\"standoff\": 15}, \"zerolinecolor\": \"white\", \"zerolinewidth\": 2}, \"yaxis\": {\"automargin\": true, \"gridcolor\": \"white\", \"linecolor\": \"white\", \"ticks\": \"\", \"title\": {\"standoff\": 15}, \"zerolinecolor\": \"white\", \"zerolinewidth\": 2}}}, \"title\": {\"font\": {\"color\": \"#4D5663\"}}, \"xaxis\": {\"gridcolor\": \"#E1E5ED\", \"showgrid\": true, \"tickfont\": {\"color\": \"#4D5663\"}, \"title\": {\"font\": {\"color\": \"#4D5663\"}, \"text\": \"\"}, \"zerolinecolor\": \"#E1E5ED\"}, \"yaxis\": {\"gridcolor\": \"#E1E5ED\", \"showgrid\": true, \"tickfont\": {\"color\": \"#4D5663\"}, \"title\": {\"font\": {\"color\": \"#4D5663\"}, \"text\": \"\"}, \"zerolinecolor\": \"#E1E5ED\"}},                        {\"showLink\": true, \"linkText\": \"Export to plot.ly\", \"plotlyServerURL\": \"https://plot.ly\", \"responsive\": true}                    ).then(function(){\n",
       "                            \n",
       "var gd = document.getElementById('ccbf519c-71fc-4fd4-a8e4-83ff1df9bb2d');\n",
       "var x = new MutationObserver(function (mutations, observer) {{\n",
       "        var display = window.getComputedStyle(gd).display;\n",
       "        if (!display || display === 'none') {{\n",
       "            console.log([gd, 'removed!']);\n",
       "            Plotly.purge(gd);\n",
       "            observer.disconnect();\n",
       "        }}\n",
       "}});\n",
       "\n",
       "// Listen for the removal of the full notebook cells\n",
       "var notebookContainer = gd.closest('#notebook-container');\n",
       "if (notebookContainer) {{\n",
       "    x.observe(notebookContainer, {childList: true});\n",
       "}}\n",
       "\n",
       "// Listen for the clearing of the current output cell\n",
       "var outputEl = gd.closest('.output');\n",
       "if (outputEl) {{\n",
       "    x.observe(outputEl, {childList: true});\n",
       "}}\n",
       "\n",
       "                        })                };                });            </script>        </div>"
      ]
     },
     "metadata": {},
     "output_type": "display_data"
    }
   ],
   "source": [
    "df.iplot(kind='scatter',x='a',y='b',mode='markers')"
   ]
  },
  {
   "cell_type": "code",
   "execution_count": 20,
   "id": "8f427b36",
   "metadata": {},
   "outputs": [
    {
     "data": {
      "application/vnd.plotly.v1+json": {
       "config": {
        "linkText": "Export to plot.ly",
        "plotlyServerURL": "https://plot.ly",
        "showLink": true
       },
       "data": [
        {
         "marker": {
          "color": "rgba(255, 153, 51, 0.6)",
          "line": {
           "color": "rgba(255, 153, 51, 1.0)",
           "width": 1
          }
         },
         "name": "Values",
         "orientation": "v",
         "text": "",
         "type": "bar",
         "x": [
          "A",
          "B",
          "C"
         ],
         "y": [
          32,
          43,
          50
         ]
        }
       ],
       "layout": {
        "legend": {
         "bgcolor": "#F5F6F9",
         "font": {
          "color": "#4D5663"
         }
        },
        "paper_bgcolor": "#F5F6F9",
        "plot_bgcolor": "#F5F6F9",
        "template": {
         "data": {
          "bar": [
           {
            "error_x": {
             "color": "#2a3f5f"
            },
            "error_y": {
             "color": "#2a3f5f"
            },
            "marker": {
             "line": {
              "color": "#E5ECF6",
              "width": 0.5
             }
            },
            "type": "bar"
           }
          ],
          "barpolar": [
           {
            "marker": {
             "line": {
              "color": "#E5ECF6",
              "width": 0.5
             }
            },
            "type": "barpolar"
           }
          ],
          "carpet": [
           {
            "aaxis": {
             "endlinecolor": "#2a3f5f",
             "gridcolor": "white",
             "linecolor": "white",
             "minorgridcolor": "white",
             "startlinecolor": "#2a3f5f"
            },
            "baxis": {
             "endlinecolor": "#2a3f5f",
             "gridcolor": "white",
             "linecolor": "white",
             "minorgridcolor": "white",
             "startlinecolor": "#2a3f5f"
            },
            "type": "carpet"
           }
          ],
          "choropleth": [
           {
            "colorbar": {
             "outlinewidth": 0,
             "ticks": ""
            },
            "type": "choropleth"
           }
          ],
          "contour": [
           {
            "colorbar": {
             "outlinewidth": 0,
             "ticks": ""
            },
            "colorscale": [
             [
              0,
              "#0d0887"
             ],
             [
              0.1111111111111111,
              "#46039f"
             ],
             [
              0.2222222222222222,
              "#7201a8"
             ],
             [
              0.3333333333333333,
              "#9c179e"
             ],
             [
              0.4444444444444444,
              "#bd3786"
             ],
             [
              0.5555555555555556,
              "#d8576b"
             ],
             [
              0.6666666666666666,
              "#ed7953"
             ],
             [
              0.7777777777777778,
              "#fb9f3a"
             ],
             [
              0.8888888888888888,
              "#fdca26"
             ],
             [
              1,
              "#f0f921"
             ]
            ],
            "type": "contour"
           }
          ],
          "contourcarpet": [
           {
            "colorbar": {
             "outlinewidth": 0,
             "ticks": ""
            },
            "type": "contourcarpet"
           }
          ],
          "heatmap": [
           {
            "colorbar": {
             "outlinewidth": 0,
             "ticks": ""
            },
            "colorscale": [
             [
              0,
              "#0d0887"
             ],
             [
              0.1111111111111111,
              "#46039f"
             ],
             [
              0.2222222222222222,
              "#7201a8"
             ],
             [
              0.3333333333333333,
              "#9c179e"
             ],
             [
              0.4444444444444444,
              "#bd3786"
             ],
             [
              0.5555555555555556,
              "#d8576b"
             ],
             [
              0.6666666666666666,
              "#ed7953"
             ],
             [
              0.7777777777777778,
              "#fb9f3a"
             ],
             [
              0.8888888888888888,
              "#fdca26"
             ],
             [
              1,
              "#f0f921"
             ]
            ],
            "type": "heatmap"
           }
          ],
          "heatmapgl": [
           {
            "colorbar": {
             "outlinewidth": 0,
             "ticks": ""
            },
            "colorscale": [
             [
              0,
              "#0d0887"
             ],
             [
              0.1111111111111111,
              "#46039f"
             ],
             [
              0.2222222222222222,
              "#7201a8"
             ],
             [
              0.3333333333333333,
              "#9c179e"
             ],
             [
              0.4444444444444444,
              "#bd3786"
             ],
             [
              0.5555555555555556,
              "#d8576b"
             ],
             [
              0.6666666666666666,
              "#ed7953"
             ],
             [
              0.7777777777777778,
              "#fb9f3a"
             ],
             [
              0.8888888888888888,
              "#fdca26"
             ],
             [
              1,
              "#f0f921"
             ]
            ],
            "type": "heatmapgl"
           }
          ],
          "histogram": [
           {
            "marker": {
             "colorbar": {
              "outlinewidth": 0,
              "ticks": ""
             }
            },
            "type": "histogram"
           }
          ],
          "histogram2d": [
           {
            "colorbar": {
             "outlinewidth": 0,
             "ticks": ""
            },
            "colorscale": [
             [
              0,
              "#0d0887"
             ],
             [
              0.1111111111111111,
              "#46039f"
             ],
             [
              0.2222222222222222,
              "#7201a8"
             ],
             [
              0.3333333333333333,
              "#9c179e"
             ],
             [
              0.4444444444444444,
              "#bd3786"
             ],
             [
              0.5555555555555556,
              "#d8576b"
             ],
             [
              0.6666666666666666,
              "#ed7953"
             ],
             [
              0.7777777777777778,
              "#fb9f3a"
             ],
             [
              0.8888888888888888,
              "#fdca26"
             ],
             [
              1,
              "#f0f921"
             ]
            ],
            "type": "histogram2d"
           }
          ],
          "histogram2dcontour": [
           {
            "colorbar": {
             "outlinewidth": 0,
             "ticks": ""
            },
            "colorscale": [
             [
              0,
              "#0d0887"
             ],
             [
              0.1111111111111111,
              "#46039f"
             ],
             [
              0.2222222222222222,
              "#7201a8"
             ],
             [
              0.3333333333333333,
              "#9c179e"
             ],
             [
              0.4444444444444444,
              "#bd3786"
             ],
             [
              0.5555555555555556,
              "#d8576b"
             ],
             [
              0.6666666666666666,
              "#ed7953"
             ],
             [
              0.7777777777777778,
              "#fb9f3a"
             ],
             [
              0.8888888888888888,
              "#fdca26"
             ],
             [
              1,
              "#f0f921"
             ]
            ],
            "type": "histogram2dcontour"
           }
          ],
          "mesh3d": [
           {
            "colorbar": {
             "outlinewidth": 0,
             "ticks": ""
            },
            "type": "mesh3d"
           }
          ],
          "parcoords": [
           {
            "line": {
             "colorbar": {
              "outlinewidth": 0,
              "ticks": ""
             }
            },
            "type": "parcoords"
           }
          ],
          "pie": [
           {
            "automargin": true,
            "type": "pie"
           }
          ],
          "scatter": [
           {
            "marker": {
             "colorbar": {
              "outlinewidth": 0,
              "ticks": ""
             }
            },
            "type": "scatter"
           }
          ],
          "scatter3d": [
           {
            "line": {
             "colorbar": {
              "outlinewidth": 0,
              "ticks": ""
             }
            },
            "marker": {
             "colorbar": {
              "outlinewidth": 0,
              "ticks": ""
             }
            },
            "type": "scatter3d"
           }
          ],
          "scattercarpet": [
           {
            "marker": {
             "colorbar": {
              "outlinewidth": 0,
              "ticks": ""
             }
            },
            "type": "scattercarpet"
           }
          ],
          "scattergeo": [
           {
            "marker": {
             "colorbar": {
              "outlinewidth": 0,
              "ticks": ""
             }
            },
            "type": "scattergeo"
           }
          ],
          "scattergl": [
           {
            "marker": {
             "colorbar": {
              "outlinewidth": 0,
              "ticks": ""
             }
            },
            "type": "scattergl"
           }
          ],
          "scattermapbox": [
           {
            "marker": {
             "colorbar": {
              "outlinewidth": 0,
              "ticks": ""
             }
            },
            "type": "scattermapbox"
           }
          ],
          "scatterpolar": [
           {
            "marker": {
             "colorbar": {
              "outlinewidth": 0,
              "ticks": ""
             }
            },
            "type": "scatterpolar"
           }
          ],
          "scatterpolargl": [
           {
            "marker": {
             "colorbar": {
              "outlinewidth": 0,
              "ticks": ""
             }
            },
            "type": "scatterpolargl"
           }
          ],
          "scatterternary": [
           {
            "marker": {
             "colorbar": {
              "outlinewidth": 0,
              "ticks": ""
             }
            },
            "type": "scatterternary"
           }
          ],
          "surface": [
           {
            "colorbar": {
             "outlinewidth": 0,
             "ticks": ""
            },
            "colorscale": [
             [
              0,
              "#0d0887"
             ],
             [
              0.1111111111111111,
              "#46039f"
             ],
             [
              0.2222222222222222,
              "#7201a8"
             ],
             [
              0.3333333333333333,
              "#9c179e"
             ],
             [
              0.4444444444444444,
              "#bd3786"
             ],
             [
              0.5555555555555556,
              "#d8576b"
             ],
             [
              0.6666666666666666,
              "#ed7953"
             ],
             [
              0.7777777777777778,
              "#fb9f3a"
             ],
             [
              0.8888888888888888,
              "#fdca26"
             ],
             [
              1,
              "#f0f921"
             ]
            ],
            "type": "surface"
           }
          ],
          "table": [
           {
            "cells": {
             "fill": {
              "color": "#EBF0F8"
             },
             "line": {
              "color": "white"
             }
            },
            "header": {
             "fill": {
              "color": "#C8D4E3"
             },
             "line": {
              "color": "white"
             }
            },
            "type": "table"
           }
          ]
         },
         "layout": {
          "annotationdefaults": {
           "arrowcolor": "#2a3f5f",
           "arrowhead": 0,
           "arrowwidth": 1
          },
          "autotypenumbers": "strict",
          "coloraxis": {
           "colorbar": {
            "outlinewidth": 0,
            "ticks": ""
           }
          },
          "colorscale": {
           "diverging": [
            [
             0,
             "#8e0152"
            ],
            [
             0.1,
             "#c51b7d"
            ],
            [
             0.2,
             "#de77ae"
            ],
            [
             0.3,
             "#f1b6da"
            ],
            [
             0.4,
             "#fde0ef"
            ],
            [
             0.5,
             "#f7f7f7"
            ],
            [
             0.6,
             "#e6f5d0"
            ],
            [
             0.7,
             "#b8e186"
            ],
            [
             0.8,
             "#7fbc41"
            ],
            [
             0.9,
             "#4d9221"
            ],
            [
             1,
             "#276419"
            ]
           ],
           "sequential": [
            [
             0,
             "#0d0887"
            ],
            [
             0.1111111111111111,
             "#46039f"
            ],
            [
             0.2222222222222222,
             "#7201a8"
            ],
            [
             0.3333333333333333,
             "#9c179e"
            ],
            [
             0.4444444444444444,
             "#bd3786"
            ],
            [
             0.5555555555555556,
             "#d8576b"
            ],
            [
             0.6666666666666666,
             "#ed7953"
            ],
            [
             0.7777777777777778,
             "#fb9f3a"
            ],
            [
             0.8888888888888888,
             "#fdca26"
            ],
            [
             1,
             "#f0f921"
            ]
           ],
           "sequentialminus": [
            [
             0,
             "#0d0887"
            ],
            [
             0.1111111111111111,
             "#46039f"
            ],
            [
             0.2222222222222222,
             "#7201a8"
            ],
            [
             0.3333333333333333,
             "#9c179e"
            ],
            [
             0.4444444444444444,
             "#bd3786"
            ],
            [
             0.5555555555555556,
             "#d8576b"
            ],
            [
             0.6666666666666666,
             "#ed7953"
            ],
            [
             0.7777777777777778,
             "#fb9f3a"
            ],
            [
             0.8888888888888888,
             "#fdca26"
            ],
            [
             1,
             "#f0f921"
            ]
           ]
          },
          "colorway": [
           "#636efa",
           "#EF553B",
           "#00cc96",
           "#ab63fa",
           "#FFA15A",
           "#19d3f3",
           "#FF6692",
           "#B6E880",
           "#FF97FF",
           "#FECB52"
          ],
          "font": {
           "color": "#2a3f5f"
          },
          "geo": {
           "bgcolor": "white",
           "lakecolor": "white",
           "landcolor": "#E5ECF6",
           "showlakes": true,
           "showland": true,
           "subunitcolor": "white"
          },
          "hoverlabel": {
           "align": "left"
          },
          "hovermode": "closest",
          "mapbox": {
           "style": "light"
          },
          "paper_bgcolor": "white",
          "plot_bgcolor": "#E5ECF6",
          "polar": {
           "angularaxis": {
            "gridcolor": "white",
            "linecolor": "white",
            "ticks": ""
           },
           "bgcolor": "#E5ECF6",
           "radialaxis": {
            "gridcolor": "white",
            "linecolor": "white",
            "ticks": ""
           }
          },
          "scene": {
           "xaxis": {
            "backgroundcolor": "#E5ECF6",
            "gridcolor": "white",
            "gridwidth": 2,
            "linecolor": "white",
            "showbackground": true,
            "ticks": "",
            "zerolinecolor": "white"
           },
           "yaxis": {
            "backgroundcolor": "#E5ECF6",
            "gridcolor": "white",
            "gridwidth": 2,
            "linecolor": "white",
            "showbackground": true,
            "ticks": "",
            "zerolinecolor": "white"
           },
           "zaxis": {
            "backgroundcolor": "#E5ECF6",
            "gridcolor": "white",
            "gridwidth": 2,
            "linecolor": "white",
            "showbackground": true,
            "ticks": "",
            "zerolinecolor": "white"
           }
          },
          "shapedefaults": {
           "line": {
            "color": "#2a3f5f"
           }
          },
          "ternary": {
           "aaxis": {
            "gridcolor": "white",
            "linecolor": "white",
            "ticks": ""
           },
           "baxis": {
            "gridcolor": "white",
            "linecolor": "white",
            "ticks": ""
           },
           "bgcolor": "#E5ECF6",
           "caxis": {
            "gridcolor": "white",
            "linecolor": "white",
            "ticks": ""
           }
          },
          "title": {
           "x": 0.05
          },
          "xaxis": {
           "automargin": true,
           "gridcolor": "white",
           "linecolor": "white",
           "ticks": "",
           "title": {
            "standoff": 15
           },
           "zerolinecolor": "white",
           "zerolinewidth": 2
          },
          "yaxis": {
           "automargin": true,
           "gridcolor": "white",
           "linecolor": "white",
           "ticks": "",
           "title": {
            "standoff": 15
           },
           "zerolinecolor": "white",
           "zerolinewidth": 2
          }
         }
        },
        "title": {
         "font": {
          "color": "#4D5663"
         }
        },
        "xaxis": {
         "gridcolor": "#E1E5ED",
         "showgrid": true,
         "tickfont": {
          "color": "#4D5663"
         },
         "title": {
          "font": {
           "color": "#4D5663"
          },
          "text": ""
         },
         "zerolinecolor": "#E1E5ED"
        },
        "yaxis": {
         "gridcolor": "#E1E5ED",
         "showgrid": true,
         "tickfont": {
          "color": "#4D5663"
         },
         "title": {
          "font": {
           "color": "#4D5663"
          },
          "text": ""
         },
         "zerolinecolor": "#E1E5ED"
        }
       }
      },
      "text/html": [
       "<div>                            <div id=\"308d4935-9dea-4d5b-b9ac-4b24b9c733bc\" class=\"plotly-graph-div\" style=\"height:525px; width:100%;\"></div>            <script type=\"text/javascript\">                require([\"plotly\"], function(Plotly) {                    window.PLOTLYENV=window.PLOTLYENV || {};\n",
       "                    window.PLOTLYENV.BASE_URL='https://plot.ly';                                    if (document.getElementById(\"308d4935-9dea-4d5b-b9ac-4b24b9c733bc\")) {                    Plotly.newPlot(                        \"308d4935-9dea-4d5b-b9ac-4b24b9c733bc\",                        [{\"marker\": {\"color\": \"rgba(255, 153, 51, 0.6)\", \"line\": {\"color\": \"rgba(255, 153, 51, 1.0)\", \"width\": 1}}, \"name\": \"Values\", \"orientation\": \"v\", \"text\": \"\", \"type\": \"bar\", \"x\": [\"A\", \"B\", \"C\"], \"y\": [32, 43, 50]}],                        {\"legend\": {\"bgcolor\": \"#F5F6F9\", \"font\": {\"color\": \"#4D5663\"}}, \"paper_bgcolor\": \"#F5F6F9\", \"plot_bgcolor\": \"#F5F6F9\", \"template\": {\"data\": {\"bar\": [{\"error_x\": {\"color\": \"#2a3f5f\"}, \"error_y\": {\"color\": \"#2a3f5f\"}, \"marker\": {\"line\": {\"color\": \"#E5ECF6\", \"width\": 0.5}}, \"type\": \"bar\"}], \"barpolar\": [{\"marker\": {\"line\": {\"color\": \"#E5ECF6\", \"width\": 0.5}}, \"type\": \"barpolar\"}], \"carpet\": [{\"aaxis\": {\"endlinecolor\": \"#2a3f5f\", \"gridcolor\": \"white\", \"linecolor\": \"white\", \"minorgridcolor\": \"white\", \"startlinecolor\": \"#2a3f5f\"}, \"baxis\": {\"endlinecolor\": \"#2a3f5f\", \"gridcolor\": \"white\", \"linecolor\": \"white\", \"minorgridcolor\": \"white\", \"startlinecolor\": \"#2a3f5f\"}, \"type\": \"carpet\"}], \"choropleth\": [{\"colorbar\": {\"outlinewidth\": 0, \"ticks\": \"\"}, \"type\": \"choropleth\"}], \"contour\": [{\"colorbar\": {\"outlinewidth\": 0, \"ticks\": \"\"}, \"colorscale\": [[0.0, \"#0d0887\"], [0.1111111111111111, \"#46039f\"], [0.2222222222222222, \"#7201a8\"], [0.3333333333333333, \"#9c179e\"], [0.4444444444444444, \"#bd3786\"], [0.5555555555555556, \"#d8576b\"], [0.6666666666666666, \"#ed7953\"], [0.7777777777777778, \"#fb9f3a\"], [0.8888888888888888, \"#fdca26\"], [1.0, \"#f0f921\"]], \"type\": \"contour\"}], \"contourcarpet\": [{\"colorbar\": {\"outlinewidth\": 0, \"ticks\": \"\"}, \"type\": \"contourcarpet\"}], \"heatmap\": [{\"colorbar\": {\"outlinewidth\": 0, \"ticks\": \"\"}, \"colorscale\": [[0.0, \"#0d0887\"], [0.1111111111111111, \"#46039f\"], [0.2222222222222222, \"#7201a8\"], [0.3333333333333333, \"#9c179e\"], [0.4444444444444444, \"#bd3786\"], [0.5555555555555556, \"#d8576b\"], [0.6666666666666666, \"#ed7953\"], [0.7777777777777778, \"#fb9f3a\"], [0.8888888888888888, \"#fdca26\"], [1.0, \"#f0f921\"]], \"type\": \"heatmap\"}], \"heatmapgl\": [{\"colorbar\": {\"outlinewidth\": 0, \"ticks\": \"\"}, \"colorscale\": [[0.0, \"#0d0887\"], [0.1111111111111111, \"#46039f\"], [0.2222222222222222, \"#7201a8\"], [0.3333333333333333, \"#9c179e\"], [0.4444444444444444, \"#bd3786\"], [0.5555555555555556, \"#d8576b\"], [0.6666666666666666, \"#ed7953\"], [0.7777777777777778, \"#fb9f3a\"], [0.8888888888888888, \"#fdca26\"], [1.0, \"#f0f921\"]], \"type\": \"heatmapgl\"}], \"histogram\": [{\"marker\": {\"colorbar\": {\"outlinewidth\": 0, \"ticks\": \"\"}}, \"type\": \"histogram\"}], \"histogram2d\": [{\"colorbar\": {\"outlinewidth\": 0, \"ticks\": \"\"}, \"colorscale\": [[0.0, \"#0d0887\"], [0.1111111111111111, \"#46039f\"], [0.2222222222222222, \"#7201a8\"], [0.3333333333333333, \"#9c179e\"], [0.4444444444444444, \"#bd3786\"], [0.5555555555555556, \"#d8576b\"], [0.6666666666666666, \"#ed7953\"], [0.7777777777777778, \"#fb9f3a\"], [0.8888888888888888, \"#fdca26\"], [1.0, \"#f0f921\"]], \"type\": \"histogram2d\"}], \"histogram2dcontour\": [{\"colorbar\": {\"outlinewidth\": 0, \"ticks\": \"\"}, \"colorscale\": [[0.0, \"#0d0887\"], [0.1111111111111111, \"#46039f\"], [0.2222222222222222, \"#7201a8\"], [0.3333333333333333, \"#9c179e\"], [0.4444444444444444, \"#bd3786\"], [0.5555555555555556, \"#d8576b\"], [0.6666666666666666, \"#ed7953\"], [0.7777777777777778, \"#fb9f3a\"], [0.8888888888888888, \"#fdca26\"], [1.0, \"#f0f921\"]], \"type\": \"histogram2dcontour\"}], \"mesh3d\": [{\"colorbar\": {\"outlinewidth\": 0, \"ticks\": \"\"}, \"type\": \"mesh3d\"}], \"parcoords\": [{\"line\": {\"colorbar\": {\"outlinewidth\": 0, \"ticks\": \"\"}}, \"type\": \"parcoords\"}], \"pie\": [{\"automargin\": true, \"type\": \"pie\"}], \"scatter\": [{\"marker\": {\"colorbar\": {\"outlinewidth\": 0, \"ticks\": \"\"}}, \"type\": \"scatter\"}], \"scatter3d\": [{\"line\": {\"colorbar\": {\"outlinewidth\": 0, \"ticks\": \"\"}}, \"marker\": {\"colorbar\": {\"outlinewidth\": 0, \"ticks\": \"\"}}, \"type\": \"scatter3d\"}], \"scattercarpet\": [{\"marker\": {\"colorbar\": {\"outlinewidth\": 0, \"ticks\": \"\"}}, \"type\": \"scattercarpet\"}], \"scattergeo\": [{\"marker\": {\"colorbar\": {\"outlinewidth\": 0, \"ticks\": \"\"}}, \"type\": \"scattergeo\"}], \"scattergl\": [{\"marker\": {\"colorbar\": {\"outlinewidth\": 0, \"ticks\": \"\"}}, \"type\": \"scattergl\"}], \"scattermapbox\": [{\"marker\": {\"colorbar\": {\"outlinewidth\": 0, \"ticks\": \"\"}}, \"type\": \"scattermapbox\"}], \"scatterpolar\": [{\"marker\": {\"colorbar\": {\"outlinewidth\": 0, \"ticks\": \"\"}}, \"type\": \"scatterpolar\"}], \"scatterpolargl\": [{\"marker\": {\"colorbar\": {\"outlinewidth\": 0, \"ticks\": \"\"}}, \"type\": \"scatterpolargl\"}], \"scatterternary\": [{\"marker\": {\"colorbar\": {\"outlinewidth\": 0, \"ticks\": \"\"}}, \"type\": \"scatterternary\"}], \"surface\": [{\"colorbar\": {\"outlinewidth\": 0, \"ticks\": \"\"}, \"colorscale\": [[0.0, \"#0d0887\"], [0.1111111111111111, \"#46039f\"], [0.2222222222222222, \"#7201a8\"], [0.3333333333333333, \"#9c179e\"], [0.4444444444444444, \"#bd3786\"], [0.5555555555555556, \"#d8576b\"], [0.6666666666666666, \"#ed7953\"], [0.7777777777777778, \"#fb9f3a\"], [0.8888888888888888, \"#fdca26\"], [1.0, \"#f0f921\"]], \"type\": \"surface\"}], \"table\": [{\"cells\": {\"fill\": {\"color\": \"#EBF0F8\"}, \"line\": {\"color\": \"white\"}}, \"header\": {\"fill\": {\"color\": \"#C8D4E3\"}, \"line\": {\"color\": \"white\"}}, \"type\": \"table\"}]}, \"layout\": {\"annotationdefaults\": {\"arrowcolor\": \"#2a3f5f\", \"arrowhead\": 0, \"arrowwidth\": 1}, \"autotypenumbers\": \"strict\", \"coloraxis\": {\"colorbar\": {\"outlinewidth\": 0, \"ticks\": \"\"}}, \"colorscale\": {\"diverging\": [[0, \"#8e0152\"], [0.1, \"#c51b7d\"], [0.2, \"#de77ae\"], [0.3, \"#f1b6da\"], [0.4, \"#fde0ef\"], [0.5, \"#f7f7f7\"], [0.6, \"#e6f5d0\"], [0.7, \"#b8e186\"], [0.8, \"#7fbc41\"], [0.9, \"#4d9221\"], [1, \"#276419\"]], \"sequential\": [[0.0, \"#0d0887\"], [0.1111111111111111, \"#46039f\"], [0.2222222222222222, \"#7201a8\"], [0.3333333333333333, \"#9c179e\"], [0.4444444444444444, \"#bd3786\"], [0.5555555555555556, \"#d8576b\"], [0.6666666666666666, \"#ed7953\"], [0.7777777777777778, \"#fb9f3a\"], [0.8888888888888888, \"#fdca26\"], [1.0, \"#f0f921\"]], \"sequentialminus\": [[0.0, \"#0d0887\"], [0.1111111111111111, \"#46039f\"], [0.2222222222222222, \"#7201a8\"], [0.3333333333333333, \"#9c179e\"], [0.4444444444444444, \"#bd3786\"], [0.5555555555555556, \"#d8576b\"], [0.6666666666666666, \"#ed7953\"], [0.7777777777777778, \"#fb9f3a\"], [0.8888888888888888, \"#fdca26\"], [1.0, \"#f0f921\"]]}, \"colorway\": [\"#636efa\", \"#EF553B\", \"#00cc96\", \"#ab63fa\", \"#FFA15A\", \"#19d3f3\", \"#FF6692\", \"#B6E880\", \"#FF97FF\", \"#FECB52\"], \"font\": {\"color\": \"#2a3f5f\"}, \"geo\": {\"bgcolor\": \"white\", \"lakecolor\": \"white\", \"landcolor\": \"#E5ECF6\", \"showlakes\": true, \"showland\": true, \"subunitcolor\": \"white\"}, \"hoverlabel\": {\"align\": \"left\"}, \"hovermode\": \"closest\", \"mapbox\": {\"style\": \"light\"}, \"paper_bgcolor\": \"white\", \"plot_bgcolor\": \"#E5ECF6\", \"polar\": {\"angularaxis\": {\"gridcolor\": \"white\", \"linecolor\": \"white\", \"ticks\": \"\"}, \"bgcolor\": \"#E5ECF6\", \"radialaxis\": {\"gridcolor\": \"white\", \"linecolor\": \"white\", \"ticks\": \"\"}}, \"scene\": {\"xaxis\": {\"backgroundcolor\": \"#E5ECF6\", \"gridcolor\": \"white\", \"gridwidth\": 2, \"linecolor\": \"white\", \"showbackground\": true, \"ticks\": \"\", \"zerolinecolor\": \"white\"}, \"yaxis\": {\"backgroundcolor\": \"#E5ECF6\", \"gridcolor\": \"white\", \"gridwidth\": 2, \"linecolor\": \"white\", \"showbackground\": true, \"ticks\": \"\", \"zerolinecolor\": \"white\"}, \"zaxis\": {\"backgroundcolor\": \"#E5ECF6\", \"gridcolor\": \"white\", \"gridwidth\": 2, \"linecolor\": \"white\", \"showbackground\": true, \"ticks\": \"\", \"zerolinecolor\": \"white\"}}, \"shapedefaults\": {\"line\": {\"color\": \"#2a3f5f\"}}, \"ternary\": {\"aaxis\": {\"gridcolor\": \"white\", \"linecolor\": \"white\", \"ticks\": \"\"}, \"baxis\": {\"gridcolor\": \"white\", \"linecolor\": \"white\", \"ticks\": \"\"}, \"bgcolor\": \"#E5ECF6\", \"caxis\": {\"gridcolor\": \"white\", \"linecolor\": \"white\", \"ticks\": \"\"}}, \"title\": {\"x\": 0.05}, \"xaxis\": {\"automargin\": true, \"gridcolor\": \"white\", \"linecolor\": \"white\", \"ticks\": \"\", \"title\": {\"standoff\": 15}, \"zerolinecolor\": \"white\", \"zerolinewidth\": 2}, \"yaxis\": {\"automargin\": true, \"gridcolor\": \"white\", \"linecolor\": \"white\", \"ticks\": \"\", \"title\": {\"standoff\": 15}, \"zerolinecolor\": \"white\", \"zerolinewidth\": 2}}}, \"title\": {\"font\": {\"color\": \"#4D5663\"}}, \"xaxis\": {\"gridcolor\": \"#E1E5ED\", \"showgrid\": true, \"tickfont\": {\"color\": \"#4D5663\"}, \"title\": {\"font\": {\"color\": \"#4D5663\"}, \"text\": \"\"}, \"zerolinecolor\": \"#E1E5ED\"}, \"yaxis\": {\"gridcolor\": \"#E1E5ED\", \"showgrid\": true, \"tickfont\": {\"color\": \"#4D5663\"}, \"title\": {\"font\": {\"color\": \"#4D5663\"}, \"text\": \"\"}, \"zerolinecolor\": \"#E1E5ED\"}},                        {\"showLink\": true, \"linkText\": \"Export to plot.ly\", \"plotlyServerURL\": \"https://plot.ly\", \"responsive\": true}                    ).then(function(){\n",
       "                            \n",
       "var gd = document.getElementById('308d4935-9dea-4d5b-b9ac-4b24b9c733bc');\n",
       "var x = new MutationObserver(function (mutations, observer) {{\n",
       "        var display = window.getComputedStyle(gd).display;\n",
       "        if (!display || display === 'none') {{\n",
       "            console.log([gd, 'removed!']);\n",
       "            Plotly.purge(gd);\n",
       "            observer.disconnect();\n",
       "        }}\n",
       "}});\n",
       "\n",
       "// Listen for the removal of the full notebook cells\n",
       "var notebookContainer = gd.closest('#notebook-container');\n",
       "if (notebookContainer) {{\n",
       "    x.observe(notebookContainer, {childList: true});\n",
       "}}\n",
       "\n",
       "// Listen for the clearing of the current output cell\n",
       "var outputEl = gd.closest('.output');\n",
       "if (outputEl) {{\n",
       "    x.observe(outputEl, {childList: true});\n",
       "}}\n",
       "\n",
       "                        })                };                });            </script>        </div>"
      ]
     },
     "metadata": {},
     "output_type": "display_data"
    }
   ],
   "source": [
    "df2.iplot(kind='bar',x='Category',y='Values')"
   ]
  },
  {
   "cell_type": "code",
   "execution_count": 21,
   "id": "9230e98f",
   "metadata": {},
   "outputs": [
    {
     "data": {
      "application/vnd.plotly.v1+json": {
       "config": {
        "linkText": "Export to plot.ly",
        "plotlyServerURL": "https://plot.ly",
        "showLink": true
       },
       "data": [
        {
         "marker": {
          "color": "rgba(255, 153, 51, 0.6)",
          "line": {
           "color": "rgba(255, 153, 51, 1.0)",
           "width": 1
          }
         },
         "name": "None",
         "orientation": "v",
         "text": "",
         "type": "bar",
         "x": [
          "a",
          "b",
          "c",
          "d"
         ],
         "y": [
          2.6999271583852296,
          -14.4027824775672,
          -2.0579901802559375,
          -3.3316920547128497
         ]
        }
       ],
       "layout": {
        "legend": {
         "bgcolor": "#F5F6F9",
         "font": {
          "color": "#4D5663"
         }
        },
        "paper_bgcolor": "#F5F6F9",
        "plot_bgcolor": "#F5F6F9",
        "template": {
         "data": {
          "bar": [
           {
            "error_x": {
             "color": "#2a3f5f"
            },
            "error_y": {
             "color": "#2a3f5f"
            },
            "marker": {
             "line": {
              "color": "#E5ECF6",
              "width": 0.5
             }
            },
            "type": "bar"
           }
          ],
          "barpolar": [
           {
            "marker": {
             "line": {
              "color": "#E5ECF6",
              "width": 0.5
             }
            },
            "type": "barpolar"
           }
          ],
          "carpet": [
           {
            "aaxis": {
             "endlinecolor": "#2a3f5f",
             "gridcolor": "white",
             "linecolor": "white",
             "minorgridcolor": "white",
             "startlinecolor": "#2a3f5f"
            },
            "baxis": {
             "endlinecolor": "#2a3f5f",
             "gridcolor": "white",
             "linecolor": "white",
             "minorgridcolor": "white",
             "startlinecolor": "#2a3f5f"
            },
            "type": "carpet"
           }
          ],
          "choropleth": [
           {
            "colorbar": {
             "outlinewidth": 0,
             "ticks": ""
            },
            "type": "choropleth"
           }
          ],
          "contour": [
           {
            "colorbar": {
             "outlinewidth": 0,
             "ticks": ""
            },
            "colorscale": [
             [
              0,
              "#0d0887"
             ],
             [
              0.1111111111111111,
              "#46039f"
             ],
             [
              0.2222222222222222,
              "#7201a8"
             ],
             [
              0.3333333333333333,
              "#9c179e"
             ],
             [
              0.4444444444444444,
              "#bd3786"
             ],
             [
              0.5555555555555556,
              "#d8576b"
             ],
             [
              0.6666666666666666,
              "#ed7953"
             ],
             [
              0.7777777777777778,
              "#fb9f3a"
             ],
             [
              0.8888888888888888,
              "#fdca26"
             ],
             [
              1,
              "#f0f921"
             ]
            ],
            "type": "contour"
           }
          ],
          "contourcarpet": [
           {
            "colorbar": {
             "outlinewidth": 0,
             "ticks": ""
            },
            "type": "contourcarpet"
           }
          ],
          "heatmap": [
           {
            "colorbar": {
             "outlinewidth": 0,
             "ticks": ""
            },
            "colorscale": [
             [
              0,
              "#0d0887"
             ],
             [
              0.1111111111111111,
              "#46039f"
             ],
             [
              0.2222222222222222,
              "#7201a8"
             ],
             [
              0.3333333333333333,
              "#9c179e"
             ],
             [
              0.4444444444444444,
              "#bd3786"
             ],
             [
              0.5555555555555556,
              "#d8576b"
             ],
             [
              0.6666666666666666,
              "#ed7953"
             ],
             [
              0.7777777777777778,
              "#fb9f3a"
             ],
             [
              0.8888888888888888,
              "#fdca26"
             ],
             [
              1,
              "#f0f921"
             ]
            ],
            "type": "heatmap"
           }
          ],
          "heatmapgl": [
           {
            "colorbar": {
             "outlinewidth": 0,
             "ticks": ""
            },
            "colorscale": [
             [
              0,
              "#0d0887"
             ],
             [
              0.1111111111111111,
              "#46039f"
             ],
             [
              0.2222222222222222,
              "#7201a8"
             ],
             [
              0.3333333333333333,
              "#9c179e"
             ],
             [
              0.4444444444444444,
              "#bd3786"
             ],
             [
              0.5555555555555556,
              "#d8576b"
             ],
             [
              0.6666666666666666,
              "#ed7953"
             ],
             [
              0.7777777777777778,
              "#fb9f3a"
             ],
             [
              0.8888888888888888,
              "#fdca26"
             ],
             [
              1,
              "#f0f921"
             ]
            ],
            "type": "heatmapgl"
           }
          ],
          "histogram": [
           {
            "marker": {
             "colorbar": {
              "outlinewidth": 0,
              "ticks": ""
             }
            },
            "type": "histogram"
           }
          ],
          "histogram2d": [
           {
            "colorbar": {
             "outlinewidth": 0,
             "ticks": ""
            },
            "colorscale": [
             [
              0,
              "#0d0887"
             ],
             [
              0.1111111111111111,
              "#46039f"
             ],
             [
              0.2222222222222222,
              "#7201a8"
             ],
             [
              0.3333333333333333,
              "#9c179e"
             ],
             [
              0.4444444444444444,
              "#bd3786"
             ],
             [
              0.5555555555555556,
              "#d8576b"
             ],
             [
              0.6666666666666666,
              "#ed7953"
             ],
             [
              0.7777777777777778,
              "#fb9f3a"
             ],
             [
              0.8888888888888888,
              "#fdca26"
             ],
             [
              1,
              "#f0f921"
             ]
            ],
            "type": "histogram2d"
           }
          ],
          "histogram2dcontour": [
           {
            "colorbar": {
             "outlinewidth": 0,
             "ticks": ""
            },
            "colorscale": [
             [
              0,
              "#0d0887"
             ],
             [
              0.1111111111111111,
              "#46039f"
             ],
             [
              0.2222222222222222,
              "#7201a8"
             ],
             [
              0.3333333333333333,
              "#9c179e"
             ],
             [
              0.4444444444444444,
              "#bd3786"
             ],
             [
              0.5555555555555556,
              "#d8576b"
             ],
             [
              0.6666666666666666,
              "#ed7953"
             ],
             [
              0.7777777777777778,
              "#fb9f3a"
             ],
             [
              0.8888888888888888,
              "#fdca26"
             ],
             [
              1,
              "#f0f921"
             ]
            ],
            "type": "histogram2dcontour"
           }
          ],
          "mesh3d": [
           {
            "colorbar": {
             "outlinewidth": 0,
             "ticks": ""
            },
            "type": "mesh3d"
           }
          ],
          "parcoords": [
           {
            "line": {
             "colorbar": {
              "outlinewidth": 0,
              "ticks": ""
             }
            },
            "type": "parcoords"
           }
          ],
          "pie": [
           {
            "automargin": true,
            "type": "pie"
           }
          ],
          "scatter": [
           {
            "marker": {
             "colorbar": {
              "outlinewidth": 0,
              "ticks": ""
             }
            },
            "type": "scatter"
           }
          ],
          "scatter3d": [
           {
            "line": {
             "colorbar": {
              "outlinewidth": 0,
              "ticks": ""
             }
            },
            "marker": {
             "colorbar": {
              "outlinewidth": 0,
              "ticks": ""
             }
            },
            "type": "scatter3d"
           }
          ],
          "scattercarpet": [
           {
            "marker": {
             "colorbar": {
              "outlinewidth": 0,
              "ticks": ""
             }
            },
            "type": "scattercarpet"
           }
          ],
          "scattergeo": [
           {
            "marker": {
             "colorbar": {
              "outlinewidth": 0,
              "ticks": ""
             }
            },
            "type": "scattergeo"
           }
          ],
          "scattergl": [
           {
            "marker": {
             "colorbar": {
              "outlinewidth": 0,
              "ticks": ""
             }
            },
            "type": "scattergl"
           }
          ],
          "scattermapbox": [
           {
            "marker": {
             "colorbar": {
              "outlinewidth": 0,
              "ticks": ""
             }
            },
            "type": "scattermapbox"
           }
          ],
          "scatterpolar": [
           {
            "marker": {
             "colorbar": {
              "outlinewidth": 0,
              "ticks": ""
             }
            },
            "type": "scatterpolar"
           }
          ],
          "scatterpolargl": [
           {
            "marker": {
             "colorbar": {
              "outlinewidth": 0,
              "ticks": ""
             }
            },
            "type": "scatterpolargl"
           }
          ],
          "scatterternary": [
           {
            "marker": {
             "colorbar": {
              "outlinewidth": 0,
              "ticks": ""
             }
            },
            "type": "scatterternary"
           }
          ],
          "surface": [
           {
            "colorbar": {
             "outlinewidth": 0,
             "ticks": ""
            },
            "colorscale": [
             [
              0,
              "#0d0887"
             ],
             [
              0.1111111111111111,
              "#46039f"
             ],
             [
              0.2222222222222222,
              "#7201a8"
             ],
             [
              0.3333333333333333,
              "#9c179e"
             ],
             [
              0.4444444444444444,
              "#bd3786"
             ],
             [
              0.5555555555555556,
              "#d8576b"
             ],
             [
              0.6666666666666666,
              "#ed7953"
             ],
             [
              0.7777777777777778,
              "#fb9f3a"
             ],
             [
              0.8888888888888888,
              "#fdca26"
             ],
             [
              1,
              "#f0f921"
             ]
            ],
            "type": "surface"
           }
          ],
          "table": [
           {
            "cells": {
             "fill": {
              "color": "#EBF0F8"
             },
             "line": {
              "color": "white"
             }
            },
            "header": {
             "fill": {
              "color": "#C8D4E3"
             },
             "line": {
              "color": "white"
             }
            },
            "type": "table"
           }
          ]
         },
         "layout": {
          "annotationdefaults": {
           "arrowcolor": "#2a3f5f",
           "arrowhead": 0,
           "arrowwidth": 1
          },
          "autotypenumbers": "strict",
          "coloraxis": {
           "colorbar": {
            "outlinewidth": 0,
            "ticks": ""
           }
          },
          "colorscale": {
           "diverging": [
            [
             0,
             "#8e0152"
            ],
            [
             0.1,
             "#c51b7d"
            ],
            [
             0.2,
             "#de77ae"
            ],
            [
             0.3,
             "#f1b6da"
            ],
            [
             0.4,
             "#fde0ef"
            ],
            [
             0.5,
             "#f7f7f7"
            ],
            [
             0.6,
             "#e6f5d0"
            ],
            [
             0.7,
             "#b8e186"
            ],
            [
             0.8,
             "#7fbc41"
            ],
            [
             0.9,
             "#4d9221"
            ],
            [
             1,
             "#276419"
            ]
           ],
           "sequential": [
            [
             0,
             "#0d0887"
            ],
            [
             0.1111111111111111,
             "#46039f"
            ],
            [
             0.2222222222222222,
             "#7201a8"
            ],
            [
             0.3333333333333333,
             "#9c179e"
            ],
            [
             0.4444444444444444,
             "#bd3786"
            ],
            [
             0.5555555555555556,
             "#d8576b"
            ],
            [
             0.6666666666666666,
             "#ed7953"
            ],
            [
             0.7777777777777778,
             "#fb9f3a"
            ],
            [
             0.8888888888888888,
             "#fdca26"
            ],
            [
             1,
             "#f0f921"
            ]
           ],
           "sequentialminus": [
            [
             0,
             "#0d0887"
            ],
            [
             0.1111111111111111,
             "#46039f"
            ],
            [
             0.2222222222222222,
             "#7201a8"
            ],
            [
             0.3333333333333333,
             "#9c179e"
            ],
            [
             0.4444444444444444,
             "#bd3786"
            ],
            [
             0.5555555555555556,
             "#d8576b"
            ],
            [
             0.6666666666666666,
             "#ed7953"
            ],
            [
             0.7777777777777778,
             "#fb9f3a"
            ],
            [
             0.8888888888888888,
             "#fdca26"
            ],
            [
             1,
             "#f0f921"
            ]
           ]
          },
          "colorway": [
           "#636efa",
           "#EF553B",
           "#00cc96",
           "#ab63fa",
           "#FFA15A",
           "#19d3f3",
           "#FF6692",
           "#B6E880",
           "#FF97FF",
           "#FECB52"
          ],
          "font": {
           "color": "#2a3f5f"
          },
          "geo": {
           "bgcolor": "white",
           "lakecolor": "white",
           "landcolor": "#E5ECF6",
           "showlakes": true,
           "showland": true,
           "subunitcolor": "white"
          },
          "hoverlabel": {
           "align": "left"
          },
          "hovermode": "closest",
          "mapbox": {
           "style": "light"
          },
          "paper_bgcolor": "white",
          "plot_bgcolor": "#E5ECF6",
          "polar": {
           "angularaxis": {
            "gridcolor": "white",
            "linecolor": "white",
            "ticks": ""
           },
           "bgcolor": "#E5ECF6",
           "radialaxis": {
            "gridcolor": "white",
            "linecolor": "white",
            "ticks": ""
           }
          },
          "scene": {
           "xaxis": {
            "backgroundcolor": "#E5ECF6",
            "gridcolor": "white",
            "gridwidth": 2,
            "linecolor": "white",
            "showbackground": true,
            "ticks": "",
            "zerolinecolor": "white"
           },
           "yaxis": {
            "backgroundcolor": "#E5ECF6",
            "gridcolor": "white",
            "gridwidth": 2,
            "linecolor": "white",
            "showbackground": true,
            "ticks": "",
            "zerolinecolor": "white"
           },
           "zaxis": {
            "backgroundcolor": "#E5ECF6",
            "gridcolor": "white",
            "gridwidth": 2,
            "linecolor": "white",
            "showbackground": true,
            "ticks": "",
            "zerolinecolor": "white"
           }
          },
          "shapedefaults": {
           "line": {
            "color": "#2a3f5f"
           }
          },
          "ternary": {
           "aaxis": {
            "gridcolor": "white",
            "linecolor": "white",
            "ticks": ""
           },
           "baxis": {
            "gridcolor": "white",
            "linecolor": "white",
            "ticks": ""
           },
           "bgcolor": "#E5ECF6",
           "caxis": {
            "gridcolor": "white",
            "linecolor": "white",
            "ticks": ""
           }
          },
          "title": {
           "x": 0.05
          },
          "xaxis": {
           "automargin": true,
           "gridcolor": "white",
           "linecolor": "white",
           "ticks": "",
           "title": {
            "standoff": 15
           },
           "zerolinecolor": "white",
           "zerolinewidth": 2
          },
          "yaxis": {
           "automargin": true,
           "gridcolor": "white",
           "linecolor": "white",
           "ticks": "",
           "title": {
            "standoff": 15
           },
           "zerolinecolor": "white",
           "zerolinewidth": 2
          }
         }
        },
        "title": {
         "font": {
          "color": "#4D5663"
         }
        },
        "xaxis": {
         "gridcolor": "#E1E5ED",
         "showgrid": true,
         "tickfont": {
          "color": "#4D5663"
         },
         "title": {
          "font": {
           "color": "#4D5663"
          },
          "text": ""
         },
         "zerolinecolor": "#E1E5ED"
        },
        "yaxis": {
         "gridcolor": "#E1E5ED",
         "showgrid": true,
         "tickfont": {
          "color": "#4D5663"
         },
         "title": {
          "font": {
           "color": "#4D5663"
          },
          "text": ""
         },
         "zerolinecolor": "#E1E5ED"
        }
       }
      },
      "text/html": [
       "<div>                            <div id=\"a79de490-5705-4678-8308-f90243f46357\" class=\"plotly-graph-div\" style=\"height:525px; width:100%;\"></div>            <script type=\"text/javascript\">                require([\"plotly\"], function(Plotly) {                    window.PLOTLYENV=window.PLOTLYENV || {};\n",
       "                    window.PLOTLYENV.BASE_URL='https://plot.ly';                                    if (document.getElementById(\"a79de490-5705-4678-8308-f90243f46357\")) {                    Plotly.newPlot(                        \"a79de490-5705-4678-8308-f90243f46357\",                        [{\"marker\": {\"color\": \"rgba(255, 153, 51, 0.6)\", \"line\": {\"color\": \"rgba(255, 153, 51, 1.0)\", \"width\": 1}}, \"name\": \"None\", \"orientation\": \"v\", \"text\": \"\", \"type\": \"bar\", \"x\": [\"a\", \"b\", \"c\", \"d\"], \"y\": [2.6999271583852296, -14.4027824775672, -2.0579901802559375, -3.3316920547128497]}],                        {\"legend\": {\"bgcolor\": \"#F5F6F9\", \"font\": {\"color\": \"#4D5663\"}}, \"paper_bgcolor\": \"#F5F6F9\", \"plot_bgcolor\": \"#F5F6F9\", \"template\": {\"data\": {\"bar\": [{\"error_x\": {\"color\": \"#2a3f5f\"}, \"error_y\": {\"color\": \"#2a3f5f\"}, \"marker\": {\"line\": {\"color\": \"#E5ECF6\", \"width\": 0.5}}, \"type\": \"bar\"}], \"barpolar\": [{\"marker\": {\"line\": {\"color\": \"#E5ECF6\", \"width\": 0.5}}, \"type\": \"barpolar\"}], \"carpet\": [{\"aaxis\": {\"endlinecolor\": \"#2a3f5f\", \"gridcolor\": \"white\", \"linecolor\": \"white\", \"minorgridcolor\": \"white\", \"startlinecolor\": \"#2a3f5f\"}, \"baxis\": {\"endlinecolor\": \"#2a3f5f\", \"gridcolor\": \"white\", \"linecolor\": \"white\", \"minorgridcolor\": \"white\", \"startlinecolor\": \"#2a3f5f\"}, \"type\": \"carpet\"}], \"choropleth\": [{\"colorbar\": {\"outlinewidth\": 0, \"ticks\": \"\"}, \"type\": \"choropleth\"}], \"contour\": [{\"colorbar\": {\"outlinewidth\": 0, \"ticks\": \"\"}, \"colorscale\": [[0.0, \"#0d0887\"], [0.1111111111111111, \"#46039f\"], [0.2222222222222222, \"#7201a8\"], [0.3333333333333333, \"#9c179e\"], [0.4444444444444444, \"#bd3786\"], [0.5555555555555556, \"#d8576b\"], [0.6666666666666666, \"#ed7953\"], [0.7777777777777778, \"#fb9f3a\"], [0.8888888888888888, \"#fdca26\"], [1.0, \"#f0f921\"]], \"type\": \"contour\"}], \"contourcarpet\": [{\"colorbar\": {\"outlinewidth\": 0, \"ticks\": \"\"}, \"type\": \"contourcarpet\"}], \"heatmap\": [{\"colorbar\": {\"outlinewidth\": 0, \"ticks\": \"\"}, \"colorscale\": [[0.0, \"#0d0887\"], [0.1111111111111111, \"#46039f\"], [0.2222222222222222, \"#7201a8\"], [0.3333333333333333, \"#9c179e\"], [0.4444444444444444, \"#bd3786\"], [0.5555555555555556, \"#d8576b\"], [0.6666666666666666, \"#ed7953\"], [0.7777777777777778, \"#fb9f3a\"], [0.8888888888888888, \"#fdca26\"], [1.0, \"#f0f921\"]], \"type\": \"heatmap\"}], \"heatmapgl\": [{\"colorbar\": {\"outlinewidth\": 0, \"ticks\": \"\"}, \"colorscale\": [[0.0, \"#0d0887\"], [0.1111111111111111, \"#46039f\"], [0.2222222222222222, \"#7201a8\"], [0.3333333333333333, \"#9c179e\"], [0.4444444444444444, \"#bd3786\"], [0.5555555555555556, \"#d8576b\"], [0.6666666666666666, \"#ed7953\"], [0.7777777777777778, \"#fb9f3a\"], [0.8888888888888888, \"#fdca26\"], [1.0, \"#f0f921\"]], \"type\": \"heatmapgl\"}], \"histogram\": [{\"marker\": {\"colorbar\": {\"outlinewidth\": 0, \"ticks\": \"\"}}, \"type\": \"histogram\"}], \"histogram2d\": [{\"colorbar\": {\"outlinewidth\": 0, \"ticks\": \"\"}, \"colorscale\": [[0.0, \"#0d0887\"], [0.1111111111111111, \"#46039f\"], [0.2222222222222222, \"#7201a8\"], [0.3333333333333333, \"#9c179e\"], [0.4444444444444444, \"#bd3786\"], [0.5555555555555556, \"#d8576b\"], [0.6666666666666666, \"#ed7953\"], [0.7777777777777778, \"#fb9f3a\"], [0.8888888888888888, \"#fdca26\"], [1.0, \"#f0f921\"]], \"type\": \"histogram2d\"}], \"histogram2dcontour\": [{\"colorbar\": {\"outlinewidth\": 0, \"ticks\": \"\"}, \"colorscale\": [[0.0, \"#0d0887\"], [0.1111111111111111, \"#46039f\"], [0.2222222222222222, \"#7201a8\"], [0.3333333333333333, \"#9c179e\"], [0.4444444444444444, \"#bd3786\"], [0.5555555555555556, \"#d8576b\"], [0.6666666666666666, \"#ed7953\"], [0.7777777777777778, \"#fb9f3a\"], [0.8888888888888888, \"#fdca26\"], [1.0, \"#f0f921\"]], \"type\": \"histogram2dcontour\"}], \"mesh3d\": [{\"colorbar\": {\"outlinewidth\": 0, \"ticks\": \"\"}, \"type\": \"mesh3d\"}], \"parcoords\": [{\"line\": {\"colorbar\": {\"outlinewidth\": 0, \"ticks\": \"\"}}, \"type\": \"parcoords\"}], \"pie\": [{\"automargin\": true, \"type\": \"pie\"}], \"scatter\": [{\"marker\": {\"colorbar\": {\"outlinewidth\": 0, \"ticks\": \"\"}}, \"type\": \"scatter\"}], \"scatter3d\": [{\"line\": {\"colorbar\": {\"outlinewidth\": 0, \"ticks\": \"\"}}, \"marker\": {\"colorbar\": {\"outlinewidth\": 0, \"ticks\": \"\"}}, \"type\": \"scatter3d\"}], \"scattercarpet\": [{\"marker\": {\"colorbar\": {\"outlinewidth\": 0, \"ticks\": \"\"}}, \"type\": \"scattercarpet\"}], \"scattergeo\": [{\"marker\": {\"colorbar\": {\"outlinewidth\": 0, \"ticks\": \"\"}}, \"type\": \"scattergeo\"}], \"scattergl\": [{\"marker\": {\"colorbar\": {\"outlinewidth\": 0, \"ticks\": \"\"}}, \"type\": \"scattergl\"}], \"scattermapbox\": [{\"marker\": {\"colorbar\": {\"outlinewidth\": 0, \"ticks\": \"\"}}, \"type\": \"scattermapbox\"}], \"scatterpolar\": [{\"marker\": {\"colorbar\": {\"outlinewidth\": 0, \"ticks\": \"\"}}, \"type\": \"scatterpolar\"}], \"scatterpolargl\": [{\"marker\": {\"colorbar\": {\"outlinewidth\": 0, \"ticks\": \"\"}}, \"type\": \"scatterpolargl\"}], \"scatterternary\": [{\"marker\": {\"colorbar\": {\"outlinewidth\": 0, \"ticks\": \"\"}}, \"type\": \"scatterternary\"}], \"surface\": [{\"colorbar\": {\"outlinewidth\": 0, \"ticks\": \"\"}, \"colorscale\": [[0.0, \"#0d0887\"], [0.1111111111111111, \"#46039f\"], [0.2222222222222222, \"#7201a8\"], [0.3333333333333333, \"#9c179e\"], [0.4444444444444444, \"#bd3786\"], [0.5555555555555556, \"#d8576b\"], [0.6666666666666666, \"#ed7953\"], [0.7777777777777778, \"#fb9f3a\"], [0.8888888888888888, \"#fdca26\"], [1.0, \"#f0f921\"]], \"type\": \"surface\"}], \"table\": [{\"cells\": {\"fill\": {\"color\": \"#EBF0F8\"}, \"line\": {\"color\": \"white\"}}, \"header\": {\"fill\": {\"color\": \"#C8D4E3\"}, \"line\": {\"color\": \"white\"}}, \"type\": \"table\"}]}, \"layout\": {\"annotationdefaults\": {\"arrowcolor\": \"#2a3f5f\", \"arrowhead\": 0, \"arrowwidth\": 1}, \"autotypenumbers\": \"strict\", \"coloraxis\": {\"colorbar\": {\"outlinewidth\": 0, \"ticks\": \"\"}}, \"colorscale\": {\"diverging\": [[0, \"#8e0152\"], [0.1, \"#c51b7d\"], [0.2, \"#de77ae\"], [0.3, \"#f1b6da\"], [0.4, \"#fde0ef\"], [0.5, \"#f7f7f7\"], [0.6, \"#e6f5d0\"], [0.7, \"#b8e186\"], [0.8, \"#7fbc41\"], [0.9, \"#4d9221\"], [1, \"#276419\"]], \"sequential\": [[0.0, \"#0d0887\"], [0.1111111111111111, \"#46039f\"], [0.2222222222222222, \"#7201a8\"], [0.3333333333333333, \"#9c179e\"], [0.4444444444444444, \"#bd3786\"], [0.5555555555555556, \"#d8576b\"], [0.6666666666666666, \"#ed7953\"], [0.7777777777777778, \"#fb9f3a\"], [0.8888888888888888, \"#fdca26\"], [1.0, \"#f0f921\"]], \"sequentialminus\": [[0.0, \"#0d0887\"], [0.1111111111111111, \"#46039f\"], [0.2222222222222222, \"#7201a8\"], [0.3333333333333333, \"#9c179e\"], [0.4444444444444444, \"#bd3786\"], [0.5555555555555556, \"#d8576b\"], [0.6666666666666666, \"#ed7953\"], [0.7777777777777778, \"#fb9f3a\"], [0.8888888888888888, \"#fdca26\"], [1.0, \"#f0f921\"]]}, \"colorway\": [\"#636efa\", \"#EF553B\", \"#00cc96\", \"#ab63fa\", \"#FFA15A\", \"#19d3f3\", \"#FF6692\", \"#B6E880\", \"#FF97FF\", \"#FECB52\"], \"font\": {\"color\": \"#2a3f5f\"}, \"geo\": {\"bgcolor\": \"white\", \"lakecolor\": \"white\", \"landcolor\": \"#E5ECF6\", \"showlakes\": true, \"showland\": true, \"subunitcolor\": \"white\"}, \"hoverlabel\": {\"align\": \"left\"}, \"hovermode\": \"closest\", \"mapbox\": {\"style\": \"light\"}, \"paper_bgcolor\": \"white\", \"plot_bgcolor\": \"#E5ECF6\", \"polar\": {\"angularaxis\": {\"gridcolor\": \"white\", \"linecolor\": \"white\", \"ticks\": \"\"}, \"bgcolor\": \"#E5ECF6\", \"radialaxis\": {\"gridcolor\": \"white\", \"linecolor\": \"white\", \"ticks\": \"\"}}, \"scene\": {\"xaxis\": {\"backgroundcolor\": \"#E5ECF6\", \"gridcolor\": \"white\", \"gridwidth\": 2, \"linecolor\": \"white\", \"showbackground\": true, \"ticks\": \"\", \"zerolinecolor\": \"white\"}, \"yaxis\": {\"backgroundcolor\": \"#E5ECF6\", \"gridcolor\": \"white\", \"gridwidth\": 2, \"linecolor\": \"white\", \"showbackground\": true, \"ticks\": \"\", \"zerolinecolor\": \"white\"}, \"zaxis\": {\"backgroundcolor\": \"#E5ECF6\", \"gridcolor\": \"white\", \"gridwidth\": 2, \"linecolor\": \"white\", \"showbackground\": true, \"ticks\": \"\", \"zerolinecolor\": \"white\"}}, \"shapedefaults\": {\"line\": {\"color\": \"#2a3f5f\"}}, \"ternary\": {\"aaxis\": {\"gridcolor\": \"white\", \"linecolor\": \"white\", \"ticks\": \"\"}, \"baxis\": {\"gridcolor\": \"white\", \"linecolor\": \"white\", \"ticks\": \"\"}, \"bgcolor\": \"#E5ECF6\", \"caxis\": {\"gridcolor\": \"white\", \"linecolor\": \"white\", \"ticks\": \"\"}}, \"title\": {\"x\": 0.05}, \"xaxis\": {\"automargin\": true, \"gridcolor\": \"white\", \"linecolor\": \"white\", \"ticks\": \"\", \"title\": {\"standoff\": 15}, \"zerolinecolor\": \"white\", \"zerolinewidth\": 2}, \"yaxis\": {\"automargin\": true, \"gridcolor\": \"white\", \"linecolor\": \"white\", \"ticks\": \"\", \"title\": {\"standoff\": 15}, \"zerolinecolor\": \"white\", \"zerolinewidth\": 2}}}, \"title\": {\"font\": {\"color\": \"#4D5663\"}}, \"xaxis\": {\"gridcolor\": \"#E1E5ED\", \"showgrid\": true, \"tickfont\": {\"color\": \"#4D5663\"}, \"title\": {\"font\": {\"color\": \"#4D5663\"}, \"text\": \"\"}, \"zerolinecolor\": \"#E1E5ED\"}, \"yaxis\": {\"gridcolor\": \"#E1E5ED\", \"showgrid\": true, \"tickfont\": {\"color\": \"#4D5663\"}, \"title\": {\"font\": {\"color\": \"#4D5663\"}, \"text\": \"\"}, \"zerolinecolor\": \"#E1E5ED\"}},                        {\"showLink\": true, \"linkText\": \"Export to plot.ly\", \"plotlyServerURL\": \"https://plot.ly\", \"responsive\": true}                    ).then(function(){\n",
       "                            \n",
       "var gd = document.getElementById('a79de490-5705-4678-8308-f90243f46357');\n",
       "var x = new MutationObserver(function (mutations, observer) {{\n",
       "        var display = window.getComputedStyle(gd).display;\n",
       "        if (!display || display === 'none') {{\n",
       "            console.log([gd, 'removed!']);\n",
       "            Plotly.purge(gd);\n",
       "            observer.disconnect();\n",
       "        }}\n",
       "}});\n",
       "\n",
       "// Listen for the removal of the full notebook cells\n",
       "var notebookContainer = gd.closest('#notebook-container');\n",
       "if (notebookContainer) {{\n",
       "    x.observe(notebookContainer, {childList: true});\n",
       "}}\n",
       "\n",
       "// Listen for the clearing of the current output cell\n",
       "var outputEl = gd.closest('.output');\n",
       "if (outputEl) {{\n",
       "    x.observe(outputEl, {childList: true});\n",
       "}}\n",
       "\n",
       "                        })                };                });            </script>        </div>"
      ]
     },
     "metadata": {},
     "output_type": "display_data"
    }
   ],
   "source": [
    "df.sum().iplot(kind='bar')"
   ]
  },
  {
   "cell_type": "code",
   "execution_count": 22,
   "id": "c2309ce1",
   "metadata": {},
   "outputs": [
    {
     "data": {
      "text/html": [
       "<div>\n",
       "<style scoped>\n",
       "    .dataframe tbody tr th:only-of-type {\n",
       "        vertical-align: middle;\n",
       "    }\n",
       "\n",
       "    .dataframe tbody tr th {\n",
       "        vertical-align: top;\n",
       "    }\n",
       "\n",
       "    .dataframe thead th {\n",
       "        text-align: right;\n",
       "    }\n",
       "</style>\n",
       "<table border=\"1\" class=\"dataframe\">\n",
       "  <thead>\n",
       "    <tr style=\"text-align: right;\">\n",
       "      <th></th>\n",
       "      <th>x</th>\n",
       "      <th>y</th>\n",
       "      <th>z</th>\n",
       "    </tr>\n",
       "  </thead>\n",
       "  <tbody>\n",
       "    <tr>\n",
       "      <th>0</th>\n",
       "      <td>1</td>\n",
       "      <td>10</td>\n",
       "      <td>500</td>\n",
       "    </tr>\n",
       "    <tr>\n",
       "      <th>1</th>\n",
       "      <td>2</td>\n",
       "      <td>20</td>\n",
       "      <td>400</td>\n",
       "    </tr>\n",
       "    <tr>\n",
       "      <th>2</th>\n",
       "      <td>3</td>\n",
       "      <td>30</td>\n",
       "      <td>300</td>\n",
       "    </tr>\n",
       "    <tr>\n",
       "      <th>3</th>\n",
       "      <td>4</td>\n",
       "      <td>40</td>\n",
       "      <td>200</td>\n",
       "    </tr>\n",
       "    <tr>\n",
       "      <th>4</th>\n",
       "      <td>5</td>\n",
       "      <td>50</td>\n",
       "      <td>100</td>\n",
       "    </tr>\n",
       "  </tbody>\n",
       "</table>\n",
       "</div>"
      ],
      "text/plain": [
       "   x   y    z\n",
       "0  1  10  500\n",
       "1  2  20  400\n",
       "2  3  30  300\n",
       "3  4  40  200\n",
       "4  5  50  100"
      ]
     },
     "execution_count": 22,
     "metadata": {},
     "output_type": "execute_result"
    }
   ],
   "source": [
    "df3=pd.DataFrame({'x':[1,2,3,4,5],'y':[10,20,30,40,50],'z':[500,400,300,200,100]})\n",
    "df3"
   ]
  },
  {
   "cell_type": "code",
   "execution_count": 23,
   "id": "0af5be29",
   "metadata": {},
   "outputs": [
    {
     "data": {
      "application/vnd.plotly.v1+json": {
       "config": {
        "linkText": "Export to plot.ly",
        "plotlyServerURL": "https://plot.ly",
        "showLink": true
       },
       "data": [
        {
         "colorscale": [
          [
           0,
           "rgb(255, 153, 51)"
          ],
          [
           0.1111111111111111,
           "rgb(55, 128, 191)"
          ],
          [
           0.2222222222222222,
           "rgb(50, 171, 96)"
          ],
          [
           0.3333333333333333,
           "rgb(128, 0, 128)"
          ],
          [
           0.4444444444444444,
           "rgb(219, 64, 82)"
          ],
          [
           0.5555555555555556,
           "rgb(0, 128, 128)"
          ],
          [
           0.6666666666666666,
           "rgb(255, 255, 51)"
          ],
          [
           0.7777777777777778,
           "rgb(128, 128, 0)"
          ],
          [
           0.8888888888888888,
           "rgb(251, 128, 114)"
          ],
          [
           1,
           "rgb(128, 177, 211)"
          ]
         ],
         "type": "surface",
         "x": [
          0,
          1,
          2,
          3,
          4
         ],
         "y": [
          "x",
          "y",
          "z"
         ],
         "z": [
          [
           1,
           2,
           3,
           4,
           5
          ],
          [
           10,
           20,
           30,
           40,
           50
          ],
          [
           500,
           400,
           300,
           200,
           100
          ]
         ]
        }
       ],
       "layout": {
        "legend": {
         "bgcolor": "#F5F6F9",
         "font": {
          "color": "#4D5663"
         }
        },
        "paper_bgcolor": "#F5F6F9",
        "plot_bgcolor": "#F5F6F9",
        "template": {
         "data": {
          "bar": [
           {
            "error_x": {
             "color": "#2a3f5f"
            },
            "error_y": {
             "color": "#2a3f5f"
            },
            "marker": {
             "line": {
              "color": "#E5ECF6",
              "width": 0.5
             }
            },
            "type": "bar"
           }
          ],
          "barpolar": [
           {
            "marker": {
             "line": {
              "color": "#E5ECF6",
              "width": 0.5
             }
            },
            "type": "barpolar"
           }
          ],
          "carpet": [
           {
            "aaxis": {
             "endlinecolor": "#2a3f5f",
             "gridcolor": "white",
             "linecolor": "white",
             "minorgridcolor": "white",
             "startlinecolor": "#2a3f5f"
            },
            "baxis": {
             "endlinecolor": "#2a3f5f",
             "gridcolor": "white",
             "linecolor": "white",
             "minorgridcolor": "white",
             "startlinecolor": "#2a3f5f"
            },
            "type": "carpet"
           }
          ],
          "choropleth": [
           {
            "colorbar": {
             "outlinewidth": 0,
             "ticks": ""
            },
            "type": "choropleth"
           }
          ],
          "contour": [
           {
            "colorbar": {
             "outlinewidth": 0,
             "ticks": ""
            },
            "colorscale": [
             [
              0,
              "#0d0887"
             ],
             [
              0.1111111111111111,
              "#46039f"
             ],
             [
              0.2222222222222222,
              "#7201a8"
             ],
             [
              0.3333333333333333,
              "#9c179e"
             ],
             [
              0.4444444444444444,
              "#bd3786"
             ],
             [
              0.5555555555555556,
              "#d8576b"
             ],
             [
              0.6666666666666666,
              "#ed7953"
             ],
             [
              0.7777777777777778,
              "#fb9f3a"
             ],
             [
              0.8888888888888888,
              "#fdca26"
             ],
             [
              1,
              "#f0f921"
             ]
            ],
            "type": "contour"
           }
          ],
          "contourcarpet": [
           {
            "colorbar": {
             "outlinewidth": 0,
             "ticks": ""
            },
            "type": "contourcarpet"
           }
          ],
          "heatmap": [
           {
            "colorbar": {
             "outlinewidth": 0,
             "ticks": ""
            },
            "colorscale": [
             [
              0,
              "#0d0887"
             ],
             [
              0.1111111111111111,
              "#46039f"
             ],
             [
              0.2222222222222222,
              "#7201a8"
             ],
             [
              0.3333333333333333,
              "#9c179e"
             ],
             [
              0.4444444444444444,
              "#bd3786"
             ],
             [
              0.5555555555555556,
              "#d8576b"
             ],
             [
              0.6666666666666666,
              "#ed7953"
             ],
             [
              0.7777777777777778,
              "#fb9f3a"
             ],
             [
              0.8888888888888888,
              "#fdca26"
             ],
             [
              1,
              "#f0f921"
             ]
            ],
            "type": "heatmap"
           }
          ],
          "heatmapgl": [
           {
            "colorbar": {
             "outlinewidth": 0,
             "ticks": ""
            },
            "colorscale": [
             [
              0,
              "#0d0887"
             ],
             [
              0.1111111111111111,
              "#46039f"
             ],
             [
              0.2222222222222222,
              "#7201a8"
             ],
             [
              0.3333333333333333,
              "#9c179e"
             ],
             [
              0.4444444444444444,
              "#bd3786"
             ],
             [
              0.5555555555555556,
              "#d8576b"
             ],
             [
              0.6666666666666666,
              "#ed7953"
             ],
             [
              0.7777777777777778,
              "#fb9f3a"
             ],
             [
              0.8888888888888888,
              "#fdca26"
             ],
             [
              1,
              "#f0f921"
             ]
            ],
            "type": "heatmapgl"
           }
          ],
          "histogram": [
           {
            "marker": {
             "colorbar": {
              "outlinewidth": 0,
              "ticks": ""
             }
            },
            "type": "histogram"
           }
          ],
          "histogram2d": [
           {
            "colorbar": {
             "outlinewidth": 0,
             "ticks": ""
            },
            "colorscale": [
             [
              0,
              "#0d0887"
             ],
             [
              0.1111111111111111,
              "#46039f"
             ],
             [
              0.2222222222222222,
              "#7201a8"
             ],
             [
              0.3333333333333333,
              "#9c179e"
             ],
             [
              0.4444444444444444,
              "#bd3786"
             ],
             [
              0.5555555555555556,
              "#d8576b"
             ],
             [
              0.6666666666666666,
              "#ed7953"
             ],
             [
              0.7777777777777778,
              "#fb9f3a"
             ],
             [
              0.8888888888888888,
              "#fdca26"
             ],
             [
              1,
              "#f0f921"
             ]
            ],
            "type": "histogram2d"
           }
          ],
          "histogram2dcontour": [
           {
            "colorbar": {
             "outlinewidth": 0,
             "ticks": ""
            },
            "colorscale": [
             [
              0,
              "#0d0887"
             ],
             [
              0.1111111111111111,
              "#46039f"
             ],
             [
              0.2222222222222222,
              "#7201a8"
             ],
             [
              0.3333333333333333,
              "#9c179e"
             ],
             [
              0.4444444444444444,
              "#bd3786"
             ],
             [
              0.5555555555555556,
              "#d8576b"
             ],
             [
              0.6666666666666666,
              "#ed7953"
             ],
             [
              0.7777777777777778,
              "#fb9f3a"
             ],
             [
              0.8888888888888888,
              "#fdca26"
             ],
             [
              1,
              "#f0f921"
             ]
            ],
            "type": "histogram2dcontour"
           }
          ],
          "mesh3d": [
           {
            "colorbar": {
             "outlinewidth": 0,
             "ticks": ""
            },
            "type": "mesh3d"
           }
          ],
          "parcoords": [
           {
            "line": {
             "colorbar": {
              "outlinewidth": 0,
              "ticks": ""
             }
            },
            "type": "parcoords"
           }
          ],
          "pie": [
           {
            "automargin": true,
            "type": "pie"
           }
          ],
          "scatter": [
           {
            "marker": {
             "colorbar": {
              "outlinewidth": 0,
              "ticks": ""
             }
            },
            "type": "scatter"
           }
          ],
          "scatter3d": [
           {
            "line": {
             "colorbar": {
              "outlinewidth": 0,
              "ticks": ""
             }
            },
            "marker": {
             "colorbar": {
              "outlinewidth": 0,
              "ticks": ""
             }
            },
            "type": "scatter3d"
           }
          ],
          "scattercarpet": [
           {
            "marker": {
             "colorbar": {
              "outlinewidth": 0,
              "ticks": ""
             }
            },
            "type": "scattercarpet"
           }
          ],
          "scattergeo": [
           {
            "marker": {
             "colorbar": {
              "outlinewidth": 0,
              "ticks": ""
             }
            },
            "type": "scattergeo"
           }
          ],
          "scattergl": [
           {
            "marker": {
             "colorbar": {
              "outlinewidth": 0,
              "ticks": ""
             }
            },
            "type": "scattergl"
           }
          ],
          "scattermapbox": [
           {
            "marker": {
             "colorbar": {
              "outlinewidth": 0,
              "ticks": ""
             }
            },
            "type": "scattermapbox"
           }
          ],
          "scatterpolar": [
           {
            "marker": {
             "colorbar": {
              "outlinewidth": 0,
              "ticks": ""
             }
            },
            "type": "scatterpolar"
           }
          ],
          "scatterpolargl": [
           {
            "marker": {
             "colorbar": {
              "outlinewidth": 0,
              "ticks": ""
             }
            },
            "type": "scatterpolargl"
           }
          ],
          "scatterternary": [
           {
            "marker": {
             "colorbar": {
              "outlinewidth": 0,
              "ticks": ""
             }
            },
            "type": "scatterternary"
           }
          ],
          "surface": [
           {
            "colorbar": {
             "outlinewidth": 0,
             "ticks": ""
            },
            "colorscale": [
             [
              0,
              "#0d0887"
             ],
             [
              0.1111111111111111,
              "#46039f"
             ],
             [
              0.2222222222222222,
              "#7201a8"
             ],
             [
              0.3333333333333333,
              "#9c179e"
             ],
             [
              0.4444444444444444,
              "#bd3786"
             ],
             [
              0.5555555555555556,
              "#d8576b"
             ],
             [
              0.6666666666666666,
              "#ed7953"
             ],
             [
              0.7777777777777778,
              "#fb9f3a"
             ],
             [
              0.8888888888888888,
              "#fdca26"
             ],
             [
              1,
              "#f0f921"
             ]
            ],
            "type": "surface"
           }
          ],
          "table": [
           {
            "cells": {
             "fill": {
              "color": "#EBF0F8"
             },
             "line": {
              "color": "white"
             }
            },
            "header": {
             "fill": {
              "color": "#C8D4E3"
             },
             "line": {
              "color": "white"
             }
            },
            "type": "table"
           }
          ]
         },
         "layout": {
          "annotationdefaults": {
           "arrowcolor": "#2a3f5f",
           "arrowhead": 0,
           "arrowwidth": 1
          },
          "autotypenumbers": "strict",
          "coloraxis": {
           "colorbar": {
            "outlinewidth": 0,
            "ticks": ""
           }
          },
          "colorscale": {
           "diverging": [
            [
             0,
             "#8e0152"
            ],
            [
             0.1,
             "#c51b7d"
            ],
            [
             0.2,
             "#de77ae"
            ],
            [
             0.3,
             "#f1b6da"
            ],
            [
             0.4,
             "#fde0ef"
            ],
            [
             0.5,
             "#f7f7f7"
            ],
            [
             0.6,
             "#e6f5d0"
            ],
            [
             0.7,
             "#b8e186"
            ],
            [
             0.8,
             "#7fbc41"
            ],
            [
             0.9,
             "#4d9221"
            ],
            [
             1,
             "#276419"
            ]
           ],
           "sequential": [
            [
             0,
             "#0d0887"
            ],
            [
             0.1111111111111111,
             "#46039f"
            ],
            [
             0.2222222222222222,
             "#7201a8"
            ],
            [
             0.3333333333333333,
             "#9c179e"
            ],
            [
             0.4444444444444444,
             "#bd3786"
            ],
            [
             0.5555555555555556,
             "#d8576b"
            ],
            [
             0.6666666666666666,
             "#ed7953"
            ],
            [
             0.7777777777777778,
             "#fb9f3a"
            ],
            [
             0.8888888888888888,
             "#fdca26"
            ],
            [
             1,
             "#f0f921"
            ]
           ],
           "sequentialminus": [
            [
             0,
             "#0d0887"
            ],
            [
             0.1111111111111111,
             "#46039f"
            ],
            [
             0.2222222222222222,
             "#7201a8"
            ],
            [
             0.3333333333333333,
             "#9c179e"
            ],
            [
             0.4444444444444444,
             "#bd3786"
            ],
            [
             0.5555555555555556,
             "#d8576b"
            ],
            [
             0.6666666666666666,
             "#ed7953"
            ],
            [
             0.7777777777777778,
             "#fb9f3a"
            ],
            [
             0.8888888888888888,
             "#fdca26"
            ],
            [
             1,
             "#f0f921"
            ]
           ]
          },
          "colorway": [
           "#636efa",
           "#EF553B",
           "#00cc96",
           "#ab63fa",
           "#FFA15A",
           "#19d3f3",
           "#FF6692",
           "#B6E880",
           "#FF97FF",
           "#FECB52"
          ],
          "font": {
           "color": "#2a3f5f"
          },
          "geo": {
           "bgcolor": "white",
           "lakecolor": "white",
           "landcolor": "#E5ECF6",
           "showlakes": true,
           "showland": true,
           "subunitcolor": "white"
          },
          "hoverlabel": {
           "align": "left"
          },
          "hovermode": "closest",
          "mapbox": {
           "style": "light"
          },
          "paper_bgcolor": "white",
          "plot_bgcolor": "#E5ECF6",
          "polar": {
           "angularaxis": {
            "gridcolor": "white",
            "linecolor": "white",
            "ticks": ""
           },
           "bgcolor": "#E5ECF6",
           "radialaxis": {
            "gridcolor": "white",
            "linecolor": "white",
            "ticks": ""
           }
          },
          "scene": {
           "xaxis": {
            "backgroundcolor": "#E5ECF6",
            "gridcolor": "white",
            "gridwidth": 2,
            "linecolor": "white",
            "showbackground": true,
            "ticks": "",
            "zerolinecolor": "white"
           },
           "yaxis": {
            "backgroundcolor": "#E5ECF6",
            "gridcolor": "white",
            "gridwidth": 2,
            "linecolor": "white",
            "showbackground": true,
            "ticks": "",
            "zerolinecolor": "white"
           },
           "zaxis": {
            "backgroundcolor": "#E5ECF6",
            "gridcolor": "white",
            "gridwidth": 2,
            "linecolor": "white",
            "showbackground": true,
            "ticks": "",
            "zerolinecolor": "white"
           }
          },
          "shapedefaults": {
           "line": {
            "color": "#2a3f5f"
           }
          },
          "ternary": {
           "aaxis": {
            "gridcolor": "white",
            "linecolor": "white",
            "ticks": ""
           },
           "baxis": {
            "gridcolor": "white",
            "linecolor": "white",
            "ticks": ""
           },
           "bgcolor": "#E5ECF6",
           "caxis": {
            "gridcolor": "white",
            "linecolor": "white",
            "ticks": ""
           }
          },
          "title": {
           "x": 0.05
          },
          "xaxis": {
           "automargin": true,
           "gridcolor": "white",
           "linecolor": "white",
           "ticks": "",
           "title": {
            "standoff": 15
           },
           "zerolinecolor": "white",
           "zerolinewidth": 2
          },
          "yaxis": {
           "automargin": true,
           "gridcolor": "white",
           "linecolor": "white",
           "ticks": "",
           "title": {
            "standoff": 15
           },
           "zerolinecolor": "white",
           "zerolinewidth": 2
          }
         }
        },
        "title": {
         "font": {
          "color": "#4D5663"
         }
        },
        "xaxis": {
         "gridcolor": "#E1E5ED",
         "showgrid": true,
         "tickfont": {
          "color": "#4D5663"
         },
         "title": {
          "font": {
           "color": "#4D5663"
          },
          "text": ""
         },
         "zerolinecolor": "#E1E5ED"
        },
        "yaxis": {
         "gridcolor": "#E1E5ED",
         "showgrid": true,
         "tickfont": {
          "color": "#4D5663"
         },
         "title": {
          "font": {
           "color": "#4D5663"
          },
          "text": ""
         },
         "zerolinecolor": "#E1E5ED"
        }
       }
      },
      "text/html": [
       "<div>                            <div id=\"3f9011a0-d13a-4ad5-843c-342b70c2157b\" class=\"plotly-graph-div\" style=\"height:525px; width:100%;\"></div>            <script type=\"text/javascript\">                require([\"plotly\"], function(Plotly) {                    window.PLOTLYENV=window.PLOTLYENV || {};\n",
       "                    window.PLOTLYENV.BASE_URL='https://plot.ly';                                    if (document.getElementById(\"3f9011a0-d13a-4ad5-843c-342b70c2157b\")) {                    Plotly.newPlot(                        \"3f9011a0-d13a-4ad5-843c-342b70c2157b\",                        [{\"colorscale\": [[0.0, \"rgb(255, 153, 51)\"], [0.1111111111111111, \"rgb(55, 128, 191)\"], [0.2222222222222222, \"rgb(50, 171, 96)\"], [0.3333333333333333, \"rgb(128, 0, 128)\"], [0.4444444444444444, \"rgb(219, 64, 82)\"], [0.5555555555555556, \"rgb(0, 128, 128)\"], [0.6666666666666666, \"rgb(255, 255, 51)\"], [0.7777777777777778, \"rgb(128, 128, 0)\"], [0.8888888888888888, \"rgb(251, 128, 114)\"], [1.0, \"rgb(128, 177, 211)\"]], \"type\": \"surface\", \"x\": [0, 1, 2, 3, 4], \"y\": [\"x\", \"y\", \"z\"], \"z\": [[1, 2, 3, 4, 5], [10, 20, 30, 40, 50], [500, 400, 300, 200, 100]]}],                        {\"legend\": {\"bgcolor\": \"#F5F6F9\", \"font\": {\"color\": \"#4D5663\"}}, \"paper_bgcolor\": \"#F5F6F9\", \"plot_bgcolor\": \"#F5F6F9\", \"template\": {\"data\": {\"bar\": [{\"error_x\": {\"color\": \"#2a3f5f\"}, \"error_y\": {\"color\": \"#2a3f5f\"}, \"marker\": {\"line\": {\"color\": \"#E5ECF6\", \"width\": 0.5}}, \"type\": \"bar\"}], \"barpolar\": [{\"marker\": {\"line\": {\"color\": \"#E5ECF6\", \"width\": 0.5}}, \"type\": \"barpolar\"}], \"carpet\": [{\"aaxis\": {\"endlinecolor\": \"#2a3f5f\", \"gridcolor\": \"white\", \"linecolor\": \"white\", \"minorgridcolor\": \"white\", \"startlinecolor\": \"#2a3f5f\"}, \"baxis\": {\"endlinecolor\": \"#2a3f5f\", \"gridcolor\": \"white\", \"linecolor\": \"white\", \"minorgridcolor\": \"white\", \"startlinecolor\": \"#2a3f5f\"}, \"type\": \"carpet\"}], \"choropleth\": [{\"colorbar\": {\"outlinewidth\": 0, \"ticks\": \"\"}, \"type\": \"choropleth\"}], \"contour\": [{\"colorbar\": {\"outlinewidth\": 0, \"ticks\": \"\"}, \"colorscale\": [[0.0, \"#0d0887\"], [0.1111111111111111, \"#46039f\"], [0.2222222222222222, \"#7201a8\"], [0.3333333333333333, \"#9c179e\"], [0.4444444444444444, \"#bd3786\"], [0.5555555555555556, \"#d8576b\"], [0.6666666666666666, \"#ed7953\"], [0.7777777777777778, \"#fb9f3a\"], [0.8888888888888888, \"#fdca26\"], [1.0, \"#f0f921\"]], \"type\": \"contour\"}], \"contourcarpet\": [{\"colorbar\": {\"outlinewidth\": 0, \"ticks\": \"\"}, \"type\": \"contourcarpet\"}], \"heatmap\": [{\"colorbar\": {\"outlinewidth\": 0, \"ticks\": \"\"}, \"colorscale\": [[0.0, \"#0d0887\"], [0.1111111111111111, \"#46039f\"], [0.2222222222222222, \"#7201a8\"], [0.3333333333333333, \"#9c179e\"], [0.4444444444444444, \"#bd3786\"], [0.5555555555555556, \"#d8576b\"], [0.6666666666666666, \"#ed7953\"], [0.7777777777777778, \"#fb9f3a\"], [0.8888888888888888, \"#fdca26\"], [1.0, \"#f0f921\"]], \"type\": \"heatmap\"}], \"heatmapgl\": [{\"colorbar\": {\"outlinewidth\": 0, \"ticks\": \"\"}, \"colorscale\": [[0.0, \"#0d0887\"], [0.1111111111111111, \"#46039f\"], [0.2222222222222222, \"#7201a8\"], [0.3333333333333333, \"#9c179e\"], [0.4444444444444444, \"#bd3786\"], [0.5555555555555556, \"#d8576b\"], [0.6666666666666666, \"#ed7953\"], [0.7777777777777778, \"#fb9f3a\"], [0.8888888888888888, \"#fdca26\"], [1.0, \"#f0f921\"]], \"type\": \"heatmapgl\"}], \"histogram\": [{\"marker\": {\"colorbar\": {\"outlinewidth\": 0, \"ticks\": \"\"}}, \"type\": \"histogram\"}], \"histogram2d\": [{\"colorbar\": {\"outlinewidth\": 0, \"ticks\": \"\"}, \"colorscale\": [[0.0, \"#0d0887\"], [0.1111111111111111, \"#46039f\"], [0.2222222222222222, \"#7201a8\"], [0.3333333333333333, \"#9c179e\"], [0.4444444444444444, \"#bd3786\"], [0.5555555555555556, \"#d8576b\"], [0.6666666666666666, \"#ed7953\"], [0.7777777777777778, \"#fb9f3a\"], [0.8888888888888888, \"#fdca26\"], [1.0, \"#f0f921\"]], \"type\": \"histogram2d\"}], \"histogram2dcontour\": [{\"colorbar\": {\"outlinewidth\": 0, \"ticks\": \"\"}, \"colorscale\": [[0.0, \"#0d0887\"], [0.1111111111111111, \"#46039f\"], [0.2222222222222222, \"#7201a8\"], [0.3333333333333333, \"#9c179e\"], [0.4444444444444444, \"#bd3786\"], [0.5555555555555556, \"#d8576b\"], [0.6666666666666666, \"#ed7953\"], [0.7777777777777778, \"#fb9f3a\"], [0.8888888888888888, \"#fdca26\"], [1.0, \"#f0f921\"]], \"type\": \"histogram2dcontour\"}], \"mesh3d\": [{\"colorbar\": {\"outlinewidth\": 0, \"ticks\": \"\"}, \"type\": \"mesh3d\"}], \"parcoords\": [{\"line\": {\"colorbar\": {\"outlinewidth\": 0, \"ticks\": \"\"}}, \"type\": \"parcoords\"}], \"pie\": [{\"automargin\": true, \"type\": \"pie\"}], \"scatter\": [{\"marker\": {\"colorbar\": {\"outlinewidth\": 0, \"ticks\": \"\"}}, \"type\": \"scatter\"}], \"scatter3d\": [{\"line\": {\"colorbar\": {\"outlinewidth\": 0, \"ticks\": \"\"}}, \"marker\": {\"colorbar\": {\"outlinewidth\": 0, \"ticks\": \"\"}}, \"type\": \"scatter3d\"}], \"scattercarpet\": [{\"marker\": {\"colorbar\": {\"outlinewidth\": 0, \"ticks\": \"\"}}, \"type\": \"scattercarpet\"}], \"scattergeo\": [{\"marker\": {\"colorbar\": {\"outlinewidth\": 0, \"ticks\": \"\"}}, \"type\": \"scattergeo\"}], \"scattergl\": [{\"marker\": {\"colorbar\": {\"outlinewidth\": 0, \"ticks\": \"\"}}, \"type\": \"scattergl\"}], \"scattermapbox\": [{\"marker\": {\"colorbar\": {\"outlinewidth\": 0, \"ticks\": \"\"}}, \"type\": \"scattermapbox\"}], \"scatterpolar\": [{\"marker\": {\"colorbar\": {\"outlinewidth\": 0, \"ticks\": \"\"}}, \"type\": \"scatterpolar\"}], \"scatterpolargl\": [{\"marker\": {\"colorbar\": {\"outlinewidth\": 0, \"ticks\": \"\"}}, \"type\": \"scatterpolargl\"}], \"scatterternary\": [{\"marker\": {\"colorbar\": {\"outlinewidth\": 0, \"ticks\": \"\"}}, \"type\": \"scatterternary\"}], \"surface\": [{\"colorbar\": {\"outlinewidth\": 0, \"ticks\": \"\"}, \"colorscale\": [[0.0, \"#0d0887\"], [0.1111111111111111, \"#46039f\"], [0.2222222222222222, \"#7201a8\"], [0.3333333333333333, \"#9c179e\"], [0.4444444444444444, \"#bd3786\"], [0.5555555555555556, \"#d8576b\"], [0.6666666666666666, \"#ed7953\"], [0.7777777777777778, \"#fb9f3a\"], [0.8888888888888888, \"#fdca26\"], [1.0, \"#f0f921\"]], \"type\": \"surface\"}], \"table\": [{\"cells\": {\"fill\": {\"color\": \"#EBF0F8\"}, \"line\": {\"color\": \"white\"}}, \"header\": {\"fill\": {\"color\": \"#C8D4E3\"}, \"line\": {\"color\": \"white\"}}, \"type\": \"table\"}]}, \"layout\": {\"annotationdefaults\": {\"arrowcolor\": \"#2a3f5f\", \"arrowhead\": 0, \"arrowwidth\": 1}, \"autotypenumbers\": \"strict\", \"coloraxis\": {\"colorbar\": {\"outlinewidth\": 0, \"ticks\": \"\"}}, \"colorscale\": {\"diverging\": [[0, \"#8e0152\"], [0.1, \"#c51b7d\"], [0.2, \"#de77ae\"], [0.3, \"#f1b6da\"], [0.4, \"#fde0ef\"], [0.5, \"#f7f7f7\"], [0.6, \"#e6f5d0\"], [0.7, \"#b8e186\"], [0.8, \"#7fbc41\"], [0.9, \"#4d9221\"], [1, \"#276419\"]], \"sequential\": [[0.0, \"#0d0887\"], [0.1111111111111111, \"#46039f\"], [0.2222222222222222, \"#7201a8\"], [0.3333333333333333, \"#9c179e\"], [0.4444444444444444, \"#bd3786\"], [0.5555555555555556, \"#d8576b\"], [0.6666666666666666, \"#ed7953\"], [0.7777777777777778, \"#fb9f3a\"], [0.8888888888888888, \"#fdca26\"], [1.0, \"#f0f921\"]], \"sequentialminus\": [[0.0, \"#0d0887\"], [0.1111111111111111, \"#46039f\"], [0.2222222222222222, \"#7201a8\"], [0.3333333333333333, \"#9c179e\"], [0.4444444444444444, \"#bd3786\"], [0.5555555555555556, \"#d8576b\"], [0.6666666666666666, \"#ed7953\"], [0.7777777777777778, \"#fb9f3a\"], [0.8888888888888888, \"#fdca26\"], [1.0, \"#f0f921\"]]}, \"colorway\": [\"#636efa\", \"#EF553B\", \"#00cc96\", \"#ab63fa\", \"#FFA15A\", \"#19d3f3\", \"#FF6692\", \"#B6E880\", \"#FF97FF\", \"#FECB52\"], \"font\": {\"color\": \"#2a3f5f\"}, \"geo\": {\"bgcolor\": \"white\", \"lakecolor\": \"white\", \"landcolor\": \"#E5ECF6\", \"showlakes\": true, \"showland\": true, \"subunitcolor\": \"white\"}, \"hoverlabel\": {\"align\": \"left\"}, \"hovermode\": \"closest\", \"mapbox\": {\"style\": \"light\"}, \"paper_bgcolor\": \"white\", \"plot_bgcolor\": \"#E5ECF6\", \"polar\": {\"angularaxis\": {\"gridcolor\": \"white\", \"linecolor\": \"white\", \"ticks\": \"\"}, \"bgcolor\": \"#E5ECF6\", \"radialaxis\": {\"gridcolor\": \"white\", \"linecolor\": \"white\", \"ticks\": \"\"}}, \"scene\": {\"xaxis\": {\"backgroundcolor\": \"#E5ECF6\", \"gridcolor\": \"white\", \"gridwidth\": 2, \"linecolor\": \"white\", \"showbackground\": true, \"ticks\": \"\", \"zerolinecolor\": \"white\"}, \"yaxis\": {\"backgroundcolor\": \"#E5ECF6\", \"gridcolor\": \"white\", \"gridwidth\": 2, \"linecolor\": \"white\", \"showbackground\": true, \"ticks\": \"\", \"zerolinecolor\": \"white\"}, \"zaxis\": {\"backgroundcolor\": \"#E5ECF6\", \"gridcolor\": \"white\", \"gridwidth\": 2, \"linecolor\": \"white\", \"showbackground\": true, \"ticks\": \"\", \"zerolinecolor\": \"white\"}}, \"shapedefaults\": {\"line\": {\"color\": \"#2a3f5f\"}}, \"ternary\": {\"aaxis\": {\"gridcolor\": \"white\", \"linecolor\": \"white\", \"ticks\": \"\"}, \"baxis\": {\"gridcolor\": \"white\", \"linecolor\": \"white\", \"ticks\": \"\"}, \"bgcolor\": \"#E5ECF6\", \"caxis\": {\"gridcolor\": \"white\", \"linecolor\": \"white\", \"ticks\": \"\"}}, \"title\": {\"x\": 0.05}, \"xaxis\": {\"automargin\": true, \"gridcolor\": \"white\", \"linecolor\": \"white\", \"ticks\": \"\", \"title\": {\"standoff\": 15}, \"zerolinecolor\": \"white\", \"zerolinewidth\": 2}, \"yaxis\": {\"automargin\": true, \"gridcolor\": \"white\", \"linecolor\": \"white\", \"ticks\": \"\", \"title\": {\"standoff\": 15}, \"zerolinecolor\": \"white\", \"zerolinewidth\": 2}}}, \"title\": {\"font\": {\"color\": \"#4D5663\"}}, \"xaxis\": {\"gridcolor\": \"#E1E5ED\", \"showgrid\": true, \"tickfont\": {\"color\": \"#4D5663\"}, \"title\": {\"font\": {\"color\": \"#4D5663\"}, \"text\": \"\"}, \"zerolinecolor\": \"#E1E5ED\"}, \"yaxis\": {\"gridcolor\": \"#E1E5ED\", \"showgrid\": true, \"tickfont\": {\"color\": \"#4D5663\"}, \"title\": {\"font\": {\"color\": \"#4D5663\"}, \"text\": \"\"}, \"zerolinecolor\": \"#E1E5ED\"}},                        {\"showLink\": true, \"linkText\": \"Export to plot.ly\", \"plotlyServerURL\": \"https://plot.ly\", \"responsive\": true}                    ).then(function(){\n",
       "                            \n",
       "var gd = document.getElementById('3f9011a0-d13a-4ad5-843c-342b70c2157b');\n",
       "var x = new MutationObserver(function (mutations, observer) {{\n",
       "        var display = window.getComputedStyle(gd).display;\n",
       "        if (!display || display === 'none') {{\n",
       "            console.log([gd, 'removed!']);\n",
       "            Plotly.purge(gd);\n",
       "            observer.disconnect();\n",
       "        }}\n",
       "}});\n",
       "\n",
       "// Listen for the removal of the full notebook cells\n",
       "var notebookContainer = gd.closest('#notebook-container');\n",
       "if (notebookContainer) {{\n",
       "    x.observe(notebookContainer, {childList: true});\n",
       "}}\n",
       "\n",
       "// Listen for the clearing of the current output cell\n",
       "var outputEl = gd.closest('.output');\n",
       "if (outputEl) {{\n",
       "    x.observe(outputEl, {childList: true});\n",
       "}}\n",
       "\n",
       "                        })                };                });            </script>        </div>"
      ]
     },
     "metadata": {},
     "output_type": "display_data"
    }
   ],
   "source": [
    "df3.iplot(kind='surface')\n"
   ]
  },
  {
   "cell_type": "code",
   "execution_count": 27,
   "id": "dbe2b937",
   "metadata": {},
   "outputs": [
    {
     "data": {
      "text/html": [
       "<div>\n",
       "<style scoped>\n",
       "    .dataframe tbody tr th:only-of-type {\n",
       "        vertical-align: middle;\n",
       "    }\n",
       "\n",
       "    .dataframe tbody tr th {\n",
       "        vertical-align: top;\n",
       "    }\n",
       "\n",
       "    .dataframe thead th {\n",
       "        text-align: right;\n",
       "    }\n",
       "</style>\n",
       "<table border=\"1\" class=\"dataframe\">\n",
       "  <thead>\n",
       "    <tr style=\"text-align: right;\">\n",
       "      <th></th>\n",
       "      <th>x</th>\n",
       "      <th>y</th>\n",
       "      <th>z</th>\n",
       "    </tr>\n",
       "  </thead>\n",
       "  <tbody>\n",
       "    <tr>\n",
       "      <th>0</th>\n",
       "      <td>1</td>\n",
       "      <td>10</td>\n",
       "      <td>5</td>\n",
       "    </tr>\n",
       "    <tr>\n",
       "      <th>1</th>\n",
       "      <td>2</td>\n",
       "      <td>20</td>\n",
       "      <td>4</td>\n",
       "    </tr>\n",
       "    <tr>\n",
       "      <th>2</th>\n",
       "      <td>3</td>\n",
       "      <td>30</td>\n",
       "      <td>3</td>\n",
       "    </tr>\n",
       "    <tr>\n",
       "      <th>3</th>\n",
       "      <td>4</td>\n",
       "      <td>20</td>\n",
       "      <td>2</td>\n",
       "    </tr>\n",
       "    <tr>\n",
       "      <th>4</th>\n",
       "      <td>5</td>\n",
       "      <td>10</td>\n",
       "      <td>1</td>\n",
       "    </tr>\n",
       "  </tbody>\n",
       "</table>\n",
       "</div>"
      ],
      "text/plain": [
       "   x   y  z\n",
       "0  1  10  5\n",
       "1  2  20  4\n",
       "2  3  30  3\n",
       "3  4  20  2\n",
       "4  5  10  1"
      ]
     },
     "execution_count": 27,
     "metadata": {},
     "output_type": "execute_result"
    }
   ],
   "source": [
    "df4=pd.DataFrame({'x':[1,2,3,4,5],'y':[10,20,30,20,10],'z':[5,4,3,2,1]})\n",
    "df4"
   ]
  },
  {
   "cell_type": "code",
   "execution_count": 28,
   "id": "ecc844d1",
   "metadata": {},
   "outputs": [
    {
     "data": {
      "application/vnd.plotly.v1+json": {
       "config": {
        "linkText": "Export to plot.ly",
        "plotlyServerURL": "https://plot.ly",
        "showLink": true
       },
       "data": [
        {
         "colorscale": [
          [
           0,
           "rgb(165,0,38)"
          ],
          [
           0.1,
           "rgb(215,48,39)"
          ],
          [
           0.2,
           "rgb(244,109,67)"
          ],
          [
           0.3,
           "rgb(253,174,97)"
          ],
          [
           0.4,
           "rgb(254,224,144)"
          ],
          [
           0.5,
           "rgb(255,255,191)"
          ],
          [
           0.6,
           "rgb(224,243,248)"
          ],
          [
           0.7,
           "rgb(171,217,233)"
          ],
          [
           0.8,
           "rgb(116,173,209)"
          ],
          [
           0.9,
           "rgb(69,117,180)"
          ],
          [
           1,
           "rgb(49,54,149)"
          ]
         ],
         "type": "surface",
         "x": [
          0,
          1,
          2,
          3,
          4
         ],
         "y": [
          "x",
          "y",
          "z"
         ],
         "z": [
          [
           1,
           2,
           3,
           4,
           5
          ],
          [
           10,
           20,
           30,
           20,
           10
          ],
          [
           5,
           4,
           3,
           2,
           1
          ]
         ]
        }
       ],
       "layout": {
        "legend": {
         "bgcolor": "#F5F6F9",
         "font": {
          "color": "#4D5663"
         }
        },
        "paper_bgcolor": "#F5F6F9",
        "plot_bgcolor": "#F5F6F9",
        "template": {
         "data": {
          "bar": [
           {
            "error_x": {
             "color": "#2a3f5f"
            },
            "error_y": {
             "color": "#2a3f5f"
            },
            "marker": {
             "line": {
              "color": "#E5ECF6",
              "width": 0.5
             }
            },
            "type": "bar"
           }
          ],
          "barpolar": [
           {
            "marker": {
             "line": {
              "color": "#E5ECF6",
              "width": 0.5
             }
            },
            "type": "barpolar"
           }
          ],
          "carpet": [
           {
            "aaxis": {
             "endlinecolor": "#2a3f5f",
             "gridcolor": "white",
             "linecolor": "white",
             "minorgridcolor": "white",
             "startlinecolor": "#2a3f5f"
            },
            "baxis": {
             "endlinecolor": "#2a3f5f",
             "gridcolor": "white",
             "linecolor": "white",
             "minorgridcolor": "white",
             "startlinecolor": "#2a3f5f"
            },
            "type": "carpet"
           }
          ],
          "choropleth": [
           {
            "colorbar": {
             "outlinewidth": 0,
             "ticks": ""
            },
            "type": "choropleth"
           }
          ],
          "contour": [
           {
            "colorbar": {
             "outlinewidth": 0,
             "ticks": ""
            },
            "colorscale": [
             [
              0,
              "#0d0887"
             ],
             [
              0.1111111111111111,
              "#46039f"
             ],
             [
              0.2222222222222222,
              "#7201a8"
             ],
             [
              0.3333333333333333,
              "#9c179e"
             ],
             [
              0.4444444444444444,
              "#bd3786"
             ],
             [
              0.5555555555555556,
              "#d8576b"
             ],
             [
              0.6666666666666666,
              "#ed7953"
             ],
             [
              0.7777777777777778,
              "#fb9f3a"
             ],
             [
              0.8888888888888888,
              "#fdca26"
             ],
             [
              1,
              "#f0f921"
             ]
            ],
            "type": "contour"
           }
          ],
          "contourcarpet": [
           {
            "colorbar": {
             "outlinewidth": 0,
             "ticks": ""
            },
            "type": "contourcarpet"
           }
          ],
          "heatmap": [
           {
            "colorbar": {
             "outlinewidth": 0,
             "ticks": ""
            },
            "colorscale": [
             [
              0,
              "#0d0887"
             ],
             [
              0.1111111111111111,
              "#46039f"
             ],
             [
              0.2222222222222222,
              "#7201a8"
             ],
             [
              0.3333333333333333,
              "#9c179e"
             ],
             [
              0.4444444444444444,
              "#bd3786"
             ],
             [
              0.5555555555555556,
              "#d8576b"
             ],
             [
              0.6666666666666666,
              "#ed7953"
             ],
             [
              0.7777777777777778,
              "#fb9f3a"
             ],
             [
              0.8888888888888888,
              "#fdca26"
             ],
             [
              1,
              "#f0f921"
             ]
            ],
            "type": "heatmap"
           }
          ],
          "heatmapgl": [
           {
            "colorbar": {
             "outlinewidth": 0,
             "ticks": ""
            },
            "colorscale": [
             [
              0,
              "#0d0887"
             ],
             [
              0.1111111111111111,
              "#46039f"
             ],
             [
              0.2222222222222222,
              "#7201a8"
             ],
             [
              0.3333333333333333,
              "#9c179e"
             ],
             [
              0.4444444444444444,
              "#bd3786"
             ],
             [
              0.5555555555555556,
              "#d8576b"
             ],
             [
              0.6666666666666666,
              "#ed7953"
             ],
             [
              0.7777777777777778,
              "#fb9f3a"
             ],
             [
              0.8888888888888888,
              "#fdca26"
             ],
             [
              1,
              "#f0f921"
             ]
            ],
            "type": "heatmapgl"
           }
          ],
          "histogram": [
           {
            "marker": {
             "colorbar": {
              "outlinewidth": 0,
              "ticks": ""
             }
            },
            "type": "histogram"
           }
          ],
          "histogram2d": [
           {
            "colorbar": {
             "outlinewidth": 0,
             "ticks": ""
            },
            "colorscale": [
             [
              0,
              "#0d0887"
             ],
             [
              0.1111111111111111,
              "#46039f"
             ],
             [
              0.2222222222222222,
              "#7201a8"
             ],
             [
              0.3333333333333333,
              "#9c179e"
             ],
             [
              0.4444444444444444,
              "#bd3786"
             ],
             [
              0.5555555555555556,
              "#d8576b"
             ],
             [
              0.6666666666666666,
              "#ed7953"
             ],
             [
              0.7777777777777778,
              "#fb9f3a"
             ],
             [
              0.8888888888888888,
              "#fdca26"
             ],
             [
              1,
              "#f0f921"
             ]
            ],
            "type": "histogram2d"
           }
          ],
          "histogram2dcontour": [
           {
            "colorbar": {
             "outlinewidth": 0,
             "ticks": ""
            },
            "colorscale": [
             [
              0,
              "#0d0887"
             ],
             [
              0.1111111111111111,
              "#46039f"
             ],
             [
              0.2222222222222222,
              "#7201a8"
             ],
             [
              0.3333333333333333,
              "#9c179e"
             ],
             [
              0.4444444444444444,
              "#bd3786"
             ],
             [
              0.5555555555555556,
              "#d8576b"
             ],
             [
              0.6666666666666666,
              "#ed7953"
             ],
             [
              0.7777777777777778,
              "#fb9f3a"
             ],
             [
              0.8888888888888888,
              "#fdca26"
             ],
             [
              1,
              "#f0f921"
             ]
            ],
            "type": "histogram2dcontour"
           }
          ],
          "mesh3d": [
           {
            "colorbar": {
             "outlinewidth": 0,
             "ticks": ""
            },
            "type": "mesh3d"
           }
          ],
          "parcoords": [
           {
            "line": {
             "colorbar": {
              "outlinewidth": 0,
              "ticks": ""
             }
            },
            "type": "parcoords"
           }
          ],
          "pie": [
           {
            "automargin": true,
            "type": "pie"
           }
          ],
          "scatter": [
           {
            "marker": {
             "colorbar": {
              "outlinewidth": 0,
              "ticks": ""
             }
            },
            "type": "scatter"
           }
          ],
          "scatter3d": [
           {
            "line": {
             "colorbar": {
              "outlinewidth": 0,
              "ticks": ""
             }
            },
            "marker": {
             "colorbar": {
              "outlinewidth": 0,
              "ticks": ""
             }
            },
            "type": "scatter3d"
           }
          ],
          "scattercarpet": [
           {
            "marker": {
             "colorbar": {
              "outlinewidth": 0,
              "ticks": ""
             }
            },
            "type": "scattercarpet"
           }
          ],
          "scattergeo": [
           {
            "marker": {
             "colorbar": {
              "outlinewidth": 0,
              "ticks": ""
             }
            },
            "type": "scattergeo"
           }
          ],
          "scattergl": [
           {
            "marker": {
             "colorbar": {
              "outlinewidth": 0,
              "ticks": ""
             }
            },
            "type": "scattergl"
           }
          ],
          "scattermapbox": [
           {
            "marker": {
             "colorbar": {
              "outlinewidth": 0,
              "ticks": ""
             }
            },
            "type": "scattermapbox"
           }
          ],
          "scatterpolar": [
           {
            "marker": {
             "colorbar": {
              "outlinewidth": 0,
              "ticks": ""
             }
            },
            "type": "scatterpolar"
           }
          ],
          "scatterpolargl": [
           {
            "marker": {
             "colorbar": {
              "outlinewidth": 0,
              "ticks": ""
             }
            },
            "type": "scatterpolargl"
           }
          ],
          "scatterternary": [
           {
            "marker": {
             "colorbar": {
              "outlinewidth": 0,
              "ticks": ""
             }
            },
            "type": "scatterternary"
           }
          ],
          "surface": [
           {
            "colorbar": {
             "outlinewidth": 0,
             "ticks": ""
            },
            "colorscale": [
             [
              0,
              "#0d0887"
             ],
             [
              0.1111111111111111,
              "#46039f"
             ],
             [
              0.2222222222222222,
              "#7201a8"
             ],
             [
              0.3333333333333333,
              "#9c179e"
             ],
             [
              0.4444444444444444,
              "#bd3786"
             ],
             [
              0.5555555555555556,
              "#d8576b"
             ],
             [
              0.6666666666666666,
              "#ed7953"
             ],
             [
              0.7777777777777778,
              "#fb9f3a"
             ],
             [
              0.8888888888888888,
              "#fdca26"
             ],
             [
              1,
              "#f0f921"
             ]
            ],
            "type": "surface"
           }
          ],
          "table": [
           {
            "cells": {
             "fill": {
              "color": "#EBF0F8"
             },
             "line": {
              "color": "white"
             }
            },
            "header": {
             "fill": {
              "color": "#C8D4E3"
             },
             "line": {
              "color": "white"
             }
            },
            "type": "table"
           }
          ]
         },
         "layout": {
          "annotationdefaults": {
           "arrowcolor": "#2a3f5f",
           "arrowhead": 0,
           "arrowwidth": 1
          },
          "autotypenumbers": "strict",
          "coloraxis": {
           "colorbar": {
            "outlinewidth": 0,
            "ticks": ""
           }
          },
          "colorscale": {
           "diverging": [
            [
             0,
             "#8e0152"
            ],
            [
             0.1,
             "#c51b7d"
            ],
            [
             0.2,
             "#de77ae"
            ],
            [
             0.3,
             "#f1b6da"
            ],
            [
             0.4,
             "#fde0ef"
            ],
            [
             0.5,
             "#f7f7f7"
            ],
            [
             0.6,
             "#e6f5d0"
            ],
            [
             0.7,
             "#b8e186"
            ],
            [
             0.8,
             "#7fbc41"
            ],
            [
             0.9,
             "#4d9221"
            ],
            [
             1,
             "#276419"
            ]
           ],
           "sequential": [
            [
             0,
             "#0d0887"
            ],
            [
             0.1111111111111111,
             "#46039f"
            ],
            [
             0.2222222222222222,
             "#7201a8"
            ],
            [
             0.3333333333333333,
             "#9c179e"
            ],
            [
             0.4444444444444444,
             "#bd3786"
            ],
            [
             0.5555555555555556,
             "#d8576b"
            ],
            [
             0.6666666666666666,
             "#ed7953"
            ],
            [
             0.7777777777777778,
             "#fb9f3a"
            ],
            [
             0.8888888888888888,
             "#fdca26"
            ],
            [
             1,
             "#f0f921"
            ]
           ],
           "sequentialminus": [
            [
             0,
             "#0d0887"
            ],
            [
             0.1111111111111111,
             "#46039f"
            ],
            [
             0.2222222222222222,
             "#7201a8"
            ],
            [
             0.3333333333333333,
             "#9c179e"
            ],
            [
             0.4444444444444444,
             "#bd3786"
            ],
            [
             0.5555555555555556,
             "#d8576b"
            ],
            [
             0.6666666666666666,
             "#ed7953"
            ],
            [
             0.7777777777777778,
             "#fb9f3a"
            ],
            [
             0.8888888888888888,
             "#fdca26"
            ],
            [
             1,
             "#f0f921"
            ]
           ]
          },
          "colorway": [
           "#636efa",
           "#EF553B",
           "#00cc96",
           "#ab63fa",
           "#FFA15A",
           "#19d3f3",
           "#FF6692",
           "#B6E880",
           "#FF97FF",
           "#FECB52"
          ],
          "font": {
           "color": "#2a3f5f"
          },
          "geo": {
           "bgcolor": "white",
           "lakecolor": "white",
           "landcolor": "#E5ECF6",
           "showlakes": true,
           "showland": true,
           "subunitcolor": "white"
          },
          "hoverlabel": {
           "align": "left"
          },
          "hovermode": "closest",
          "mapbox": {
           "style": "light"
          },
          "paper_bgcolor": "white",
          "plot_bgcolor": "#E5ECF6",
          "polar": {
           "angularaxis": {
            "gridcolor": "white",
            "linecolor": "white",
            "ticks": ""
           },
           "bgcolor": "#E5ECF6",
           "radialaxis": {
            "gridcolor": "white",
            "linecolor": "white",
            "ticks": ""
           }
          },
          "scene": {
           "xaxis": {
            "backgroundcolor": "#E5ECF6",
            "gridcolor": "white",
            "gridwidth": 2,
            "linecolor": "white",
            "showbackground": true,
            "ticks": "",
            "zerolinecolor": "white"
           },
           "yaxis": {
            "backgroundcolor": "#E5ECF6",
            "gridcolor": "white",
            "gridwidth": 2,
            "linecolor": "white",
            "showbackground": true,
            "ticks": "",
            "zerolinecolor": "white"
           },
           "zaxis": {
            "backgroundcolor": "#E5ECF6",
            "gridcolor": "white",
            "gridwidth": 2,
            "linecolor": "white",
            "showbackground": true,
            "ticks": "",
            "zerolinecolor": "white"
           }
          },
          "shapedefaults": {
           "line": {
            "color": "#2a3f5f"
           }
          },
          "ternary": {
           "aaxis": {
            "gridcolor": "white",
            "linecolor": "white",
            "ticks": ""
           },
           "baxis": {
            "gridcolor": "white",
            "linecolor": "white",
            "ticks": ""
           },
           "bgcolor": "#E5ECF6",
           "caxis": {
            "gridcolor": "white",
            "linecolor": "white",
            "ticks": ""
           }
          },
          "title": {
           "x": 0.05
          },
          "xaxis": {
           "automargin": true,
           "gridcolor": "white",
           "linecolor": "white",
           "ticks": "",
           "title": {
            "standoff": 15
           },
           "zerolinecolor": "white",
           "zerolinewidth": 2
          },
          "yaxis": {
           "automargin": true,
           "gridcolor": "white",
           "linecolor": "white",
           "ticks": "",
           "title": {
            "standoff": 15
           },
           "zerolinecolor": "white",
           "zerolinewidth": 2
          }
         }
        },
        "title": {
         "font": {
          "color": "#4D5663"
         }
        },
        "xaxis": {
         "gridcolor": "#E1E5ED",
         "showgrid": true,
         "tickfont": {
          "color": "#4D5663"
         },
         "title": {
          "font": {
           "color": "#4D5663"
          },
          "text": ""
         },
         "zerolinecolor": "#E1E5ED"
        },
        "yaxis": {
         "gridcolor": "#E1E5ED",
         "showgrid": true,
         "tickfont": {
          "color": "#4D5663"
         },
         "title": {
          "font": {
           "color": "#4D5663"
          },
          "text": ""
         },
         "zerolinecolor": "#E1E5ED"
        }
       }
      },
      "text/html": [
       "<div>                            <div id=\"faacbb2b-b800-4b71-b577-507a1fcab439\" class=\"plotly-graph-div\" style=\"height:525px; width:100%;\"></div>            <script type=\"text/javascript\">                require([\"plotly\"], function(Plotly) {                    window.PLOTLYENV=window.PLOTLYENV || {};\n",
       "                    window.PLOTLYENV.BASE_URL='https://plot.ly';                                    if (document.getElementById(\"faacbb2b-b800-4b71-b577-507a1fcab439\")) {                    Plotly.newPlot(                        \"faacbb2b-b800-4b71-b577-507a1fcab439\",                        [{\"colorscale\": [[0.0, \"rgb(165,0,38)\"], [0.1, \"rgb(215,48,39)\"], [0.2, \"rgb(244,109,67)\"], [0.3, \"rgb(253,174,97)\"], [0.4, \"rgb(254,224,144)\"], [0.5, \"rgb(255,255,191)\"], [0.6, \"rgb(224,243,248)\"], [0.7, \"rgb(171,217,233)\"], [0.8, \"rgb(116,173,209)\"], [0.9, \"rgb(69,117,180)\"], [1.0, \"rgb(49,54,149)\"]], \"type\": \"surface\", \"x\": [0, 1, 2, 3, 4], \"y\": [\"x\", \"y\", \"z\"], \"z\": [[1, 2, 3, 4, 5], [10, 20, 30, 20, 10], [5, 4, 3, 2, 1]]}],                        {\"legend\": {\"bgcolor\": \"#F5F6F9\", \"font\": {\"color\": \"#4D5663\"}}, \"paper_bgcolor\": \"#F5F6F9\", \"plot_bgcolor\": \"#F5F6F9\", \"template\": {\"data\": {\"bar\": [{\"error_x\": {\"color\": \"#2a3f5f\"}, \"error_y\": {\"color\": \"#2a3f5f\"}, \"marker\": {\"line\": {\"color\": \"#E5ECF6\", \"width\": 0.5}}, \"type\": \"bar\"}], \"barpolar\": [{\"marker\": {\"line\": {\"color\": \"#E5ECF6\", \"width\": 0.5}}, \"type\": \"barpolar\"}], \"carpet\": [{\"aaxis\": {\"endlinecolor\": \"#2a3f5f\", \"gridcolor\": \"white\", \"linecolor\": \"white\", \"minorgridcolor\": \"white\", \"startlinecolor\": \"#2a3f5f\"}, \"baxis\": {\"endlinecolor\": \"#2a3f5f\", \"gridcolor\": \"white\", \"linecolor\": \"white\", \"minorgridcolor\": \"white\", \"startlinecolor\": \"#2a3f5f\"}, \"type\": \"carpet\"}], \"choropleth\": [{\"colorbar\": {\"outlinewidth\": 0, \"ticks\": \"\"}, \"type\": \"choropleth\"}], \"contour\": [{\"colorbar\": {\"outlinewidth\": 0, \"ticks\": \"\"}, \"colorscale\": [[0.0, \"#0d0887\"], [0.1111111111111111, \"#46039f\"], [0.2222222222222222, \"#7201a8\"], [0.3333333333333333, \"#9c179e\"], [0.4444444444444444, \"#bd3786\"], [0.5555555555555556, \"#d8576b\"], [0.6666666666666666, \"#ed7953\"], [0.7777777777777778, \"#fb9f3a\"], [0.8888888888888888, \"#fdca26\"], [1.0, \"#f0f921\"]], \"type\": \"contour\"}], \"contourcarpet\": [{\"colorbar\": {\"outlinewidth\": 0, \"ticks\": \"\"}, \"type\": \"contourcarpet\"}], \"heatmap\": [{\"colorbar\": {\"outlinewidth\": 0, \"ticks\": \"\"}, \"colorscale\": [[0.0, \"#0d0887\"], [0.1111111111111111, \"#46039f\"], [0.2222222222222222, \"#7201a8\"], [0.3333333333333333, \"#9c179e\"], [0.4444444444444444, \"#bd3786\"], [0.5555555555555556, \"#d8576b\"], [0.6666666666666666, \"#ed7953\"], [0.7777777777777778, \"#fb9f3a\"], [0.8888888888888888, \"#fdca26\"], [1.0, \"#f0f921\"]], \"type\": \"heatmap\"}], \"heatmapgl\": [{\"colorbar\": {\"outlinewidth\": 0, \"ticks\": \"\"}, \"colorscale\": [[0.0, \"#0d0887\"], [0.1111111111111111, \"#46039f\"], [0.2222222222222222, \"#7201a8\"], [0.3333333333333333, \"#9c179e\"], [0.4444444444444444, \"#bd3786\"], [0.5555555555555556, \"#d8576b\"], [0.6666666666666666, \"#ed7953\"], [0.7777777777777778, \"#fb9f3a\"], [0.8888888888888888, \"#fdca26\"], [1.0, \"#f0f921\"]], \"type\": \"heatmapgl\"}], \"histogram\": [{\"marker\": {\"colorbar\": {\"outlinewidth\": 0, \"ticks\": \"\"}}, \"type\": \"histogram\"}], \"histogram2d\": [{\"colorbar\": {\"outlinewidth\": 0, \"ticks\": \"\"}, \"colorscale\": [[0.0, \"#0d0887\"], [0.1111111111111111, \"#46039f\"], [0.2222222222222222, \"#7201a8\"], [0.3333333333333333, \"#9c179e\"], [0.4444444444444444, \"#bd3786\"], [0.5555555555555556, \"#d8576b\"], [0.6666666666666666, \"#ed7953\"], [0.7777777777777778, \"#fb9f3a\"], [0.8888888888888888, \"#fdca26\"], [1.0, \"#f0f921\"]], \"type\": \"histogram2d\"}], \"histogram2dcontour\": [{\"colorbar\": {\"outlinewidth\": 0, \"ticks\": \"\"}, \"colorscale\": [[0.0, \"#0d0887\"], [0.1111111111111111, \"#46039f\"], [0.2222222222222222, \"#7201a8\"], [0.3333333333333333, \"#9c179e\"], [0.4444444444444444, \"#bd3786\"], [0.5555555555555556, \"#d8576b\"], [0.6666666666666666, \"#ed7953\"], [0.7777777777777778, \"#fb9f3a\"], [0.8888888888888888, \"#fdca26\"], [1.0, \"#f0f921\"]], \"type\": \"histogram2dcontour\"}], \"mesh3d\": [{\"colorbar\": {\"outlinewidth\": 0, \"ticks\": \"\"}, \"type\": \"mesh3d\"}], \"parcoords\": [{\"line\": {\"colorbar\": {\"outlinewidth\": 0, \"ticks\": \"\"}}, \"type\": \"parcoords\"}], \"pie\": [{\"automargin\": true, \"type\": \"pie\"}], \"scatter\": [{\"marker\": {\"colorbar\": {\"outlinewidth\": 0, \"ticks\": \"\"}}, \"type\": \"scatter\"}], \"scatter3d\": [{\"line\": {\"colorbar\": {\"outlinewidth\": 0, \"ticks\": \"\"}}, \"marker\": {\"colorbar\": {\"outlinewidth\": 0, \"ticks\": \"\"}}, \"type\": \"scatter3d\"}], \"scattercarpet\": [{\"marker\": {\"colorbar\": {\"outlinewidth\": 0, \"ticks\": \"\"}}, \"type\": \"scattercarpet\"}], \"scattergeo\": [{\"marker\": {\"colorbar\": {\"outlinewidth\": 0, \"ticks\": \"\"}}, \"type\": \"scattergeo\"}], \"scattergl\": [{\"marker\": {\"colorbar\": {\"outlinewidth\": 0, \"ticks\": \"\"}}, \"type\": \"scattergl\"}], \"scattermapbox\": [{\"marker\": {\"colorbar\": {\"outlinewidth\": 0, \"ticks\": \"\"}}, \"type\": \"scattermapbox\"}], \"scatterpolar\": [{\"marker\": {\"colorbar\": {\"outlinewidth\": 0, \"ticks\": \"\"}}, \"type\": \"scatterpolar\"}], \"scatterpolargl\": [{\"marker\": {\"colorbar\": {\"outlinewidth\": 0, \"ticks\": \"\"}}, \"type\": \"scatterpolargl\"}], \"scatterternary\": [{\"marker\": {\"colorbar\": {\"outlinewidth\": 0, \"ticks\": \"\"}}, \"type\": \"scatterternary\"}], \"surface\": [{\"colorbar\": {\"outlinewidth\": 0, \"ticks\": \"\"}, \"colorscale\": [[0.0, \"#0d0887\"], [0.1111111111111111, \"#46039f\"], [0.2222222222222222, \"#7201a8\"], [0.3333333333333333, \"#9c179e\"], [0.4444444444444444, \"#bd3786\"], [0.5555555555555556, \"#d8576b\"], [0.6666666666666666, \"#ed7953\"], [0.7777777777777778, \"#fb9f3a\"], [0.8888888888888888, \"#fdca26\"], [1.0, \"#f0f921\"]], \"type\": \"surface\"}], \"table\": [{\"cells\": {\"fill\": {\"color\": \"#EBF0F8\"}, \"line\": {\"color\": \"white\"}}, \"header\": {\"fill\": {\"color\": \"#C8D4E3\"}, \"line\": {\"color\": \"white\"}}, \"type\": \"table\"}]}, \"layout\": {\"annotationdefaults\": {\"arrowcolor\": \"#2a3f5f\", \"arrowhead\": 0, \"arrowwidth\": 1}, \"autotypenumbers\": \"strict\", \"coloraxis\": {\"colorbar\": {\"outlinewidth\": 0, \"ticks\": \"\"}}, \"colorscale\": {\"diverging\": [[0, \"#8e0152\"], [0.1, \"#c51b7d\"], [0.2, \"#de77ae\"], [0.3, \"#f1b6da\"], [0.4, \"#fde0ef\"], [0.5, \"#f7f7f7\"], [0.6, \"#e6f5d0\"], [0.7, \"#b8e186\"], [0.8, \"#7fbc41\"], [0.9, \"#4d9221\"], [1, \"#276419\"]], \"sequential\": [[0.0, \"#0d0887\"], [0.1111111111111111, \"#46039f\"], [0.2222222222222222, \"#7201a8\"], [0.3333333333333333, \"#9c179e\"], [0.4444444444444444, \"#bd3786\"], [0.5555555555555556, \"#d8576b\"], [0.6666666666666666, \"#ed7953\"], [0.7777777777777778, \"#fb9f3a\"], [0.8888888888888888, \"#fdca26\"], [1.0, \"#f0f921\"]], \"sequentialminus\": [[0.0, \"#0d0887\"], [0.1111111111111111, \"#46039f\"], [0.2222222222222222, \"#7201a8\"], [0.3333333333333333, \"#9c179e\"], [0.4444444444444444, \"#bd3786\"], [0.5555555555555556, \"#d8576b\"], [0.6666666666666666, \"#ed7953\"], [0.7777777777777778, \"#fb9f3a\"], [0.8888888888888888, \"#fdca26\"], [1.0, \"#f0f921\"]]}, \"colorway\": [\"#636efa\", \"#EF553B\", \"#00cc96\", \"#ab63fa\", \"#FFA15A\", \"#19d3f3\", \"#FF6692\", \"#B6E880\", \"#FF97FF\", \"#FECB52\"], \"font\": {\"color\": \"#2a3f5f\"}, \"geo\": {\"bgcolor\": \"white\", \"lakecolor\": \"white\", \"landcolor\": \"#E5ECF6\", \"showlakes\": true, \"showland\": true, \"subunitcolor\": \"white\"}, \"hoverlabel\": {\"align\": \"left\"}, \"hovermode\": \"closest\", \"mapbox\": {\"style\": \"light\"}, \"paper_bgcolor\": \"white\", \"plot_bgcolor\": \"#E5ECF6\", \"polar\": {\"angularaxis\": {\"gridcolor\": \"white\", \"linecolor\": \"white\", \"ticks\": \"\"}, \"bgcolor\": \"#E5ECF6\", \"radialaxis\": {\"gridcolor\": \"white\", \"linecolor\": \"white\", \"ticks\": \"\"}}, \"scene\": {\"xaxis\": {\"backgroundcolor\": \"#E5ECF6\", \"gridcolor\": \"white\", \"gridwidth\": 2, \"linecolor\": \"white\", \"showbackground\": true, \"ticks\": \"\", \"zerolinecolor\": \"white\"}, \"yaxis\": {\"backgroundcolor\": \"#E5ECF6\", \"gridcolor\": \"white\", \"gridwidth\": 2, \"linecolor\": \"white\", \"showbackground\": true, \"ticks\": \"\", \"zerolinecolor\": \"white\"}, \"zaxis\": {\"backgroundcolor\": \"#E5ECF6\", \"gridcolor\": \"white\", \"gridwidth\": 2, \"linecolor\": \"white\", \"showbackground\": true, \"ticks\": \"\", \"zerolinecolor\": \"white\"}}, \"shapedefaults\": {\"line\": {\"color\": \"#2a3f5f\"}}, \"ternary\": {\"aaxis\": {\"gridcolor\": \"white\", \"linecolor\": \"white\", \"ticks\": \"\"}, \"baxis\": {\"gridcolor\": \"white\", \"linecolor\": \"white\", \"ticks\": \"\"}, \"bgcolor\": \"#E5ECF6\", \"caxis\": {\"gridcolor\": \"white\", \"linecolor\": \"white\", \"ticks\": \"\"}}, \"title\": {\"x\": 0.05}, \"xaxis\": {\"automargin\": true, \"gridcolor\": \"white\", \"linecolor\": \"white\", \"ticks\": \"\", \"title\": {\"standoff\": 15}, \"zerolinecolor\": \"white\", \"zerolinewidth\": 2}, \"yaxis\": {\"automargin\": true, \"gridcolor\": \"white\", \"linecolor\": \"white\", \"ticks\": \"\", \"title\": {\"standoff\": 15}, \"zerolinecolor\": \"white\", \"zerolinewidth\": 2}}}, \"title\": {\"font\": {\"color\": \"#4D5663\"}}, \"xaxis\": {\"gridcolor\": \"#E1E5ED\", \"showgrid\": true, \"tickfont\": {\"color\": \"#4D5663\"}, \"title\": {\"font\": {\"color\": \"#4D5663\"}, \"text\": \"\"}, \"zerolinecolor\": \"#E1E5ED\"}, \"yaxis\": {\"gridcolor\": \"#E1E5ED\", \"showgrid\": true, \"tickfont\": {\"color\": \"#4D5663\"}, \"title\": {\"font\": {\"color\": \"#4D5663\"}, \"text\": \"\"}, \"zerolinecolor\": \"#E1E5ED\"}},                        {\"showLink\": true, \"linkText\": \"Export to plot.ly\", \"plotlyServerURL\": \"https://plot.ly\", \"responsive\": true}                    ).then(function(){\n",
       "                            \n",
       "var gd = document.getElementById('faacbb2b-b800-4b71-b577-507a1fcab439');\n",
       "var x = new MutationObserver(function (mutations, observer) {{\n",
       "        var display = window.getComputedStyle(gd).display;\n",
       "        if (!display || display === 'none') {{\n",
       "            console.log([gd, 'removed!']);\n",
       "            Plotly.purge(gd);\n",
       "            observer.disconnect();\n",
       "        }}\n",
       "}});\n",
       "\n",
       "// Listen for the removal of the full notebook cells\n",
       "var notebookContainer = gd.closest('#notebook-container');\n",
       "if (notebookContainer) {{\n",
       "    x.observe(notebookContainer, {childList: true});\n",
       "}}\n",
       "\n",
       "// Listen for the clearing of the current output cell\n",
       "var outputEl = gd.closest('.output');\n",
       "if (outputEl) {{\n",
       "    x.observe(outputEl, {childList: true});\n",
       "}}\n",
       "\n",
       "                        })                };                });            </script>        </div>"
      ]
     },
     "metadata": {},
     "output_type": "display_data"
    }
   ],
   "source": [
    "df4.iplot(kind='surface',colorscale='rdylbu') "
   ]
  },
  {
   "cell_type": "code",
   "execution_count": 30,
   "id": "cfe78069",
   "metadata": {},
   "outputs": [
    {
     "data": {
      "application/vnd.plotly.v1+json": {
       "config": {
        "linkText": "Export to plot.ly",
        "plotlyServerURL": "https://plot.ly",
        "showLink": true
       },
       "data": [
        {
         "histfunc": "count",
         "histnorm": "",
         "marker": {
          "color": "rgba(255, 153, 51, 1.0)",
          "line": {
           "color": "#4D5663",
           "width": 1.3
          }
         },
         "name": "a",
         "nbinsx": 20,
         "opacity": 0.8,
         "orientation": "v",
         "type": "histogram",
         "x": [
          -0.2939247089538375,
          2.0970076509999784,
          0.6173777106200816,
          0.23750356151887284,
          1.4742614481713527,
          -0.5385616431849475,
          -0.45321074945949447,
          0.12167449125140922,
          0.20428924065632798,
          0.22236282194300827,
          -0.6875098311811151,
          0.359616715882246,
          2.3950352145362634,
          -1.6207985178635114,
          1.1035412290025228,
          0.08046177444574407,
          0.6606756828275522,
          -0.23956254477490263,
          -0.17851923115075505,
          -1.3840621342640793,
          -0.18702848968924107,
          -0.022384496392856452,
          0.22508891444086587,
          -0.08976387372755973,
          1.5689953760605144,
          -0.8888438575279914,
          0.7570847381702218,
          0.18871608700229803,
          0.2010714627780046,
          -0.9376698821651582,
          0.6750759305528278,
          -2.6466285425274574,
          0.37476265045813056,
          -0.901004002901094,
          -0.9650386990444001,
          0.9978649274376844,
          1.1449823043540495,
          -0.08122776362240577,
          -0.46399287651831483,
          -0.327973144710316,
          -0.7052750047259908,
          -0.8404245727219606,
          -1.8027200625992401,
          -0.41612955979023686,
          1.744646834426262,
          2.08660268843734,
          -0.3575218095405308,
          -1.3969976767306818,
          -2.209247335595158,
          -0.01949960232712651,
          -0.43249537867595117,
          0.3276816794140001,
          1.3947314018656503,
          -0.8707272296934853,
          2.119916665770619,
          0.35932321797338723,
          -1.8635994759219356,
          -0.18346970394873846,
          0.20263335913174033,
          -0.47349177490276445,
          -1.4520362442968655,
          -2.1149498689947457,
          0.9130783150932135,
          -0.5495136750215502,
          -1.0960621283754712,
          1.4451572160950985,
          2.031408286352337,
          0.5425598066205446,
          -0.4775211880584021,
          1.3308282537961023,
          1.054353691401902,
          1.612940625060723,
          -0.6109625761183942,
          -0.3821873570921796,
          0.06843039203537875,
          -0.851254205028847,
          -0.4766492013005475,
          -0.5890194171164326,
          2.442183066498214,
          -0.6194169874355799,
          -1.2222617029743152,
          -0.38402757215563416,
          1.2903773269289678,
          0.5971276344830816,
          0.19293385964319268,
          -1.943140647316925,
          2.5316619216308647,
          -1.0653518979213665,
          1.4221772704069156,
          0.2182038837841717,
          -0.17473296264917926,
          1.2593089788564307,
          0.4037842122693207,
          0.41043879549939155,
          0.017209646728323726,
          0.05546188946749892,
          -0.8863530371688454,
          0.1294464356696457,
          -0.677070174398935,
          -1.16031510980759
         ]
        }
       ],
       "layout": {
        "barmode": "overlay",
        "legend": {
         "bgcolor": "#F5F6F9",
         "font": {
          "color": "#4D5663"
         }
        },
        "paper_bgcolor": "#F5F6F9",
        "plot_bgcolor": "#F5F6F9",
        "template": {
         "data": {
          "bar": [
           {
            "error_x": {
             "color": "#2a3f5f"
            },
            "error_y": {
             "color": "#2a3f5f"
            },
            "marker": {
             "line": {
              "color": "#E5ECF6",
              "width": 0.5
             }
            },
            "type": "bar"
           }
          ],
          "barpolar": [
           {
            "marker": {
             "line": {
              "color": "#E5ECF6",
              "width": 0.5
             }
            },
            "type": "barpolar"
           }
          ],
          "carpet": [
           {
            "aaxis": {
             "endlinecolor": "#2a3f5f",
             "gridcolor": "white",
             "linecolor": "white",
             "minorgridcolor": "white",
             "startlinecolor": "#2a3f5f"
            },
            "baxis": {
             "endlinecolor": "#2a3f5f",
             "gridcolor": "white",
             "linecolor": "white",
             "minorgridcolor": "white",
             "startlinecolor": "#2a3f5f"
            },
            "type": "carpet"
           }
          ],
          "choropleth": [
           {
            "colorbar": {
             "outlinewidth": 0,
             "ticks": ""
            },
            "type": "choropleth"
           }
          ],
          "contour": [
           {
            "colorbar": {
             "outlinewidth": 0,
             "ticks": ""
            },
            "colorscale": [
             [
              0,
              "#0d0887"
             ],
             [
              0.1111111111111111,
              "#46039f"
             ],
             [
              0.2222222222222222,
              "#7201a8"
             ],
             [
              0.3333333333333333,
              "#9c179e"
             ],
             [
              0.4444444444444444,
              "#bd3786"
             ],
             [
              0.5555555555555556,
              "#d8576b"
             ],
             [
              0.6666666666666666,
              "#ed7953"
             ],
             [
              0.7777777777777778,
              "#fb9f3a"
             ],
             [
              0.8888888888888888,
              "#fdca26"
             ],
             [
              1,
              "#f0f921"
             ]
            ],
            "type": "contour"
           }
          ],
          "contourcarpet": [
           {
            "colorbar": {
             "outlinewidth": 0,
             "ticks": ""
            },
            "type": "contourcarpet"
           }
          ],
          "heatmap": [
           {
            "colorbar": {
             "outlinewidth": 0,
             "ticks": ""
            },
            "colorscale": [
             [
              0,
              "#0d0887"
             ],
             [
              0.1111111111111111,
              "#46039f"
             ],
             [
              0.2222222222222222,
              "#7201a8"
             ],
             [
              0.3333333333333333,
              "#9c179e"
             ],
             [
              0.4444444444444444,
              "#bd3786"
             ],
             [
              0.5555555555555556,
              "#d8576b"
             ],
             [
              0.6666666666666666,
              "#ed7953"
             ],
             [
              0.7777777777777778,
              "#fb9f3a"
             ],
             [
              0.8888888888888888,
              "#fdca26"
             ],
             [
              1,
              "#f0f921"
             ]
            ],
            "type": "heatmap"
           }
          ],
          "heatmapgl": [
           {
            "colorbar": {
             "outlinewidth": 0,
             "ticks": ""
            },
            "colorscale": [
             [
              0,
              "#0d0887"
             ],
             [
              0.1111111111111111,
              "#46039f"
             ],
             [
              0.2222222222222222,
              "#7201a8"
             ],
             [
              0.3333333333333333,
              "#9c179e"
             ],
             [
              0.4444444444444444,
              "#bd3786"
             ],
             [
              0.5555555555555556,
              "#d8576b"
             ],
             [
              0.6666666666666666,
              "#ed7953"
             ],
             [
              0.7777777777777778,
              "#fb9f3a"
             ],
             [
              0.8888888888888888,
              "#fdca26"
             ],
             [
              1,
              "#f0f921"
             ]
            ],
            "type": "heatmapgl"
           }
          ],
          "histogram": [
           {
            "marker": {
             "colorbar": {
              "outlinewidth": 0,
              "ticks": ""
             }
            },
            "type": "histogram"
           }
          ],
          "histogram2d": [
           {
            "colorbar": {
             "outlinewidth": 0,
             "ticks": ""
            },
            "colorscale": [
             [
              0,
              "#0d0887"
             ],
             [
              0.1111111111111111,
              "#46039f"
             ],
             [
              0.2222222222222222,
              "#7201a8"
             ],
             [
              0.3333333333333333,
              "#9c179e"
             ],
             [
              0.4444444444444444,
              "#bd3786"
             ],
             [
              0.5555555555555556,
              "#d8576b"
             ],
             [
              0.6666666666666666,
              "#ed7953"
             ],
             [
              0.7777777777777778,
              "#fb9f3a"
             ],
             [
              0.8888888888888888,
              "#fdca26"
             ],
             [
              1,
              "#f0f921"
             ]
            ],
            "type": "histogram2d"
           }
          ],
          "histogram2dcontour": [
           {
            "colorbar": {
             "outlinewidth": 0,
             "ticks": ""
            },
            "colorscale": [
             [
              0,
              "#0d0887"
             ],
             [
              0.1111111111111111,
              "#46039f"
             ],
             [
              0.2222222222222222,
              "#7201a8"
             ],
             [
              0.3333333333333333,
              "#9c179e"
             ],
             [
              0.4444444444444444,
              "#bd3786"
             ],
             [
              0.5555555555555556,
              "#d8576b"
             ],
             [
              0.6666666666666666,
              "#ed7953"
             ],
             [
              0.7777777777777778,
              "#fb9f3a"
             ],
             [
              0.8888888888888888,
              "#fdca26"
             ],
             [
              1,
              "#f0f921"
             ]
            ],
            "type": "histogram2dcontour"
           }
          ],
          "mesh3d": [
           {
            "colorbar": {
             "outlinewidth": 0,
             "ticks": ""
            },
            "type": "mesh3d"
           }
          ],
          "parcoords": [
           {
            "line": {
             "colorbar": {
              "outlinewidth": 0,
              "ticks": ""
             }
            },
            "type": "parcoords"
           }
          ],
          "pie": [
           {
            "automargin": true,
            "type": "pie"
           }
          ],
          "scatter": [
           {
            "marker": {
             "colorbar": {
              "outlinewidth": 0,
              "ticks": ""
             }
            },
            "type": "scatter"
           }
          ],
          "scatter3d": [
           {
            "line": {
             "colorbar": {
              "outlinewidth": 0,
              "ticks": ""
             }
            },
            "marker": {
             "colorbar": {
              "outlinewidth": 0,
              "ticks": ""
             }
            },
            "type": "scatter3d"
           }
          ],
          "scattercarpet": [
           {
            "marker": {
             "colorbar": {
              "outlinewidth": 0,
              "ticks": ""
             }
            },
            "type": "scattercarpet"
           }
          ],
          "scattergeo": [
           {
            "marker": {
             "colorbar": {
              "outlinewidth": 0,
              "ticks": ""
             }
            },
            "type": "scattergeo"
           }
          ],
          "scattergl": [
           {
            "marker": {
             "colorbar": {
              "outlinewidth": 0,
              "ticks": ""
             }
            },
            "type": "scattergl"
           }
          ],
          "scattermapbox": [
           {
            "marker": {
             "colorbar": {
              "outlinewidth": 0,
              "ticks": ""
             }
            },
            "type": "scattermapbox"
           }
          ],
          "scatterpolar": [
           {
            "marker": {
             "colorbar": {
              "outlinewidth": 0,
              "ticks": ""
             }
            },
            "type": "scatterpolar"
           }
          ],
          "scatterpolargl": [
           {
            "marker": {
             "colorbar": {
              "outlinewidth": 0,
              "ticks": ""
             }
            },
            "type": "scatterpolargl"
           }
          ],
          "scatterternary": [
           {
            "marker": {
             "colorbar": {
              "outlinewidth": 0,
              "ticks": ""
             }
            },
            "type": "scatterternary"
           }
          ],
          "surface": [
           {
            "colorbar": {
             "outlinewidth": 0,
             "ticks": ""
            },
            "colorscale": [
             [
              0,
              "#0d0887"
             ],
             [
              0.1111111111111111,
              "#46039f"
             ],
             [
              0.2222222222222222,
              "#7201a8"
             ],
             [
              0.3333333333333333,
              "#9c179e"
             ],
             [
              0.4444444444444444,
              "#bd3786"
             ],
             [
              0.5555555555555556,
              "#d8576b"
             ],
             [
              0.6666666666666666,
              "#ed7953"
             ],
             [
              0.7777777777777778,
              "#fb9f3a"
             ],
             [
              0.8888888888888888,
              "#fdca26"
             ],
             [
              1,
              "#f0f921"
             ]
            ],
            "type": "surface"
           }
          ],
          "table": [
           {
            "cells": {
             "fill": {
              "color": "#EBF0F8"
             },
             "line": {
              "color": "white"
             }
            },
            "header": {
             "fill": {
              "color": "#C8D4E3"
             },
             "line": {
              "color": "white"
             }
            },
            "type": "table"
           }
          ]
         },
         "layout": {
          "annotationdefaults": {
           "arrowcolor": "#2a3f5f",
           "arrowhead": 0,
           "arrowwidth": 1
          },
          "autotypenumbers": "strict",
          "coloraxis": {
           "colorbar": {
            "outlinewidth": 0,
            "ticks": ""
           }
          },
          "colorscale": {
           "diverging": [
            [
             0,
             "#8e0152"
            ],
            [
             0.1,
             "#c51b7d"
            ],
            [
             0.2,
             "#de77ae"
            ],
            [
             0.3,
             "#f1b6da"
            ],
            [
             0.4,
             "#fde0ef"
            ],
            [
             0.5,
             "#f7f7f7"
            ],
            [
             0.6,
             "#e6f5d0"
            ],
            [
             0.7,
             "#b8e186"
            ],
            [
             0.8,
             "#7fbc41"
            ],
            [
             0.9,
             "#4d9221"
            ],
            [
             1,
             "#276419"
            ]
           ],
           "sequential": [
            [
             0,
             "#0d0887"
            ],
            [
             0.1111111111111111,
             "#46039f"
            ],
            [
             0.2222222222222222,
             "#7201a8"
            ],
            [
             0.3333333333333333,
             "#9c179e"
            ],
            [
             0.4444444444444444,
             "#bd3786"
            ],
            [
             0.5555555555555556,
             "#d8576b"
            ],
            [
             0.6666666666666666,
             "#ed7953"
            ],
            [
             0.7777777777777778,
             "#fb9f3a"
            ],
            [
             0.8888888888888888,
             "#fdca26"
            ],
            [
             1,
             "#f0f921"
            ]
           ],
           "sequentialminus": [
            [
             0,
             "#0d0887"
            ],
            [
             0.1111111111111111,
             "#46039f"
            ],
            [
             0.2222222222222222,
             "#7201a8"
            ],
            [
             0.3333333333333333,
             "#9c179e"
            ],
            [
             0.4444444444444444,
             "#bd3786"
            ],
            [
             0.5555555555555556,
             "#d8576b"
            ],
            [
             0.6666666666666666,
             "#ed7953"
            ],
            [
             0.7777777777777778,
             "#fb9f3a"
            ],
            [
             0.8888888888888888,
             "#fdca26"
            ],
            [
             1,
             "#f0f921"
            ]
           ]
          },
          "colorway": [
           "#636efa",
           "#EF553B",
           "#00cc96",
           "#ab63fa",
           "#FFA15A",
           "#19d3f3",
           "#FF6692",
           "#B6E880",
           "#FF97FF",
           "#FECB52"
          ],
          "font": {
           "color": "#2a3f5f"
          },
          "geo": {
           "bgcolor": "white",
           "lakecolor": "white",
           "landcolor": "#E5ECF6",
           "showlakes": true,
           "showland": true,
           "subunitcolor": "white"
          },
          "hoverlabel": {
           "align": "left"
          },
          "hovermode": "closest",
          "mapbox": {
           "style": "light"
          },
          "paper_bgcolor": "white",
          "plot_bgcolor": "#E5ECF6",
          "polar": {
           "angularaxis": {
            "gridcolor": "white",
            "linecolor": "white",
            "ticks": ""
           },
           "bgcolor": "#E5ECF6",
           "radialaxis": {
            "gridcolor": "white",
            "linecolor": "white",
            "ticks": ""
           }
          },
          "scene": {
           "xaxis": {
            "backgroundcolor": "#E5ECF6",
            "gridcolor": "white",
            "gridwidth": 2,
            "linecolor": "white",
            "showbackground": true,
            "ticks": "",
            "zerolinecolor": "white"
           },
           "yaxis": {
            "backgroundcolor": "#E5ECF6",
            "gridcolor": "white",
            "gridwidth": 2,
            "linecolor": "white",
            "showbackground": true,
            "ticks": "",
            "zerolinecolor": "white"
           },
           "zaxis": {
            "backgroundcolor": "#E5ECF6",
            "gridcolor": "white",
            "gridwidth": 2,
            "linecolor": "white",
            "showbackground": true,
            "ticks": "",
            "zerolinecolor": "white"
           }
          },
          "shapedefaults": {
           "line": {
            "color": "#2a3f5f"
           }
          },
          "ternary": {
           "aaxis": {
            "gridcolor": "white",
            "linecolor": "white",
            "ticks": ""
           },
           "baxis": {
            "gridcolor": "white",
            "linecolor": "white",
            "ticks": ""
           },
           "bgcolor": "#E5ECF6",
           "caxis": {
            "gridcolor": "white",
            "linecolor": "white",
            "ticks": ""
           }
          },
          "title": {
           "x": 0.05
          },
          "xaxis": {
           "automargin": true,
           "gridcolor": "white",
           "linecolor": "white",
           "ticks": "",
           "title": {
            "standoff": 15
           },
           "zerolinecolor": "white",
           "zerolinewidth": 2
          },
          "yaxis": {
           "automargin": true,
           "gridcolor": "white",
           "linecolor": "white",
           "ticks": "",
           "title": {
            "standoff": 15
           },
           "zerolinecolor": "white",
           "zerolinewidth": 2
          }
         }
        },
        "title": {
         "font": {
          "color": "#4D5663"
         }
        },
        "xaxis": {
         "gridcolor": "#E1E5ED",
         "showgrid": true,
         "tickfont": {
          "color": "#4D5663"
         },
         "title": {
          "font": {
           "color": "#4D5663"
          },
          "text": ""
         },
         "zerolinecolor": "#E1E5ED"
        },
        "yaxis": {
         "gridcolor": "#E1E5ED",
         "showgrid": true,
         "tickfont": {
          "color": "#4D5663"
         },
         "title": {
          "font": {
           "color": "#4D5663"
          },
          "text": ""
         },
         "zerolinecolor": "#E1E5ED"
        }
       }
      },
      "text/html": [
       "<div>                            <div id=\"c74b151b-115a-4af7-8fd1-f32af6c0da53\" class=\"plotly-graph-div\" style=\"height:525px; width:100%;\"></div>            <script type=\"text/javascript\">                require([\"plotly\"], function(Plotly) {                    window.PLOTLYENV=window.PLOTLYENV || {};\n",
       "                    window.PLOTLYENV.BASE_URL='https://plot.ly';                                    if (document.getElementById(\"c74b151b-115a-4af7-8fd1-f32af6c0da53\")) {                    Plotly.newPlot(                        \"c74b151b-115a-4af7-8fd1-f32af6c0da53\",                        [{\"histfunc\": \"count\", \"histnorm\": \"\", \"marker\": {\"color\": \"rgba(255, 153, 51, 1.0)\", \"line\": {\"color\": \"#4D5663\", \"width\": 1.3}}, \"name\": \"a\", \"nbinsx\": 20, \"opacity\": 0.8, \"orientation\": \"v\", \"type\": \"histogram\", \"x\": [-0.2939247089538375, 2.0970076509999784, 0.6173777106200816, 0.23750356151887284, 1.4742614481713527, -0.5385616431849475, -0.45321074945949447, 0.12167449125140922, 0.20428924065632798, 0.22236282194300827, -0.6875098311811151, 0.359616715882246, 2.3950352145362634, -1.6207985178635114, 1.1035412290025228, 0.08046177444574407, 0.6606756828275522, -0.23956254477490263, -0.17851923115075505, -1.3840621342640793, -0.18702848968924107, -0.022384496392856452, 0.22508891444086587, -0.08976387372755973, 1.5689953760605144, -0.8888438575279914, 0.7570847381702218, 0.18871608700229803, 0.2010714627780046, -0.9376698821651582, 0.6750759305528278, -2.6466285425274574, 0.37476265045813056, -0.901004002901094, -0.9650386990444001, 0.9978649274376844, 1.1449823043540495, -0.08122776362240577, -0.46399287651831483, -0.327973144710316, -0.7052750047259908, -0.8404245727219606, -1.8027200625992401, -0.41612955979023686, 1.744646834426262, 2.08660268843734, -0.3575218095405308, -1.3969976767306818, -2.209247335595158, -0.01949960232712651, -0.43249537867595117, 0.3276816794140001, 1.3947314018656503, -0.8707272296934853, 2.119916665770619, 0.35932321797338723, -1.8635994759219356, -0.18346970394873846, 0.20263335913174033, -0.47349177490276445, -1.4520362442968655, -2.1149498689947457, 0.9130783150932135, -0.5495136750215502, -1.0960621283754712, 1.4451572160950985, 2.031408286352337, 0.5425598066205446, -0.4775211880584021, 1.3308282537961023, 1.054353691401902, 1.612940625060723, -0.6109625761183942, -0.3821873570921796, 0.06843039203537875, -0.851254205028847, -0.4766492013005475, -0.5890194171164326, 2.442183066498214, -0.6194169874355799, -1.2222617029743152, -0.38402757215563416, 1.2903773269289678, 0.5971276344830816, 0.19293385964319268, -1.943140647316925, 2.5316619216308647, -1.0653518979213665, 1.4221772704069156, 0.2182038837841717, -0.17473296264917926, 1.2593089788564307, 0.4037842122693207, 0.41043879549939155, 0.017209646728323726, 0.05546188946749892, -0.8863530371688454, 0.1294464356696457, -0.677070174398935, -1.16031510980759]}],                        {\"barmode\": \"overlay\", \"legend\": {\"bgcolor\": \"#F5F6F9\", \"font\": {\"color\": \"#4D5663\"}}, \"paper_bgcolor\": \"#F5F6F9\", \"plot_bgcolor\": \"#F5F6F9\", \"template\": {\"data\": {\"bar\": [{\"error_x\": {\"color\": \"#2a3f5f\"}, \"error_y\": {\"color\": \"#2a3f5f\"}, \"marker\": {\"line\": {\"color\": \"#E5ECF6\", \"width\": 0.5}}, \"type\": \"bar\"}], \"barpolar\": [{\"marker\": {\"line\": {\"color\": \"#E5ECF6\", \"width\": 0.5}}, \"type\": \"barpolar\"}], \"carpet\": [{\"aaxis\": {\"endlinecolor\": \"#2a3f5f\", \"gridcolor\": \"white\", \"linecolor\": \"white\", \"minorgridcolor\": \"white\", \"startlinecolor\": \"#2a3f5f\"}, \"baxis\": {\"endlinecolor\": \"#2a3f5f\", \"gridcolor\": \"white\", \"linecolor\": \"white\", \"minorgridcolor\": \"white\", \"startlinecolor\": \"#2a3f5f\"}, \"type\": \"carpet\"}], \"choropleth\": [{\"colorbar\": {\"outlinewidth\": 0, \"ticks\": \"\"}, \"type\": \"choropleth\"}], \"contour\": [{\"colorbar\": {\"outlinewidth\": 0, \"ticks\": \"\"}, \"colorscale\": [[0.0, \"#0d0887\"], [0.1111111111111111, \"#46039f\"], [0.2222222222222222, \"#7201a8\"], [0.3333333333333333, \"#9c179e\"], [0.4444444444444444, \"#bd3786\"], [0.5555555555555556, \"#d8576b\"], [0.6666666666666666, \"#ed7953\"], [0.7777777777777778, \"#fb9f3a\"], [0.8888888888888888, \"#fdca26\"], [1.0, \"#f0f921\"]], \"type\": \"contour\"}], \"contourcarpet\": [{\"colorbar\": {\"outlinewidth\": 0, \"ticks\": \"\"}, \"type\": \"contourcarpet\"}], \"heatmap\": [{\"colorbar\": {\"outlinewidth\": 0, \"ticks\": \"\"}, \"colorscale\": [[0.0, \"#0d0887\"], [0.1111111111111111, \"#46039f\"], [0.2222222222222222, \"#7201a8\"], [0.3333333333333333, \"#9c179e\"], [0.4444444444444444, \"#bd3786\"], [0.5555555555555556, \"#d8576b\"], [0.6666666666666666, \"#ed7953\"], [0.7777777777777778, \"#fb9f3a\"], [0.8888888888888888, \"#fdca26\"], [1.0, \"#f0f921\"]], \"type\": \"heatmap\"}], \"heatmapgl\": [{\"colorbar\": {\"outlinewidth\": 0, \"ticks\": \"\"}, \"colorscale\": [[0.0, \"#0d0887\"], [0.1111111111111111, \"#46039f\"], [0.2222222222222222, \"#7201a8\"], [0.3333333333333333, \"#9c179e\"], [0.4444444444444444, \"#bd3786\"], [0.5555555555555556, \"#d8576b\"], [0.6666666666666666, \"#ed7953\"], [0.7777777777777778, \"#fb9f3a\"], [0.8888888888888888, \"#fdca26\"], [1.0, \"#f0f921\"]], \"type\": \"heatmapgl\"}], \"histogram\": [{\"marker\": {\"colorbar\": {\"outlinewidth\": 0, \"ticks\": \"\"}}, \"type\": \"histogram\"}], \"histogram2d\": [{\"colorbar\": {\"outlinewidth\": 0, \"ticks\": \"\"}, \"colorscale\": [[0.0, \"#0d0887\"], [0.1111111111111111, \"#46039f\"], [0.2222222222222222, \"#7201a8\"], [0.3333333333333333, \"#9c179e\"], [0.4444444444444444, \"#bd3786\"], [0.5555555555555556, \"#d8576b\"], [0.6666666666666666, \"#ed7953\"], [0.7777777777777778, \"#fb9f3a\"], [0.8888888888888888, \"#fdca26\"], [1.0, \"#f0f921\"]], \"type\": \"histogram2d\"}], \"histogram2dcontour\": [{\"colorbar\": {\"outlinewidth\": 0, \"ticks\": \"\"}, \"colorscale\": [[0.0, \"#0d0887\"], [0.1111111111111111, \"#46039f\"], [0.2222222222222222, \"#7201a8\"], [0.3333333333333333, \"#9c179e\"], [0.4444444444444444, \"#bd3786\"], [0.5555555555555556, \"#d8576b\"], [0.6666666666666666, \"#ed7953\"], [0.7777777777777778, \"#fb9f3a\"], [0.8888888888888888, \"#fdca26\"], [1.0, \"#f0f921\"]], \"type\": \"histogram2dcontour\"}], \"mesh3d\": [{\"colorbar\": {\"outlinewidth\": 0, \"ticks\": \"\"}, \"type\": \"mesh3d\"}], \"parcoords\": [{\"line\": {\"colorbar\": {\"outlinewidth\": 0, \"ticks\": \"\"}}, \"type\": \"parcoords\"}], \"pie\": [{\"automargin\": true, \"type\": \"pie\"}], \"scatter\": [{\"marker\": {\"colorbar\": {\"outlinewidth\": 0, \"ticks\": \"\"}}, \"type\": \"scatter\"}], \"scatter3d\": [{\"line\": {\"colorbar\": {\"outlinewidth\": 0, \"ticks\": \"\"}}, \"marker\": {\"colorbar\": {\"outlinewidth\": 0, \"ticks\": \"\"}}, \"type\": \"scatter3d\"}], \"scattercarpet\": [{\"marker\": {\"colorbar\": {\"outlinewidth\": 0, \"ticks\": \"\"}}, \"type\": \"scattercarpet\"}], \"scattergeo\": [{\"marker\": {\"colorbar\": {\"outlinewidth\": 0, \"ticks\": \"\"}}, \"type\": \"scattergeo\"}], \"scattergl\": [{\"marker\": {\"colorbar\": {\"outlinewidth\": 0, \"ticks\": \"\"}}, \"type\": \"scattergl\"}], \"scattermapbox\": [{\"marker\": {\"colorbar\": {\"outlinewidth\": 0, \"ticks\": \"\"}}, \"type\": \"scattermapbox\"}], \"scatterpolar\": [{\"marker\": {\"colorbar\": {\"outlinewidth\": 0, \"ticks\": \"\"}}, \"type\": \"scatterpolar\"}], \"scatterpolargl\": [{\"marker\": {\"colorbar\": {\"outlinewidth\": 0, \"ticks\": \"\"}}, \"type\": \"scatterpolargl\"}], \"scatterternary\": [{\"marker\": {\"colorbar\": {\"outlinewidth\": 0, \"ticks\": \"\"}}, \"type\": \"scatterternary\"}], \"surface\": [{\"colorbar\": {\"outlinewidth\": 0, \"ticks\": \"\"}, \"colorscale\": [[0.0, \"#0d0887\"], [0.1111111111111111, \"#46039f\"], [0.2222222222222222, \"#7201a8\"], [0.3333333333333333, \"#9c179e\"], [0.4444444444444444, \"#bd3786\"], [0.5555555555555556, \"#d8576b\"], [0.6666666666666666, \"#ed7953\"], [0.7777777777777778, \"#fb9f3a\"], [0.8888888888888888, \"#fdca26\"], [1.0, \"#f0f921\"]], \"type\": \"surface\"}], \"table\": [{\"cells\": {\"fill\": {\"color\": \"#EBF0F8\"}, \"line\": {\"color\": \"white\"}}, \"header\": {\"fill\": {\"color\": \"#C8D4E3\"}, \"line\": {\"color\": \"white\"}}, \"type\": \"table\"}]}, \"layout\": {\"annotationdefaults\": {\"arrowcolor\": \"#2a3f5f\", \"arrowhead\": 0, \"arrowwidth\": 1}, \"autotypenumbers\": \"strict\", \"coloraxis\": {\"colorbar\": {\"outlinewidth\": 0, \"ticks\": \"\"}}, \"colorscale\": {\"diverging\": [[0, \"#8e0152\"], [0.1, \"#c51b7d\"], [0.2, \"#de77ae\"], [0.3, \"#f1b6da\"], [0.4, \"#fde0ef\"], [0.5, \"#f7f7f7\"], [0.6, \"#e6f5d0\"], [0.7, \"#b8e186\"], [0.8, \"#7fbc41\"], [0.9, \"#4d9221\"], [1, \"#276419\"]], \"sequential\": [[0.0, \"#0d0887\"], [0.1111111111111111, \"#46039f\"], [0.2222222222222222, \"#7201a8\"], [0.3333333333333333, \"#9c179e\"], [0.4444444444444444, \"#bd3786\"], [0.5555555555555556, \"#d8576b\"], [0.6666666666666666, \"#ed7953\"], [0.7777777777777778, \"#fb9f3a\"], [0.8888888888888888, \"#fdca26\"], [1.0, \"#f0f921\"]], \"sequentialminus\": [[0.0, \"#0d0887\"], [0.1111111111111111, \"#46039f\"], [0.2222222222222222, \"#7201a8\"], [0.3333333333333333, \"#9c179e\"], [0.4444444444444444, \"#bd3786\"], [0.5555555555555556, \"#d8576b\"], [0.6666666666666666, \"#ed7953\"], [0.7777777777777778, \"#fb9f3a\"], [0.8888888888888888, \"#fdca26\"], [1.0, \"#f0f921\"]]}, \"colorway\": [\"#636efa\", \"#EF553B\", \"#00cc96\", \"#ab63fa\", \"#FFA15A\", \"#19d3f3\", \"#FF6692\", \"#B6E880\", \"#FF97FF\", \"#FECB52\"], \"font\": {\"color\": \"#2a3f5f\"}, \"geo\": {\"bgcolor\": \"white\", \"lakecolor\": \"white\", \"landcolor\": \"#E5ECF6\", \"showlakes\": true, \"showland\": true, \"subunitcolor\": \"white\"}, \"hoverlabel\": {\"align\": \"left\"}, \"hovermode\": \"closest\", \"mapbox\": {\"style\": \"light\"}, \"paper_bgcolor\": \"white\", \"plot_bgcolor\": \"#E5ECF6\", \"polar\": {\"angularaxis\": {\"gridcolor\": \"white\", \"linecolor\": \"white\", \"ticks\": \"\"}, \"bgcolor\": \"#E5ECF6\", \"radialaxis\": {\"gridcolor\": \"white\", \"linecolor\": \"white\", \"ticks\": \"\"}}, \"scene\": {\"xaxis\": {\"backgroundcolor\": \"#E5ECF6\", \"gridcolor\": \"white\", \"gridwidth\": 2, \"linecolor\": \"white\", \"showbackground\": true, \"ticks\": \"\", \"zerolinecolor\": \"white\"}, \"yaxis\": {\"backgroundcolor\": \"#E5ECF6\", \"gridcolor\": \"white\", \"gridwidth\": 2, \"linecolor\": \"white\", \"showbackground\": true, \"ticks\": \"\", \"zerolinecolor\": \"white\"}, \"zaxis\": {\"backgroundcolor\": \"#E5ECF6\", \"gridcolor\": \"white\", \"gridwidth\": 2, \"linecolor\": \"white\", \"showbackground\": true, \"ticks\": \"\", \"zerolinecolor\": \"white\"}}, \"shapedefaults\": {\"line\": {\"color\": \"#2a3f5f\"}}, \"ternary\": {\"aaxis\": {\"gridcolor\": \"white\", \"linecolor\": \"white\", \"ticks\": \"\"}, \"baxis\": {\"gridcolor\": \"white\", \"linecolor\": \"white\", \"ticks\": \"\"}, \"bgcolor\": \"#E5ECF6\", \"caxis\": {\"gridcolor\": \"white\", \"linecolor\": \"white\", \"ticks\": \"\"}}, \"title\": {\"x\": 0.05}, \"xaxis\": {\"automargin\": true, \"gridcolor\": \"white\", \"linecolor\": \"white\", \"ticks\": \"\", \"title\": {\"standoff\": 15}, \"zerolinecolor\": \"white\", \"zerolinewidth\": 2}, \"yaxis\": {\"automargin\": true, \"gridcolor\": \"white\", \"linecolor\": \"white\", \"ticks\": \"\", \"title\": {\"standoff\": 15}, \"zerolinecolor\": \"white\", \"zerolinewidth\": 2}}}, \"title\": {\"font\": {\"color\": \"#4D5663\"}}, \"xaxis\": {\"gridcolor\": \"#E1E5ED\", \"showgrid\": true, \"tickfont\": {\"color\": \"#4D5663\"}, \"title\": {\"font\": {\"color\": \"#4D5663\"}, \"text\": \"\"}, \"zerolinecolor\": \"#E1E5ED\"}, \"yaxis\": {\"gridcolor\": \"#E1E5ED\", \"showgrid\": true, \"tickfont\": {\"color\": \"#4D5663\"}, \"title\": {\"font\": {\"color\": \"#4D5663\"}, \"text\": \"\"}, \"zerolinecolor\": \"#E1E5ED\"}},                        {\"showLink\": true, \"linkText\": \"Export to plot.ly\", \"plotlyServerURL\": \"https://plot.ly\", \"responsive\": true}                    ).then(function(){\n",
       "                            \n",
       "var gd = document.getElementById('c74b151b-115a-4af7-8fd1-f32af6c0da53');\n",
       "var x = new MutationObserver(function (mutations, observer) {{\n",
       "        var display = window.getComputedStyle(gd).display;\n",
       "        if (!display || display === 'none') {{\n",
       "            console.log([gd, 'removed!']);\n",
       "            Plotly.purge(gd);\n",
       "            observer.disconnect();\n",
       "        }}\n",
       "}});\n",
       "\n",
       "// Listen for the removal of the full notebook cells\n",
       "var notebookContainer = gd.closest('#notebook-container');\n",
       "if (notebookContainer) {{\n",
       "    x.observe(notebookContainer, {childList: true});\n",
       "}}\n",
       "\n",
       "// Listen for the clearing of the current output cell\n",
       "var outputEl = gd.closest('.output');\n",
       "if (outputEl) {{\n",
       "    x.observe(outputEl, {childList: true});\n",
       "}}\n",
       "\n",
       "                        })                };                });            </script>        </div>"
      ]
     },
     "metadata": {},
     "output_type": "display_data"
    }
   ],
   "source": [
    "df['a'].iplot(kind='hist',bins=20)"
   ]
  },
  {
   "cell_type": "code",
   "execution_count": 31,
   "id": "d85495af",
   "metadata": {},
   "outputs": [
    {
     "data": {
      "application/vnd.plotly.v1+json": {
       "config": {
        "linkText": "Export to plot.ly",
        "plotlyServerURL": "https://plot.ly",
        "showLink": true
       },
       "data": [
        {
         "histfunc": "count",
         "histnorm": "",
         "marker": {
          "color": "rgba(255, 153, 51, 1.0)",
          "line": {
           "color": "#4D5663",
           "width": 1.3
          }
         },
         "name": "a",
         "opacity": 0.8,
         "orientation": "v",
         "type": "histogram",
         "x": [
          -0.2939247089538375,
          2.0970076509999784,
          0.6173777106200816,
          0.23750356151887284,
          1.4742614481713527,
          -0.5385616431849475,
          -0.45321074945949447,
          0.12167449125140922,
          0.20428924065632798,
          0.22236282194300827,
          -0.6875098311811151,
          0.359616715882246,
          2.3950352145362634,
          -1.6207985178635114,
          1.1035412290025228,
          0.08046177444574407,
          0.6606756828275522,
          -0.23956254477490263,
          -0.17851923115075505,
          -1.3840621342640793,
          -0.18702848968924107,
          -0.022384496392856452,
          0.22508891444086587,
          -0.08976387372755973,
          1.5689953760605144,
          -0.8888438575279914,
          0.7570847381702218,
          0.18871608700229803,
          0.2010714627780046,
          -0.9376698821651582,
          0.6750759305528278,
          -2.6466285425274574,
          0.37476265045813056,
          -0.901004002901094,
          -0.9650386990444001,
          0.9978649274376844,
          1.1449823043540495,
          -0.08122776362240577,
          -0.46399287651831483,
          -0.327973144710316,
          -0.7052750047259908,
          -0.8404245727219606,
          -1.8027200625992401,
          -0.41612955979023686,
          1.744646834426262,
          2.08660268843734,
          -0.3575218095405308,
          -1.3969976767306818,
          -2.209247335595158,
          -0.01949960232712651,
          -0.43249537867595117,
          0.3276816794140001,
          1.3947314018656503,
          -0.8707272296934853,
          2.119916665770619,
          0.35932321797338723,
          -1.8635994759219356,
          -0.18346970394873846,
          0.20263335913174033,
          -0.47349177490276445,
          -1.4520362442968655,
          -2.1149498689947457,
          0.9130783150932135,
          -0.5495136750215502,
          -1.0960621283754712,
          1.4451572160950985,
          2.031408286352337,
          0.5425598066205446,
          -0.4775211880584021,
          1.3308282537961023,
          1.054353691401902,
          1.612940625060723,
          -0.6109625761183942,
          -0.3821873570921796,
          0.06843039203537875,
          -0.851254205028847,
          -0.4766492013005475,
          -0.5890194171164326,
          2.442183066498214,
          -0.6194169874355799,
          -1.2222617029743152,
          -0.38402757215563416,
          1.2903773269289678,
          0.5971276344830816,
          0.19293385964319268,
          -1.943140647316925,
          2.5316619216308647,
          -1.0653518979213665,
          1.4221772704069156,
          0.2182038837841717,
          -0.17473296264917926,
          1.2593089788564307,
          0.4037842122693207,
          0.41043879549939155,
          0.017209646728323726,
          0.05546188946749892,
          -0.8863530371688454,
          0.1294464356696457,
          -0.677070174398935,
          -1.16031510980759
         ]
        },
        {
         "histfunc": "count",
         "histnorm": "",
         "marker": {
          "color": "rgba(55, 128, 191, 1.0)",
          "line": {
           "color": "#4D5663",
           "width": 1.3
          }
         },
         "name": "b",
         "opacity": 0.8,
         "orientation": "v",
         "type": "histogram",
         "x": [
          1.7517195955247546,
          -0.35359986253618086,
          -0.19133904818374425,
          0.09425845259705241,
          0.3132660279058182,
          0.5781971553314883,
          -2.067783326993488,
          0.6099826326983443,
          0.4237298386704434,
          -0.726227751579507,
          -0.7189066348304399,
          -1.1621193679555342,
          -0.8387188227282664,
          1.8446352326960413,
          -1.5261234234571448,
          0.25184511373240026,
          0.507382596728712,
          -0.7676055455944559,
          0.3345289985935182,
          -0.519930862281465,
          -1.1875187855113214,
          0.28321083692873156,
          0.4439022981463856,
          -0.647070647038372,
          -0.13382994045631505,
          -0.8231744385020477,
          -0.7760002891058501,
          -1.8811016466011998,
          -0.5400669646741258,
          0.6417993920365667,
          -1.0750433645350408,
          -0.8535304068144485,
          1.7366198720263866,
          -0.7460551345224858,
          -0.42652411311431265,
          0.20228592023185543,
          -1.2709086692771747,
          -1.4133149883151543,
          0.548228842737083,
          -0.9812532497119463,
          -1.4533376337289736,
          0.15096058684193256,
          1.1737197584881935,
          -0.052932881986239355,
          0.11726895488462656,
          -1.2633287230708576,
          -1.4576819453135772,
          -1.3093283709027084,
          -0.3055126935028742,
          -0.04722359550452384,
          0.11528089339140782,
          -0.12480741368796602,
          0.5678519074032968,
          -1.651854518362437,
          -0.3672919727036017,
          0.25200949602089007,
          -0.37351570168002984,
          -1.045903428320767,
          0.5206368286408477,
          1.1232227278371094,
          -1.340085574768691,
          -0.86400745936875,
          1.0550957715631073,
          0.459542071919937,
          -0.21526127396496744,
          -0.08755215527323648,
          0.49115860321273747,
          -0.22641865914983392,
          -0.900489261026163,
          -0.4097112328735374,
          -0.4670675693241242,
          0.36811600188979976,
          -0.035211946204871995,
          0.5760790785247979,
          -0.2898062105937861,
          -0.6454669574803571,
          1.0872247062936047,
          0.8388304270804362,
          1.2010283395645696,
          0.9091166353159125,
          -0.4165958388206629,
          -0.6321804012839619,
          0.09215744767250596,
          1.5640594486311639,
          1.1593665190780447,
          0.8373592918589178,
          -0.4103626401331422,
          0.3403785041925423,
          -0.2971058215438673,
          -0.6546234291796629,
          0.6718839090767289,
          -0.08626567553004098,
          0.34493128880227797,
          -1.3166805505068733,
          -0.5915004452066159,
          0.07001232138335309,
          -0.3604605295372551,
          -0.3267979890598825,
          -0.43241655790310934,
          1.0308675380964412
         ]
        },
        {
         "histfunc": "count",
         "histnorm": "",
         "marker": {
          "color": "rgba(50, 171, 96, 1.0)",
          "line": {
           "color": "#4D5663",
           "width": 1.3
          }
         },
         "name": "c",
         "opacity": 0.8,
         "orientation": "v",
         "type": "histogram",
         "x": [
          -1.1665185982253494,
          0.44703916324171267,
          -2.229049902899732,
          -1.3836613335459687,
          -0.9485604622744072,
          -0.19636657192360915,
          -0.8645187066477877,
          1.1878271335269805,
          -0.7153177601251083,
          -1.5708769235393547,
          -0.9610121109570703,
          -0.20297366509109127,
          0.32931720596616937,
          -0.37905430856274264,
          -1.4181649222721624,
          0.6521683397958095,
          0.717256245918316,
          1.985701377744813,
          -1.01265751574874,
          1.8311572262058446,
          -1.8659600216036445,
          0.28815525025711985,
          0.006893738773197523,
          0.030200376884393546,
          2.381376433069506,
          -1.178264522799092,
          0.4846967282491856,
          0.1401510638317766,
          0.007629462492196791,
          -0.2899933489843769,
          -0.7191409376355365,
          -0.13327718346489367,
          -0.23278778299188033,
          -0.5542201742034805,
          1.130817516835987,
          -1.0203156236294415,
          -0.6560003451263542,
          1.9050964763882963,
          -0.48873438331956637,
          -0.19443868973228298,
          0.2078750770823177,
          -0.11224911009580876,
          1.8798466545665753,
          -0.367455864130886,
          -0.11819328300870134,
          -0.15193007603728442,
          0.9203915705812769,
          0.17994717183003192,
          0.028378077636339434,
          -1.1727911766586867,
          -0.27428142872025896,
          -0.40614186493007615,
          0.9197185999998129,
          1.5675331492287392,
          0.31549790306323383,
          -0.9600468947852062,
          -0.7898783312417721,
          -0.4650998066750889,
          0.7327378277474271,
          -1.4504063668945508,
          1.9594864969323,
          -1.1837997404232803,
          0.06710462339755838,
          -0.5439250147730456,
          -0.6805202673031998,
          -0.18660028703268128,
          -0.30564296100900584,
          -0.3749226214508793,
          0.3792636917660674,
          0.7726839407126967,
          0.8489104984466974,
          0.8509562364366888,
          0.8017633886647397,
          -0.64049567558334,
          -2.261208818427529,
          -2.535064947627141,
          -0.22110638537596014,
          1.6324168208268681,
          -0.7761354871003384,
          -0.42734958754239893,
          -0.14351041266370718,
          -0.12263629059096863,
          -0.5876526082928746,
          0.998850201939234,
          0.8918621098146288,
          -0.911802610468548,
          -0.107483819096009,
          -0.28227227913320946,
          0.6245701802471451,
          0.07321836835851156,
          1.1169438714769597,
          1.2778705156173897,
          0.815773569270344,
          0.9970761608278822,
          -1.3789977188461464,
          -1.3450874453770818,
          0.14328961191665385,
          2.0797462282022345,
          1.5449517630974585,
          1.4544167474742808
         ]
        },
        {
         "histfunc": "count",
         "histnorm": "",
         "marker": {
          "color": "rgba(128, 0, 128, 1.0)",
          "line": {
           "color": "#4D5663",
           "width": 1.3
          }
         },
         "name": "d",
         "opacity": 0.8,
         "orientation": "v",
         "type": "histogram",
         "x": [
          -0.28048716161916,
          0.38589042597645334,
          -0.24555896355230156,
          1.0359933876068943,
          2.188602424554546,
          -0.37483742833276074,
          -0.06152544592235071,
          -0.33744135882751547,
          0.2906250898137876,
          -1.0924854508790909,
          -0.2068158441813486,
          -1.8728412712076505,
          -0.3531552351063383,
          0.5372122551350138,
          -2.9674873834537734,
          -0.3005238614058087,
          -1.7393975655822014,
          0.41978060727531724,
          -0.7863600332339782,
          -0.39397655827621203,
          1.6171266606089163,
          0.7637431942159277,
          0.4090932470552176,
          1.986463868774873,
          0.05938797301543664,
          -0.15103568029575504,
          -0.2997104944680906,
          2.9227042979261486,
          0.08815006639147839,
          -1.274066078955945,
          0.017959183940567117,
          -0.3511043178642469,
          -0.7148162366809442,
          1.4793676171030348,
          0.033139292377156536,
          -0.6594075747595262,
          -0.7310276316427899,
          -0.2670019744567271,
          -0.13361484696476697,
          0.9811250183384784,
          1.3041030439701036,
          -1.5520338753125933,
          -1.2669180128447932,
          -0.6419806582859231,
          0.48530503422526017,
          -1.0804420757427589,
          -1.3530587223162485,
          -0.5367496625638137,
          -0.5339709398509465,
          1.1011604095373158,
          0.8022156504237581,
          -0.668547460007973,
          -0.48133355497319047,
          1.29383729573397,
          -0.9135629504590587,
          -0.04934407389542167,
          -1.2706240982625403,
          -0.6556031143886947,
          1.0241986254924382,
          -0.46563454761994066,
          0.2733482279459654,
          1.5345044369997993,
          -1.7372038688744909,
          0.666806989228242,
          -0.08340980571751967,
          0.7024417091367539,
          0.36885977087007676,
          -1.243335553024747,
          0.18291365920098274,
          -0.017436565628707122,
          -0.46624467691635046,
          -1.0951404872243835,
          0.8223100314303123,
          -0.7376289367241221,
          0.33792468585131574,
          -1.7010921501841583,
          0.05864850995894906,
          0.6131855591589759,
          1.8343976598091685,
          0.7141275399998634,
          0.39757337321541675,
          0.13641646616786698,
          0.9738560319450598,
          -0.451621107940339,
          1.258206993496081,
          -0.5246405435883648,
          0.7202535805908966,
          0.2473480789820883,
          -1.0808258434385758,
          -0.10729158726169893,
          -1.8429497353902775,
          0.37677638524818696,
          0.9340574794462572,
          0.594786084820459,
          0.0031055629632219086,
          -0.8872625988730557,
          2.0629264388795066,
          0.2000416837259496,
          0.5839869034838178,
          -2.1171149617801857
         ]
        }
       ],
       "layout": {
        "barmode": "overlay",
        "legend": {
         "bgcolor": "#F5F6F9",
         "font": {
          "color": "#4D5663"
         }
        },
        "paper_bgcolor": "#F5F6F9",
        "plot_bgcolor": "#F5F6F9",
        "template": {
         "data": {
          "bar": [
           {
            "error_x": {
             "color": "#2a3f5f"
            },
            "error_y": {
             "color": "#2a3f5f"
            },
            "marker": {
             "line": {
              "color": "#E5ECF6",
              "width": 0.5
             }
            },
            "type": "bar"
           }
          ],
          "barpolar": [
           {
            "marker": {
             "line": {
              "color": "#E5ECF6",
              "width": 0.5
             }
            },
            "type": "barpolar"
           }
          ],
          "carpet": [
           {
            "aaxis": {
             "endlinecolor": "#2a3f5f",
             "gridcolor": "white",
             "linecolor": "white",
             "minorgridcolor": "white",
             "startlinecolor": "#2a3f5f"
            },
            "baxis": {
             "endlinecolor": "#2a3f5f",
             "gridcolor": "white",
             "linecolor": "white",
             "minorgridcolor": "white",
             "startlinecolor": "#2a3f5f"
            },
            "type": "carpet"
           }
          ],
          "choropleth": [
           {
            "colorbar": {
             "outlinewidth": 0,
             "ticks": ""
            },
            "type": "choropleth"
           }
          ],
          "contour": [
           {
            "colorbar": {
             "outlinewidth": 0,
             "ticks": ""
            },
            "colorscale": [
             [
              0,
              "#0d0887"
             ],
             [
              0.1111111111111111,
              "#46039f"
             ],
             [
              0.2222222222222222,
              "#7201a8"
             ],
             [
              0.3333333333333333,
              "#9c179e"
             ],
             [
              0.4444444444444444,
              "#bd3786"
             ],
             [
              0.5555555555555556,
              "#d8576b"
             ],
             [
              0.6666666666666666,
              "#ed7953"
             ],
             [
              0.7777777777777778,
              "#fb9f3a"
             ],
             [
              0.8888888888888888,
              "#fdca26"
             ],
             [
              1,
              "#f0f921"
             ]
            ],
            "type": "contour"
           }
          ],
          "contourcarpet": [
           {
            "colorbar": {
             "outlinewidth": 0,
             "ticks": ""
            },
            "type": "contourcarpet"
           }
          ],
          "heatmap": [
           {
            "colorbar": {
             "outlinewidth": 0,
             "ticks": ""
            },
            "colorscale": [
             [
              0,
              "#0d0887"
             ],
             [
              0.1111111111111111,
              "#46039f"
             ],
             [
              0.2222222222222222,
              "#7201a8"
             ],
             [
              0.3333333333333333,
              "#9c179e"
             ],
             [
              0.4444444444444444,
              "#bd3786"
             ],
             [
              0.5555555555555556,
              "#d8576b"
             ],
             [
              0.6666666666666666,
              "#ed7953"
             ],
             [
              0.7777777777777778,
              "#fb9f3a"
             ],
             [
              0.8888888888888888,
              "#fdca26"
             ],
             [
              1,
              "#f0f921"
             ]
            ],
            "type": "heatmap"
           }
          ],
          "heatmapgl": [
           {
            "colorbar": {
             "outlinewidth": 0,
             "ticks": ""
            },
            "colorscale": [
             [
              0,
              "#0d0887"
             ],
             [
              0.1111111111111111,
              "#46039f"
             ],
             [
              0.2222222222222222,
              "#7201a8"
             ],
             [
              0.3333333333333333,
              "#9c179e"
             ],
             [
              0.4444444444444444,
              "#bd3786"
             ],
             [
              0.5555555555555556,
              "#d8576b"
             ],
             [
              0.6666666666666666,
              "#ed7953"
             ],
             [
              0.7777777777777778,
              "#fb9f3a"
             ],
             [
              0.8888888888888888,
              "#fdca26"
             ],
             [
              1,
              "#f0f921"
             ]
            ],
            "type": "heatmapgl"
           }
          ],
          "histogram": [
           {
            "marker": {
             "colorbar": {
              "outlinewidth": 0,
              "ticks": ""
             }
            },
            "type": "histogram"
           }
          ],
          "histogram2d": [
           {
            "colorbar": {
             "outlinewidth": 0,
             "ticks": ""
            },
            "colorscale": [
             [
              0,
              "#0d0887"
             ],
             [
              0.1111111111111111,
              "#46039f"
             ],
             [
              0.2222222222222222,
              "#7201a8"
             ],
             [
              0.3333333333333333,
              "#9c179e"
             ],
             [
              0.4444444444444444,
              "#bd3786"
             ],
             [
              0.5555555555555556,
              "#d8576b"
             ],
             [
              0.6666666666666666,
              "#ed7953"
             ],
             [
              0.7777777777777778,
              "#fb9f3a"
             ],
             [
              0.8888888888888888,
              "#fdca26"
             ],
             [
              1,
              "#f0f921"
             ]
            ],
            "type": "histogram2d"
           }
          ],
          "histogram2dcontour": [
           {
            "colorbar": {
             "outlinewidth": 0,
             "ticks": ""
            },
            "colorscale": [
             [
              0,
              "#0d0887"
             ],
             [
              0.1111111111111111,
              "#46039f"
             ],
             [
              0.2222222222222222,
              "#7201a8"
             ],
             [
              0.3333333333333333,
              "#9c179e"
             ],
             [
              0.4444444444444444,
              "#bd3786"
             ],
             [
              0.5555555555555556,
              "#d8576b"
             ],
             [
              0.6666666666666666,
              "#ed7953"
             ],
             [
              0.7777777777777778,
              "#fb9f3a"
             ],
             [
              0.8888888888888888,
              "#fdca26"
             ],
             [
              1,
              "#f0f921"
             ]
            ],
            "type": "histogram2dcontour"
           }
          ],
          "mesh3d": [
           {
            "colorbar": {
             "outlinewidth": 0,
             "ticks": ""
            },
            "type": "mesh3d"
           }
          ],
          "parcoords": [
           {
            "line": {
             "colorbar": {
              "outlinewidth": 0,
              "ticks": ""
             }
            },
            "type": "parcoords"
           }
          ],
          "pie": [
           {
            "automargin": true,
            "type": "pie"
           }
          ],
          "scatter": [
           {
            "marker": {
             "colorbar": {
              "outlinewidth": 0,
              "ticks": ""
             }
            },
            "type": "scatter"
           }
          ],
          "scatter3d": [
           {
            "line": {
             "colorbar": {
              "outlinewidth": 0,
              "ticks": ""
             }
            },
            "marker": {
             "colorbar": {
              "outlinewidth": 0,
              "ticks": ""
             }
            },
            "type": "scatter3d"
           }
          ],
          "scattercarpet": [
           {
            "marker": {
             "colorbar": {
              "outlinewidth": 0,
              "ticks": ""
             }
            },
            "type": "scattercarpet"
           }
          ],
          "scattergeo": [
           {
            "marker": {
             "colorbar": {
              "outlinewidth": 0,
              "ticks": ""
             }
            },
            "type": "scattergeo"
           }
          ],
          "scattergl": [
           {
            "marker": {
             "colorbar": {
              "outlinewidth": 0,
              "ticks": ""
             }
            },
            "type": "scattergl"
           }
          ],
          "scattermapbox": [
           {
            "marker": {
             "colorbar": {
              "outlinewidth": 0,
              "ticks": ""
             }
            },
            "type": "scattermapbox"
           }
          ],
          "scatterpolar": [
           {
            "marker": {
             "colorbar": {
              "outlinewidth": 0,
              "ticks": ""
             }
            },
            "type": "scatterpolar"
           }
          ],
          "scatterpolargl": [
           {
            "marker": {
             "colorbar": {
              "outlinewidth": 0,
              "ticks": ""
             }
            },
            "type": "scatterpolargl"
           }
          ],
          "scatterternary": [
           {
            "marker": {
             "colorbar": {
              "outlinewidth": 0,
              "ticks": ""
             }
            },
            "type": "scatterternary"
           }
          ],
          "surface": [
           {
            "colorbar": {
             "outlinewidth": 0,
             "ticks": ""
            },
            "colorscale": [
             [
              0,
              "#0d0887"
             ],
             [
              0.1111111111111111,
              "#46039f"
             ],
             [
              0.2222222222222222,
              "#7201a8"
             ],
             [
              0.3333333333333333,
              "#9c179e"
             ],
             [
              0.4444444444444444,
              "#bd3786"
             ],
             [
              0.5555555555555556,
              "#d8576b"
             ],
             [
              0.6666666666666666,
              "#ed7953"
             ],
             [
              0.7777777777777778,
              "#fb9f3a"
             ],
             [
              0.8888888888888888,
              "#fdca26"
             ],
             [
              1,
              "#f0f921"
             ]
            ],
            "type": "surface"
           }
          ],
          "table": [
           {
            "cells": {
             "fill": {
              "color": "#EBF0F8"
             },
             "line": {
              "color": "white"
             }
            },
            "header": {
             "fill": {
              "color": "#C8D4E3"
             },
             "line": {
              "color": "white"
             }
            },
            "type": "table"
           }
          ]
         },
         "layout": {
          "annotationdefaults": {
           "arrowcolor": "#2a3f5f",
           "arrowhead": 0,
           "arrowwidth": 1
          },
          "autotypenumbers": "strict",
          "coloraxis": {
           "colorbar": {
            "outlinewidth": 0,
            "ticks": ""
           }
          },
          "colorscale": {
           "diverging": [
            [
             0,
             "#8e0152"
            ],
            [
             0.1,
             "#c51b7d"
            ],
            [
             0.2,
             "#de77ae"
            ],
            [
             0.3,
             "#f1b6da"
            ],
            [
             0.4,
             "#fde0ef"
            ],
            [
             0.5,
             "#f7f7f7"
            ],
            [
             0.6,
             "#e6f5d0"
            ],
            [
             0.7,
             "#b8e186"
            ],
            [
             0.8,
             "#7fbc41"
            ],
            [
             0.9,
             "#4d9221"
            ],
            [
             1,
             "#276419"
            ]
           ],
           "sequential": [
            [
             0,
             "#0d0887"
            ],
            [
             0.1111111111111111,
             "#46039f"
            ],
            [
             0.2222222222222222,
             "#7201a8"
            ],
            [
             0.3333333333333333,
             "#9c179e"
            ],
            [
             0.4444444444444444,
             "#bd3786"
            ],
            [
             0.5555555555555556,
             "#d8576b"
            ],
            [
             0.6666666666666666,
             "#ed7953"
            ],
            [
             0.7777777777777778,
             "#fb9f3a"
            ],
            [
             0.8888888888888888,
             "#fdca26"
            ],
            [
             1,
             "#f0f921"
            ]
           ],
           "sequentialminus": [
            [
             0,
             "#0d0887"
            ],
            [
             0.1111111111111111,
             "#46039f"
            ],
            [
             0.2222222222222222,
             "#7201a8"
            ],
            [
             0.3333333333333333,
             "#9c179e"
            ],
            [
             0.4444444444444444,
             "#bd3786"
            ],
            [
             0.5555555555555556,
             "#d8576b"
            ],
            [
             0.6666666666666666,
             "#ed7953"
            ],
            [
             0.7777777777777778,
             "#fb9f3a"
            ],
            [
             0.8888888888888888,
             "#fdca26"
            ],
            [
             1,
             "#f0f921"
            ]
           ]
          },
          "colorway": [
           "#636efa",
           "#EF553B",
           "#00cc96",
           "#ab63fa",
           "#FFA15A",
           "#19d3f3",
           "#FF6692",
           "#B6E880",
           "#FF97FF",
           "#FECB52"
          ],
          "font": {
           "color": "#2a3f5f"
          },
          "geo": {
           "bgcolor": "white",
           "lakecolor": "white",
           "landcolor": "#E5ECF6",
           "showlakes": true,
           "showland": true,
           "subunitcolor": "white"
          },
          "hoverlabel": {
           "align": "left"
          },
          "hovermode": "closest",
          "mapbox": {
           "style": "light"
          },
          "paper_bgcolor": "white",
          "plot_bgcolor": "#E5ECF6",
          "polar": {
           "angularaxis": {
            "gridcolor": "white",
            "linecolor": "white",
            "ticks": ""
           },
           "bgcolor": "#E5ECF6",
           "radialaxis": {
            "gridcolor": "white",
            "linecolor": "white",
            "ticks": ""
           }
          },
          "scene": {
           "xaxis": {
            "backgroundcolor": "#E5ECF6",
            "gridcolor": "white",
            "gridwidth": 2,
            "linecolor": "white",
            "showbackground": true,
            "ticks": "",
            "zerolinecolor": "white"
           },
           "yaxis": {
            "backgroundcolor": "#E5ECF6",
            "gridcolor": "white",
            "gridwidth": 2,
            "linecolor": "white",
            "showbackground": true,
            "ticks": "",
            "zerolinecolor": "white"
           },
           "zaxis": {
            "backgroundcolor": "#E5ECF6",
            "gridcolor": "white",
            "gridwidth": 2,
            "linecolor": "white",
            "showbackground": true,
            "ticks": "",
            "zerolinecolor": "white"
           }
          },
          "shapedefaults": {
           "line": {
            "color": "#2a3f5f"
           }
          },
          "ternary": {
           "aaxis": {
            "gridcolor": "white",
            "linecolor": "white",
            "ticks": ""
           },
           "baxis": {
            "gridcolor": "white",
            "linecolor": "white",
            "ticks": ""
           },
           "bgcolor": "#E5ECF6",
           "caxis": {
            "gridcolor": "white",
            "linecolor": "white",
            "ticks": ""
           }
          },
          "title": {
           "x": 0.05
          },
          "xaxis": {
           "automargin": true,
           "gridcolor": "white",
           "linecolor": "white",
           "ticks": "",
           "title": {
            "standoff": 15
           },
           "zerolinecolor": "white",
           "zerolinewidth": 2
          },
          "yaxis": {
           "automargin": true,
           "gridcolor": "white",
           "linecolor": "white",
           "ticks": "",
           "title": {
            "standoff": 15
           },
           "zerolinecolor": "white",
           "zerolinewidth": 2
          }
         }
        },
        "title": {
         "font": {
          "color": "#4D5663"
         }
        },
        "xaxis": {
         "gridcolor": "#E1E5ED",
         "showgrid": true,
         "tickfont": {
          "color": "#4D5663"
         },
         "title": {
          "font": {
           "color": "#4D5663"
          },
          "text": ""
         },
         "zerolinecolor": "#E1E5ED"
        },
        "yaxis": {
         "gridcolor": "#E1E5ED",
         "showgrid": true,
         "tickfont": {
          "color": "#4D5663"
         },
         "title": {
          "font": {
           "color": "#4D5663"
          },
          "text": ""
         },
         "zerolinecolor": "#E1E5ED"
        }
       }
      },
      "text/html": [
       "<div>                            <div id=\"6de6cf9c-f8b4-4b67-933e-47ef54ec3a7e\" class=\"plotly-graph-div\" style=\"height:525px; width:100%;\"></div>            <script type=\"text/javascript\">                require([\"plotly\"], function(Plotly) {                    window.PLOTLYENV=window.PLOTLYENV || {};\n",
       "                    window.PLOTLYENV.BASE_URL='https://plot.ly';                                    if (document.getElementById(\"6de6cf9c-f8b4-4b67-933e-47ef54ec3a7e\")) {                    Plotly.newPlot(                        \"6de6cf9c-f8b4-4b67-933e-47ef54ec3a7e\",                        [{\"histfunc\": \"count\", \"histnorm\": \"\", \"marker\": {\"color\": \"rgba(255, 153, 51, 1.0)\", \"line\": {\"color\": \"#4D5663\", \"width\": 1.3}}, \"name\": \"a\", \"opacity\": 0.8, \"orientation\": \"v\", \"type\": \"histogram\", \"x\": [-0.2939247089538375, 2.0970076509999784, 0.6173777106200816, 0.23750356151887284, 1.4742614481713527, -0.5385616431849475, -0.45321074945949447, 0.12167449125140922, 0.20428924065632798, 0.22236282194300827, -0.6875098311811151, 0.359616715882246, 2.3950352145362634, -1.6207985178635114, 1.1035412290025228, 0.08046177444574407, 0.6606756828275522, -0.23956254477490263, -0.17851923115075505, -1.3840621342640793, -0.18702848968924107, -0.022384496392856452, 0.22508891444086587, -0.08976387372755973, 1.5689953760605144, -0.8888438575279914, 0.7570847381702218, 0.18871608700229803, 0.2010714627780046, -0.9376698821651582, 0.6750759305528278, -2.6466285425274574, 0.37476265045813056, -0.901004002901094, -0.9650386990444001, 0.9978649274376844, 1.1449823043540495, -0.08122776362240577, -0.46399287651831483, -0.327973144710316, -0.7052750047259908, -0.8404245727219606, -1.8027200625992401, -0.41612955979023686, 1.744646834426262, 2.08660268843734, -0.3575218095405308, -1.3969976767306818, -2.209247335595158, -0.01949960232712651, -0.43249537867595117, 0.3276816794140001, 1.3947314018656503, -0.8707272296934853, 2.119916665770619, 0.35932321797338723, -1.8635994759219356, -0.18346970394873846, 0.20263335913174033, -0.47349177490276445, -1.4520362442968655, -2.1149498689947457, 0.9130783150932135, -0.5495136750215502, -1.0960621283754712, 1.4451572160950985, 2.031408286352337, 0.5425598066205446, -0.4775211880584021, 1.3308282537961023, 1.054353691401902, 1.612940625060723, -0.6109625761183942, -0.3821873570921796, 0.06843039203537875, -0.851254205028847, -0.4766492013005475, -0.5890194171164326, 2.442183066498214, -0.6194169874355799, -1.2222617029743152, -0.38402757215563416, 1.2903773269289678, 0.5971276344830816, 0.19293385964319268, -1.943140647316925, 2.5316619216308647, -1.0653518979213665, 1.4221772704069156, 0.2182038837841717, -0.17473296264917926, 1.2593089788564307, 0.4037842122693207, 0.41043879549939155, 0.017209646728323726, 0.05546188946749892, -0.8863530371688454, 0.1294464356696457, -0.677070174398935, -1.16031510980759]}, {\"histfunc\": \"count\", \"histnorm\": \"\", \"marker\": {\"color\": \"rgba(55, 128, 191, 1.0)\", \"line\": {\"color\": \"#4D5663\", \"width\": 1.3}}, \"name\": \"b\", \"opacity\": 0.8, \"orientation\": \"v\", \"type\": \"histogram\", \"x\": [1.7517195955247546, -0.35359986253618086, -0.19133904818374425, 0.09425845259705241, 0.3132660279058182, 0.5781971553314883, -2.067783326993488, 0.6099826326983443, 0.4237298386704434, -0.726227751579507, -0.7189066348304399, -1.1621193679555342, -0.8387188227282664, 1.8446352326960413, -1.5261234234571448, 0.25184511373240026, 0.507382596728712, -0.7676055455944559, 0.3345289985935182, -0.519930862281465, -1.1875187855113214, 0.28321083692873156, 0.4439022981463856, -0.647070647038372, -0.13382994045631505, -0.8231744385020477, -0.7760002891058501, -1.8811016466011998, -0.5400669646741258, 0.6417993920365667, -1.0750433645350408, -0.8535304068144485, 1.7366198720263866, -0.7460551345224858, -0.42652411311431265, 0.20228592023185543, -1.2709086692771747, -1.4133149883151543, 0.548228842737083, -0.9812532497119463, -1.4533376337289736, 0.15096058684193256, 1.1737197584881935, -0.052932881986239355, 0.11726895488462656, -1.2633287230708576, -1.4576819453135772, -1.3093283709027084, -0.3055126935028742, -0.04722359550452384, 0.11528089339140782, -0.12480741368796602, 0.5678519074032968, -1.651854518362437, -0.3672919727036017, 0.25200949602089007, -0.37351570168002984, -1.045903428320767, 0.5206368286408477, 1.1232227278371094, -1.340085574768691, -0.86400745936875, 1.0550957715631073, 0.459542071919937, -0.21526127396496744, -0.08755215527323648, 0.49115860321273747, -0.22641865914983392, -0.900489261026163, -0.4097112328735374, -0.4670675693241242, 0.36811600188979976, -0.035211946204871995, 0.5760790785247979, -0.2898062105937861, -0.6454669574803571, 1.0872247062936047, 0.8388304270804362, 1.2010283395645696, 0.9091166353159125, -0.4165958388206629, -0.6321804012839619, 0.09215744767250596, 1.5640594486311639, 1.1593665190780447, 0.8373592918589178, -0.4103626401331422, 0.3403785041925423, -0.2971058215438673, -0.6546234291796629, 0.6718839090767289, -0.08626567553004098, 0.34493128880227797, -1.3166805505068733, -0.5915004452066159, 0.07001232138335309, -0.3604605295372551, -0.3267979890598825, -0.43241655790310934, 1.0308675380964412]}, {\"histfunc\": \"count\", \"histnorm\": \"\", \"marker\": {\"color\": \"rgba(50, 171, 96, 1.0)\", \"line\": {\"color\": \"#4D5663\", \"width\": 1.3}}, \"name\": \"c\", \"opacity\": 0.8, \"orientation\": \"v\", \"type\": \"histogram\", \"x\": [-1.1665185982253494, 0.44703916324171267, -2.229049902899732, -1.3836613335459687, -0.9485604622744072, -0.19636657192360915, -0.8645187066477877, 1.1878271335269805, -0.7153177601251083, -1.5708769235393547, -0.9610121109570703, -0.20297366509109127, 0.32931720596616937, -0.37905430856274264, -1.4181649222721624, 0.6521683397958095, 0.717256245918316, 1.985701377744813, -1.01265751574874, 1.8311572262058446, -1.8659600216036445, 0.28815525025711985, 0.006893738773197523, 0.030200376884393546, 2.381376433069506, -1.178264522799092, 0.4846967282491856, 0.1401510638317766, 0.007629462492196791, -0.2899933489843769, -0.7191409376355365, -0.13327718346489367, -0.23278778299188033, -0.5542201742034805, 1.130817516835987, -1.0203156236294415, -0.6560003451263542, 1.9050964763882963, -0.48873438331956637, -0.19443868973228298, 0.2078750770823177, -0.11224911009580876, 1.8798466545665753, -0.367455864130886, -0.11819328300870134, -0.15193007603728442, 0.9203915705812769, 0.17994717183003192, 0.028378077636339434, -1.1727911766586867, -0.27428142872025896, -0.40614186493007615, 0.9197185999998129, 1.5675331492287392, 0.31549790306323383, -0.9600468947852062, -0.7898783312417721, -0.4650998066750889, 0.7327378277474271, -1.4504063668945508, 1.9594864969323, -1.1837997404232803, 0.06710462339755838, -0.5439250147730456, -0.6805202673031998, -0.18660028703268128, -0.30564296100900584, -0.3749226214508793, 0.3792636917660674, 0.7726839407126967, 0.8489104984466974, 0.8509562364366888, 0.8017633886647397, -0.64049567558334, -2.261208818427529, -2.535064947627141, -0.22110638537596014, 1.6324168208268681, -0.7761354871003384, -0.42734958754239893, -0.14351041266370718, -0.12263629059096863, -0.5876526082928746, 0.998850201939234, 0.8918621098146288, -0.911802610468548, -0.107483819096009, -0.28227227913320946, 0.6245701802471451, 0.07321836835851156, 1.1169438714769597, 1.2778705156173897, 0.815773569270344, 0.9970761608278822, -1.3789977188461464, -1.3450874453770818, 0.14328961191665385, 2.0797462282022345, 1.5449517630974585, 1.4544167474742808]}, {\"histfunc\": \"count\", \"histnorm\": \"\", \"marker\": {\"color\": \"rgba(128, 0, 128, 1.0)\", \"line\": {\"color\": \"#4D5663\", \"width\": 1.3}}, \"name\": \"d\", \"opacity\": 0.8, \"orientation\": \"v\", \"type\": \"histogram\", \"x\": [-0.28048716161916, 0.38589042597645334, -0.24555896355230156, 1.0359933876068943, 2.188602424554546, -0.37483742833276074, -0.06152544592235071, -0.33744135882751547, 0.2906250898137876, -1.0924854508790909, -0.2068158441813486, -1.8728412712076505, -0.3531552351063383, 0.5372122551350138, -2.9674873834537734, -0.3005238614058087, -1.7393975655822014, 0.41978060727531724, -0.7863600332339782, -0.39397655827621203, 1.6171266606089163, 0.7637431942159277, 0.4090932470552176, 1.986463868774873, 0.05938797301543664, -0.15103568029575504, -0.2997104944680906, 2.9227042979261486, 0.08815006639147839, -1.274066078955945, 0.017959183940567117, -0.3511043178642469, -0.7148162366809442, 1.4793676171030348, 0.033139292377156536, -0.6594075747595262, -0.7310276316427899, -0.2670019744567271, -0.13361484696476697, 0.9811250183384784, 1.3041030439701036, -1.5520338753125933, -1.2669180128447932, -0.6419806582859231, 0.48530503422526017, -1.0804420757427589, -1.3530587223162485, -0.5367496625638137, -0.5339709398509465, 1.1011604095373158, 0.8022156504237581, -0.668547460007973, -0.48133355497319047, 1.29383729573397, -0.9135629504590587, -0.04934407389542167, -1.2706240982625403, -0.6556031143886947, 1.0241986254924382, -0.46563454761994066, 0.2733482279459654, 1.5345044369997993, -1.7372038688744909, 0.666806989228242, -0.08340980571751967, 0.7024417091367539, 0.36885977087007676, -1.243335553024747, 0.18291365920098274, -0.017436565628707122, -0.46624467691635046, -1.0951404872243835, 0.8223100314303123, -0.7376289367241221, 0.33792468585131574, -1.7010921501841583, 0.05864850995894906, 0.6131855591589759, 1.8343976598091685, 0.7141275399998634, 0.39757337321541675, 0.13641646616786698, 0.9738560319450598, -0.451621107940339, 1.258206993496081, -0.5246405435883648, 0.7202535805908966, 0.2473480789820883, -1.0808258434385758, -0.10729158726169893, -1.8429497353902775, 0.37677638524818696, 0.9340574794462572, 0.594786084820459, 0.0031055629632219086, -0.8872625988730557, 2.0629264388795066, 0.2000416837259496, 0.5839869034838178, -2.1171149617801857]}],                        {\"barmode\": \"overlay\", \"legend\": {\"bgcolor\": \"#F5F6F9\", \"font\": {\"color\": \"#4D5663\"}}, \"paper_bgcolor\": \"#F5F6F9\", \"plot_bgcolor\": \"#F5F6F9\", \"template\": {\"data\": {\"bar\": [{\"error_x\": {\"color\": \"#2a3f5f\"}, \"error_y\": {\"color\": \"#2a3f5f\"}, \"marker\": {\"line\": {\"color\": \"#E5ECF6\", \"width\": 0.5}}, \"type\": \"bar\"}], \"barpolar\": [{\"marker\": {\"line\": {\"color\": \"#E5ECF6\", \"width\": 0.5}}, \"type\": \"barpolar\"}], \"carpet\": [{\"aaxis\": {\"endlinecolor\": \"#2a3f5f\", \"gridcolor\": \"white\", \"linecolor\": \"white\", \"minorgridcolor\": \"white\", \"startlinecolor\": \"#2a3f5f\"}, \"baxis\": {\"endlinecolor\": \"#2a3f5f\", \"gridcolor\": \"white\", \"linecolor\": \"white\", \"minorgridcolor\": \"white\", \"startlinecolor\": \"#2a3f5f\"}, \"type\": \"carpet\"}], \"choropleth\": [{\"colorbar\": {\"outlinewidth\": 0, \"ticks\": \"\"}, \"type\": \"choropleth\"}], \"contour\": [{\"colorbar\": {\"outlinewidth\": 0, \"ticks\": \"\"}, \"colorscale\": [[0.0, \"#0d0887\"], [0.1111111111111111, \"#46039f\"], [0.2222222222222222, \"#7201a8\"], [0.3333333333333333, \"#9c179e\"], [0.4444444444444444, \"#bd3786\"], [0.5555555555555556, \"#d8576b\"], [0.6666666666666666, \"#ed7953\"], [0.7777777777777778, \"#fb9f3a\"], [0.8888888888888888, \"#fdca26\"], [1.0, \"#f0f921\"]], \"type\": \"contour\"}], \"contourcarpet\": [{\"colorbar\": {\"outlinewidth\": 0, \"ticks\": \"\"}, \"type\": \"contourcarpet\"}], \"heatmap\": [{\"colorbar\": {\"outlinewidth\": 0, \"ticks\": \"\"}, \"colorscale\": [[0.0, \"#0d0887\"], [0.1111111111111111, \"#46039f\"], [0.2222222222222222, \"#7201a8\"], [0.3333333333333333, \"#9c179e\"], [0.4444444444444444, \"#bd3786\"], [0.5555555555555556, \"#d8576b\"], [0.6666666666666666, \"#ed7953\"], [0.7777777777777778, \"#fb9f3a\"], [0.8888888888888888, \"#fdca26\"], [1.0, \"#f0f921\"]], \"type\": \"heatmap\"}], \"heatmapgl\": [{\"colorbar\": {\"outlinewidth\": 0, \"ticks\": \"\"}, \"colorscale\": [[0.0, \"#0d0887\"], [0.1111111111111111, \"#46039f\"], [0.2222222222222222, \"#7201a8\"], [0.3333333333333333, \"#9c179e\"], [0.4444444444444444, \"#bd3786\"], [0.5555555555555556, \"#d8576b\"], [0.6666666666666666, \"#ed7953\"], [0.7777777777777778, \"#fb9f3a\"], [0.8888888888888888, \"#fdca26\"], [1.0, \"#f0f921\"]], \"type\": \"heatmapgl\"}], \"histogram\": [{\"marker\": {\"colorbar\": {\"outlinewidth\": 0, \"ticks\": \"\"}}, \"type\": \"histogram\"}], \"histogram2d\": [{\"colorbar\": {\"outlinewidth\": 0, \"ticks\": \"\"}, \"colorscale\": [[0.0, \"#0d0887\"], [0.1111111111111111, \"#46039f\"], [0.2222222222222222, \"#7201a8\"], [0.3333333333333333, \"#9c179e\"], [0.4444444444444444, \"#bd3786\"], [0.5555555555555556, \"#d8576b\"], [0.6666666666666666, \"#ed7953\"], [0.7777777777777778, \"#fb9f3a\"], [0.8888888888888888, \"#fdca26\"], [1.0, \"#f0f921\"]], \"type\": \"histogram2d\"}], \"histogram2dcontour\": [{\"colorbar\": {\"outlinewidth\": 0, \"ticks\": \"\"}, \"colorscale\": [[0.0, \"#0d0887\"], [0.1111111111111111, \"#46039f\"], [0.2222222222222222, \"#7201a8\"], [0.3333333333333333, \"#9c179e\"], [0.4444444444444444, \"#bd3786\"], [0.5555555555555556, \"#d8576b\"], [0.6666666666666666, \"#ed7953\"], [0.7777777777777778, \"#fb9f3a\"], [0.8888888888888888, \"#fdca26\"], [1.0, \"#f0f921\"]], \"type\": \"histogram2dcontour\"}], \"mesh3d\": [{\"colorbar\": {\"outlinewidth\": 0, \"ticks\": \"\"}, \"type\": \"mesh3d\"}], \"parcoords\": [{\"line\": {\"colorbar\": {\"outlinewidth\": 0, \"ticks\": \"\"}}, \"type\": \"parcoords\"}], \"pie\": [{\"automargin\": true, \"type\": \"pie\"}], \"scatter\": [{\"marker\": {\"colorbar\": {\"outlinewidth\": 0, \"ticks\": \"\"}}, \"type\": \"scatter\"}], \"scatter3d\": [{\"line\": {\"colorbar\": {\"outlinewidth\": 0, \"ticks\": \"\"}}, \"marker\": {\"colorbar\": {\"outlinewidth\": 0, \"ticks\": \"\"}}, \"type\": \"scatter3d\"}], \"scattercarpet\": [{\"marker\": {\"colorbar\": {\"outlinewidth\": 0, \"ticks\": \"\"}}, \"type\": \"scattercarpet\"}], \"scattergeo\": [{\"marker\": {\"colorbar\": {\"outlinewidth\": 0, \"ticks\": \"\"}}, \"type\": \"scattergeo\"}], \"scattergl\": [{\"marker\": {\"colorbar\": {\"outlinewidth\": 0, \"ticks\": \"\"}}, \"type\": \"scattergl\"}], \"scattermapbox\": [{\"marker\": {\"colorbar\": {\"outlinewidth\": 0, \"ticks\": \"\"}}, \"type\": \"scattermapbox\"}], \"scatterpolar\": [{\"marker\": {\"colorbar\": {\"outlinewidth\": 0, \"ticks\": \"\"}}, \"type\": \"scatterpolar\"}], \"scatterpolargl\": [{\"marker\": {\"colorbar\": {\"outlinewidth\": 0, \"ticks\": \"\"}}, \"type\": \"scatterpolargl\"}], \"scatterternary\": [{\"marker\": {\"colorbar\": {\"outlinewidth\": 0, \"ticks\": \"\"}}, \"type\": \"scatterternary\"}], \"surface\": [{\"colorbar\": {\"outlinewidth\": 0, \"ticks\": \"\"}, \"colorscale\": [[0.0, \"#0d0887\"], [0.1111111111111111, \"#46039f\"], [0.2222222222222222, \"#7201a8\"], [0.3333333333333333, \"#9c179e\"], [0.4444444444444444, \"#bd3786\"], [0.5555555555555556, \"#d8576b\"], [0.6666666666666666, \"#ed7953\"], [0.7777777777777778, \"#fb9f3a\"], [0.8888888888888888, \"#fdca26\"], [1.0, \"#f0f921\"]], \"type\": \"surface\"}], \"table\": [{\"cells\": {\"fill\": {\"color\": \"#EBF0F8\"}, \"line\": {\"color\": \"white\"}}, \"header\": {\"fill\": {\"color\": \"#C8D4E3\"}, \"line\": {\"color\": \"white\"}}, \"type\": \"table\"}]}, \"layout\": {\"annotationdefaults\": {\"arrowcolor\": \"#2a3f5f\", \"arrowhead\": 0, \"arrowwidth\": 1}, \"autotypenumbers\": \"strict\", \"coloraxis\": {\"colorbar\": {\"outlinewidth\": 0, \"ticks\": \"\"}}, \"colorscale\": {\"diverging\": [[0, \"#8e0152\"], [0.1, \"#c51b7d\"], [0.2, \"#de77ae\"], [0.3, \"#f1b6da\"], [0.4, \"#fde0ef\"], [0.5, \"#f7f7f7\"], [0.6, \"#e6f5d0\"], [0.7, \"#b8e186\"], [0.8, \"#7fbc41\"], [0.9, \"#4d9221\"], [1, \"#276419\"]], \"sequential\": [[0.0, \"#0d0887\"], [0.1111111111111111, \"#46039f\"], [0.2222222222222222, \"#7201a8\"], [0.3333333333333333, \"#9c179e\"], [0.4444444444444444, \"#bd3786\"], [0.5555555555555556, \"#d8576b\"], [0.6666666666666666, \"#ed7953\"], [0.7777777777777778, \"#fb9f3a\"], [0.8888888888888888, \"#fdca26\"], [1.0, \"#f0f921\"]], \"sequentialminus\": [[0.0, \"#0d0887\"], [0.1111111111111111, \"#46039f\"], [0.2222222222222222, \"#7201a8\"], [0.3333333333333333, \"#9c179e\"], [0.4444444444444444, \"#bd3786\"], [0.5555555555555556, \"#d8576b\"], [0.6666666666666666, \"#ed7953\"], [0.7777777777777778, \"#fb9f3a\"], [0.8888888888888888, \"#fdca26\"], [1.0, \"#f0f921\"]]}, \"colorway\": [\"#636efa\", \"#EF553B\", \"#00cc96\", \"#ab63fa\", \"#FFA15A\", \"#19d3f3\", \"#FF6692\", \"#B6E880\", \"#FF97FF\", \"#FECB52\"], \"font\": {\"color\": \"#2a3f5f\"}, \"geo\": {\"bgcolor\": \"white\", \"lakecolor\": \"white\", \"landcolor\": \"#E5ECF6\", \"showlakes\": true, \"showland\": true, \"subunitcolor\": \"white\"}, \"hoverlabel\": {\"align\": \"left\"}, \"hovermode\": \"closest\", \"mapbox\": {\"style\": \"light\"}, \"paper_bgcolor\": \"white\", \"plot_bgcolor\": \"#E5ECF6\", \"polar\": {\"angularaxis\": {\"gridcolor\": \"white\", \"linecolor\": \"white\", \"ticks\": \"\"}, \"bgcolor\": \"#E5ECF6\", \"radialaxis\": {\"gridcolor\": \"white\", \"linecolor\": \"white\", \"ticks\": \"\"}}, \"scene\": {\"xaxis\": {\"backgroundcolor\": \"#E5ECF6\", \"gridcolor\": \"white\", \"gridwidth\": 2, \"linecolor\": \"white\", \"showbackground\": true, \"ticks\": \"\", \"zerolinecolor\": \"white\"}, \"yaxis\": {\"backgroundcolor\": \"#E5ECF6\", \"gridcolor\": \"white\", \"gridwidth\": 2, \"linecolor\": \"white\", \"showbackground\": true, \"ticks\": \"\", \"zerolinecolor\": \"white\"}, \"zaxis\": {\"backgroundcolor\": \"#E5ECF6\", \"gridcolor\": \"white\", \"gridwidth\": 2, \"linecolor\": \"white\", \"showbackground\": true, \"ticks\": \"\", \"zerolinecolor\": \"white\"}}, \"shapedefaults\": {\"line\": {\"color\": \"#2a3f5f\"}}, \"ternary\": {\"aaxis\": {\"gridcolor\": \"white\", \"linecolor\": \"white\", \"ticks\": \"\"}, \"baxis\": {\"gridcolor\": \"white\", \"linecolor\": \"white\", \"ticks\": \"\"}, \"bgcolor\": \"#E5ECF6\", \"caxis\": {\"gridcolor\": \"white\", \"linecolor\": \"white\", \"ticks\": \"\"}}, \"title\": {\"x\": 0.05}, \"xaxis\": {\"automargin\": true, \"gridcolor\": \"white\", \"linecolor\": \"white\", \"ticks\": \"\", \"title\": {\"standoff\": 15}, \"zerolinecolor\": \"white\", \"zerolinewidth\": 2}, \"yaxis\": {\"automargin\": true, \"gridcolor\": \"white\", \"linecolor\": \"white\", \"ticks\": \"\", \"title\": {\"standoff\": 15}, \"zerolinecolor\": \"white\", \"zerolinewidth\": 2}}}, \"title\": {\"font\": {\"color\": \"#4D5663\"}}, \"xaxis\": {\"gridcolor\": \"#E1E5ED\", \"showgrid\": true, \"tickfont\": {\"color\": \"#4D5663\"}, \"title\": {\"font\": {\"color\": \"#4D5663\"}, \"text\": \"\"}, \"zerolinecolor\": \"#E1E5ED\"}, \"yaxis\": {\"gridcolor\": \"#E1E5ED\", \"showgrid\": true, \"tickfont\": {\"color\": \"#4D5663\"}, \"title\": {\"font\": {\"color\": \"#4D5663\"}, \"text\": \"\"}, \"zerolinecolor\": \"#E1E5ED\"}},                        {\"showLink\": true, \"linkText\": \"Export to plot.ly\", \"plotlyServerURL\": \"https://plot.ly\", \"responsive\": true}                    ).then(function(){\n",
       "                            \n",
       "var gd = document.getElementById('6de6cf9c-f8b4-4b67-933e-47ef54ec3a7e');\n",
       "var x = new MutationObserver(function (mutations, observer) {{\n",
       "        var display = window.getComputedStyle(gd).display;\n",
       "        if (!display || display === 'none') {{\n",
       "            console.log([gd, 'removed!']);\n",
       "            Plotly.purge(gd);\n",
       "            observer.disconnect();\n",
       "        }}\n",
       "}});\n",
       "\n",
       "// Listen for the removal of the full notebook cells\n",
       "var notebookContainer = gd.closest('#notebook-container');\n",
       "if (notebookContainer) {{\n",
       "    x.observe(notebookContainer, {childList: true});\n",
       "}}\n",
       "\n",
       "// Listen for the clearing of the current output cell\n",
       "var outputEl = gd.closest('.output');\n",
       "if (outputEl) {{\n",
       "    x.observe(outputEl, {childList: true});\n",
       "}}\n",
       "\n",
       "                        })                };                });            </script>        </div>"
      ]
     },
     "metadata": {},
     "output_type": "display_data"
    }
   ],
   "source": [
    "df.iplot(kind='hist')"
   ]
  },
  {
   "cell_type": "code",
   "execution_count": 32,
   "id": "3ab5533c",
   "metadata": {},
   "outputs": [
    {
     "name": "stderr",
     "output_type": "stream",
     "text": [
      "C:\\Users\\LENOVO\\anaconda3\\lib\\site-packages\\cufflinks\\plotlytools.py:849: FutureWarning:\n",
      "\n",
      "The pandas.np module is deprecated and will be removed from pandas in a future version. Import numpy directly instead.\n",
      "\n",
      "C:\\Users\\LENOVO\\anaconda3\\lib\\site-packages\\cufflinks\\plotlytools.py:850: FutureWarning:\n",
      "\n",
      "The pandas.np module is deprecated and will be removed from pandas in a future version. Import numpy directly instead.\n",
      "\n"
     ]
    },
    {
     "data": {
      "application/vnd.plotly.v1+json": {
       "config": {
        "linkText": "Export to plot.ly",
        "plotlyServerURL": "https://plot.ly",
        "showLink": true
       },
       "data": [
        {
         "line": {
          "color": "rgba(255, 153, 51, 1.0)",
          "dash": "solid",
          "shape": "linear",
          "width": 1.3
         },
         "mode": "lines",
         "name": "a",
         "text": "",
         "type": "scatter",
         "x": [
          0,
          1,
          2,
          3,
          4,
          5,
          6,
          7,
          8,
          9,
          10,
          11,
          12,
          13,
          14,
          15,
          16,
          17,
          18,
          19,
          20,
          21,
          22,
          23,
          24,
          25,
          26,
          27,
          28,
          29,
          30,
          31,
          32,
          33,
          34,
          35,
          36,
          37,
          38,
          39,
          40,
          41,
          42,
          43,
          44,
          45,
          46,
          47,
          48,
          49,
          50,
          51,
          52,
          53,
          54,
          55,
          56,
          57,
          58,
          59,
          60,
          61,
          62,
          63,
          64,
          65,
          66,
          67,
          68,
          69,
          70,
          71,
          72,
          73,
          74,
          75,
          76,
          77,
          78,
          79,
          80,
          81,
          82,
          83,
          84,
          85,
          86,
          87,
          88,
          89,
          90,
          91,
          92,
          93,
          94,
          95,
          96,
          97,
          98,
          99
         ],
         "y": [
          -0.2939247089538375,
          2.0970076509999784,
          0.6173777106200816,
          0.23750356151887284,
          1.4742614481713527,
          -0.5385616431849475,
          -0.45321074945949447,
          0.12167449125140922,
          0.20428924065632798,
          0.22236282194300827,
          -0.6875098311811151,
          0.359616715882246,
          2.3950352145362634,
          -1.6207985178635114,
          1.1035412290025228,
          0.08046177444574407,
          0.6606756828275522,
          -0.23956254477490263,
          -0.17851923115075505,
          -1.3840621342640793,
          -0.18702848968924107,
          -0.022384496392856452,
          0.22508891444086587,
          -0.08976387372755973,
          1.5689953760605144,
          -0.8888438575279914,
          0.7570847381702218,
          0.18871608700229803,
          0.2010714627780046,
          -0.9376698821651582,
          0.6750759305528278,
          -2.6466285425274574,
          0.37476265045813056,
          -0.901004002901094,
          -0.9650386990444001,
          0.9978649274376844,
          1.1449823043540495,
          -0.08122776362240577,
          -0.46399287651831483,
          -0.327973144710316,
          -0.7052750047259908,
          -0.8404245727219606,
          -1.8027200625992401,
          -0.41612955979023686,
          1.744646834426262,
          2.08660268843734,
          -0.3575218095405308,
          -1.3969976767306818,
          -2.209247335595158,
          -0.01949960232712651,
          -0.43249537867595117,
          0.3276816794140001,
          1.3947314018656503,
          -0.8707272296934853,
          2.119916665770619,
          0.35932321797338723,
          -1.8635994759219356,
          -0.18346970394873846,
          0.20263335913174033,
          -0.47349177490276445,
          -1.4520362442968655,
          -2.1149498689947457,
          0.9130783150932135,
          -0.5495136750215502,
          -1.0960621283754712,
          1.4451572160950985,
          2.031408286352337,
          0.5425598066205446,
          -0.4775211880584021,
          1.3308282537961023,
          1.054353691401902,
          1.612940625060723,
          -0.6109625761183942,
          -0.3821873570921796,
          0.06843039203537875,
          -0.851254205028847,
          -0.4766492013005475,
          -0.5890194171164326,
          2.442183066498214,
          -0.6194169874355799,
          -1.2222617029743152,
          -0.38402757215563416,
          1.2903773269289678,
          0.5971276344830816,
          0.19293385964319268,
          -1.943140647316925,
          2.5316619216308647,
          -1.0653518979213665,
          1.4221772704069156,
          0.2182038837841717,
          -0.17473296264917926,
          1.2593089788564307,
          0.4037842122693207,
          0.41043879549939155,
          0.017209646728323726,
          0.05546188946749892,
          -0.8863530371688454,
          0.1294464356696457,
          -0.677070174398935,
          -1.16031510980759
         ]
        },
        {
         "line": {
          "color": "rgba(55, 128, 191, 1.0)",
          "dash": "solid",
          "shape": "linear",
          "width": 1.3
         },
         "mode": "lines",
         "name": "b",
         "text": "",
         "type": "scatter",
         "x": [
          0,
          1,
          2,
          3,
          4,
          5,
          6,
          7,
          8,
          9,
          10,
          11,
          12,
          13,
          14,
          15,
          16,
          17,
          18,
          19,
          20,
          21,
          22,
          23,
          24,
          25,
          26,
          27,
          28,
          29,
          30,
          31,
          32,
          33,
          34,
          35,
          36,
          37,
          38,
          39,
          40,
          41,
          42,
          43,
          44,
          45,
          46,
          47,
          48,
          49,
          50,
          51,
          52,
          53,
          54,
          55,
          56,
          57,
          58,
          59,
          60,
          61,
          62,
          63,
          64,
          65,
          66,
          67,
          68,
          69,
          70,
          71,
          72,
          73,
          74,
          75,
          76,
          77,
          78,
          79,
          80,
          81,
          82,
          83,
          84,
          85,
          86,
          87,
          88,
          89,
          90,
          91,
          92,
          93,
          94,
          95,
          96,
          97,
          98,
          99
         ],
         "y": [
          1.7517195955247546,
          -0.35359986253618086,
          -0.19133904818374425,
          0.09425845259705241,
          0.3132660279058182,
          0.5781971553314883,
          -2.067783326993488,
          0.6099826326983443,
          0.4237298386704434,
          -0.726227751579507,
          -0.7189066348304399,
          -1.1621193679555342,
          -0.8387188227282664,
          1.8446352326960413,
          -1.5261234234571448,
          0.25184511373240026,
          0.507382596728712,
          -0.7676055455944559,
          0.3345289985935182,
          -0.519930862281465,
          -1.1875187855113214,
          0.28321083692873156,
          0.4439022981463856,
          -0.647070647038372,
          -0.13382994045631505,
          -0.8231744385020477,
          -0.7760002891058501,
          -1.8811016466011998,
          -0.5400669646741258,
          0.6417993920365667,
          -1.0750433645350408,
          -0.8535304068144485,
          1.7366198720263866,
          -0.7460551345224858,
          -0.42652411311431265,
          0.20228592023185543,
          -1.2709086692771747,
          -1.4133149883151543,
          0.548228842737083,
          -0.9812532497119463,
          -1.4533376337289736,
          0.15096058684193256,
          1.1737197584881935,
          -0.052932881986239355,
          0.11726895488462656,
          -1.2633287230708576,
          -1.4576819453135772,
          -1.3093283709027084,
          -0.3055126935028742,
          -0.04722359550452384,
          0.11528089339140782,
          -0.12480741368796602,
          0.5678519074032968,
          -1.651854518362437,
          -0.3672919727036017,
          0.25200949602089007,
          -0.37351570168002984,
          -1.045903428320767,
          0.5206368286408477,
          1.1232227278371094,
          -1.340085574768691,
          -0.86400745936875,
          1.0550957715631073,
          0.459542071919937,
          -0.21526127396496744,
          -0.08755215527323648,
          0.49115860321273747,
          -0.22641865914983392,
          -0.900489261026163,
          -0.4097112328735374,
          -0.4670675693241242,
          0.36811600188979976,
          -0.035211946204871995,
          0.5760790785247979,
          -0.2898062105937861,
          -0.6454669574803571,
          1.0872247062936047,
          0.8388304270804362,
          1.2010283395645696,
          0.9091166353159125,
          -0.4165958388206629,
          -0.6321804012839619,
          0.09215744767250596,
          1.5640594486311639,
          1.1593665190780447,
          0.8373592918589178,
          -0.4103626401331422,
          0.3403785041925423,
          -0.2971058215438673,
          -0.6546234291796629,
          0.6718839090767289,
          -0.08626567553004098,
          0.34493128880227797,
          -1.3166805505068733,
          -0.5915004452066159,
          0.07001232138335309,
          -0.3604605295372551,
          -0.3267979890598825,
          -0.43241655790310934,
          1.0308675380964412
         ]
        },
        {
         "connectgaps": false,
         "fill": "tozeroy",
         "line": {
          "color": "green",
          "dash": "solid",
          "shape": "linear",
          "width": 0.5
         },
         "mode": "lines",
         "name": "Spread",
         "showlegend": false,
         "type": "scatter",
         "x": [
          0,
          1,
          2,
          3,
          4,
          5,
          6,
          7,
          8,
          9,
          10,
          11,
          12,
          13,
          14,
          15,
          16,
          17,
          18,
          19,
          20,
          21,
          22,
          23,
          24,
          25,
          26,
          27,
          28,
          29,
          30,
          31,
          32,
          33,
          34,
          35,
          36,
          37,
          38,
          39,
          40,
          41,
          42,
          43,
          44,
          45,
          46,
          47,
          48,
          49,
          50,
          51,
          52,
          53,
          54,
          55,
          56,
          57,
          58,
          59,
          60,
          61,
          62,
          63,
          64,
          65,
          66,
          67,
          68,
          69,
          70,
          71,
          72,
          73,
          74,
          75,
          76,
          77,
          78,
          79,
          80,
          81,
          82,
          83,
          84,
          85,
          86,
          87,
          88,
          89,
          90,
          91,
          92,
          93,
          94,
          95,
          96,
          97,
          98,
          99
         ],
         "xaxis": "x2",
         "y": [
          "",
          2.450607513536159,
          0.8087167588038259,
          0.1432451089218204,
          1.1609954202655346,
          "",
          1.6145725775339939,
          "",
          "",
          0.9485905735225153,
          0.031396803649324845,
          1.52173608383778,
          3.23375403726453,
          "",
          2.6296646524596676,
          "",
          0.15329308609884018,
          0.5280430008195534,
          "",
          "",
          1.0004902958220803,
          "",
          "",
          0.5573067733108124,
          1.7028253165168294,
          "",
          1.5330850272760719,
          2.069817733603498,
          0.7411384274521304,
          "",
          1.7501192950878686,
          "",
          "",
          "",
          "",
          0.795579007205829,
          2.415890973631224,
          1.3320872246927487,
          "",
          0.6532801050016303,
          0.7480626290029828,
          "",
          "",
          "",
          1.6273778795416354,
          3.349931411508198,
          1.1001601357730464,
          "",
          "",
          0.02772399317739733,
          "",
          0.45248909310196617,
          0.8268794944623534,
          0.7811272886689516,
          2.487208638474221,
          0.10731372195249717,
          "",
          0.8624337243720286,
          "",
          "",
          "",
          "",
          "",
          "",
          "",
          1.532709371368335,
          1.5402496831395993,
          0.7689784657703785,
          0.4229680729677609,
          1.7405394866696398,
          1.5214212607260262,
          1.2448246231709232,
          "",
          "",
          0.35823660262916485,
          "",
          "",
          "",
          1.2411547269336445,
          "",
          "",
          0.24815282912832776,
          1.1982198792564618,
          "",
          "",
          "",
          2.942024561764007,
          "",
          1.7192830919507829,
          0.8728273129638345,
          "",
          1.3455746543864717,
          0.05885292346704274,
          1.7271193460062648,
          0.6087100919349396,
          "",
          "",
          0.4562444247295282,
          "",
          ""
         ],
         "yaxis": "y2"
        },
        {
         "connectgaps": false,
         "fill": "tozeroy",
         "line": {
          "color": "red",
          "dash": "solid",
          "shape": "linear",
          "width": 0.5
         },
         "mode": "lines",
         "name": "Spread",
         "showlegend": false,
         "type": "scatter",
         "x": [
          0,
          1,
          2,
          3,
          4,
          5,
          6,
          7,
          8,
          9,
          10,
          11,
          12,
          13,
          14,
          15,
          16,
          17,
          18,
          19,
          20,
          21,
          22,
          23,
          24,
          25,
          26,
          27,
          28,
          29,
          30,
          31,
          32,
          33,
          34,
          35,
          36,
          37,
          38,
          39,
          40,
          41,
          42,
          43,
          44,
          45,
          46,
          47,
          48,
          49,
          50,
          51,
          52,
          53,
          54,
          55,
          56,
          57,
          58,
          59,
          60,
          61,
          62,
          63,
          64,
          65,
          66,
          67,
          68,
          69,
          70,
          71,
          72,
          73,
          74,
          75,
          76,
          77,
          78,
          79,
          80,
          81,
          82,
          83,
          84,
          85,
          86,
          87,
          88,
          89,
          90,
          91,
          92,
          93,
          94,
          95,
          96,
          97,
          98,
          99
         ],
         "xaxis": "x2",
         "y": [
          -2.045644304478592,
          "",
          "",
          "",
          "",
          -1.1167587985164358,
          "",
          -0.4883081414469351,
          -0.21944059801411542,
          "",
          "",
          "",
          "",
          -3.4654337505595527,
          "",
          -0.1713833392866562,
          "",
          "",
          -0.5130482297442732,
          -0.8641312719826143,
          "",
          -0.305595333321588,
          -0.21881338370551973,
          "",
          "",
          -0.0656694190259437,
          "",
          "",
          "",
          -1.579469274201725,
          "",
          -1.793098135713009,
          -1.361857221568256,
          -0.1549488683786081,
          -0.5385145859300875,
          "",
          "",
          "",
          -1.012221719255398,
          "",
          "",
          -0.9913851595638932,
          -2.9764398210874337,
          -0.3631966778039975,
          "",
          "",
          "",
          -0.08766930582797339,
          -1.9037346420922836,
          "",
          -0.547776272067359,
          "",
          "",
          "",
          "",
          "",
          -1.4900837742419057,
          "",
          -0.3180034695091074,
          -1.596714502739874,
          -0.11195066952817445,
          -1.2509424096259956,
          -0.14201745646989383,
          -1.0090557469414874,
          -0.8808008544105038,
          "",
          "",
          "",
          "",
          "",
          "",
          "",
          -0.5757506299135222,
          -0.9582664356169774,
          "",
          -0.20578724754848987,
          -1.5638739075941521,
          -1.4278498441968688,
          "",
          -1.5285336227514925,
          -0.8056658641536523,
          "",
          "",
          -0.9669318141480823,
          -0.966432659434852,
          -2.7804999391758427,
          "",
          -1.4057304021139088,
          "",
          "",
          -0.8466168717259082,
          "",
          "",
          "",
          "",
          -0.014550431915854166,
          -0.5258925076315903,
          "",
          -0.24465361649582568,
          -2.1911826479040313
         ],
         "yaxis": "y2"
        }
       ],
       "layout": {
        "hovermode": "x",
        "legend": {
         "bgcolor": "#F5F6F9",
         "font": {
          "color": "#4D5663"
         }
        },
        "paper_bgcolor": "#F5F6F9",
        "plot_bgcolor": "#F5F6F9",
        "template": {
         "data": {
          "bar": [
           {
            "error_x": {
             "color": "#2a3f5f"
            },
            "error_y": {
             "color": "#2a3f5f"
            },
            "marker": {
             "line": {
              "color": "#E5ECF6",
              "width": 0.5
             }
            },
            "type": "bar"
           }
          ],
          "barpolar": [
           {
            "marker": {
             "line": {
              "color": "#E5ECF6",
              "width": 0.5
             }
            },
            "type": "barpolar"
           }
          ],
          "carpet": [
           {
            "aaxis": {
             "endlinecolor": "#2a3f5f",
             "gridcolor": "white",
             "linecolor": "white",
             "minorgridcolor": "white",
             "startlinecolor": "#2a3f5f"
            },
            "baxis": {
             "endlinecolor": "#2a3f5f",
             "gridcolor": "white",
             "linecolor": "white",
             "minorgridcolor": "white",
             "startlinecolor": "#2a3f5f"
            },
            "type": "carpet"
           }
          ],
          "choropleth": [
           {
            "colorbar": {
             "outlinewidth": 0,
             "ticks": ""
            },
            "type": "choropleth"
           }
          ],
          "contour": [
           {
            "colorbar": {
             "outlinewidth": 0,
             "ticks": ""
            },
            "colorscale": [
             [
              0,
              "#0d0887"
             ],
             [
              0.1111111111111111,
              "#46039f"
             ],
             [
              0.2222222222222222,
              "#7201a8"
             ],
             [
              0.3333333333333333,
              "#9c179e"
             ],
             [
              0.4444444444444444,
              "#bd3786"
             ],
             [
              0.5555555555555556,
              "#d8576b"
             ],
             [
              0.6666666666666666,
              "#ed7953"
             ],
             [
              0.7777777777777778,
              "#fb9f3a"
             ],
             [
              0.8888888888888888,
              "#fdca26"
             ],
             [
              1,
              "#f0f921"
             ]
            ],
            "type": "contour"
           }
          ],
          "contourcarpet": [
           {
            "colorbar": {
             "outlinewidth": 0,
             "ticks": ""
            },
            "type": "contourcarpet"
           }
          ],
          "heatmap": [
           {
            "colorbar": {
             "outlinewidth": 0,
             "ticks": ""
            },
            "colorscale": [
             [
              0,
              "#0d0887"
             ],
             [
              0.1111111111111111,
              "#46039f"
             ],
             [
              0.2222222222222222,
              "#7201a8"
             ],
             [
              0.3333333333333333,
              "#9c179e"
             ],
             [
              0.4444444444444444,
              "#bd3786"
             ],
             [
              0.5555555555555556,
              "#d8576b"
             ],
             [
              0.6666666666666666,
              "#ed7953"
             ],
             [
              0.7777777777777778,
              "#fb9f3a"
             ],
             [
              0.8888888888888888,
              "#fdca26"
             ],
             [
              1,
              "#f0f921"
             ]
            ],
            "type": "heatmap"
           }
          ],
          "heatmapgl": [
           {
            "colorbar": {
             "outlinewidth": 0,
             "ticks": ""
            },
            "colorscale": [
             [
              0,
              "#0d0887"
             ],
             [
              0.1111111111111111,
              "#46039f"
             ],
             [
              0.2222222222222222,
              "#7201a8"
             ],
             [
              0.3333333333333333,
              "#9c179e"
             ],
             [
              0.4444444444444444,
              "#bd3786"
             ],
             [
              0.5555555555555556,
              "#d8576b"
             ],
             [
              0.6666666666666666,
              "#ed7953"
             ],
             [
              0.7777777777777778,
              "#fb9f3a"
             ],
             [
              0.8888888888888888,
              "#fdca26"
             ],
             [
              1,
              "#f0f921"
             ]
            ],
            "type": "heatmapgl"
           }
          ],
          "histogram": [
           {
            "marker": {
             "colorbar": {
              "outlinewidth": 0,
              "ticks": ""
             }
            },
            "type": "histogram"
           }
          ],
          "histogram2d": [
           {
            "colorbar": {
             "outlinewidth": 0,
             "ticks": ""
            },
            "colorscale": [
             [
              0,
              "#0d0887"
             ],
             [
              0.1111111111111111,
              "#46039f"
             ],
             [
              0.2222222222222222,
              "#7201a8"
             ],
             [
              0.3333333333333333,
              "#9c179e"
             ],
             [
              0.4444444444444444,
              "#bd3786"
             ],
             [
              0.5555555555555556,
              "#d8576b"
             ],
             [
              0.6666666666666666,
              "#ed7953"
             ],
             [
              0.7777777777777778,
              "#fb9f3a"
             ],
             [
              0.8888888888888888,
              "#fdca26"
             ],
             [
              1,
              "#f0f921"
             ]
            ],
            "type": "histogram2d"
           }
          ],
          "histogram2dcontour": [
           {
            "colorbar": {
             "outlinewidth": 0,
             "ticks": ""
            },
            "colorscale": [
             [
              0,
              "#0d0887"
             ],
             [
              0.1111111111111111,
              "#46039f"
             ],
             [
              0.2222222222222222,
              "#7201a8"
             ],
             [
              0.3333333333333333,
              "#9c179e"
             ],
             [
              0.4444444444444444,
              "#bd3786"
             ],
             [
              0.5555555555555556,
              "#d8576b"
             ],
             [
              0.6666666666666666,
              "#ed7953"
             ],
             [
              0.7777777777777778,
              "#fb9f3a"
             ],
             [
              0.8888888888888888,
              "#fdca26"
             ],
             [
              1,
              "#f0f921"
             ]
            ],
            "type": "histogram2dcontour"
           }
          ],
          "mesh3d": [
           {
            "colorbar": {
             "outlinewidth": 0,
             "ticks": ""
            },
            "type": "mesh3d"
           }
          ],
          "parcoords": [
           {
            "line": {
             "colorbar": {
              "outlinewidth": 0,
              "ticks": ""
             }
            },
            "type": "parcoords"
           }
          ],
          "pie": [
           {
            "automargin": true,
            "type": "pie"
           }
          ],
          "scatter": [
           {
            "marker": {
             "colorbar": {
              "outlinewidth": 0,
              "ticks": ""
             }
            },
            "type": "scatter"
           }
          ],
          "scatter3d": [
           {
            "line": {
             "colorbar": {
              "outlinewidth": 0,
              "ticks": ""
             }
            },
            "marker": {
             "colorbar": {
              "outlinewidth": 0,
              "ticks": ""
             }
            },
            "type": "scatter3d"
           }
          ],
          "scattercarpet": [
           {
            "marker": {
             "colorbar": {
              "outlinewidth": 0,
              "ticks": ""
             }
            },
            "type": "scattercarpet"
           }
          ],
          "scattergeo": [
           {
            "marker": {
             "colorbar": {
              "outlinewidth": 0,
              "ticks": ""
             }
            },
            "type": "scattergeo"
           }
          ],
          "scattergl": [
           {
            "marker": {
             "colorbar": {
              "outlinewidth": 0,
              "ticks": ""
             }
            },
            "type": "scattergl"
           }
          ],
          "scattermapbox": [
           {
            "marker": {
             "colorbar": {
              "outlinewidth": 0,
              "ticks": ""
             }
            },
            "type": "scattermapbox"
           }
          ],
          "scatterpolar": [
           {
            "marker": {
             "colorbar": {
              "outlinewidth": 0,
              "ticks": ""
             }
            },
            "type": "scatterpolar"
           }
          ],
          "scatterpolargl": [
           {
            "marker": {
             "colorbar": {
              "outlinewidth": 0,
              "ticks": ""
             }
            },
            "type": "scatterpolargl"
           }
          ],
          "scatterternary": [
           {
            "marker": {
             "colorbar": {
              "outlinewidth": 0,
              "ticks": ""
             }
            },
            "type": "scatterternary"
           }
          ],
          "surface": [
           {
            "colorbar": {
             "outlinewidth": 0,
             "ticks": ""
            },
            "colorscale": [
             [
              0,
              "#0d0887"
             ],
             [
              0.1111111111111111,
              "#46039f"
             ],
             [
              0.2222222222222222,
              "#7201a8"
             ],
             [
              0.3333333333333333,
              "#9c179e"
             ],
             [
              0.4444444444444444,
              "#bd3786"
             ],
             [
              0.5555555555555556,
              "#d8576b"
             ],
             [
              0.6666666666666666,
              "#ed7953"
             ],
             [
              0.7777777777777778,
              "#fb9f3a"
             ],
             [
              0.8888888888888888,
              "#fdca26"
             ],
             [
              1,
              "#f0f921"
             ]
            ],
            "type": "surface"
           }
          ],
          "table": [
           {
            "cells": {
             "fill": {
              "color": "#EBF0F8"
             },
             "line": {
              "color": "white"
             }
            },
            "header": {
             "fill": {
              "color": "#C8D4E3"
             },
             "line": {
              "color": "white"
             }
            },
            "type": "table"
           }
          ]
         },
         "layout": {
          "annotationdefaults": {
           "arrowcolor": "#2a3f5f",
           "arrowhead": 0,
           "arrowwidth": 1
          },
          "autotypenumbers": "strict",
          "coloraxis": {
           "colorbar": {
            "outlinewidth": 0,
            "ticks": ""
           }
          },
          "colorscale": {
           "diverging": [
            [
             0,
             "#8e0152"
            ],
            [
             0.1,
             "#c51b7d"
            ],
            [
             0.2,
             "#de77ae"
            ],
            [
             0.3,
             "#f1b6da"
            ],
            [
             0.4,
             "#fde0ef"
            ],
            [
             0.5,
             "#f7f7f7"
            ],
            [
             0.6,
             "#e6f5d0"
            ],
            [
             0.7,
             "#b8e186"
            ],
            [
             0.8,
             "#7fbc41"
            ],
            [
             0.9,
             "#4d9221"
            ],
            [
             1,
             "#276419"
            ]
           ],
           "sequential": [
            [
             0,
             "#0d0887"
            ],
            [
             0.1111111111111111,
             "#46039f"
            ],
            [
             0.2222222222222222,
             "#7201a8"
            ],
            [
             0.3333333333333333,
             "#9c179e"
            ],
            [
             0.4444444444444444,
             "#bd3786"
            ],
            [
             0.5555555555555556,
             "#d8576b"
            ],
            [
             0.6666666666666666,
             "#ed7953"
            ],
            [
             0.7777777777777778,
             "#fb9f3a"
            ],
            [
             0.8888888888888888,
             "#fdca26"
            ],
            [
             1,
             "#f0f921"
            ]
           ],
           "sequentialminus": [
            [
             0,
             "#0d0887"
            ],
            [
             0.1111111111111111,
             "#46039f"
            ],
            [
             0.2222222222222222,
             "#7201a8"
            ],
            [
             0.3333333333333333,
             "#9c179e"
            ],
            [
             0.4444444444444444,
             "#bd3786"
            ],
            [
             0.5555555555555556,
             "#d8576b"
            ],
            [
             0.6666666666666666,
             "#ed7953"
            ],
            [
             0.7777777777777778,
             "#fb9f3a"
            ],
            [
             0.8888888888888888,
             "#fdca26"
            ],
            [
             1,
             "#f0f921"
            ]
           ]
          },
          "colorway": [
           "#636efa",
           "#EF553B",
           "#00cc96",
           "#ab63fa",
           "#FFA15A",
           "#19d3f3",
           "#FF6692",
           "#B6E880",
           "#FF97FF",
           "#FECB52"
          ],
          "font": {
           "color": "#2a3f5f"
          },
          "geo": {
           "bgcolor": "white",
           "lakecolor": "white",
           "landcolor": "#E5ECF6",
           "showlakes": true,
           "showland": true,
           "subunitcolor": "white"
          },
          "hoverlabel": {
           "align": "left"
          },
          "hovermode": "closest",
          "mapbox": {
           "style": "light"
          },
          "paper_bgcolor": "white",
          "plot_bgcolor": "#E5ECF6",
          "polar": {
           "angularaxis": {
            "gridcolor": "white",
            "linecolor": "white",
            "ticks": ""
           },
           "bgcolor": "#E5ECF6",
           "radialaxis": {
            "gridcolor": "white",
            "linecolor": "white",
            "ticks": ""
           }
          },
          "scene": {
           "xaxis": {
            "backgroundcolor": "#E5ECF6",
            "gridcolor": "white",
            "gridwidth": 2,
            "linecolor": "white",
            "showbackground": true,
            "ticks": "",
            "zerolinecolor": "white"
           },
           "yaxis": {
            "backgroundcolor": "#E5ECF6",
            "gridcolor": "white",
            "gridwidth": 2,
            "linecolor": "white",
            "showbackground": true,
            "ticks": "",
            "zerolinecolor": "white"
           },
           "zaxis": {
            "backgroundcolor": "#E5ECF6",
            "gridcolor": "white",
            "gridwidth": 2,
            "linecolor": "white",
            "showbackground": true,
            "ticks": "",
            "zerolinecolor": "white"
           }
          },
          "shapedefaults": {
           "line": {
            "color": "#2a3f5f"
           }
          },
          "ternary": {
           "aaxis": {
            "gridcolor": "white",
            "linecolor": "white",
            "ticks": ""
           },
           "baxis": {
            "gridcolor": "white",
            "linecolor": "white",
            "ticks": ""
           },
           "bgcolor": "#E5ECF6",
           "caxis": {
            "gridcolor": "white",
            "linecolor": "white",
            "ticks": ""
           }
          },
          "title": {
           "x": 0.05
          },
          "xaxis": {
           "automargin": true,
           "gridcolor": "white",
           "linecolor": "white",
           "ticks": "",
           "title": {
            "standoff": 15
           },
           "zerolinecolor": "white",
           "zerolinewidth": 2
          },
          "yaxis": {
           "automargin": true,
           "gridcolor": "white",
           "linecolor": "white",
           "ticks": "",
           "title": {
            "standoff": 15
           },
           "zerolinecolor": "white",
           "zerolinewidth": 2
          }
         }
        },
        "title": {
         "font": {
          "color": "#4D5663"
         }
        },
        "xaxis": {
         "gridcolor": "#E1E5ED",
         "showgrid": true,
         "tickfont": {
          "color": "#4D5663"
         },
         "title": {
          "font": {
           "color": "#4D5663"
          },
          "text": ""
         },
         "zerolinecolor": "#E1E5ED"
        },
        "xaxis2": {
         "anchor": "y2",
         "gridcolor": "#E1E5ED",
         "showgrid": true,
         "showticklabels": false,
         "tickfont": {
          "color": "#4D5663"
         },
         "title": {
          "font": {
           "color": "#4D5663"
          },
          "text": ""
         },
         "zerolinecolor": "#E1E5ED"
        },
        "yaxis": {
         "domain": [
          0.3,
          1
         ],
         "gridcolor": "#E1E5ED",
         "showgrid": true,
         "tickfont": {
          "color": "#4D5663"
         },
         "title": {
          "font": {
           "color": "#4D5663"
          },
          "text": ""
         },
         "zerolinecolor": "#E1E5ED"
        },
        "yaxis2": {
         "domain": [
          0,
          0.25
         ],
         "gridcolor": "#E1E5ED",
         "showgrid": true,
         "tickfont": {
          "color": "#4D5663"
         },
         "title": {
          "font": {
           "color": "#4D5663"
          },
          "text": "Spread"
         },
         "zerolinecolor": "#E1E5ED"
        }
       }
      },
      "text/html": [
       "<div>                            <div id=\"49bc450d-4309-43e8-9bab-bfd12cf26fe5\" class=\"plotly-graph-div\" style=\"height:525px; width:100%;\"></div>            <script type=\"text/javascript\">                require([\"plotly\"], function(Plotly) {                    window.PLOTLYENV=window.PLOTLYENV || {};\n",
       "                    window.PLOTLYENV.BASE_URL='https://plot.ly';                                    if (document.getElementById(\"49bc450d-4309-43e8-9bab-bfd12cf26fe5\")) {                    Plotly.newPlot(                        \"49bc450d-4309-43e8-9bab-bfd12cf26fe5\",                        [{\"line\": {\"color\": \"rgba(255, 153, 51, 1.0)\", \"dash\": \"solid\", \"shape\": \"linear\", \"width\": 1.3}, \"mode\": \"lines\", \"name\": \"a\", \"text\": \"\", \"type\": \"scatter\", \"x\": [0, 1, 2, 3, 4, 5, 6, 7, 8, 9, 10, 11, 12, 13, 14, 15, 16, 17, 18, 19, 20, 21, 22, 23, 24, 25, 26, 27, 28, 29, 30, 31, 32, 33, 34, 35, 36, 37, 38, 39, 40, 41, 42, 43, 44, 45, 46, 47, 48, 49, 50, 51, 52, 53, 54, 55, 56, 57, 58, 59, 60, 61, 62, 63, 64, 65, 66, 67, 68, 69, 70, 71, 72, 73, 74, 75, 76, 77, 78, 79, 80, 81, 82, 83, 84, 85, 86, 87, 88, 89, 90, 91, 92, 93, 94, 95, 96, 97, 98, 99], \"y\": [-0.2939247089538375, 2.0970076509999784, 0.6173777106200816, 0.23750356151887284, 1.4742614481713527, -0.5385616431849475, -0.45321074945949447, 0.12167449125140922, 0.20428924065632798, 0.22236282194300827, -0.6875098311811151, 0.359616715882246, 2.3950352145362634, -1.6207985178635114, 1.1035412290025228, 0.08046177444574407, 0.6606756828275522, -0.23956254477490263, -0.17851923115075505, -1.3840621342640793, -0.18702848968924107, -0.022384496392856452, 0.22508891444086587, -0.08976387372755973, 1.5689953760605144, -0.8888438575279914, 0.7570847381702218, 0.18871608700229803, 0.2010714627780046, -0.9376698821651582, 0.6750759305528278, -2.6466285425274574, 0.37476265045813056, -0.901004002901094, -0.9650386990444001, 0.9978649274376844, 1.1449823043540495, -0.08122776362240577, -0.46399287651831483, -0.327973144710316, -0.7052750047259908, -0.8404245727219606, -1.8027200625992401, -0.41612955979023686, 1.744646834426262, 2.08660268843734, -0.3575218095405308, -1.3969976767306818, -2.209247335595158, -0.01949960232712651, -0.43249537867595117, 0.3276816794140001, 1.3947314018656503, -0.8707272296934853, 2.119916665770619, 0.35932321797338723, -1.8635994759219356, -0.18346970394873846, 0.20263335913174033, -0.47349177490276445, -1.4520362442968655, -2.1149498689947457, 0.9130783150932135, -0.5495136750215502, -1.0960621283754712, 1.4451572160950985, 2.031408286352337, 0.5425598066205446, -0.4775211880584021, 1.3308282537961023, 1.054353691401902, 1.612940625060723, -0.6109625761183942, -0.3821873570921796, 0.06843039203537875, -0.851254205028847, -0.4766492013005475, -0.5890194171164326, 2.442183066498214, -0.6194169874355799, -1.2222617029743152, -0.38402757215563416, 1.2903773269289678, 0.5971276344830816, 0.19293385964319268, -1.943140647316925, 2.5316619216308647, -1.0653518979213665, 1.4221772704069156, 0.2182038837841717, -0.17473296264917926, 1.2593089788564307, 0.4037842122693207, 0.41043879549939155, 0.017209646728323726, 0.05546188946749892, -0.8863530371688454, 0.1294464356696457, -0.677070174398935, -1.16031510980759]}, {\"line\": {\"color\": \"rgba(55, 128, 191, 1.0)\", \"dash\": \"solid\", \"shape\": \"linear\", \"width\": 1.3}, \"mode\": \"lines\", \"name\": \"b\", \"text\": \"\", \"type\": \"scatter\", \"x\": [0, 1, 2, 3, 4, 5, 6, 7, 8, 9, 10, 11, 12, 13, 14, 15, 16, 17, 18, 19, 20, 21, 22, 23, 24, 25, 26, 27, 28, 29, 30, 31, 32, 33, 34, 35, 36, 37, 38, 39, 40, 41, 42, 43, 44, 45, 46, 47, 48, 49, 50, 51, 52, 53, 54, 55, 56, 57, 58, 59, 60, 61, 62, 63, 64, 65, 66, 67, 68, 69, 70, 71, 72, 73, 74, 75, 76, 77, 78, 79, 80, 81, 82, 83, 84, 85, 86, 87, 88, 89, 90, 91, 92, 93, 94, 95, 96, 97, 98, 99], \"y\": [1.7517195955247546, -0.35359986253618086, -0.19133904818374425, 0.09425845259705241, 0.3132660279058182, 0.5781971553314883, -2.067783326993488, 0.6099826326983443, 0.4237298386704434, -0.726227751579507, -0.7189066348304399, -1.1621193679555342, -0.8387188227282664, 1.8446352326960413, -1.5261234234571448, 0.25184511373240026, 0.507382596728712, -0.7676055455944559, 0.3345289985935182, -0.519930862281465, -1.1875187855113214, 0.28321083692873156, 0.4439022981463856, -0.647070647038372, -0.13382994045631505, -0.8231744385020477, -0.7760002891058501, -1.8811016466011998, -0.5400669646741258, 0.6417993920365667, -1.0750433645350408, -0.8535304068144485, 1.7366198720263866, -0.7460551345224858, -0.42652411311431265, 0.20228592023185543, -1.2709086692771747, -1.4133149883151543, 0.548228842737083, -0.9812532497119463, -1.4533376337289736, 0.15096058684193256, 1.1737197584881935, -0.052932881986239355, 0.11726895488462656, -1.2633287230708576, -1.4576819453135772, -1.3093283709027084, -0.3055126935028742, -0.04722359550452384, 0.11528089339140782, -0.12480741368796602, 0.5678519074032968, -1.651854518362437, -0.3672919727036017, 0.25200949602089007, -0.37351570168002984, -1.045903428320767, 0.5206368286408477, 1.1232227278371094, -1.340085574768691, -0.86400745936875, 1.0550957715631073, 0.459542071919937, -0.21526127396496744, -0.08755215527323648, 0.49115860321273747, -0.22641865914983392, -0.900489261026163, -0.4097112328735374, -0.4670675693241242, 0.36811600188979976, -0.035211946204871995, 0.5760790785247979, -0.2898062105937861, -0.6454669574803571, 1.0872247062936047, 0.8388304270804362, 1.2010283395645696, 0.9091166353159125, -0.4165958388206629, -0.6321804012839619, 0.09215744767250596, 1.5640594486311639, 1.1593665190780447, 0.8373592918589178, -0.4103626401331422, 0.3403785041925423, -0.2971058215438673, -0.6546234291796629, 0.6718839090767289, -0.08626567553004098, 0.34493128880227797, -1.3166805505068733, -0.5915004452066159, 0.07001232138335309, -0.3604605295372551, -0.3267979890598825, -0.43241655790310934, 1.0308675380964412]}, {\"connectgaps\": false, \"fill\": \"tozeroy\", \"line\": {\"color\": \"green\", \"dash\": \"solid\", \"shape\": \"linear\", \"width\": 0.5}, \"mode\": \"lines\", \"name\": \"Spread\", \"showlegend\": false, \"type\": \"scatter\", \"x\": [0, 1, 2, 3, 4, 5, 6, 7, 8, 9, 10, 11, 12, 13, 14, 15, 16, 17, 18, 19, 20, 21, 22, 23, 24, 25, 26, 27, 28, 29, 30, 31, 32, 33, 34, 35, 36, 37, 38, 39, 40, 41, 42, 43, 44, 45, 46, 47, 48, 49, 50, 51, 52, 53, 54, 55, 56, 57, 58, 59, 60, 61, 62, 63, 64, 65, 66, 67, 68, 69, 70, 71, 72, 73, 74, 75, 76, 77, 78, 79, 80, 81, 82, 83, 84, 85, 86, 87, 88, 89, 90, 91, 92, 93, 94, 95, 96, 97, 98, 99], \"xaxis\": \"x2\", \"y\": [\"\", 2.450607513536159, 0.8087167588038259, 0.1432451089218204, 1.1609954202655346, \"\", 1.6145725775339939, \"\", \"\", 0.9485905735225153, 0.031396803649324845, 1.52173608383778, 3.23375403726453, \"\", 2.6296646524596676, \"\", 0.15329308609884018, 0.5280430008195534, \"\", \"\", 1.0004902958220803, \"\", \"\", 0.5573067733108124, 1.7028253165168294, \"\", 1.5330850272760719, 2.069817733603498, 0.7411384274521304, \"\", 1.7501192950878686, \"\", \"\", \"\", \"\", 0.795579007205829, 2.415890973631224, 1.3320872246927487, \"\", 0.6532801050016303, 0.7480626290029828, \"\", \"\", \"\", 1.6273778795416354, 3.349931411508198, 1.1001601357730464, \"\", \"\", 0.02772399317739733, \"\", 0.45248909310196617, 0.8268794944623534, 0.7811272886689516, 2.487208638474221, 0.10731372195249717, \"\", 0.8624337243720286, \"\", \"\", \"\", \"\", \"\", \"\", \"\", 1.532709371368335, 1.5402496831395993, 0.7689784657703785, 0.4229680729677609, 1.7405394866696398, 1.5214212607260262, 1.2448246231709232, \"\", \"\", 0.35823660262916485, \"\", \"\", \"\", 1.2411547269336445, \"\", \"\", 0.24815282912832776, 1.1982198792564618, \"\", \"\", \"\", 2.942024561764007, \"\", 1.7192830919507829, 0.8728273129638345, \"\", 1.3455746543864717, 0.05885292346704274, 1.7271193460062648, 0.6087100919349396, \"\", \"\", 0.4562444247295282, \"\", \"\"], \"yaxis\": \"y2\"}, {\"connectgaps\": false, \"fill\": \"tozeroy\", \"line\": {\"color\": \"red\", \"dash\": \"solid\", \"shape\": \"linear\", \"width\": 0.5}, \"mode\": \"lines\", \"name\": \"Spread\", \"showlegend\": false, \"type\": \"scatter\", \"x\": [0, 1, 2, 3, 4, 5, 6, 7, 8, 9, 10, 11, 12, 13, 14, 15, 16, 17, 18, 19, 20, 21, 22, 23, 24, 25, 26, 27, 28, 29, 30, 31, 32, 33, 34, 35, 36, 37, 38, 39, 40, 41, 42, 43, 44, 45, 46, 47, 48, 49, 50, 51, 52, 53, 54, 55, 56, 57, 58, 59, 60, 61, 62, 63, 64, 65, 66, 67, 68, 69, 70, 71, 72, 73, 74, 75, 76, 77, 78, 79, 80, 81, 82, 83, 84, 85, 86, 87, 88, 89, 90, 91, 92, 93, 94, 95, 96, 97, 98, 99], \"xaxis\": \"x2\", \"y\": [-2.045644304478592, \"\", \"\", \"\", \"\", -1.1167587985164358, \"\", -0.4883081414469351, -0.21944059801411542, \"\", \"\", \"\", \"\", -3.4654337505595527, \"\", -0.1713833392866562, \"\", \"\", -0.5130482297442732, -0.8641312719826143, \"\", -0.305595333321588, -0.21881338370551973, \"\", \"\", -0.0656694190259437, \"\", \"\", \"\", -1.579469274201725, \"\", -1.793098135713009, -1.361857221568256, -0.1549488683786081, -0.5385145859300875, \"\", \"\", \"\", -1.012221719255398, \"\", \"\", -0.9913851595638932, -2.9764398210874337, -0.3631966778039975, \"\", \"\", \"\", -0.08766930582797339, -1.9037346420922836, \"\", -0.547776272067359, \"\", \"\", \"\", \"\", \"\", -1.4900837742419057, \"\", -0.3180034695091074, -1.596714502739874, -0.11195066952817445, -1.2509424096259956, -0.14201745646989383, -1.0090557469414874, -0.8808008544105038, \"\", \"\", \"\", \"\", \"\", \"\", \"\", -0.5757506299135222, -0.9582664356169774, \"\", -0.20578724754848987, -1.5638739075941521, -1.4278498441968688, \"\", -1.5285336227514925, -0.8056658641536523, \"\", \"\", -0.9669318141480823, -0.966432659434852, -2.7804999391758427, \"\", -1.4057304021139088, \"\", \"\", -0.8466168717259082, \"\", \"\", \"\", \"\", -0.014550431915854166, -0.5258925076315903, \"\", -0.24465361649582568, -2.1911826479040313], \"yaxis\": \"y2\"}],                        {\"hovermode\": \"x\", \"legend\": {\"bgcolor\": \"#F5F6F9\", \"font\": {\"color\": \"#4D5663\"}}, \"paper_bgcolor\": \"#F5F6F9\", \"plot_bgcolor\": \"#F5F6F9\", \"template\": {\"data\": {\"bar\": [{\"error_x\": {\"color\": \"#2a3f5f\"}, \"error_y\": {\"color\": \"#2a3f5f\"}, \"marker\": {\"line\": {\"color\": \"#E5ECF6\", \"width\": 0.5}}, \"type\": \"bar\"}], \"barpolar\": [{\"marker\": {\"line\": {\"color\": \"#E5ECF6\", \"width\": 0.5}}, \"type\": \"barpolar\"}], \"carpet\": [{\"aaxis\": {\"endlinecolor\": \"#2a3f5f\", \"gridcolor\": \"white\", \"linecolor\": \"white\", \"minorgridcolor\": \"white\", \"startlinecolor\": \"#2a3f5f\"}, \"baxis\": {\"endlinecolor\": \"#2a3f5f\", \"gridcolor\": \"white\", \"linecolor\": \"white\", \"minorgridcolor\": \"white\", \"startlinecolor\": \"#2a3f5f\"}, \"type\": \"carpet\"}], \"choropleth\": [{\"colorbar\": {\"outlinewidth\": 0, \"ticks\": \"\"}, \"type\": \"choropleth\"}], \"contour\": [{\"colorbar\": {\"outlinewidth\": 0, \"ticks\": \"\"}, \"colorscale\": [[0.0, \"#0d0887\"], [0.1111111111111111, \"#46039f\"], [0.2222222222222222, \"#7201a8\"], [0.3333333333333333, \"#9c179e\"], [0.4444444444444444, \"#bd3786\"], [0.5555555555555556, \"#d8576b\"], [0.6666666666666666, \"#ed7953\"], [0.7777777777777778, \"#fb9f3a\"], [0.8888888888888888, \"#fdca26\"], [1.0, \"#f0f921\"]], \"type\": \"contour\"}], \"contourcarpet\": [{\"colorbar\": {\"outlinewidth\": 0, \"ticks\": \"\"}, \"type\": \"contourcarpet\"}], \"heatmap\": [{\"colorbar\": {\"outlinewidth\": 0, \"ticks\": \"\"}, \"colorscale\": [[0.0, \"#0d0887\"], [0.1111111111111111, \"#46039f\"], [0.2222222222222222, \"#7201a8\"], [0.3333333333333333, \"#9c179e\"], [0.4444444444444444, \"#bd3786\"], [0.5555555555555556, \"#d8576b\"], [0.6666666666666666, \"#ed7953\"], [0.7777777777777778, \"#fb9f3a\"], [0.8888888888888888, \"#fdca26\"], [1.0, \"#f0f921\"]], \"type\": \"heatmap\"}], \"heatmapgl\": [{\"colorbar\": {\"outlinewidth\": 0, \"ticks\": \"\"}, \"colorscale\": [[0.0, \"#0d0887\"], [0.1111111111111111, \"#46039f\"], [0.2222222222222222, \"#7201a8\"], [0.3333333333333333, \"#9c179e\"], [0.4444444444444444, \"#bd3786\"], [0.5555555555555556, \"#d8576b\"], [0.6666666666666666, \"#ed7953\"], [0.7777777777777778, \"#fb9f3a\"], [0.8888888888888888, \"#fdca26\"], [1.0, \"#f0f921\"]], \"type\": \"heatmapgl\"}], \"histogram\": [{\"marker\": {\"colorbar\": {\"outlinewidth\": 0, \"ticks\": \"\"}}, \"type\": \"histogram\"}], \"histogram2d\": [{\"colorbar\": {\"outlinewidth\": 0, \"ticks\": \"\"}, \"colorscale\": [[0.0, \"#0d0887\"], [0.1111111111111111, \"#46039f\"], [0.2222222222222222, \"#7201a8\"], [0.3333333333333333, \"#9c179e\"], [0.4444444444444444, \"#bd3786\"], [0.5555555555555556, \"#d8576b\"], [0.6666666666666666, \"#ed7953\"], [0.7777777777777778, \"#fb9f3a\"], [0.8888888888888888, \"#fdca26\"], [1.0, \"#f0f921\"]], \"type\": \"histogram2d\"}], \"histogram2dcontour\": [{\"colorbar\": {\"outlinewidth\": 0, \"ticks\": \"\"}, \"colorscale\": [[0.0, \"#0d0887\"], [0.1111111111111111, \"#46039f\"], [0.2222222222222222, \"#7201a8\"], [0.3333333333333333, \"#9c179e\"], [0.4444444444444444, \"#bd3786\"], [0.5555555555555556, \"#d8576b\"], [0.6666666666666666, \"#ed7953\"], [0.7777777777777778, \"#fb9f3a\"], [0.8888888888888888, \"#fdca26\"], [1.0, \"#f0f921\"]], \"type\": \"histogram2dcontour\"}], \"mesh3d\": [{\"colorbar\": {\"outlinewidth\": 0, \"ticks\": \"\"}, \"type\": \"mesh3d\"}], \"parcoords\": [{\"line\": {\"colorbar\": {\"outlinewidth\": 0, \"ticks\": \"\"}}, \"type\": \"parcoords\"}], \"pie\": [{\"automargin\": true, \"type\": \"pie\"}], \"scatter\": [{\"marker\": {\"colorbar\": {\"outlinewidth\": 0, \"ticks\": \"\"}}, \"type\": \"scatter\"}], \"scatter3d\": [{\"line\": {\"colorbar\": {\"outlinewidth\": 0, \"ticks\": \"\"}}, \"marker\": {\"colorbar\": {\"outlinewidth\": 0, \"ticks\": \"\"}}, \"type\": \"scatter3d\"}], \"scattercarpet\": [{\"marker\": {\"colorbar\": {\"outlinewidth\": 0, \"ticks\": \"\"}}, \"type\": \"scattercarpet\"}], \"scattergeo\": [{\"marker\": {\"colorbar\": {\"outlinewidth\": 0, \"ticks\": \"\"}}, \"type\": \"scattergeo\"}], \"scattergl\": [{\"marker\": {\"colorbar\": {\"outlinewidth\": 0, \"ticks\": \"\"}}, \"type\": \"scattergl\"}], \"scattermapbox\": [{\"marker\": {\"colorbar\": {\"outlinewidth\": 0, \"ticks\": \"\"}}, \"type\": \"scattermapbox\"}], \"scatterpolar\": [{\"marker\": {\"colorbar\": {\"outlinewidth\": 0, \"ticks\": \"\"}}, \"type\": \"scatterpolar\"}], \"scatterpolargl\": [{\"marker\": {\"colorbar\": {\"outlinewidth\": 0, \"ticks\": \"\"}}, \"type\": \"scatterpolargl\"}], \"scatterternary\": [{\"marker\": {\"colorbar\": {\"outlinewidth\": 0, \"ticks\": \"\"}}, \"type\": \"scatterternary\"}], \"surface\": [{\"colorbar\": {\"outlinewidth\": 0, \"ticks\": \"\"}, \"colorscale\": [[0.0, \"#0d0887\"], [0.1111111111111111, \"#46039f\"], [0.2222222222222222, \"#7201a8\"], [0.3333333333333333, \"#9c179e\"], [0.4444444444444444, \"#bd3786\"], [0.5555555555555556, \"#d8576b\"], [0.6666666666666666, \"#ed7953\"], [0.7777777777777778, \"#fb9f3a\"], [0.8888888888888888, \"#fdca26\"], [1.0, \"#f0f921\"]], \"type\": \"surface\"}], \"table\": [{\"cells\": {\"fill\": {\"color\": \"#EBF0F8\"}, \"line\": {\"color\": \"white\"}}, \"header\": {\"fill\": {\"color\": \"#C8D4E3\"}, \"line\": {\"color\": \"white\"}}, \"type\": \"table\"}]}, \"layout\": {\"annotationdefaults\": {\"arrowcolor\": \"#2a3f5f\", \"arrowhead\": 0, \"arrowwidth\": 1}, \"autotypenumbers\": \"strict\", \"coloraxis\": {\"colorbar\": {\"outlinewidth\": 0, \"ticks\": \"\"}}, \"colorscale\": {\"diverging\": [[0, \"#8e0152\"], [0.1, \"#c51b7d\"], [0.2, \"#de77ae\"], [0.3, \"#f1b6da\"], [0.4, \"#fde0ef\"], [0.5, \"#f7f7f7\"], [0.6, \"#e6f5d0\"], [0.7, \"#b8e186\"], [0.8, \"#7fbc41\"], [0.9, \"#4d9221\"], [1, \"#276419\"]], \"sequential\": [[0.0, \"#0d0887\"], [0.1111111111111111, \"#46039f\"], [0.2222222222222222, \"#7201a8\"], [0.3333333333333333, \"#9c179e\"], [0.4444444444444444, \"#bd3786\"], [0.5555555555555556, \"#d8576b\"], [0.6666666666666666, \"#ed7953\"], [0.7777777777777778, \"#fb9f3a\"], [0.8888888888888888, \"#fdca26\"], [1.0, \"#f0f921\"]], \"sequentialminus\": [[0.0, \"#0d0887\"], [0.1111111111111111, \"#46039f\"], [0.2222222222222222, \"#7201a8\"], [0.3333333333333333, \"#9c179e\"], [0.4444444444444444, \"#bd3786\"], [0.5555555555555556, \"#d8576b\"], [0.6666666666666666, \"#ed7953\"], [0.7777777777777778, \"#fb9f3a\"], [0.8888888888888888, \"#fdca26\"], [1.0, \"#f0f921\"]]}, \"colorway\": [\"#636efa\", \"#EF553B\", \"#00cc96\", \"#ab63fa\", \"#FFA15A\", \"#19d3f3\", \"#FF6692\", \"#B6E880\", \"#FF97FF\", \"#FECB52\"], \"font\": {\"color\": \"#2a3f5f\"}, \"geo\": {\"bgcolor\": \"white\", \"lakecolor\": \"white\", \"landcolor\": \"#E5ECF6\", \"showlakes\": true, \"showland\": true, \"subunitcolor\": \"white\"}, \"hoverlabel\": {\"align\": \"left\"}, \"hovermode\": \"closest\", \"mapbox\": {\"style\": \"light\"}, \"paper_bgcolor\": \"white\", \"plot_bgcolor\": \"#E5ECF6\", \"polar\": {\"angularaxis\": {\"gridcolor\": \"white\", \"linecolor\": \"white\", \"ticks\": \"\"}, \"bgcolor\": \"#E5ECF6\", \"radialaxis\": {\"gridcolor\": \"white\", \"linecolor\": \"white\", \"ticks\": \"\"}}, \"scene\": {\"xaxis\": {\"backgroundcolor\": \"#E5ECF6\", \"gridcolor\": \"white\", \"gridwidth\": 2, \"linecolor\": \"white\", \"showbackground\": true, \"ticks\": \"\", \"zerolinecolor\": \"white\"}, \"yaxis\": {\"backgroundcolor\": \"#E5ECF6\", \"gridcolor\": \"white\", \"gridwidth\": 2, \"linecolor\": \"white\", \"showbackground\": true, \"ticks\": \"\", \"zerolinecolor\": \"white\"}, \"zaxis\": {\"backgroundcolor\": \"#E5ECF6\", \"gridcolor\": \"white\", \"gridwidth\": 2, \"linecolor\": \"white\", \"showbackground\": true, \"ticks\": \"\", \"zerolinecolor\": \"white\"}}, \"shapedefaults\": {\"line\": {\"color\": \"#2a3f5f\"}}, \"ternary\": {\"aaxis\": {\"gridcolor\": \"white\", \"linecolor\": \"white\", \"ticks\": \"\"}, \"baxis\": {\"gridcolor\": \"white\", \"linecolor\": \"white\", \"ticks\": \"\"}, \"bgcolor\": \"#E5ECF6\", \"caxis\": {\"gridcolor\": \"white\", \"linecolor\": \"white\", \"ticks\": \"\"}}, \"title\": {\"x\": 0.05}, \"xaxis\": {\"automargin\": true, \"gridcolor\": \"white\", \"linecolor\": \"white\", \"ticks\": \"\", \"title\": {\"standoff\": 15}, \"zerolinecolor\": \"white\", \"zerolinewidth\": 2}, \"yaxis\": {\"automargin\": true, \"gridcolor\": \"white\", \"linecolor\": \"white\", \"ticks\": \"\", \"title\": {\"standoff\": 15}, \"zerolinecolor\": \"white\", \"zerolinewidth\": 2}}}, \"title\": {\"font\": {\"color\": \"#4D5663\"}}, \"xaxis\": {\"gridcolor\": \"#E1E5ED\", \"showgrid\": true, \"tickfont\": {\"color\": \"#4D5663\"}, \"title\": {\"font\": {\"color\": \"#4D5663\"}, \"text\": \"\"}, \"zerolinecolor\": \"#E1E5ED\"}, \"xaxis2\": {\"anchor\": \"y2\", \"gridcolor\": \"#E1E5ED\", \"showgrid\": true, \"showticklabels\": false, \"tickfont\": {\"color\": \"#4D5663\"}, \"title\": {\"font\": {\"color\": \"#4D5663\"}, \"text\": \"\"}, \"zerolinecolor\": \"#E1E5ED\"}, \"yaxis\": {\"domain\": [0.3, 1], \"gridcolor\": \"#E1E5ED\", \"showgrid\": true, \"tickfont\": {\"color\": \"#4D5663\"}, \"title\": {\"font\": {\"color\": \"#4D5663\"}, \"text\": \"\"}, \"zerolinecolor\": \"#E1E5ED\"}, \"yaxis2\": {\"domain\": [0, 0.25], \"gridcolor\": \"#E1E5ED\", \"showgrid\": true, \"tickfont\": {\"color\": \"#4D5663\"}, \"title\": {\"font\": {\"color\": \"#4D5663\"}, \"text\": \"Spread\"}, \"zerolinecolor\": \"#E1E5ED\"}},                        {\"showLink\": true, \"linkText\": \"Export to plot.ly\", \"plotlyServerURL\": \"https://plot.ly\", \"responsive\": true}                    ).then(function(){\n",
       "                            \n",
       "var gd = document.getElementById('49bc450d-4309-43e8-9bab-bfd12cf26fe5');\n",
       "var x = new MutationObserver(function (mutations, observer) {{\n",
       "        var display = window.getComputedStyle(gd).display;\n",
       "        if (!display || display === 'none') {{\n",
       "            console.log([gd, 'removed!']);\n",
       "            Plotly.purge(gd);\n",
       "            observer.disconnect();\n",
       "        }}\n",
       "}});\n",
       "\n",
       "// Listen for the removal of the full notebook cells\n",
       "var notebookContainer = gd.closest('#notebook-container');\n",
       "if (notebookContainer) {{\n",
       "    x.observe(notebookContainer, {childList: true});\n",
       "}}\n",
       "\n",
       "// Listen for the clearing of the current output cell\n",
       "var outputEl = gd.closest('.output');\n",
       "if (outputEl) {{\n",
       "    x.observe(outputEl, {childList: true});\n",
       "}}\n",
       "\n",
       "                        })                };                });            </script>        </div>"
      ]
     },
     "metadata": {},
     "output_type": "display_data"
    }
   ],
   "source": [
    "df[['a','b']].iplot(kind='spread')\n",
    "#used to visualize or compare two stock data"
   ]
  },
  {
   "cell_type": "code",
   "execution_count": 36,
   "id": "07da8fe0",
   "metadata": {},
   "outputs": [
    {
     "data": {
      "application/vnd.plotly.v1+json": {
       "config": {
        "linkText": "Export to plot.ly",
        "plotlyServerURL": "https://plot.ly",
        "showLink": true
       },
       "data": [
        {
         "marker": {
          "color": [
           "rgb(255, 153, 51)",
           "rgb(55, 128, 191)",
           "rgb(50, 171, 96)",
           "rgb(128, 0, 128)",
           "rgb(219, 64, 82)",
           "rgb(0, 128, 128)",
           "rgb(255, 255, 51)",
           "rgb(128, 128, 0)",
           "rgb(251, 128, 114)",
           "rgb(128, 177, 211)"
          ],
          "line": {
           "width": 1.3
          },
          "size": [
           39,
           72,
           18,
           35,
           44,
           59,
           45,
           87,
           49,
           31,
           44,
           59,
           70,
           55,
           34,
           76,
           78,
           103,
           42,
           100,
           25,
           69,
           63,
           64,
           112,
           39,
           73,
           66,
           63,
           57,
           48,
           60,
           58,
           52,
           86,
           42,
           50,
           102,
           53,
           59,
           67,
           61,
           101,
           56,
           61,
           60,
           82,
           67,
           64,
           39,
           57,
           55,
           82,
           95,
           69,
           44,
           47,
           54,
           78,
           34,
           103,
           39,
           64,
           52,
           49,
           59,
           57,
           55,
           71,
           79,
           80,
           80,
           79,
           50,
           17,
           12,
           59,
           96,
           47,
           54,
           60,
           61,
           51,
           83,
           81,
           45,
           61,
           57,
           76,
           65,
           86,
           89,
           80,
           83,
           35,
           36,
           66,
           105,
           94,
           93
          ],
          "symbol": "circle"
         },
         "mode": "markers",
         "text": "",
         "type": "scatter",
         "x": [
          -0.2939247089538375,
          2.0970076509999784,
          0.6173777106200816,
          0.23750356151887284,
          1.4742614481713527,
          -0.5385616431849475,
          -0.45321074945949447,
          0.12167449125140922,
          0.20428924065632798,
          0.22236282194300827,
          -0.6875098311811151,
          0.359616715882246,
          2.3950352145362634,
          -1.6207985178635114,
          1.1035412290025228,
          0.08046177444574407,
          0.6606756828275522,
          -0.23956254477490263,
          -0.17851923115075505,
          -1.3840621342640793,
          -0.18702848968924107,
          -0.022384496392856452,
          0.22508891444086587,
          -0.08976387372755973,
          1.5689953760605144,
          -0.8888438575279914,
          0.7570847381702218,
          0.18871608700229803,
          0.2010714627780046,
          -0.9376698821651582,
          0.6750759305528278,
          -2.6466285425274574,
          0.37476265045813056,
          -0.901004002901094,
          -0.9650386990444001,
          0.9978649274376844,
          1.1449823043540495,
          -0.08122776362240577,
          -0.46399287651831483,
          -0.327973144710316,
          -0.7052750047259908,
          -0.8404245727219606,
          -1.8027200625992401,
          -0.41612955979023686,
          1.744646834426262,
          2.08660268843734,
          -0.3575218095405308,
          -1.3969976767306818,
          -2.209247335595158,
          -0.01949960232712651,
          -0.43249537867595117,
          0.3276816794140001,
          1.3947314018656503,
          -0.8707272296934853,
          2.119916665770619,
          0.35932321797338723,
          -1.8635994759219356,
          -0.18346970394873846,
          0.20263335913174033,
          -0.47349177490276445,
          -1.4520362442968655,
          -2.1149498689947457,
          0.9130783150932135,
          -0.5495136750215502,
          -1.0960621283754712,
          1.4451572160950985,
          2.031408286352337,
          0.5425598066205446,
          -0.4775211880584021,
          1.3308282537961023,
          1.054353691401902,
          1.612940625060723,
          -0.6109625761183942,
          -0.3821873570921796,
          0.06843039203537875,
          -0.851254205028847,
          -0.4766492013005475,
          -0.5890194171164326,
          2.442183066498214,
          -0.6194169874355799,
          -1.2222617029743152,
          -0.38402757215563416,
          1.2903773269289678,
          0.5971276344830816,
          0.19293385964319268,
          -1.943140647316925,
          2.5316619216308647,
          -1.0653518979213665,
          1.4221772704069156,
          0.2182038837841717,
          -0.17473296264917926,
          1.2593089788564307,
          0.4037842122693207,
          0.41043879549939155,
          0.017209646728323726,
          0.05546188946749892,
          -0.8863530371688454,
          0.1294464356696457,
          -0.677070174398935,
          -1.16031510980759
         ],
         "y": [
          1.7517195955247546,
          -0.35359986253618086,
          -0.19133904818374425,
          0.09425845259705241,
          0.3132660279058182,
          0.5781971553314883,
          -2.067783326993488,
          0.6099826326983443,
          0.4237298386704434,
          -0.726227751579507,
          -0.7189066348304399,
          -1.1621193679555342,
          -0.8387188227282664,
          1.8446352326960413,
          -1.5261234234571448,
          0.25184511373240026,
          0.507382596728712,
          -0.7676055455944559,
          0.3345289985935182,
          -0.519930862281465,
          -1.1875187855113214,
          0.28321083692873156,
          0.4439022981463856,
          -0.647070647038372,
          -0.13382994045631505,
          -0.8231744385020477,
          -0.7760002891058501,
          -1.8811016466011998,
          -0.5400669646741258,
          0.6417993920365667,
          -1.0750433645350408,
          -0.8535304068144485,
          1.7366198720263866,
          -0.7460551345224858,
          -0.42652411311431265,
          0.20228592023185543,
          -1.2709086692771747,
          -1.4133149883151543,
          0.548228842737083,
          -0.9812532497119463,
          -1.4533376337289736,
          0.15096058684193256,
          1.1737197584881935,
          -0.052932881986239355,
          0.11726895488462656,
          -1.2633287230708576,
          -1.4576819453135772,
          -1.3093283709027084,
          -0.3055126935028742,
          -0.04722359550452384,
          0.11528089339140782,
          -0.12480741368796602,
          0.5678519074032968,
          -1.651854518362437,
          -0.3672919727036017,
          0.25200949602089007,
          -0.37351570168002984,
          -1.045903428320767,
          0.5206368286408477,
          1.1232227278371094,
          -1.340085574768691,
          -0.86400745936875,
          1.0550957715631073,
          0.459542071919937,
          -0.21526127396496744,
          -0.08755215527323648,
          0.49115860321273747,
          -0.22641865914983392,
          -0.900489261026163,
          -0.4097112328735374,
          -0.4670675693241242,
          0.36811600188979976,
          -0.035211946204871995,
          0.5760790785247979,
          -0.2898062105937861,
          -0.6454669574803571,
          1.0872247062936047,
          0.8388304270804362,
          1.2010283395645696,
          0.9091166353159125,
          -0.4165958388206629,
          -0.6321804012839619,
          0.09215744767250596,
          1.5640594486311639,
          1.1593665190780447,
          0.8373592918589178,
          -0.4103626401331422,
          0.3403785041925423,
          -0.2971058215438673,
          -0.6546234291796629,
          0.6718839090767289,
          -0.08626567553004098,
          0.34493128880227797,
          -1.3166805505068733,
          -0.5915004452066159,
          0.07001232138335309,
          -0.3604605295372551,
          -0.3267979890598825,
          -0.43241655790310934,
          1.0308675380964412
         ]
        }
       ],
       "layout": {
        "legend": {
         "bgcolor": "#F5F6F9",
         "font": {
          "color": "#4D5663"
         }
        },
        "paper_bgcolor": "#F5F6F9",
        "plot_bgcolor": "#F5F6F9",
        "template": {
         "data": {
          "bar": [
           {
            "error_x": {
             "color": "#2a3f5f"
            },
            "error_y": {
             "color": "#2a3f5f"
            },
            "marker": {
             "line": {
              "color": "#E5ECF6",
              "width": 0.5
             }
            },
            "type": "bar"
           }
          ],
          "barpolar": [
           {
            "marker": {
             "line": {
              "color": "#E5ECF6",
              "width": 0.5
             }
            },
            "type": "barpolar"
           }
          ],
          "carpet": [
           {
            "aaxis": {
             "endlinecolor": "#2a3f5f",
             "gridcolor": "white",
             "linecolor": "white",
             "minorgridcolor": "white",
             "startlinecolor": "#2a3f5f"
            },
            "baxis": {
             "endlinecolor": "#2a3f5f",
             "gridcolor": "white",
             "linecolor": "white",
             "minorgridcolor": "white",
             "startlinecolor": "#2a3f5f"
            },
            "type": "carpet"
           }
          ],
          "choropleth": [
           {
            "colorbar": {
             "outlinewidth": 0,
             "ticks": ""
            },
            "type": "choropleth"
           }
          ],
          "contour": [
           {
            "colorbar": {
             "outlinewidth": 0,
             "ticks": ""
            },
            "colorscale": [
             [
              0,
              "#0d0887"
             ],
             [
              0.1111111111111111,
              "#46039f"
             ],
             [
              0.2222222222222222,
              "#7201a8"
             ],
             [
              0.3333333333333333,
              "#9c179e"
             ],
             [
              0.4444444444444444,
              "#bd3786"
             ],
             [
              0.5555555555555556,
              "#d8576b"
             ],
             [
              0.6666666666666666,
              "#ed7953"
             ],
             [
              0.7777777777777778,
              "#fb9f3a"
             ],
             [
              0.8888888888888888,
              "#fdca26"
             ],
             [
              1,
              "#f0f921"
             ]
            ],
            "type": "contour"
           }
          ],
          "contourcarpet": [
           {
            "colorbar": {
             "outlinewidth": 0,
             "ticks": ""
            },
            "type": "contourcarpet"
           }
          ],
          "heatmap": [
           {
            "colorbar": {
             "outlinewidth": 0,
             "ticks": ""
            },
            "colorscale": [
             [
              0,
              "#0d0887"
             ],
             [
              0.1111111111111111,
              "#46039f"
             ],
             [
              0.2222222222222222,
              "#7201a8"
             ],
             [
              0.3333333333333333,
              "#9c179e"
             ],
             [
              0.4444444444444444,
              "#bd3786"
             ],
             [
              0.5555555555555556,
              "#d8576b"
             ],
             [
              0.6666666666666666,
              "#ed7953"
             ],
             [
              0.7777777777777778,
              "#fb9f3a"
             ],
             [
              0.8888888888888888,
              "#fdca26"
             ],
             [
              1,
              "#f0f921"
             ]
            ],
            "type": "heatmap"
           }
          ],
          "heatmapgl": [
           {
            "colorbar": {
             "outlinewidth": 0,
             "ticks": ""
            },
            "colorscale": [
             [
              0,
              "#0d0887"
             ],
             [
              0.1111111111111111,
              "#46039f"
             ],
             [
              0.2222222222222222,
              "#7201a8"
             ],
             [
              0.3333333333333333,
              "#9c179e"
             ],
             [
              0.4444444444444444,
              "#bd3786"
             ],
             [
              0.5555555555555556,
              "#d8576b"
             ],
             [
              0.6666666666666666,
              "#ed7953"
             ],
             [
              0.7777777777777778,
              "#fb9f3a"
             ],
             [
              0.8888888888888888,
              "#fdca26"
             ],
             [
              1,
              "#f0f921"
             ]
            ],
            "type": "heatmapgl"
           }
          ],
          "histogram": [
           {
            "marker": {
             "colorbar": {
              "outlinewidth": 0,
              "ticks": ""
             }
            },
            "type": "histogram"
           }
          ],
          "histogram2d": [
           {
            "colorbar": {
             "outlinewidth": 0,
             "ticks": ""
            },
            "colorscale": [
             [
              0,
              "#0d0887"
             ],
             [
              0.1111111111111111,
              "#46039f"
             ],
             [
              0.2222222222222222,
              "#7201a8"
             ],
             [
              0.3333333333333333,
              "#9c179e"
             ],
             [
              0.4444444444444444,
              "#bd3786"
             ],
             [
              0.5555555555555556,
              "#d8576b"
             ],
             [
              0.6666666666666666,
              "#ed7953"
             ],
             [
              0.7777777777777778,
              "#fb9f3a"
             ],
             [
              0.8888888888888888,
              "#fdca26"
             ],
             [
              1,
              "#f0f921"
             ]
            ],
            "type": "histogram2d"
           }
          ],
          "histogram2dcontour": [
           {
            "colorbar": {
             "outlinewidth": 0,
             "ticks": ""
            },
            "colorscale": [
             [
              0,
              "#0d0887"
             ],
             [
              0.1111111111111111,
              "#46039f"
             ],
             [
              0.2222222222222222,
              "#7201a8"
             ],
             [
              0.3333333333333333,
              "#9c179e"
             ],
             [
              0.4444444444444444,
              "#bd3786"
             ],
             [
              0.5555555555555556,
              "#d8576b"
             ],
             [
              0.6666666666666666,
              "#ed7953"
             ],
             [
              0.7777777777777778,
              "#fb9f3a"
             ],
             [
              0.8888888888888888,
              "#fdca26"
             ],
             [
              1,
              "#f0f921"
             ]
            ],
            "type": "histogram2dcontour"
           }
          ],
          "mesh3d": [
           {
            "colorbar": {
             "outlinewidth": 0,
             "ticks": ""
            },
            "type": "mesh3d"
           }
          ],
          "parcoords": [
           {
            "line": {
             "colorbar": {
              "outlinewidth": 0,
              "ticks": ""
             }
            },
            "type": "parcoords"
           }
          ],
          "pie": [
           {
            "automargin": true,
            "type": "pie"
           }
          ],
          "scatter": [
           {
            "marker": {
             "colorbar": {
              "outlinewidth": 0,
              "ticks": ""
             }
            },
            "type": "scatter"
           }
          ],
          "scatter3d": [
           {
            "line": {
             "colorbar": {
              "outlinewidth": 0,
              "ticks": ""
             }
            },
            "marker": {
             "colorbar": {
              "outlinewidth": 0,
              "ticks": ""
             }
            },
            "type": "scatter3d"
           }
          ],
          "scattercarpet": [
           {
            "marker": {
             "colorbar": {
              "outlinewidth": 0,
              "ticks": ""
             }
            },
            "type": "scattercarpet"
           }
          ],
          "scattergeo": [
           {
            "marker": {
             "colorbar": {
              "outlinewidth": 0,
              "ticks": ""
             }
            },
            "type": "scattergeo"
           }
          ],
          "scattergl": [
           {
            "marker": {
             "colorbar": {
              "outlinewidth": 0,
              "ticks": ""
             }
            },
            "type": "scattergl"
           }
          ],
          "scattermapbox": [
           {
            "marker": {
             "colorbar": {
              "outlinewidth": 0,
              "ticks": ""
             }
            },
            "type": "scattermapbox"
           }
          ],
          "scatterpolar": [
           {
            "marker": {
             "colorbar": {
              "outlinewidth": 0,
              "ticks": ""
             }
            },
            "type": "scatterpolar"
           }
          ],
          "scatterpolargl": [
           {
            "marker": {
             "colorbar": {
              "outlinewidth": 0,
              "ticks": ""
             }
            },
            "type": "scatterpolargl"
           }
          ],
          "scatterternary": [
           {
            "marker": {
             "colorbar": {
              "outlinewidth": 0,
              "ticks": ""
             }
            },
            "type": "scatterternary"
           }
          ],
          "surface": [
           {
            "colorbar": {
             "outlinewidth": 0,
             "ticks": ""
            },
            "colorscale": [
             [
              0,
              "#0d0887"
             ],
             [
              0.1111111111111111,
              "#46039f"
             ],
             [
              0.2222222222222222,
              "#7201a8"
             ],
             [
              0.3333333333333333,
              "#9c179e"
             ],
             [
              0.4444444444444444,
              "#bd3786"
             ],
             [
              0.5555555555555556,
              "#d8576b"
             ],
             [
              0.6666666666666666,
              "#ed7953"
             ],
             [
              0.7777777777777778,
              "#fb9f3a"
             ],
             [
              0.8888888888888888,
              "#fdca26"
             ],
             [
              1,
              "#f0f921"
             ]
            ],
            "type": "surface"
           }
          ],
          "table": [
           {
            "cells": {
             "fill": {
              "color": "#EBF0F8"
             },
             "line": {
              "color": "white"
             }
            },
            "header": {
             "fill": {
              "color": "#C8D4E3"
             },
             "line": {
              "color": "white"
             }
            },
            "type": "table"
           }
          ]
         },
         "layout": {
          "annotationdefaults": {
           "arrowcolor": "#2a3f5f",
           "arrowhead": 0,
           "arrowwidth": 1
          },
          "autotypenumbers": "strict",
          "coloraxis": {
           "colorbar": {
            "outlinewidth": 0,
            "ticks": ""
           }
          },
          "colorscale": {
           "diverging": [
            [
             0,
             "#8e0152"
            ],
            [
             0.1,
             "#c51b7d"
            ],
            [
             0.2,
             "#de77ae"
            ],
            [
             0.3,
             "#f1b6da"
            ],
            [
             0.4,
             "#fde0ef"
            ],
            [
             0.5,
             "#f7f7f7"
            ],
            [
             0.6,
             "#e6f5d0"
            ],
            [
             0.7,
             "#b8e186"
            ],
            [
             0.8,
             "#7fbc41"
            ],
            [
             0.9,
             "#4d9221"
            ],
            [
             1,
             "#276419"
            ]
           ],
           "sequential": [
            [
             0,
             "#0d0887"
            ],
            [
             0.1111111111111111,
             "#46039f"
            ],
            [
             0.2222222222222222,
             "#7201a8"
            ],
            [
             0.3333333333333333,
             "#9c179e"
            ],
            [
             0.4444444444444444,
             "#bd3786"
            ],
            [
             0.5555555555555556,
             "#d8576b"
            ],
            [
             0.6666666666666666,
             "#ed7953"
            ],
            [
             0.7777777777777778,
             "#fb9f3a"
            ],
            [
             0.8888888888888888,
             "#fdca26"
            ],
            [
             1,
             "#f0f921"
            ]
           ],
           "sequentialminus": [
            [
             0,
             "#0d0887"
            ],
            [
             0.1111111111111111,
             "#46039f"
            ],
            [
             0.2222222222222222,
             "#7201a8"
            ],
            [
             0.3333333333333333,
             "#9c179e"
            ],
            [
             0.4444444444444444,
             "#bd3786"
            ],
            [
             0.5555555555555556,
             "#d8576b"
            ],
            [
             0.6666666666666666,
             "#ed7953"
            ],
            [
             0.7777777777777778,
             "#fb9f3a"
            ],
            [
             0.8888888888888888,
             "#fdca26"
            ],
            [
             1,
             "#f0f921"
            ]
           ]
          },
          "colorway": [
           "#636efa",
           "#EF553B",
           "#00cc96",
           "#ab63fa",
           "#FFA15A",
           "#19d3f3",
           "#FF6692",
           "#B6E880",
           "#FF97FF",
           "#FECB52"
          ],
          "font": {
           "color": "#2a3f5f"
          },
          "geo": {
           "bgcolor": "white",
           "lakecolor": "white",
           "landcolor": "#E5ECF6",
           "showlakes": true,
           "showland": true,
           "subunitcolor": "white"
          },
          "hoverlabel": {
           "align": "left"
          },
          "hovermode": "closest",
          "mapbox": {
           "style": "light"
          },
          "paper_bgcolor": "white",
          "plot_bgcolor": "#E5ECF6",
          "polar": {
           "angularaxis": {
            "gridcolor": "white",
            "linecolor": "white",
            "ticks": ""
           },
           "bgcolor": "#E5ECF6",
           "radialaxis": {
            "gridcolor": "white",
            "linecolor": "white",
            "ticks": ""
           }
          },
          "scene": {
           "xaxis": {
            "backgroundcolor": "#E5ECF6",
            "gridcolor": "white",
            "gridwidth": 2,
            "linecolor": "white",
            "showbackground": true,
            "ticks": "",
            "zerolinecolor": "white"
           },
           "yaxis": {
            "backgroundcolor": "#E5ECF6",
            "gridcolor": "white",
            "gridwidth": 2,
            "linecolor": "white",
            "showbackground": true,
            "ticks": "",
            "zerolinecolor": "white"
           },
           "zaxis": {
            "backgroundcolor": "#E5ECF6",
            "gridcolor": "white",
            "gridwidth": 2,
            "linecolor": "white",
            "showbackground": true,
            "ticks": "",
            "zerolinecolor": "white"
           }
          },
          "shapedefaults": {
           "line": {
            "color": "#2a3f5f"
           }
          },
          "ternary": {
           "aaxis": {
            "gridcolor": "white",
            "linecolor": "white",
            "ticks": ""
           },
           "baxis": {
            "gridcolor": "white",
            "linecolor": "white",
            "ticks": ""
           },
           "bgcolor": "#E5ECF6",
           "caxis": {
            "gridcolor": "white",
            "linecolor": "white",
            "ticks": ""
           }
          },
          "title": {
           "x": 0.05
          },
          "xaxis": {
           "automargin": true,
           "gridcolor": "white",
           "linecolor": "white",
           "ticks": "",
           "title": {
            "standoff": 15
           },
           "zerolinecolor": "white",
           "zerolinewidth": 2
          },
          "yaxis": {
           "automargin": true,
           "gridcolor": "white",
           "linecolor": "white",
           "ticks": "",
           "title": {
            "standoff": 15
           },
           "zerolinecolor": "white",
           "zerolinewidth": 2
          }
         }
        },
        "title": {
         "font": {
          "color": "#4D5663"
         }
        },
        "xaxis": {
         "gridcolor": "#E1E5ED",
         "showgrid": true,
         "tickfont": {
          "color": "#4D5663"
         },
         "title": {
          "font": {
           "color": "#4D5663"
          },
          "text": ""
         },
         "zerolinecolor": "#E1E5ED"
        },
        "yaxis": {
         "gridcolor": "#E1E5ED",
         "showgrid": true,
         "tickfont": {
          "color": "#4D5663"
         },
         "title": {
          "font": {
           "color": "#4D5663"
          },
          "text": ""
         },
         "zerolinecolor": "#E1E5ED"
        }
       }
      },
      "text/html": [
       "<div>                            <div id=\"4971fbb2-2532-43cc-9637-47150ba03a47\" class=\"plotly-graph-div\" style=\"height:525px; width:100%;\"></div>            <script type=\"text/javascript\">                require([\"plotly\"], function(Plotly) {                    window.PLOTLYENV=window.PLOTLYENV || {};\n",
       "                    window.PLOTLYENV.BASE_URL='https://plot.ly';                                    if (document.getElementById(\"4971fbb2-2532-43cc-9637-47150ba03a47\")) {                    Plotly.newPlot(                        \"4971fbb2-2532-43cc-9637-47150ba03a47\",                        [{\"marker\": {\"color\": [\"rgb(255, 153, 51)\", \"rgb(55, 128, 191)\", \"rgb(50, 171, 96)\", \"rgb(128, 0, 128)\", \"rgb(219, 64, 82)\", \"rgb(0, 128, 128)\", \"rgb(255, 255, 51)\", \"rgb(128, 128, 0)\", \"rgb(251, 128, 114)\", \"rgb(128, 177, 211)\"], \"line\": {\"width\": 1.3}, \"size\": [39, 72, 18, 35, 44, 59, 45, 87, 49, 31, 44, 59, 70, 55, 34, 76, 78, 103, 42, 100, 25, 69, 63, 64, 112, 39, 73, 66, 63, 57, 48, 60, 58, 52, 86, 42, 50, 102, 53, 59, 67, 61, 101, 56, 61, 60, 82, 67, 64, 39, 57, 55, 82, 95, 69, 44, 47, 54, 78, 34, 103, 39, 64, 52, 49, 59, 57, 55, 71, 79, 80, 80, 79, 50, 17, 12, 59, 96, 47, 54, 60, 61, 51, 83, 81, 45, 61, 57, 76, 65, 86, 89, 80, 83, 35, 36, 66, 105, 94, 93], \"symbol\": \"circle\"}, \"mode\": \"markers\", \"text\": \"\", \"type\": \"scatter\", \"x\": [-0.2939247089538375, 2.0970076509999784, 0.6173777106200816, 0.23750356151887284, 1.4742614481713527, -0.5385616431849475, -0.45321074945949447, 0.12167449125140922, 0.20428924065632798, 0.22236282194300827, -0.6875098311811151, 0.359616715882246, 2.3950352145362634, -1.6207985178635114, 1.1035412290025228, 0.08046177444574407, 0.6606756828275522, -0.23956254477490263, -0.17851923115075505, -1.3840621342640793, -0.18702848968924107, -0.022384496392856452, 0.22508891444086587, -0.08976387372755973, 1.5689953760605144, -0.8888438575279914, 0.7570847381702218, 0.18871608700229803, 0.2010714627780046, -0.9376698821651582, 0.6750759305528278, -2.6466285425274574, 0.37476265045813056, -0.901004002901094, -0.9650386990444001, 0.9978649274376844, 1.1449823043540495, -0.08122776362240577, -0.46399287651831483, -0.327973144710316, -0.7052750047259908, -0.8404245727219606, -1.8027200625992401, -0.41612955979023686, 1.744646834426262, 2.08660268843734, -0.3575218095405308, -1.3969976767306818, -2.209247335595158, -0.01949960232712651, -0.43249537867595117, 0.3276816794140001, 1.3947314018656503, -0.8707272296934853, 2.119916665770619, 0.35932321797338723, -1.8635994759219356, -0.18346970394873846, 0.20263335913174033, -0.47349177490276445, -1.4520362442968655, -2.1149498689947457, 0.9130783150932135, -0.5495136750215502, -1.0960621283754712, 1.4451572160950985, 2.031408286352337, 0.5425598066205446, -0.4775211880584021, 1.3308282537961023, 1.054353691401902, 1.612940625060723, -0.6109625761183942, -0.3821873570921796, 0.06843039203537875, -0.851254205028847, -0.4766492013005475, -0.5890194171164326, 2.442183066498214, -0.6194169874355799, -1.2222617029743152, -0.38402757215563416, 1.2903773269289678, 0.5971276344830816, 0.19293385964319268, -1.943140647316925, 2.5316619216308647, -1.0653518979213665, 1.4221772704069156, 0.2182038837841717, -0.17473296264917926, 1.2593089788564307, 0.4037842122693207, 0.41043879549939155, 0.017209646728323726, 0.05546188946749892, -0.8863530371688454, 0.1294464356696457, -0.677070174398935, -1.16031510980759], \"y\": [1.7517195955247546, -0.35359986253618086, -0.19133904818374425, 0.09425845259705241, 0.3132660279058182, 0.5781971553314883, -2.067783326993488, 0.6099826326983443, 0.4237298386704434, -0.726227751579507, -0.7189066348304399, -1.1621193679555342, -0.8387188227282664, 1.8446352326960413, -1.5261234234571448, 0.25184511373240026, 0.507382596728712, -0.7676055455944559, 0.3345289985935182, -0.519930862281465, -1.1875187855113214, 0.28321083692873156, 0.4439022981463856, -0.647070647038372, -0.13382994045631505, -0.8231744385020477, -0.7760002891058501, -1.8811016466011998, -0.5400669646741258, 0.6417993920365667, -1.0750433645350408, -0.8535304068144485, 1.7366198720263866, -0.7460551345224858, -0.42652411311431265, 0.20228592023185543, -1.2709086692771747, -1.4133149883151543, 0.548228842737083, -0.9812532497119463, -1.4533376337289736, 0.15096058684193256, 1.1737197584881935, -0.052932881986239355, 0.11726895488462656, -1.2633287230708576, -1.4576819453135772, -1.3093283709027084, -0.3055126935028742, -0.04722359550452384, 0.11528089339140782, -0.12480741368796602, 0.5678519074032968, -1.651854518362437, -0.3672919727036017, 0.25200949602089007, -0.37351570168002984, -1.045903428320767, 0.5206368286408477, 1.1232227278371094, -1.340085574768691, -0.86400745936875, 1.0550957715631073, 0.459542071919937, -0.21526127396496744, -0.08755215527323648, 0.49115860321273747, -0.22641865914983392, -0.900489261026163, -0.4097112328735374, -0.4670675693241242, 0.36811600188979976, -0.035211946204871995, 0.5760790785247979, -0.2898062105937861, -0.6454669574803571, 1.0872247062936047, 0.8388304270804362, 1.2010283395645696, 0.9091166353159125, -0.4165958388206629, -0.6321804012839619, 0.09215744767250596, 1.5640594486311639, 1.1593665190780447, 0.8373592918589178, -0.4103626401331422, 0.3403785041925423, -0.2971058215438673, -0.6546234291796629, 0.6718839090767289, -0.08626567553004098, 0.34493128880227797, -1.3166805505068733, -0.5915004452066159, 0.07001232138335309, -0.3604605295372551, -0.3267979890598825, -0.43241655790310934, 1.0308675380964412]}],                        {\"legend\": {\"bgcolor\": \"#F5F6F9\", \"font\": {\"color\": \"#4D5663\"}}, \"paper_bgcolor\": \"#F5F6F9\", \"plot_bgcolor\": \"#F5F6F9\", \"template\": {\"data\": {\"bar\": [{\"error_x\": {\"color\": \"#2a3f5f\"}, \"error_y\": {\"color\": \"#2a3f5f\"}, \"marker\": {\"line\": {\"color\": \"#E5ECF6\", \"width\": 0.5}}, \"type\": \"bar\"}], \"barpolar\": [{\"marker\": {\"line\": {\"color\": \"#E5ECF6\", \"width\": 0.5}}, \"type\": \"barpolar\"}], \"carpet\": [{\"aaxis\": {\"endlinecolor\": \"#2a3f5f\", \"gridcolor\": \"white\", \"linecolor\": \"white\", \"minorgridcolor\": \"white\", \"startlinecolor\": \"#2a3f5f\"}, \"baxis\": {\"endlinecolor\": \"#2a3f5f\", \"gridcolor\": \"white\", \"linecolor\": \"white\", \"minorgridcolor\": \"white\", \"startlinecolor\": \"#2a3f5f\"}, \"type\": \"carpet\"}], \"choropleth\": [{\"colorbar\": {\"outlinewidth\": 0, \"ticks\": \"\"}, \"type\": \"choropleth\"}], \"contour\": [{\"colorbar\": {\"outlinewidth\": 0, \"ticks\": \"\"}, \"colorscale\": [[0.0, \"#0d0887\"], [0.1111111111111111, \"#46039f\"], [0.2222222222222222, \"#7201a8\"], [0.3333333333333333, \"#9c179e\"], [0.4444444444444444, \"#bd3786\"], [0.5555555555555556, \"#d8576b\"], [0.6666666666666666, \"#ed7953\"], [0.7777777777777778, \"#fb9f3a\"], [0.8888888888888888, \"#fdca26\"], [1.0, \"#f0f921\"]], \"type\": \"contour\"}], \"contourcarpet\": [{\"colorbar\": {\"outlinewidth\": 0, \"ticks\": \"\"}, \"type\": \"contourcarpet\"}], \"heatmap\": [{\"colorbar\": {\"outlinewidth\": 0, \"ticks\": \"\"}, \"colorscale\": [[0.0, \"#0d0887\"], [0.1111111111111111, \"#46039f\"], [0.2222222222222222, \"#7201a8\"], [0.3333333333333333, \"#9c179e\"], [0.4444444444444444, \"#bd3786\"], [0.5555555555555556, \"#d8576b\"], [0.6666666666666666, \"#ed7953\"], [0.7777777777777778, \"#fb9f3a\"], [0.8888888888888888, \"#fdca26\"], [1.0, \"#f0f921\"]], \"type\": \"heatmap\"}], \"heatmapgl\": [{\"colorbar\": {\"outlinewidth\": 0, \"ticks\": \"\"}, \"colorscale\": [[0.0, \"#0d0887\"], [0.1111111111111111, \"#46039f\"], [0.2222222222222222, \"#7201a8\"], [0.3333333333333333, \"#9c179e\"], [0.4444444444444444, \"#bd3786\"], [0.5555555555555556, \"#d8576b\"], [0.6666666666666666, \"#ed7953\"], [0.7777777777777778, \"#fb9f3a\"], [0.8888888888888888, \"#fdca26\"], [1.0, \"#f0f921\"]], \"type\": \"heatmapgl\"}], \"histogram\": [{\"marker\": {\"colorbar\": {\"outlinewidth\": 0, \"ticks\": \"\"}}, \"type\": \"histogram\"}], \"histogram2d\": [{\"colorbar\": {\"outlinewidth\": 0, \"ticks\": \"\"}, \"colorscale\": [[0.0, \"#0d0887\"], [0.1111111111111111, \"#46039f\"], [0.2222222222222222, \"#7201a8\"], [0.3333333333333333, \"#9c179e\"], [0.4444444444444444, \"#bd3786\"], [0.5555555555555556, \"#d8576b\"], [0.6666666666666666, \"#ed7953\"], [0.7777777777777778, \"#fb9f3a\"], [0.8888888888888888, \"#fdca26\"], [1.0, \"#f0f921\"]], \"type\": \"histogram2d\"}], \"histogram2dcontour\": [{\"colorbar\": {\"outlinewidth\": 0, \"ticks\": \"\"}, \"colorscale\": [[0.0, \"#0d0887\"], [0.1111111111111111, \"#46039f\"], [0.2222222222222222, \"#7201a8\"], [0.3333333333333333, \"#9c179e\"], [0.4444444444444444, \"#bd3786\"], [0.5555555555555556, \"#d8576b\"], [0.6666666666666666, \"#ed7953\"], [0.7777777777777778, \"#fb9f3a\"], [0.8888888888888888, \"#fdca26\"], [1.0, \"#f0f921\"]], \"type\": \"histogram2dcontour\"}], \"mesh3d\": [{\"colorbar\": {\"outlinewidth\": 0, \"ticks\": \"\"}, \"type\": \"mesh3d\"}], \"parcoords\": [{\"line\": {\"colorbar\": {\"outlinewidth\": 0, \"ticks\": \"\"}}, \"type\": \"parcoords\"}], \"pie\": [{\"automargin\": true, \"type\": \"pie\"}], \"scatter\": [{\"marker\": {\"colorbar\": {\"outlinewidth\": 0, \"ticks\": \"\"}}, \"type\": \"scatter\"}], \"scatter3d\": [{\"line\": {\"colorbar\": {\"outlinewidth\": 0, \"ticks\": \"\"}}, \"marker\": {\"colorbar\": {\"outlinewidth\": 0, \"ticks\": \"\"}}, \"type\": \"scatter3d\"}], \"scattercarpet\": [{\"marker\": {\"colorbar\": {\"outlinewidth\": 0, \"ticks\": \"\"}}, \"type\": \"scattercarpet\"}], \"scattergeo\": [{\"marker\": {\"colorbar\": {\"outlinewidth\": 0, \"ticks\": \"\"}}, \"type\": \"scattergeo\"}], \"scattergl\": [{\"marker\": {\"colorbar\": {\"outlinewidth\": 0, \"ticks\": \"\"}}, \"type\": \"scattergl\"}], \"scattermapbox\": [{\"marker\": {\"colorbar\": {\"outlinewidth\": 0, \"ticks\": \"\"}}, \"type\": \"scattermapbox\"}], \"scatterpolar\": [{\"marker\": {\"colorbar\": {\"outlinewidth\": 0, \"ticks\": \"\"}}, \"type\": \"scatterpolar\"}], \"scatterpolargl\": [{\"marker\": {\"colorbar\": {\"outlinewidth\": 0, \"ticks\": \"\"}}, \"type\": \"scatterpolargl\"}], \"scatterternary\": [{\"marker\": {\"colorbar\": {\"outlinewidth\": 0, \"ticks\": \"\"}}, \"type\": \"scatterternary\"}], \"surface\": [{\"colorbar\": {\"outlinewidth\": 0, \"ticks\": \"\"}, \"colorscale\": [[0.0, \"#0d0887\"], [0.1111111111111111, \"#46039f\"], [0.2222222222222222, \"#7201a8\"], [0.3333333333333333, \"#9c179e\"], [0.4444444444444444, \"#bd3786\"], [0.5555555555555556, \"#d8576b\"], [0.6666666666666666, \"#ed7953\"], [0.7777777777777778, \"#fb9f3a\"], [0.8888888888888888, \"#fdca26\"], [1.0, \"#f0f921\"]], \"type\": \"surface\"}], \"table\": [{\"cells\": {\"fill\": {\"color\": \"#EBF0F8\"}, \"line\": {\"color\": \"white\"}}, \"header\": {\"fill\": {\"color\": \"#C8D4E3\"}, \"line\": {\"color\": \"white\"}}, \"type\": \"table\"}]}, \"layout\": {\"annotationdefaults\": {\"arrowcolor\": \"#2a3f5f\", \"arrowhead\": 0, \"arrowwidth\": 1}, \"autotypenumbers\": \"strict\", \"coloraxis\": {\"colorbar\": {\"outlinewidth\": 0, \"ticks\": \"\"}}, \"colorscale\": {\"diverging\": [[0, \"#8e0152\"], [0.1, \"#c51b7d\"], [0.2, \"#de77ae\"], [0.3, \"#f1b6da\"], [0.4, \"#fde0ef\"], [0.5, \"#f7f7f7\"], [0.6, \"#e6f5d0\"], [0.7, \"#b8e186\"], [0.8, \"#7fbc41\"], [0.9, \"#4d9221\"], [1, \"#276419\"]], \"sequential\": [[0.0, \"#0d0887\"], [0.1111111111111111, \"#46039f\"], [0.2222222222222222, \"#7201a8\"], [0.3333333333333333, \"#9c179e\"], [0.4444444444444444, \"#bd3786\"], [0.5555555555555556, \"#d8576b\"], [0.6666666666666666, \"#ed7953\"], [0.7777777777777778, \"#fb9f3a\"], [0.8888888888888888, \"#fdca26\"], [1.0, \"#f0f921\"]], \"sequentialminus\": [[0.0, \"#0d0887\"], [0.1111111111111111, \"#46039f\"], [0.2222222222222222, \"#7201a8\"], [0.3333333333333333, \"#9c179e\"], [0.4444444444444444, \"#bd3786\"], [0.5555555555555556, \"#d8576b\"], [0.6666666666666666, \"#ed7953\"], [0.7777777777777778, \"#fb9f3a\"], [0.8888888888888888, \"#fdca26\"], [1.0, \"#f0f921\"]]}, \"colorway\": [\"#636efa\", \"#EF553B\", \"#00cc96\", \"#ab63fa\", \"#FFA15A\", \"#19d3f3\", \"#FF6692\", \"#B6E880\", \"#FF97FF\", \"#FECB52\"], \"font\": {\"color\": \"#2a3f5f\"}, \"geo\": {\"bgcolor\": \"white\", \"lakecolor\": \"white\", \"landcolor\": \"#E5ECF6\", \"showlakes\": true, \"showland\": true, \"subunitcolor\": \"white\"}, \"hoverlabel\": {\"align\": \"left\"}, \"hovermode\": \"closest\", \"mapbox\": {\"style\": \"light\"}, \"paper_bgcolor\": \"white\", \"plot_bgcolor\": \"#E5ECF6\", \"polar\": {\"angularaxis\": {\"gridcolor\": \"white\", \"linecolor\": \"white\", \"ticks\": \"\"}, \"bgcolor\": \"#E5ECF6\", \"radialaxis\": {\"gridcolor\": \"white\", \"linecolor\": \"white\", \"ticks\": \"\"}}, \"scene\": {\"xaxis\": {\"backgroundcolor\": \"#E5ECF6\", \"gridcolor\": \"white\", \"gridwidth\": 2, \"linecolor\": \"white\", \"showbackground\": true, \"ticks\": \"\", \"zerolinecolor\": \"white\"}, \"yaxis\": {\"backgroundcolor\": \"#E5ECF6\", \"gridcolor\": \"white\", \"gridwidth\": 2, \"linecolor\": \"white\", \"showbackground\": true, \"ticks\": \"\", \"zerolinecolor\": \"white\"}, \"zaxis\": {\"backgroundcolor\": \"#E5ECF6\", \"gridcolor\": \"white\", \"gridwidth\": 2, \"linecolor\": \"white\", \"showbackground\": true, \"ticks\": \"\", \"zerolinecolor\": \"white\"}}, \"shapedefaults\": {\"line\": {\"color\": \"#2a3f5f\"}}, \"ternary\": {\"aaxis\": {\"gridcolor\": \"white\", \"linecolor\": \"white\", \"ticks\": \"\"}, \"baxis\": {\"gridcolor\": \"white\", \"linecolor\": \"white\", \"ticks\": \"\"}, \"bgcolor\": \"#E5ECF6\", \"caxis\": {\"gridcolor\": \"white\", \"linecolor\": \"white\", \"ticks\": \"\"}}, \"title\": {\"x\": 0.05}, \"xaxis\": {\"automargin\": true, \"gridcolor\": \"white\", \"linecolor\": \"white\", \"ticks\": \"\", \"title\": {\"standoff\": 15}, \"zerolinecolor\": \"white\", \"zerolinewidth\": 2}, \"yaxis\": {\"automargin\": true, \"gridcolor\": \"white\", \"linecolor\": \"white\", \"ticks\": \"\", \"title\": {\"standoff\": 15}, \"zerolinecolor\": \"white\", \"zerolinewidth\": 2}}}, \"title\": {\"font\": {\"color\": \"#4D5663\"}}, \"xaxis\": {\"gridcolor\": \"#E1E5ED\", \"showgrid\": true, \"tickfont\": {\"color\": \"#4D5663\"}, \"title\": {\"font\": {\"color\": \"#4D5663\"}, \"text\": \"\"}, \"zerolinecolor\": \"#E1E5ED\"}, \"yaxis\": {\"gridcolor\": \"#E1E5ED\", \"showgrid\": true, \"tickfont\": {\"color\": \"#4D5663\"}, \"title\": {\"font\": {\"color\": \"#4D5663\"}, \"text\": \"\"}, \"zerolinecolor\": \"#E1E5ED\"}},                        {\"showLink\": true, \"linkText\": \"Export to plot.ly\", \"plotlyServerURL\": \"https://plot.ly\", \"responsive\": true}                    ).then(function(){\n",
       "                            \n",
       "var gd = document.getElementById('4971fbb2-2532-43cc-9637-47150ba03a47');\n",
       "var x = new MutationObserver(function (mutations, observer) {{\n",
       "        var display = window.getComputedStyle(gd).display;\n",
       "        if (!display || display === 'none') {{\n",
       "            console.log([gd, 'removed!']);\n",
       "            Plotly.purge(gd);\n",
       "            observer.disconnect();\n",
       "        }}\n",
       "}});\n",
       "\n",
       "// Listen for the removal of the full notebook cells\n",
       "var notebookContainer = gd.closest('#notebook-container');\n",
       "if (notebookContainer) {{\n",
       "    x.observe(notebookContainer, {childList: true});\n",
       "}}\n",
       "\n",
       "// Listen for the clearing of the current output cell\n",
       "var outputEl = gd.closest('.output');\n",
       "if (outputEl) {{\n",
       "    x.observe(outputEl, {childList: true});\n",
       "}}\n",
       "\n",
       "                        })                };                });            </script>        </div>"
      ]
     },
     "metadata": {},
     "output_type": "display_data"
    }
   ],
   "source": [
    "df.iplot(kind='bubble',x='a',y='b',size='c')"
   ]
  },
  {
   "cell_type": "code",
   "execution_count": 37,
   "id": "2da44070",
   "metadata": {},
   "outputs": [
    {
     "data": {
      "application/vnd.plotly.v1+json": {
       "config": {
        "linkText": "Export to plot.ly",
        "plotlyServerURL": "https://plot.ly",
        "showLink": true
       },
       "data": [
        {
         "histfunc": "count",
         "histnorm": "",
         "marker": {
          "color": "rgba(255, 153, 51, 1.0)",
          "line": {
           "color": "#4D5663",
           "width": 1.3
          }
         },
         "name": "a",
         "nbinsx": 10,
         "opacity": 0.8,
         "orientation": "v",
         "type": "histogram",
         "x": [
          -0.2939247089538375,
          2.0970076509999784,
          0.6173777106200816,
          0.23750356151887284,
          1.4742614481713527,
          -0.5385616431849475,
          -0.45321074945949447,
          0.12167449125140922,
          0.20428924065632798,
          0.22236282194300827,
          -0.6875098311811151,
          0.359616715882246,
          2.3950352145362634,
          -1.6207985178635114,
          1.1035412290025228,
          0.08046177444574407,
          0.6606756828275522,
          -0.23956254477490263,
          -0.17851923115075505,
          -1.3840621342640793,
          -0.18702848968924107,
          -0.022384496392856452,
          0.22508891444086587,
          -0.08976387372755973,
          1.5689953760605144,
          -0.8888438575279914,
          0.7570847381702218,
          0.18871608700229803,
          0.2010714627780046,
          -0.9376698821651582,
          0.6750759305528278,
          -2.6466285425274574,
          0.37476265045813056,
          -0.901004002901094,
          -0.9650386990444001,
          0.9978649274376844,
          1.1449823043540495,
          -0.08122776362240577,
          -0.46399287651831483,
          -0.327973144710316,
          -0.7052750047259908,
          -0.8404245727219606,
          -1.8027200625992401,
          -0.41612955979023686,
          1.744646834426262,
          2.08660268843734,
          -0.3575218095405308,
          -1.3969976767306818,
          -2.209247335595158,
          -0.01949960232712651,
          -0.43249537867595117,
          0.3276816794140001,
          1.3947314018656503,
          -0.8707272296934853,
          2.119916665770619,
          0.35932321797338723,
          -1.8635994759219356,
          -0.18346970394873846,
          0.20263335913174033,
          -0.47349177490276445,
          -1.4520362442968655,
          -2.1149498689947457,
          0.9130783150932135,
          -0.5495136750215502,
          -1.0960621283754712,
          1.4451572160950985,
          2.031408286352337,
          0.5425598066205446,
          -0.4775211880584021,
          1.3308282537961023,
          1.054353691401902,
          1.612940625060723,
          -0.6109625761183942,
          -0.3821873570921796,
          0.06843039203537875,
          -0.851254205028847,
          -0.4766492013005475,
          -0.5890194171164326,
          2.442183066498214,
          -0.6194169874355799,
          -1.2222617029743152,
          -0.38402757215563416,
          1.2903773269289678,
          0.5971276344830816,
          0.19293385964319268,
          -1.943140647316925,
          2.5316619216308647,
          -1.0653518979213665,
          1.4221772704069156,
          0.2182038837841717,
          -0.17473296264917926,
          1.2593089788564307,
          0.4037842122693207,
          0.41043879549939155,
          0.017209646728323726,
          0.05546188946749892,
          -0.8863530371688454,
          0.1294464356696457,
          -0.677070174398935,
          -1.16031510980759
         ],
         "xaxis": "x",
         "yaxis": "y"
        },
        {
         "line": {
          "color": "rgba(128, 128, 128, 1.0)",
          "dash": "solid",
          "shape": "linear",
          "width": 1.3
         },
         "marker": {
          "size": 2,
          "symbol": "circle"
         },
         "mode": "markers",
         "name": "a",
         "text": "",
         "type": "scatter",
         "x": [
          1.7517195955247546,
          -0.35359986253618086,
          -0.19133904818374425,
          0.09425845259705241,
          0.3132660279058182,
          0.5781971553314883,
          -2.067783326993488,
          0.6099826326983443,
          0.4237298386704434,
          -0.726227751579507,
          -0.7189066348304399,
          -1.1621193679555342,
          -0.8387188227282664,
          1.8446352326960413,
          -1.5261234234571448,
          0.25184511373240026,
          0.507382596728712,
          -0.7676055455944559,
          0.3345289985935182,
          -0.519930862281465,
          -1.1875187855113214,
          0.28321083692873156,
          0.4439022981463856,
          -0.647070647038372,
          -0.13382994045631505,
          -0.8231744385020477,
          -0.7760002891058501,
          -1.8811016466011998,
          -0.5400669646741258,
          0.6417993920365667,
          -1.0750433645350408,
          -0.8535304068144485,
          1.7366198720263866,
          -0.7460551345224858,
          -0.42652411311431265,
          0.20228592023185543,
          -1.2709086692771747,
          -1.4133149883151543,
          0.548228842737083,
          -0.9812532497119463,
          -1.4533376337289736,
          0.15096058684193256,
          1.1737197584881935,
          -0.052932881986239355,
          0.11726895488462656,
          -1.2633287230708576,
          -1.4576819453135772,
          -1.3093283709027084,
          -0.3055126935028742,
          -0.04722359550452384,
          0.11528089339140782,
          -0.12480741368796602,
          0.5678519074032968,
          -1.651854518362437,
          -0.3672919727036017,
          0.25200949602089007,
          -0.37351570168002984,
          -1.045903428320767,
          0.5206368286408477,
          1.1232227278371094,
          -1.340085574768691,
          -0.86400745936875,
          1.0550957715631073,
          0.459542071919937,
          -0.21526127396496744,
          -0.08755215527323648,
          0.49115860321273747,
          -0.22641865914983392,
          -0.900489261026163,
          -0.4097112328735374,
          -0.4670675693241242,
          0.36811600188979976,
          -0.035211946204871995,
          0.5760790785247979,
          -0.2898062105937861,
          -0.6454669574803571,
          1.0872247062936047,
          0.8388304270804362,
          1.2010283395645696,
          0.9091166353159125,
          -0.4165958388206629,
          -0.6321804012839619,
          0.09215744767250596,
          1.5640594486311639,
          1.1593665190780447,
          0.8373592918589178,
          -0.4103626401331422,
          0.3403785041925423,
          -0.2971058215438673,
          -0.6546234291796629,
          0.6718839090767289,
          -0.08626567553004098,
          0.34493128880227797,
          -1.3166805505068733,
          -0.5915004452066159,
          0.07001232138335309,
          -0.3604605295372551,
          -0.3267979890598825,
          -0.43241655790310934,
          1.0308675380964412
         ],
         "xaxis": "x2",
         "y": [
          -0.2939247089538375,
          2.0970076509999784,
          0.6173777106200816,
          0.23750356151887284,
          1.4742614481713527,
          -0.5385616431849475,
          -0.45321074945949447,
          0.12167449125140922,
          0.20428924065632798,
          0.22236282194300827,
          -0.6875098311811151,
          0.359616715882246,
          2.3950352145362634,
          -1.6207985178635114,
          1.1035412290025228,
          0.08046177444574407,
          0.6606756828275522,
          -0.23956254477490263,
          -0.17851923115075505,
          -1.3840621342640793,
          -0.18702848968924107,
          -0.022384496392856452,
          0.22508891444086587,
          -0.08976387372755973,
          1.5689953760605144,
          -0.8888438575279914,
          0.7570847381702218,
          0.18871608700229803,
          0.2010714627780046,
          -0.9376698821651582,
          0.6750759305528278,
          -2.6466285425274574,
          0.37476265045813056,
          -0.901004002901094,
          -0.9650386990444001,
          0.9978649274376844,
          1.1449823043540495,
          -0.08122776362240577,
          -0.46399287651831483,
          -0.327973144710316,
          -0.7052750047259908,
          -0.8404245727219606,
          -1.8027200625992401,
          -0.41612955979023686,
          1.744646834426262,
          2.08660268843734,
          -0.3575218095405308,
          -1.3969976767306818,
          -2.209247335595158,
          -0.01949960232712651,
          -0.43249537867595117,
          0.3276816794140001,
          1.3947314018656503,
          -0.8707272296934853,
          2.119916665770619,
          0.35932321797338723,
          -1.8635994759219356,
          -0.18346970394873846,
          0.20263335913174033,
          -0.47349177490276445,
          -1.4520362442968655,
          -2.1149498689947457,
          0.9130783150932135,
          -0.5495136750215502,
          -1.0960621283754712,
          1.4451572160950985,
          2.031408286352337,
          0.5425598066205446,
          -0.4775211880584021,
          1.3308282537961023,
          1.054353691401902,
          1.612940625060723,
          -0.6109625761183942,
          -0.3821873570921796,
          0.06843039203537875,
          -0.851254205028847,
          -0.4766492013005475,
          -0.5890194171164326,
          2.442183066498214,
          -0.6194169874355799,
          -1.2222617029743152,
          -0.38402757215563416,
          1.2903773269289678,
          0.5971276344830816,
          0.19293385964319268,
          -1.943140647316925,
          2.5316619216308647,
          -1.0653518979213665,
          1.4221772704069156,
          0.2182038837841717,
          -0.17473296264917926,
          1.2593089788564307,
          0.4037842122693207,
          0.41043879549939155,
          0.017209646728323726,
          0.05546188946749892,
          -0.8863530371688454,
          0.1294464356696457,
          -0.677070174398935,
          -1.16031510980759
         ],
         "yaxis": "y2"
        },
        {
         "line": {
          "color": "rgba(128, 128, 128, 1.0)",
          "dash": "solid",
          "shape": "linear",
          "width": 1.3
         },
         "marker": {
          "size": 2,
          "symbol": "circle"
         },
         "mode": "markers",
         "name": "a",
         "text": "",
         "type": "scatter",
         "x": [
          -1.1665185982253494,
          0.44703916324171267,
          -2.229049902899732,
          -1.3836613335459687,
          -0.9485604622744072,
          -0.19636657192360915,
          -0.8645187066477877,
          1.1878271335269805,
          -0.7153177601251083,
          -1.5708769235393547,
          -0.9610121109570703,
          -0.20297366509109127,
          0.32931720596616937,
          -0.37905430856274264,
          -1.4181649222721624,
          0.6521683397958095,
          0.717256245918316,
          1.985701377744813,
          -1.01265751574874,
          1.8311572262058446,
          -1.8659600216036445,
          0.28815525025711985,
          0.006893738773197523,
          0.030200376884393546,
          2.381376433069506,
          -1.178264522799092,
          0.4846967282491856,
          0.1401510638317766,
          0.007629462492196791,
          -0.2899933489843769,
          -0.7191409376355365,
          -0.13327718346489367,
          -0.23278778299188033,
          -0.5542201742034805,
          1.130817516835987,
          -1.0203156236294415,
          -0.6560003451263542,
          1.9050964763882963,
          -0.48873438331956637,
          -0.19443868973228298,
          0.2078750770823177,
          -0.11224911009580876,
          1.8798466545665753,
          -0.367455864130886,
          -0.11819328300870134,
          -0.15193007603728442,
          0.9203915705812769,
          0.17994717183003192,
          0.028378077636339434,
          -1.1727911766586867,
          -0.27428142872025896,
          -0.40614186493007615,
          0.9197185999998129,
          1.5675331492287392,
          0.31549790306323383,
          -0.9600468947852062,
          -0.7898783312417721,
          -0.4650998066750889,
          0.7327378277474271,
          -1.4504063668945508,
          1.9594864969323,
          -1.1837997404232803,
          0.06710462339755838,
          -0.5439250147730456,
          -0.6805202673031998,
          -0.18660028703268128,
          -0.30564296100900584,
          -0.3749226214508793,
          0.3792636917660674,
          0.7726839407126967,
          0.8489104984466974,
          0.8509562364366888,
          0.8017633886647397,
          -0.64049567558334,
          -2.261208818427529,
          -2.535064947627141,
          -0.22110638537596014,
          1.6324168208268681,
          -0.7761354871003384,
          -0.42734958754239893,
          -0.14351041266370718,
          -0.12263629059096863,
          -0.5876526082928746,
          0.998850201939234,
          0.8918621098146288,
          -0.911802610468548,
          -0.107483819096009,
          -0.28227227913320946,
          0.6245701802471451,
          0.07321836835851156,
          1.1169438714769597,
          1.2778705156173897,
          0.815773569270344,
          0.9970761608278822,
          -1.3789977188461464,
          -1.3450874453770818,
          0.14328961191665385,
          2.0797462282022345,
          1.5449517630974585,
          1.4544167474742808
         ],
         "xaxis": "x3",
         "y": [
          -0.2939247089538375,
          2.0970076509999784,
          0.6173777106200816,
          0.23750356151887284,
          1.4742614481713527,
          -0.5385616431849475,
          -0.45321074945949447,
          0.12167449125140922,
          0.20428924065632798,
          0.22236282194300827,
          -0.6875098311811151,
          0.359616715882246,
          2.3950352145362634,
          -1.6207985178635114,
          1.1035412290025228,
          0.08046177444574407,
          0.6606756828275522,
          -0.23956254477490263,
          -0.17851923115075505,
          -1.3840621342640793,
          -0.18702848968924107,
          -0.022384496392856452,
          0.22508891444086587,
          -0.08976387372755973,
          1.5689953760605144,
          -0.8888438575279914,
          0.7570847381702218,
          0.18871608700229803,
          0.2010714627780046,
          -0.9376698821651582,
          0.6750759305528278,
          -2.6466285425274574,
          0.37476265045813056,
          -0.901004002901094,
          -0.9650386990444001,
          0.9978649274376844,
          1.1449823043540495,
          -0.08122776362240577,
          -0.46399287651831483,
          -0.327973144710316,
          -0.7052750047259908,
          -0.8404245727219606,
          -1.8027200625992401,
          -0.41612955979023686,
          1.744646834426262,
          2.08660268843734,
          -0.3575218095405308,
          -1.3969976767306818,
          -2.209247335595158,
          -0.01949960232712651,
          -0.43249537867595117,
          0.3276816794140001,
          1.3947314018656503,
          -0.8707272296934853,
          2.119916665770619,
          0.35932321797338723,
          -1.8635994759219356,
          -0.18346970394873846,
          0.20263335913174033,
          -0.47349177490276445,
          -1.4520362442968655,
          -2.1149498689947457,
          0.9130783150932135,
          -0.5495136750215502,
          -1.0960621283754712,
          1.4451572160950985,
          2.031408286352337,
          0.5425598066205446,
          -0.4775211880584021,
          1.3308282537961023,
          1.054353691401902,
          1.612940625060723,
          -0.6109625761183942,
          -0.3821873570921796,
          0.06843039203537875,
          -0.851254205028847,
          -0.4766492013005475,
          -0.5890194171164326,
          2.442183066498214,
          -0.6194169874355799,
          -1.2222617029743152,
          -0.38402757215563416,
          1.2903773269289678,
          0.5971276344830816,
          0.19293385964319268,
          -1.943140647316925,
          2.5316619216308647,
          -1.0653518979213665,
          1.4221772704069156,
          0.2182038837841717,
          -0.17473296264917926,
          1.2593089788564307,
          0.4037842122693207,
          0.41043879549939155,
          0.017209646728323726,
          0.05546188946749892,
          -0.8863530371688454,
          0.1294464356696457,
          -0.677070174398935,
          -1.16031510980759
         ],
         "yaxis": "y3"
        },
        {
         "line": {
          "color": "rgba(128, 128, 128, 1.0)",
          "dash": "solid",
          "shape": "linear",
          "width": 1.3
         },
         "marker": {
          "size": 2,
          "symbol": "circle"
         },
         "mode": "markers",
         "name": "a",
         "text": "",
         "type": "scatter",
         "x": [
          -0.28048716161916,
          0.38589042597645334,
          -0.24555896355230156,
          1.0359933876068943,
          2.188602424554546,
          -0.37483742833276074,
          -0.06152544592235071,
          -0.33744135882751547,
          0.2906250898137876,
          -1.0924854508790909,
          -0.2068158441813486,
          -1.8728412712076505,
          -0.3531552351063383,
          0.5372122551350138,
          -2.9674873834537734,
          -0.3005238614058087,
          -1.7393975655822014,
          0.41978060727531724,
          -0.7863600332339782,
          -0.39397655827621203,
          1.6171266606089163,
          0.7637431942159277,
          0.4090932470552176,
          1.986463868774873,
          0.05938797301543664,
          -0.15103568029575504,
          -0.2997104944680906,
          2.9227042979261486,
          0.08815006639147839,
          -1.274066078955945,
          0.017959183940567117,
          -0.3511043178642469,
          -0.7148162366809442,
          1.4793676171030348,
          0.033139292377156536,
          -0.6594075747595262,
          -0.7310276316427899,
          -0.2670019744567271,
          -0.13361484696476697,
          0.9811250183384784,
          1.3041030439701036,
          -1.5520338753125933,
          -1.2669180128447932,
          -0.6419806582859231,
          0.48530503422526017,
          -1.0804420757427589,
          -1.3530587223162485,
          -0.5367496625638137,
          -0.5339709398509465,
          1.1011604095373158,
          0.8022156504237581,
          -0.668547460007973,
          -0.48133355497319047,
          1.29383729573397,
          -0.9135629504590587,
          -0.04934407389542167,
          -1.2706240982625403,
          -0.6556031143886947,
          1.0241986254924382,
          -0.46563454761994066,
          0.2733482279459654,
          1.5345044369997993,
          -1.7372038688744909,
          0.666806989228242,
          -0.08340980571751967,
          0.7024417091367539,
          0.36885977087007676,
          -1.243335553024747,
          0.18291365920098274,
          -0.017436565628707122,
          -0.46624467691635046,
          -1.0951404872243835,
          0.8223100314303123,
          -0.7376289367241221,
          0.33792468585131574,
          -1.7010921501841583,
          0.05864850995894906,
          0.6131855591589759,
          1.8343976598091685,
          0.7141275399998634,
          0.39757337321541675,
          0.13641646616786698,
          0.9738560319450598,
          -0.451621107940339,
          1.258206993496081,
          -0.5246405435883648,
          0.7202535805908966,
          0.2473480789820883,
          -1.0808258434385758,
          -0.10729158726169893,
          -1.8429497353902775,
          0.37677638524818696,
          0.9340574794462572,
          0.594786084820459,
          0.0031055629632219086,
          -0.8872625988730557,
          2.0629264388795066,
          0.2000416837259496,
          0.5839869034838178,
          -2.1171149617801857
         ],
         "xaxis": "x4",
         "y": [
          -0.2939247089538375,
          2.0970076509999784,
          0.6173777106200816,
          0.23750356151887284,
          1.4742614481713527,
          -0.5385616431849475,
          -0.45321074945949447,
          0.12167449125140922,
          0.20428924065632798,
          0.22236282194300827,
          -0.6875098311811151,
          0.359616715882246,
          2.3950352145362634,
          -1.6207985178635114,
          1.1035412290025228,
          0.08046177444574407,
          0.6606756828275522,
          -0.23956254477490263,
          -0.17851923115075505,
          -1.3840621342640793,
          -0.18702848968924107,
          -0.022384496392856452,
          0.22508891444086587,
          -0.08976387372755973,
          1.5689953760605144,
          -0.8888438575279914,
          0.7570847381702218,
          0.18871608700229803,
          0.2010714627780046,
          -0.9376698821651582,
          0.6750759305528278,
          -2.6466285425274574,
          0.37476265045813056,
          -0.901004002901094,
          -0.9650386990444001,
          0.9978649274376844,
          1.1449823043540495,
          -0.08122776362240577,
          -0.46399287651831483,
          -0.327973144710316,
          -0.7052750047259908,
          -0.8404245727219606,
          -1.8027200625992401,
          -0.41612955979023686,
          1.744646834426262,
          2.08660268843734,
          -0.3575218095405308,
          -1.3969976767306818,
          -2.209247335595158,
          -0.01949960232712651,
          -0.43249537867595117,
          0.3276816794140001,
          1.3947314018656503,
          -0.8707272296934853,
          2.119916665770619,
          0.35932321797338723,
          -1.8635994759219356,
          -0.18346970394873846,
          0.20263335913174033,
          -0.47349177490276445,
          -1.4520362442968655,
          -2.1149498689947457,
          0.9130783150932135,
          -0.5495136750215502,
          -1.0960621283754712,
          1.4451572160950985,
          2.031408286352337,
          0.5425598066205446,
          -0.4775211880584021,
          1.3308282537961023,
          1.054353691401902,
          1.612940625060723,
          -0.6109625761183942,
          -0.3821873570921796,
          0.06843039203537875,
          -0.851254205028847,
          -0.4766492013005475,
          -0.5890194171164326,
          2.442183066498214,
          -0.6194169874355799,
          -1.2222617029743152,
          -0.38402757215563416,
          1.2903773269289678,
          0.5971276344830816,
          0.19293385964319268,
          -1.943140647316925,
          2.5316619216308647,
          -1.0653518979213665,
          1.4221772704069156,
          0.2182038837841717,
          -0.17473296264917926,
          1.2593089788564307,
          0.4037842122693207,
          0.41043879549939155,
          0.017209646728323726,
          0.05546188946749892,
          -0.8863530371688454,
          0.1294464356696457,
          -0.677070174398935,
          -1.16031510980759
         ],
         "yaxis": "y4"
        },
        {
         "line": {
          "color": "rgba(128, 128, 128, 1.0)",
          "dash": "solid",
          "shape": "linear",
          "width": 1.3
         },
         "marker": {
          "size": 2,
          "symbol": "circle"
         },
         "mode": "markers",
         "name": "b",
         "text": "",
         "type": "scatter",
         "x": [
          -0.2939247089538375,
          2.0970076509999784,
          0.6173777106200816,
          0.23750356151887284,
          1.4742614481713527,
          -0.5385616431849475,
          -0.45321074945949447,
          0.12167449125140922,
          0.20428924065632798,
          0.22236282194300827,
          -0.6875098311811151,
          0.359616715882246,
          2.3950352145362634,
          -1.6207985178635114,
          1.1035412290025228,
          0.08046177444574407,
          0.6606756828275522,
          -0.23956254477490263,
          -0.17851923115075505,
          -1.3840621342640793,
          -0.18702848968924107,
          -0.022384496392856452,
          0.22508891444086587,
          -0.08976387372755973,
          1.5689953760605144,
          -0.8888438575279914,
          0.7570847381702218,
          0.18871608700229803,
          0.2010714627780046,
          -0.9376698821651582,
          0.6750759305528278,
          -2.6466285425274574,
          0.37476265045813056,
          -0.901004002901094,
          -0.9650386990444001,
          0.9978649274376844,
          1.1449823043540495,
          -0.08122776362240577,
          -0.46399287651831483,
          -0.327973144710316,
          -0.7052750047259908,
          -0.8404245727219606,
          -1.8027200625992401,
          -0.41612955979023686,
          1.744646834426262,
          2.08660268843734,
          -0.3575218095405308,
          -1.3969976767306818,
          -2.209247335595158,
          -0.01949960232712651,
          -0.43249537867595117,
          0.3276816794140001,
          1.3947314018656503,
          -0.8707272296934853,
          2.119916665770619,
          0.35932321797338723,
          -1.8635994759219356,
          -0.18346970394873846,
          0.20263335913174033,
          -0.47349177490276445,
          -1.4520362442968655,
          -2.1149498689947457,
          0.9130783150932135,
          -0.5495136750215502,
          -1.0960621283754712,
          1.4451572160950985,
          2.031408286352337,
          0.5425598066205446,
          -0.4775211880584021,
          1.3308282537961023,
          1.054353691401902,
          1.612940625060723,
          -0.6109625761183942,
          -0.3821873570921796,
          0.06843039203537875,
          -0.851254205028847,
          -0.4766492013005475,
          -0.5890194171164326,
          2.442183066498214,
          -0.6194169874355799,
          -1.2222617029743152,
          -0.38402757215563416,
          1.2903773269289678,
          0.5971276344830816,
          0.19293385964319268,
          -1.943140647316925,
          2.5316619216308647,
          -1.0653518979213665,
          1.4221772704069156,
          0.2182038837841717,
          -0.17473296264917926,
          1.2593089788564307,
          0.4037842122693207,
          0.41043879549939155,
          0.017209646728323726,
          0.05546188946749892,
          -0.8863530371688454,
          0.1294464356696457,
          -0.677070174398935,
          -1.16031510980759
         ],
         "xaxis": "x5",
         "y": [
          1.7517195955247546,
          -0.35359986253618086,
          -0.19133904818374425,
          0.09425845259705241,
          0.3132660279058182,
          0.5781971553314883,
          -2.067783326993488,
          0.6099826326983443,
          0.4237298386704434,
          -0.726227751579507,
          -0.7189066348304399,
          -1.1621193679555342,
          -0.8387188227282664,
          1.8446352326960413,
          -1.5261234234571448,
          0.25184511373240026,
          0.507382596728712,
          -0.7676055455944559,
          0.3345289985935182,
          -0.519930862281465,
          -1.1875187855113214,
          0.28321083692873156,
          0.4439022981463856,
          -0.647070647038372,
          -0.13382994045631505,
          -0.8231744385020477,
          -0.7760002891058501,
          -1.8811016466011998,
          -0.5400669646741258,
          0.6417993920365667,
          -1.0750433645350408,
          -0.8535304068144485,
          1.7366198720263866,
          -0.7460551345224858,
          -0.42652411311431265,
          0.20228592023185543,
          -1.2709086692771747,
          -1.4133149883151543,
          0.548228842737083,
          -0.9812532497119463,
          -1.4533376337289736,
          0.15096058684193256,
          1.1737197584881935,
          -0.052932881986239355,
          0.11726895488462656,
          -1.2633287230708576,
          -1.4576819453135772,
          -1.3093283709027084,
          -0.3055126935028742,
          -0.04722359550452384,
          0.11528089339140782,
          -0.12480741368796602,
          0.5678519074032968,
          -1.651854518362437,
          -0.3672919727036017,
          0.25200949602089007,
          -0.37351570168002984,
          -1.045903428320767,
          0.5206368286408477,
          1.1232227278371094,
          -1.340085574768691,
          -0.86400745936875,
          1.0550957715631073,
          0.459542071919937,
          -0.21526127396496744,
          -0.08755215527323648,
          0.49115860321273747,
          -0.22641865914983392,
          -0.900489261026163,
          -0.4097112328735374,
          -0.4670675693241242,
          0.36811600188979976,
          -0.035211946204871995,
          0.5760790785247979,
          -0.2898062105937861,
          -0.6454669574803571,
          1.0872247062936047,
          0.8388304270804362,
          1.2010283395645696,
          0.9091166353159125,
          -0.4165958388206629,
          -0.6321804012839619,
          0.09215744767250596,
          1.5640594486311639,
          1.1593665190780447,
          0.8373592918589178,
          -0.4103626401331422,
          0.3403785041925423,
          -0.2971058215438673,
          -0.6546234291796629,
          0.6718839090767289,
          -0.08626567553004098,
          0.34493128880227797,
          -1.3166805505068733,
          -0.5915004452066159,
          0.07001232138335309,
          -0.3604605295372551,
          -0.3267979890598825,
          -0.43241655790310934,
          1.0308675380964412
         ],
         "yaxis": "y5"
        },
        {
         "histfunc": "count",
         "histnorm": "",
         "marker": {
          "color": "rgba(55, 128, 191, 1.0)",
          "line": {
           "color": "#4D5663",
           "width": 1.3
          }
         },
         "name": "b",
         "nbinsx": 10,
         "opacity": 0.8,
         "orientation": "v",
         "type": "histogram",
         "x": [
          1.7517195955247546,
          -0.35359986253618086,
          -0.19133904818374425,
          0.09425845259705241,
          0.3132660279058182,
          0.5781971553314883,
          -2.067783326993488,
          0.6099826326983443,
          0.4237298386704434,
          -0.726227751579507,
          -0.7189066348304399,
          -1.1621193679555342,
          -0.8387188227282664,
          1.8446352326960413,
          -1.5261234234571448,
          0.25184511373240026,
          0.507382596728712,
          -0.7676055455944559,
          0.3345289985935182,
          -0.519930862281465,
          -1.1875187855113214,
          0.28321083692873156,
          0.4439022981463856,
          -0.647070647038372,
          -0.13382994045631505,
          -0.8231744385020477,
          -0.7760002891058501,
          -1.8811016466011998,
          -0.5400669646741258,
          0.6417993920365667,
          -1.0750433645350408,
          -0.8535304068144485,
          1.7366198720263866,
          -0.7460551345224858,
          -0.42652411311431265,
          0.20228592023185543,
          -1.2709086692771747,
          -1.4133149883151543,
          0.548228842737083,
          -0.9812532497119463,
          -1.4533376337289736,
          0.15096058684193256,
          1.1737197584881935,
          -0.052932881986239355,
          0.11726895488462656,
          -1.2633287230708576,
          -1.4576819453135772,
          -1.3093283709027084,
          -0.3055126935028742,
          -0.04722359550452384,
          0.11528089339140782,
          -0.12480741368796602,
          0.5678519074032968,
          -1.651854518362437,
          -0.3672919727036017,
          0.25200949602089007,
          -0.37351570168002984,
          -1.045903428320767,
          0.5206368286408477,
          1.1232227278371094,
          -1.340085574768691,
          -0.86400745936875,
          1.0550957715631073,
          0.459542071919937,
          -0.21526127396496744,
          -0.08755215527323648,
          0.49115860321273747,
          -0.22641865914983392,
          -0.900489261026163,
          -0.4097112328735374,
          -0.4670675693241242,
          0.36811600188979976,
          -0.035211946204871995,
          0.5760790785247979,
          -0.2898062105937861,
          -0.6454669574803571,
          1.0872247062936047,
          0.8388304270804362,
          1.2010283395645696,
          0.9091166353159125,
          -0.4165958388206629,
          -0.6321804012839619,
          0.09215744767250596,
          1.5640594486311639,
          1.1593665190780447,
          0.8373592918589178,
          -0.4103626401331422,
          0.3403785041925423,
          -0.2971058215438673,
          -0.6546234291796629,
          0.6718839090767289,
          -0.08626567553004098,
          0.34493128880227797,
          -1.3166805505068733,
          -0.5915004452066159,
          0.07001232138335309,
          -0.3604605295372551,
          -0.3267979890598825,
          -0.43241655790310934,
          1.0308675380964412
         ],
         "xaxis": "x6",
         "yaxis": "y6"
        },
        {
         "line": {
          "color": "rgba(128, 128, 128, 1.0)",
          "dash": "solid",
          "shape": "linear",
          "width": 1.3
         },
         "marker": {
          "size": 2,
          "symbol": "circle"
         },
         "mode": "markers",
         "name": "b",
         "text": "",
         "type": "scatter",
         "x": [
          -1.1665185982253494,
          0.44703916324171267,
          -2.229049902899732,
          -1.3836613335459687,
          -0.9485604622744072,
          -0.19636657192360915,
          -0.8645187066477877,
          1.1878271335269805,
          -0.7153177601251083,
          -1.5708769235393547,
          -0.9610121109570703,
          -0.20297366509109127,
          0.32931720596616937,
          -0.37905430856274264,
          -1.4181649222721624,
          0.6521683397958095,
          0.717256245918316,
          1.985701377744813,
          -1.01265751574874,
          1.8311572262058446,
          -1.8659600216036445,
          0.28815525025711985,
          0.006893738773197523,
          0.030200376884393546,
          2.381376433069506,
          -1.178264522799092,
          0.4846967282491856,
          0.1401510638317766,
          0.007629462492196791,
          -0.2899933489843769,
          -0.7191409376355365,
          -0.13327718346489367,
          -0.23278778299188033,
          -0.5542201742034805,
          1.130817516835987,
          -1.0203156236294415,
          -0.6560003451263542,
          1.9050964763882963,
          -0.48873438331956637,
          -0.19443868973228298,
          0.2078750770823177,
          -0.11224911009580876,
          1.8798466545665753,
          -0.367455864130886,
          -0.11819328300870134,
          -0.15193007603728442,
          0.9203915705812769,
          0.17994717183003192,
          0.028378077636339434,
          -1.1727911766586867,
          -0.27428142872025896,
          -0.40614186493007615,
          0.9197185999998129,
          1.5675331492287392,
          0.31549790306323383,
          -0.9600468947852062,
          -0.7898783312417721,
          -0.4650998066750889,
          0.7327378277474271,
          -1.4504063668945508,
          1.9594864969323,
          -1.1837997404232803,
          0.06710462339755838,
          -0.5439250147730456,
          -0.6805202673031998,
          -0.18660028703268128,
          -0.30564296100900584,
          -0.3749226214508793,
          0.3792636917660674,
          0.7726839407126967,
          0.8489104984466974,
          0.8509562364366888,
          0.8017633886647397,
          -0.64049567558334,
          -2.261208818427529,
          -2.535064947627141,
          -0.22110638537596014,
          1.6324168208268681,
          -0.7761354871003384,
          -0.42734958754239893,
          -0.14351041266370718,
          -0.12263629059096863,
          -0.5876526082928746,
          0.998850201939234,
          0.8918621098146288,
          -0.911802610468548,
          -0.107483819096009,
          -0.28227227913320946,
          0.6245701802471451,
          0.07321836835851156,
          1.1169438714769597,
          1.2778705156173897,
          0.815773569270344,
          0.9970761608278822,
          -1.3789977188461464,
          -1.3450874453770818,
          0.14328961191665385,
          2.0797462282022345,
          1.5449517630974585,
          1.4544167474742808
         ],
         "xaxis": "x7",
         "y": [
          1.7517195955247546,
          -0.35359986253618086,
          -0.19133904818374425,
          0.09425845259705241,
          0.3132660279058182,
          0.5781971553314883,
          -2.067783326993488,
          0.6099826326983443,
          0.4237298386704434,
          -0.726227751579507,
          -0.7189066348304399,
          -1.1621193679555342,
          -0.8387188227282664,
          1.8446352326960413,
          -1.5261234234571448,
          0.25184511373240026,
          0.507382596728712,
          -0.7676055455944559,
          0.3345289985935182,
          -0.519930862281465,
          -1.1875187855113214,
          0.28321083692873156,
          0.4439022981463856,
          -0.647070647038372,
          -0.13382994045631505,
          -0.8231744385020477,
          -0.7760002891058501,
          -1.8811016466011998,
          -0.5400669646741258,
          0.6417993920365667,
          -1.0750433645350408,
          -0.8535304068144485,
          1.7366198720263866,
          -0.7460551345224858,
          -0.42652411311431265,
          0.20228592023185543,
          -1.2709086692771747,
          -1.4133149883151543,
          0.548228842737083,
          -0.9812532497119463,
          -1.4533376337289736,
          0.15096058684193256,
          1.1737197584881935,
          -0.052932881986239355,
          0.11726895488462656,
          -1.2633287230708576,
          -1.4576819453135772,
          -1.3093283709027084,
          -0.3055126935028742,
          -0.04722359550452384,
          0.11528089339140782,
          -0.12480741368796602,
          0.5678519074032968,
          -1.651854518362437,
          -0.3672919727036017,
          0.25200949602089007,
          -0.37351570168002984,
          -1.045903428320767,
          0.5206368286408477,
          1.1232227278371094,
          -1.340085574768691,
          -0.86400745936875,
          1.0550957715631073,
          0.459542071919937,
          -0.21526127396496744,
          -0.08755215527323648,
          0.49115860321273747,
          -0.22641865914983392,
          -0.900489261026163,
          -0.4097112328735374,
          -0.4670675693241242,
          0.36811600188979976,
          -0.035211946204871995,
          0.5760790785247979,
          -0.2898062105937861,
          -0.6454669574803571,
          1.0872247062936047,
          0.8388304270804362,
          1.2010283395645696,
          0.9091166353159125,
          -0.4165958388206629,
          -0.6321804012839619,
          0.09215744767250596,
          1.5640594486311639,
          1.1593665190780447,
          0.8373592918589178,
          -0.4103626401331422,
          0.3403785041925423,
          -0.2971058215438673,
          -0.6546234291796629,
          0.6718839090767289,
          -0.08626567553004098,
          0.34493128880227797,
          -1.3166805505068733,
          -0.5915004452066159,
          0.07001232138335309,
          -0.3604605295372551,
          -0.3267979890598825,
          -0.43241655790310934,
          1.0308675380964412
         ],
         "yaxis": "y7"
        },
        {
         "line": {
          "color": "rgba(128, 128, 128, 1.0)",
          "dash": "solid",
          "shape": "linear",
          "width": 1.3
         },
         "marker": {
          "size": 2,
          "symbol": "circle"
         },
         "mode": "markers",
         "name": "b",
         "text": "",
         "type": "scatter",
         "x": [
          -0.28048716161916,
          0.38589042597645334,
          -0.24555896355230156,
          1.0359933876068943,
          2.188602424554546,
          -0.37483742833276074,
          -0.06152544592235071,
          -0.33744135882751547,
          0.2906250898137876,
          -1.0924854508790909,
          -0.2068158441813486,
          -1.8728412712076505,
          -0.3531552351063383,
          0.5372122551350138,
          -2.9674873834537734,
          -0.3005238614058087,
          -1.7393975655822014,
          0.41978060727531724,
          -0.7863600332339782,
          -0.39397655827621203,
          1.6171266606089163,
          0.7637431942159277,
          0.4090932470552176,
          1.986463868774873,
          0.05938797301543664,
          -0.15103568029575504,
          -0.2997104944680906,
          2.9227042979261486,
          0.08815006639147839,
          -1.274066078955945,
          0.017959183940567117,
          -0.3511043178642469,
          -0.7148162366809442,
          1.4793676171030348,
          0.033139292377156536,
          -0.6594075747595262,
          -0.7310276316427899,
          -0.2670019744567271,
          -0.13361484696476697,
          0.9811250183384784,
          1.3041030439701036,
          -1.5520338753125933,
          -1.2669180128447932,
          -0.6419806582859231,
          0.48530503422526017,
          -1.0804420757427589,
          -1.3530587223162485,
          -0.5367496625638137,
          -0.5339709398509465,
          1.1011604095373158,
          0.8022156504237581,
          -0.668547460007973,
          -0.48133355497319047,
          1.29383729573397,
          -0.9135629504590587,
          -0.04934407389542167,
          -1.2706240982625403,
          -0.6556031143886947,
          1.0241986254924382,
          -0.46563454761994066,
          0.2733482279459654,
          1.5345044369997993,
          -1.7372038688744909,
          0.666806989228242,
          -0.08340980571751967,
          0.7024417091367539,
          0.36885977087007676,
          -1.243335553024747,
          0.18291365920098274,
          -0.017436565628707122,
          -0.46624467691635046,
          -1.0951404872243835,
          0.8223100314303123,
          -0.7376289367241221,
          0.33792468585131574,
          -1.7010921501841583,
          0.05864850995894906,
          0.6131855591589759,
          1.8343976598091685,
          0.7141275399998634,
          0.39757337321541675,
          0.13641646616786698,
          0.9738560319450598,
          -0.451621107940339,
          1.258206993496081,
          -0.5246405435883648,
          0.7202535805908966,
          0.2473480789820883,
          -1.0808258434385758,
          -0.10729158726169893,
          -1.8429497353902775,
          0.37677638524818696,
          0.9340574794462572,
          0.594786084820459,
          0.0031055629632219086,
          -0.8872625988730557,
          2.0629264388795066,
          0.2000416837259496,
          0.5839869034838178,
          -2.1171149617801857
         ],
         "xaxis": "x8",
         "y": [
          1.7517195955247546,
          -0.35359986253618086,
          -0.19133904818374425,
          0.09425845259705241,
          0.3132660279058182,
          0.5781971553314883,
          -2.067783326993488,
          0.6099826326983443,
          0.4237298386704434,
          -0.726227751579507,
          -0.7189066348304399,
          -1.1621193679555342,
          -0.8387188227282664,
          1.8446352326960413,
          -1.5261234234571448,
          0.25184511373240026,
          0.507382596728712,
          -0.7676055455944559,
          0.3345289985935182,
          -0.519930862281465,
          -1.1875187855113214,
          0.28321083692873156,
          0.4439022981463856,
          -0.647070647038372,
          -0.13382994045631505,
          -0.8231744385020477,
          -0.7760002891058501,
          -1.8811016466011998,
          -0.5400669646741258,
          0.6417993920365667,
          -1.0750433645350408,
          -0.8535304068144485,
          1.7366198720263866,
          -0.7460551345224858,
          -0.42652411311431265,
          0.20228592023185543,
          -1.2709086692771747,
          -1.4133149883151543,
          0.548228842737083,
          -0.9812532497119463,
          -1.4533376337289736,
          0.15096058684193256,
          1.1737197584881935,
          -0.052932881986239355,
          0.11726895488462656,
          -1.2633287230708576,
          -1.4576819453135772,
          -1.3093283709027084,
          -0.3055126935028742,
          -0.04722359550452384,
          0.11528089339140782,
          -0.12480741368796602,
          0.5678519074032968,
          -1.651854518362437,
          -0.3672919727036017,
          0.25200949602089007,
          -0.37351570168002984,
          -1.045903428320767,
          0.5206368286408477,
          1.1232227278371094,
          -1.340085574768691,
          -0.86400745936875,
          1.0550957715631073,
          0.459542071919937,
          -0.21526127396496744,
          -0.08755215527323648,
          0.49115860321273747,
          -0.22641865914983392,
          -0.900489261026163,
          -0.4097112328735374,
          -0.4670675693241242,
          0.36811600188979976,
          -0.035211946204871995,
          0.5760790785247979,
          -0.2898062105937861,
          -0.6454669574803571,
          1.0872247062936047,
          0.8388304270804362,
          1.2010283395645696,
          0.9091166353159125,
          -0.4165958388206629,
          -0.6321804012839619,
          0.09215744767250596,
          1.5640594486311639,
          1.1593665190780447,
          0.8373592918589178,
          -0.4103626401331422,
          0.3403785041925423,
          -0.2971058215438673,
          -0.6546234291796629,
          0.6718839090767289,
          -0.08626567553004098,
          0.34493128880227797,
          -1.3166805505068733,
          -0.5915004452066159,
          0.07001232138335309,
          -0.3604605295372551,
          -0.3267979890598825,
          -0.43241655790310934,
          1.0308675380964412
         ],
         "yaxis": "y8"
        },
        {
         "line": {
          "color": "rgba(128, 128, 128, 1.0)",
          "dash": "solid",
          "shape": "linear",
          "width": 1.3
         },
         "marker": {
          "size": 2,
          "symbol": "circle"
         },
         "mode": "markers",
         "name": "c",
         "text": "",
         "type": "scatter",
         "x": [
          -0.2939247089538375,
          2.0970076509999784,
          0.6173777106200816,
          0.23750356151887284,
          1.4742614481713527,
          -0.5385616431849475,
          -0.45321074945949447,
          0.12167449125140922,
          0.20428924065632798,
          0.22236282194300827,
          -0.6875098311811151,
          0.359616715882246,
          2.3950352145362634,
          -1.6207985178635114,
          1.1035412290025228,
          0.08046177444574407,
          0.6606756828275522,
          -0.23956254477490263,
          -0.17851923115075505,
          -1.3840621342640793,
          -0.18702848968924107,
          -0.022384496392856452,
          0.22508891444086587,
          -0.08976387372755973,
          1.5689953760605144,
          -0.8888438575279914,
          0.7570847381702218,
          0.18871608700229803,
          0.2010714627780046,
          -0.9376698821651582,
          0.6750759305528278,
          -2.6466285425274574,
          0.37476265045813056,
          -0.901004002901094,
          -0.9650386990444001,
          0.9978649274376844,
          1.1449823043540495,
          -0.08122776362240577,
          -0.46399287651831483,
          -0.327973144710316,
          -0.7052750047259908,
          -0.8404245727219606,
          -1.8027200625992401,
          -0.41612955979023686,
          1.744646834426262,
          2.08660268843734,
          -0.3575218095405308,
          -1.3969976767306818,
          -2.209247335595158,
          -0.01949960232712651,
          -0.43249537867595117,
          0.3276816794140001,
          1.3947314018656503,
          -0.8707272296934853,
          2.119916665770619,
          0.35932321797338723,
          -1.8635994759219356,
          -0.18346970394873846,
          0.20263335913174033,
          -0.47349177490276445,
          -1.4520362442968655,
          -2.1149498689947457,
          0.9130783150932135,
          -0.5495136750215502,
          -1.0960621283754712,
          1.4451572160950985,
          2.031408286352337,
          0.5425598066205446,
          -0.4775211880584021,
          1.3308282537961023,
          1.054353691401902,
          1.612940625060723,
          -0.6109625761183942,
          -0.3821873570921796,
          0.06843039203537875,
          -0.851254205028847,
          -0.4766492013005475,
          -0.5890194171164326,
          2.442183066498214,
          -0.6194169874355799,
          -1.2222617029743152,
          -0.38402757215563416,
          1.2903773269289678,
          0.5971276344830816,
          0.19293385964319268,
          -1.943140647316925,
          2.5316619216308647,
          -1.0653518979213665,
          1.4221772704069156,
          0.2182038837841717,
          -0.17473296264917926,
          1.2593089788564307,
          0.4037842122693207,
          0.41043879549939155,
          0.017209646728323726,
          0.05546188946749892,
          -0.8863530371688454,
          0.1294464356696457,
          -0.677070174398935,
          -1.16031510980759
         ],
         "xaxis": "x9",
         "y": [
          -1.1665185982253494,
          0.44703916324171267,
          -2.229049902899732,
          -1.3836613335459687,
          -0.9485604622744072,
          -0.19636657192360915,
          -0.8645187066477877,
          1.1878271335269805,
          -0.7153177601251083,
          -1.5708769235393547,
          -0.9610121109570703,
          -0.20297366509109127,
          0.32931720596616937,
          -0.37905430856274264,
          -1.4181649222721624,
          0.6521683397958095,
          0.717256245918316,
          1.985701377744813,
          -1.01265751574874,
          1.8311572262058446,
          -1.8659600216036445,
          0.28815525025711985,
          0.006893738773197523,
          0.030200376884393546,
          2.381376433069506,
          -1.178264522799092,
          0.4846967282491856,
          0.1401510638317766,
          0.007629462492196791,
          -0.2899933489843769,
          -0.7191409376355365,
          -0.13327718346489367,
          -0.23278778299188033,
          -0.5542201742034805,
          1.130817516835987,
          -1.0203156236294415,
          -0.6560003451263542,
          1.9050964763882963,
          -0.48873438331956637,
          -0.19443868973228298,
          0.2078750770823177,
          -0.11224911009580876,
          1.8798466545665753,
          -0.367455864130886,
          -0.11819328300870134,
          -0.15193007603728442,
          0.9203915705812769,
          0.17994717183003192,
          0.028378077636339434,
          -1.1727911766586867,
          -0.27428142872025896,
          -0.40614186493007615,
          0.9197185999998129,
          1.5675331492287392,
          0.31549790306323383,
          -0.9600468947852062,
          -0.7898783312417721,
          -0.4650998066750889,
          0.7327378277474271,
          -1.4504063668945508,
          1.9594864969323,
          -1.1837997404232803,
          0.06710462339755838,
          -0.5439250147730456,
          -0.6805202673031998,
          -0.18660028703268128,
          -0.30564296100900584,
          -0.3749226214508793,
          0.3792636917660674,
          0.7726839407126967,
          0.8489104984466974,
          0.8509562364366888,
          0.8017633886647397,
          -0.64049567558334,
          -2.261208818427529,
          -2.535064947627141,
          -0.22110638537596014,
          1.6324168208268681,
          -0.7761354871003384,
          -0.42734958754239893,
          -0.14351041266370718,
          -0.12263629059096863,
          -0.5876526082928746,
          0.998850201939234,
          0.8918621098146288,
          -0.911802610468548,
          -0.107483819096009,
          -0.28227227913320946,
          0.6245701802471451,
          0.07321836835851156,
          1.1169438714769597,
          1.2778705156173897,
          0.815773569270344,
          0.9970761608278822,
          -1.3789977188461464,
          -1.3450874453770818,
          0.14328961191665385,
          2.0797462282022345,
          1.5449517630974585,
          1.4544167474742808
         ],
         "yaxis": "y9"
        },
        {
         "line": {
          "color": "rgba(128, 128, 128, 1.0)",
          "dash": "solid",
          "shape": "linear",
          "width": 1.3
         },
         "marker": {
          "size": 2,
          "symbol": "circle"
         },
         "mode": "markers",
         "name": "c",
         "text": "",
         "type": "scatter",
         "x": [
          1.7517195955247546,
          -0.35359986253618086,
          -0.19133904818374425,
          0.09425845259705241,
          0.3132660279058182,
          0.5781971553314883,
          -2.067783326993488,
          0.6099826326983443,
          0.4237298386704434,
          -0.726227751579507,
          -0.7189066348304399,
          -1.1621193679555342,
          -0.8387188227282664,
          1.8446352326960413,
          -1.5261234234571448,
          0.25184511373240026,
          0.507382596728712,
          -0.7676055455944559,
          0.3345289985935182,
          -0.519930862281465,
          -1.1875187855113214,
          0.28321083692873156,
          0.4439022981463856,
          -0.647070647038372,
          -0.13382994045631505,
          -0.8231744385020477,
          -0.7760002891058501,
          -1.8811016466011998,
          -0.5400669646741258,
          0.6417993920365667,
          -1.0750433645350408,
          -0.8535304068144485,
          1.7366198720263866,
          -0.7460551345224858,
          -0.42652411311431265,
          0.20228592023185543,
          -1.2709086692771747,
          -1.4133149883151543,
          0.548228842737083,
          -0.9812532497119463,
          -1.4533376337289736,
          0.15096058684193256,
          1.1737197584881935,
          -0.052932881986239355,
          0.11726895488462656,
          -1.2633287230708576,
          -1.4576819453135772,
          -1.3093283709027084,
          -0.3055126935028742,
          -0.04722359550452384,
          0.11528089339140782,
          -0.12480741368796602,
          0.5678519074032968,
          -1.651854518362437,
          -0.3672919727036017,
          0.25200949602089007,
          -0.37351570168002984,
          -1.045903428320767,
          0.5206368286408477,
          1.1232227278371094,
          -1.340085574768691,
          -0.86400745936875,
          1.0550957715631073,
          0.459542071919937,
          -0.21526127396496744,
          -0.08755215527323648,
          0.49115860321273747,
          -0.22641865914983392,
          -0.900489261026163,
          -0.4097112328735374,
          -0.4670675693241242,
          0.36811600188979976,
          -0.035211946204871995,
          0.5760790785247979,
          -0.2898062105937861,
          -0.6454669574803571,
          1.0872247062936047,
          0.8388304270804362,
          1.2010283395645696,
          0.9091166353159125,
          -0.4165958388206629,
          -0.6321804012839619,
          0.09215744767250596,
          1.5640594486311639,
          1.1593665190780447,
          0.8373592918589178,
          -0.4103626401331422,
          0.3403785041925423,
          -0.2971058215438673,
          -0.6546234291796629,
          0.6718839090767289,
          -0.08626567553004098,
          0.34493128880227797,
          -1.3166805505068733,
          -0.5915004452066159,
          0.07001232138335309,
          -0.3604605295372551,
          -0.3267979890598825,
          -0.43241655790310934,
          1.0308675380964412
         ],
         "xaxis": "x10",
         "y": [
          -1.1665185982253494,
          0.44703916324171267,
          -2.229049902899732,
          -1.3836613335459687,
          -0.9485604622744072,
          -0.19636657192360915,
          -0.8645187066477877,
          1.1878271335269805,
          -0.7153177601251083,
          -1.5708769235393547,
          -0.9610121109570703,
          -0.20297366509109127,
          0.32931720596616937,
          -0.37905430856274264,
          -1.4181649222721624,
          0.6521683397958095,
          0.717256245918316,
          1.985701377744813,
          -1.01265751574874,
          1.8311572262058446,
          -1.8659600216036445,
          0.28815525025711985,
          0.006893738773197523,
          0.030200376884393546,
          2.381376433069506,
          -1.178264522799092,
          0.4846967282491856,
          0.1401510638317766,
          0.007629462492196791,
          -0.2899933489843769,
          -0.7191409376355365,
          -0.13327718346489367,
          -0.23278778299188033,
          -0.5542201742034805,
          1.130817516835987,
          -1.0203156236294415,
          -0.6560003451263542,
          1.9050964763882963,
          -0.48873438331956637,
          -0.19443868973228298,
          0.2078750770823177,
          -0.11224911009580876,
          1.8798466545665753,
          -0.367455864130886,
          -0.11819328300870134,
          -0.15193007603728442,
          0.9203915705812769,
          0.17994717183003192,
          0.028378077636339434,
          -1.1727911766586867,
          -0.27428142872025896,
          -0.40614186493007615,
          0.9197185999998129,
          1.5675331492287392,
          0.31549790306323383,
          -0.9600468947852062,
          -0.7898783312417721,
          -0.4650998066750889,
          0.7327378277474271,
          -1.4504063668945508,
          1.9594864969323,
          -1.1837997404232803,
          0.06710462339755838,
          -0.5439250147730456,
          -0.6805202673031998,
          -0.18660028703268128,
          -0.30564296100900584,
          -0.3749226214508793,
          0.3792636917660674,
          0.7726839407126967,
          0.8489104984466974,
          0.8509562364366888,
          0.8017633886647397,
          -0.64049567558334,
          -2.261208818427529,
          -2.535064947627141,
          -0.22110638537596014,
          1.6324168208268681,
          -0.7761354871003384,
          -0.42734958754239893,
          -0.14351041266370718,
          -0.12263629059096863,
          -0.5876526082928746,
          0.998850201939234,
          0.8918621098146288,
          -0.911802610468548,
          -0.107483819096009,
          -0.28227227913320946,
          0.6245701802471451,
          0.07321836835851156,
          1.1169438714769597,
          1.2778705156173897,
          0.815773569270344,
          0.9970761608278822,
          -1.3789977188461464,
          -1.3450874453770818,
          0.14328961191665385,
          2.0797462282022345,
          1.5449517630974585,
          1.4544167474742808
         ],
         "yaxis": "y10"
        },
        {
         "histfunc": "count",
         "histnorm": "",
         "marker": {
          "color": "rgba(50, 171, 96, 1.0)",
          "line": {
           "color": "#4D5663",
           "width": 1.3
          }
         },
         "name": "c",
         "nbinsx": 10,
         "opacity": 0.8,
         "orientation": "v",
         "type": "histogram",
         "x": [
          -1.1665185982253494,
          0.44703916324171267,
          -2.229049902899732,
          -1.3836613335459687,
          -0.9485604622744072,
          -0.19636657192360915,
          -0.8645187066477877,
          1.1878271335269805,
          -0.7153177601251083,
          -1.5708769235393547,
          -0.9610121109570703,
          -0.20297366509109127,
          0.32931720596616937,
          -0.37905430856274264,
          -1.4181649222721624,
          0.6521683397958095,
          0.717256245918316,
          1.985701377744813,
          -1.01265751574874,
          1.8311572262058446,
          -1.8659600216036445,
          0.28815525025711985,
          0.006893738773197523,
          0.030200376884393546,
          2.381376433069506,
          -1.178264522799092,
          0.4846967282491856,
          0.1401510638317766,
          0.007629462492196791,
          -0.2899933489843769,
          -0.7191409376355365,
          -0.13327718346489367,
          -0.23278778299188033,
          -0.5542201742034805,
          1.130817516835987,
          -1.0203156236294415,
          -0.6560003451263542,
          1.9050964763882963,
          -0.48873438331956637,
          -0.19443868973228298,
          0.2078750770823177,
          -0.11224911009580876,
          1.8798466545665753,
          -0.367455864130886,
          -0.11819328300870134,
          -0.15193007603728442,
          0.9203915705812769,
          0.17994717183003192,
          0.028378077636339434,
          -1.1727911766586867,
          -0.27428142872025896,
          -0.40614186493007615,
          0.9197185999998129,
          1.5675331492287392,
          0.31549790306323383,
          -0.9600468947852062,
          -0.7898783312417721,
          -0.4650998066750889,
          0.7327378277474271,
          -1.4504063668945508,
          1.9594864969323,
          -1.1837997404232803,
          0.06710462339755838,
          -0.5439250147730456,
          -0.6805202673031998,
          -0.18660028703268128,
          -0.30564296100900584,
          -0.3749226214508793,
          0.3792636917660674,
          0.7726839407126967,
          0.8489104984466974,
          0.8509562364366888,
          0.8017633886647397,
          -0.64049567558334,
          -2.261208818427529,
          -2.535064947627141,
          -0.22110638537596014,
          1.6324168208268681,
          -0.7761354871003384,
          -0.42734958754239893,
          -0.14351041266370718,
          -0.12263629059096863,
          -0.5876526082928746,
          0.998850201939234,
          0.8918621098146288,
          -0.911802610468548,
          -0.107483819096009,
          -0.28227227913320946,
          0.6245701802471451,
          0.07321836835851156,
          1.1169438714769597,
          1.2778705156173897,
          0.815773569270344,
          0.9970761608278822,
          -1.3789977188461464,
          -1.3450874453770818,
          0.14328961191665385,
          2.0797462282022345,
          1.5449517630974585,
          1.4544167474742808
         ],
         "xaxis": "x11",
         "yaxis": "y11"
        },
        {
         "line": {
          "color": "rgba(128, 128, 128, 1.0)",
          "dash": "solid",
          "shape": "linear",
          "width": 1.3
         },
         "marker": {
          "size": 2,
          "symbol": "circle"
         },
         "mode": "markers",
         "name": "c",
         "text": "",
         "type": "scatter",
         "x": [
          -0.28048716161916,
          0.38589042597645334,
          -0.24555896355230156,
          1.0359933876068943,
          2.188602424554546,
          -0.37483742833276074,
          -0.06152544592235071,
          -0.33744135882751547,
          0.2906250898137876,
          -1.0924854508790909,
          -0.2068158441813486,
          -1.8728412712076505,
          -0.3531552351063383,
          0.5372122551350138,
          -2.9674873834537734,
          -0.3005238614058087,
          -1.7393975655822014,
          0.41978060727531724,
          -0.7863600332339782,
          -0.39397655827621203,
          1.6171266606089163,
          0.7637431942159277,
          0.4090932470552176,
          1.986463868774873,
          0.05938797301543664,
          -0.15103568029575504,
          -0.2997104944680906,
          2.9227042979261486,
          0.08815006639147839,
          -1.274066078955945,
          0.017959183940567117,
          -0.3511043178642469,
          -0.7148162366809442,
          1.4793676171030348,
          0.033139292377156536,
          -0.6594075747595262,
          -0.7310276316427899,
          -0.2670019744567271,
          -0.13361484696476697,
          0.9811250183384784,
          1.3041030439701036,
          -1.5520338753125933,
          -1.2669180128447932,
          -0.6419806582859231,
          0.48530503422526017,
          -1.0804420757427589,
          -1.3530587223162485,
          -0.5367496625638137,
          -0.5339709398509465,
          1.1011604095373158,
          0.8022156504237581,
          -0.668547460007973,
          -0.48133355497319047,
          1.29383729573397,
          -0.9135629504590587,
          -0.04934407389542167,
          -1.2706240982625403,
          -0.6556031143886947,
          1.0241986254924382,
          -0.46563454761994066,
          0.2733482279459654,
          1.5345044369997993,
          -1.7372038688744909,
          0.666806989228242,
          -0.08340980571751967,
          0.7024417091367539,
          0.36885977087007676,
          -1.243335553024747,
          0.18291365920098274,
          -0.017436565628707122,
          -0.46624467691635046,
          -1.0951404872243835,
          0.8223100314303123,
          -0.7376289367241221,
          0.33792468585131574,
          -1.7010921501841583,
          0.05864850995894906,
          0.6131855591589759,
          1.8343976598091685,
          0.7141275399998634,
          0.39757337321541675,
          0.13641646616786698,
          0.9738560319450598,
          -0.451621107940339,
          1.258206993496081,
          -0.5246405435883648,
          0.7202535805908966,
          0.2473480789820883,
          -1.0808258434385758,
          -0.10729158726169893,
          -1.8429497353902775,
          0.37677638524818696,
          0.9340574794462572,
          0.594786084820459,
          0.0031055629632219086,
          -0.8872625988730557,
          2.0629264388795066,
          0.2000416837259496,
          0.5839869034838178,
          -2.1171149617801857
         ],
         "xaxis": "x12",
         "y": [
          -1.1665185982253494,
          0.44703916324171267,
          -2.229049902899732,
          -1.3836613335459687,
          -0.9485604622744072,
          -0.19636657192360915,
          -0.8645187066477877,
          1.1878271335269805,
          -0.7153177601251083,
          -1.5708769235393547,
          -0.9610121109570703,
          -0.20297366509109127,
          0.32931720596616937,
          -0.37905430856274264,
          -1.4181649222721624,
          0.6521683397958095,
          0.717256245918316,
          1.985701377744813,
          -1.01265751574874,
          1.8311572262058446,
          -1.8659600216036445,
          0.28815525025711985,
          0.006893738773197523,
          0.030200376884393546,
          2.381376433069506,
          -1.178264522799092,
          0.4846967282491856,
          0.1401510638317766,
          0.007629462492196791,
          -0.2899933489843769,
          -0.7191409376355365,
          -0.13327718346489367,
          -0.23278778299188033,
          -0.5542201742034805,
          1.130817516835987,
          -1.0203156236294415,
          -0.6560003451263542,
          1.9050964763882963,
          -0.48873438331956637,
          -0.19443868973228298,
          0.2078750770823177,
          -0.11224911009580876,
          1.8798466545665753,
          -0.367455864130886,
          -0.11819328300870134,
          -0.15193007603728442,
          0.9203915705812769,
          0.17994717183003192,
          0.028378077636339434,
          -1.1727911766586867,
          -0.27428142872025896,
          -0.40614186493007615,
          0.9197185999998129,
          1.5675331492287392,
          0.31549790306323383,
          -0.9600468947852062,
          -0.7898783312417721,
          -0.4650998066750889,
          0.7327378277474271,
          -1.4504063668945508,
          1.9594864969323,
          -1.1837997404232803,
          0.06710462339755838,
          -0.5439250147730456,
          -0.6805202673031998,
          -0.18660028703268128,
          -0.30564296100900584,
          -0.3749226214508793,
          0.3792636917660674,
          0.7726839407126967,
          0.8489104984466974,
          0.8509562364366888,
          0.8017633886647397,
          -0.64049567558334,
          -2.261208818427529,
          -2.535064947627141,
          -0.22110638537596014,
          1.6324168208268681,
          -0.7761354871003384,
          -0.42734958754239893,
          -0.14351041266370718,
          -0.12263629059096863,
          -0.5876526082928746,
          0.998850201939234,
          0.8918621098146288,
          -0.911802610468548,
          -0.107483819096009,
          -0.28227227913320946,
          0.6245701802471451,
          0.07321836835851156,
          1.1169438714769597,
          1.2778705156173897,
          0.815773569270344,
          0.9970761608278822,
          -1.3789977188461464,
          -1.3450874453770818,
          0.14328961191665385,
          2.0797462282022345,
          1.5449517630974585,
          1.4544167474742808
         ],
         "yaxis": "y12"
        },
        {
         "line": {
          "color": "rgba(128, 128, 128, 1.0)",
          "dash": "solid",
          "shape": "linear",
          "width": 1.3
         },
         "marker": {
          "size": 2,
          "symbol": "circle"
         },
         "mode": "markers",
         "name": "d",
         "text": "",
         "type": "scatter",
         "x": [
          -0.2939247089538375,
          2.0970076509999784,
          0.6173777106200816,
          0.23750356151887284,
          1.4742614481713527,
          -0.5385616431849475,
          -0.45321074945949447,
          0.12167449125140922,
          0.20428924065632798,
          0.22236282194300827,
          -0.6875098311811151,
          0.359616715882246,
          2.3950352145362634,
          -1.6207985178635114,
          1.1035412290025228,
          0.08046177444574407,
          0.6606756828275522,
          -0.23956254477490263,
          -0.17851923115075505,
          -1.3840621342640793,
          -0.18702848968924107,
          -0.022384496392856452,
          0.22508891444086587,
          -0.08976387372755973,
          1.5689953760605144,
          -0.8888438575279914,
          0.7570847381702218,
          0.18871608700229803,
          0.2010714627780046,
          -0.9376698821651582,
          0.6750759305528278,
          -2.6466285425274574,
          0.37476265045813056,
          -0.901004002901094,
          -0.9650386990444001,
          0.9978649274376844,
          1.1449823043540495,
          -0.08122776362240577,
          -0.46399287651831483,
          -0.327973144710316,
          -0.7052750047259908,
          -0.8404245727219606,
          -1.8027200625992401,
          -0.41612955979023686,
          1.744646834426262,
          2.08660268843734,
          -0.3575218095405308,
          -1.3969976767306818,
          -2.209247335595158,
          -0.01949960232712651,
          -0.43249537867595117,
          0.3276816794140001,
          1.3947314018656503,
          -0.8707272296934853,
          2.119916665770619,
          0.35932321797338723,
          -1.8635994759219356,
          -0.18346970394873846,
          0.20263335913174033,
          -0.47349177490276445,
          -1.4520362442968655,
          -2.1149498689947457,
          0.9130783150932135,
          -0.5495136750215502,
          -1.0960621283754712,
          1.4451572160950985,
          2.031408286352337,
          0.5425598066205446,
          -0.4775211880584021,
          1.3308282537961023,
          1.054353691401902,
          1.612940625060723,
          -0.6109625761183942,
          -0.3821873570921796,
          0.06843039203537875,
          -0.851254205028847,
          -0.4766492013005475,
          -0.5890194171164326,
          2.442183066498214,
          -0.6194169874355799,
          -1.2222617029743152,
          -0.38402757215563416,
          1.2903773269289678,
          0.5971276344830816,
          0.19293385964319268,
          -1.943140647316925,
          2.5316619216308647,
          -1.0653518979213665,
          1.4221772704069156,
          0.2182038837841717,
          -0.17473296264917926,
          1.2593089788564307,
          0.4037842122693207,
          0.41043879549939155,
          0.017209646728323726,
          0.05546188946749892,
          -0.8863530371688454,
          0.1294464356696457,
          -0.677070174398935,
          -1.16031510980759
         ],
         "xaxis": "x13",
         "y": [
          -0.28048716161916,
          0.38589042597645334,
          -0.24555896355230156,
          1.0359933876068943,
          2.188602424554546,
          -0.37483742833276074,
          -0.06152544592235071,
          -0.33744135882751547,
          0.2906250898137876,
          -1.0924854508790909,
          -0.2068158441813486,
          -1.8728412712076505,
          -0.3531552351063383,
          0.5372122551350138,
          -2.9674873834537734,
          -0.3005238614058087,
          -1.7393975655822014,
          0.41978060727531724,
          -0.7863600332339782,
          -0.39397655827621203,
          1.6171266606089163,
          0.7637431942159277,
          0.4090932470552176,
          1.986463868774873,
          0.05938797301543664,
          -0.15103568029575504,
          -0.2997104944680906,
          2.9227042979261486,
          0.08815006639147839,
          -1.274066078955945,
          0.017959183940567117,
          -0.3511043178642469,
          -0.7148162366809442,
          1.4793676171030348,
          0.033139292377156536,
          -0.6594075747595262,
          -0.7310276316427899,
          -0.2670019744567271,
          -0.13361484696476697,
          0.9811250183384784,
          1.3041030439701036,
          -1.5520338753125933,
          -1.2669180128447932,
          -0.6419806582859231,
          0.48530503422526017,
          -1.0804420757427589,
          -1.3530587223162485,
          -0.5367496625638137,
          -0.5339709398509465,
          1.1011604095373158,
          0.8022156504237581,
          -0.668547460007973,
          -0.48133355497319047,
          1.29383729573397,
          -0.9135629504590587,
          -0.04934407389542167,
          -1.2706240982625403,
          -0.6556031143886947,
          1.0241986254924382,
          -0.46563454761994066,
          0.2733482279459654,
          1.5345044369997993,
          -1.7372038688744909,
          0.666806989228242,
          -0.08340980571751967,
          0.7024417091367539,
          0.36885977087007676,
          -1.243335553024747,
          0.18291365920098274,
          -0.017436565628707122,
          -0.46624467691635046,
          -1.0951404872243835,
          0.8223100314303123,
          -0.7376289367241221,
          0.33792468585131574,
          -1.7010921501841583,
          0.05864850995894906,
          0.6131855591589759,
          1.8343976598091685,
          0.7141275399998634,
          0.39757337321541675,
          0.13641646616786698,
          0.9738560319450598,
          -0.451621107940339,
          1.258206993496081,
          -0.5246405435883648,
          0.7202535805908966,
          0.2473480789820883,
          -1.0808258434385758,
          -0.10729158726169893,
          -1.8429497353902775,
          0.37677638524818696,
          0.9340574794462572,
          0.594786084820459,
          0.0031055629632219086,
          -0.8872625988730557,
          2.0629264388795066,
          0.2000416837259496,
          0.5839869034838178,
          -2.1171149617801857
         ],
         "yaxis": "y13"
        },
        {
         "line": {
          "color": "rgba(128, 128, 128, 1.0)",
          "dash": "solid",
          "shape": "linear",
          "width": 1.3
         },
         "marker": {
          "size": 2,
          "symbol": "circle"
         },
         "mode": "markers",
         "name": "d",
         "text": "",
         "type": "scatter",
         "x": [
          1.7517195955247546,
          -0.35359986253618086,
          -0.19133904818374425,
          0.09425845259705241,
          0.3132660279058182,
          0.5781971553314883,
          -2.067783326993488,
          0.6099826326983443,
          0.4237298386704434,
          -0.726227751579507,
          -0.7189066348304399,
          -1.1621193679555342,
          -0.8387188227282664,
          1.8446352326960413,
          -1.5261234234571448,
          0.25184511373240026,
          0.507382596728712,
          -0.7676055455944559,
          0.3345289985935182,
          -0.519930862281465,
          -1.1875187855113214,
          0.28321083692873156,
          0.4439022981463856,
          -0.647070647038372,
          -0.13382994045631505,
          -0.8231744385020477,
          -0.7760002891058501,
          -1.8811016466011998,
          -0.5400669646741258,
          0.6417993920365667,
          -1.0750433645350408,
          -0.8535304068144485,
          1.7366198720263866,
          -0.7460551345224858,
          -0.42652411311431265,
          0.20228592023185543,
          -1.2709086692771747,
          -1.4133149883151543,
          0.548228842737083,
          -0.9812532497119463,
          -1.4533376337289736,
          0.15096058684193256,
          1.1737197584881935,
          -0.052932881986239355,
          0.11726895488462656,
          -1.2633287230708576,
          -1.4576819453135772,
          -1.3093283709027084,
          -0.3055126935028742,
          -0.04722359550452384,
          0.11528089339140782,
          -0.12480741368796602,
          0.5678519074032968,
          -1.651854518362437,
          -0.3672919727036017,
          0.25200949602089007,
          -0.37351570168002984,
          -1.045903428320767,
          0.5206368286408477,
          1.1232227278371094,
          -1.340085574768691,
          -0.86400745936875,
          1.0550957715631073,
          0.459542071919937,
          -0.21526127396496744,
          -0.08755215527323648,
          0.49115860321273747,
          -0.22641865914983392,
          -0.900489261026163,
          -0.4097112328735374,
          -0.4670675693241242,
          0.36811600188979976,
          -0.035211946204871995,
          0.5760790785247979,
          -0.2898062105937861,
          -0.6454669574803571,
          1.0872247062936047,
          0.8388304270804362,
          1.2010283395645696,
          0.9091166353159125,
          -0.4165958388206629,
          -0.6321804012839619,
          0.09215744767250596,
          1.5640594486311639,
          1.1593665190780447,
          0.8373592918589178,
          -0.4103626401331422,
          0.3403785041925423,
          -0.2971058215438673,
          -0.6546234291796629,
          0.6718839090767289,
          -0.08626567553004098,
          0.34493128880227797,
          -1.3166805505068733,
          -0.5915004452066159,
          0.07001232138335309,
          -0.3604605295372551,
          -0.3267979890598825,
          -0.43241655790310934,
          1.0308675380964412
         ],
         "xaxis": "x14",
         "y": [
          -0.28048716161916,
          0.38589042597645334,
          -0.24555896355230156,
          1.0359933876068943,
          2.188602424554546,
          -0.37483742833276074,
          -0.06152544592235071,
          -0.33744135882751547,
          0.2906250898137876,
          -1.0924854508790909,
          -0.2068158441813486,
          -1.8728412712076505,
          -0.3531552351063383,
          0.5372122551350138,
          -2.9674873834537734,
          -0.3005238614058087,
          -1.7393975655822014,
          0.41978060727531724,
          -0.7863600332339782,
          -0.39397655827621203,
          1.6171266606089163,
          0.7637431942159277,
          0.4090932470552176,
          1.986463868774873,
          0.05938797301543664,
          -0.15103568029575504,
          -0.2997104944680906,
          2.9227042979261486,
          0.08815006639147839,
          -1.274066078955945,
          0.017959183940567117,
          -0.3511043178642469,
          -0.7148162366809442,
          1.4793676171030348,
          0.033139292377156536,
          -0.6594075747595262,
          -0.7310276316427899,
          -0.2670019744567271,
          -0.13361484696476697,
          0.9811250183384784,
          1.3041030439701036,
          -1.5520338753125933,
          -1.2669180128447932,
          -0.6419806582859231,
          0.48530503422526017,
          -1.0804420757427589,
          -1.3530587223162485,
          -0.5367496625638137,
          -0.5339709398509465,
          1.1011604095373158,
          0.8022156504237581,
          -0.668547460007973,
          -0.48133355497319047,
          1.29383729573397,
          -0.9135629504590587,
          -0.04934407389542167,
          -1.2706240982625403,
          -0.6556031143886947,
          1.0241986254924382,
          -0.46563454761994066,
          0.2733482279459654,
          1.5345044369997993,
          -1.7372038688744909,
          0.666806989228242,
          -0.08340980571751967,
          0.7024417091367539,
          0.36885977087007676,
          -1.243335553024747,
          0.18291365920098274,
          -0.017436565628707122,
          -0.46624467691635046,
          -1.0951404872243835,
          0.8223100314303123,
          -0.7376289367241221,
          0.33792468585131574,
          -1.7010921501841583,
          0.05864850995894906,
          0.6131855591589759,
          1.8343976598091685,
          0.7141275399998634,
          0.39757337321541675,
          0.13641646616786698,
          0.9738560319450598,
          -0.451621107940339,
          1.258206993496081,
          -0.5246405435883648,
          0.7202535805908966,
          0.2473480789820883,
          -1.0808258434385758,
          -0.10729158726169893,
          -1.8429497353902775,
          0.37677638524818696,
          0.9340574794462572,
          0.594786084820459,
          0.0031055629632219086,
          -0.8872625988730557,
          2.0629264388795066,
          0.2000416837259496,
          0.5839869034838178,
          -2.1171149617801857
         ],
         "yaxis": "y14"
        },
        {
         "line": {
          "color": "rgba(128, 128, 128, 1.0)",
          "dash": "solid",
          "shape": "linear",
          "width": 1.3
         },
         "marker": {
          "size": 2,
          "symbol": "circle"
         },
         "mode": "markers",
         "name": "d",
         "text": "",
         "type": "scatter",
         "x": [
          -1.1665185982253494,
          0.44703916324171267,
          -2.229049902899732,
          -1.3836613335459687,
          -0.9485604622744072,
          -0.19636657192360915,
          -0.8645187066477877,
          1.1878271335269805,
          -0.7153177601251083,
          -1.5708769235393547,
          -0.9610121109570703,
          -0.20297366509109127,
          0.32931720596616937,
          -0.37905430856274264,
          -1.4181649222721624,
          0.6521683397958095,
          0.717256245918316,
          1.985701377744813,
          -1.01265751574874,
          1.8311572262058446,
          -1.8659600216036445,
          0.28815525025711985,
          0.006893738773197523,
          0.030200376884393546,
          2.381376433069506,
          -1.178264522799092,
          0.4846967282491856,
          0.1401510638317766,
          0.007629462492196791,
          -0.2899933489843769,
          -0.7191409376355365,
          -0.13327718346489367,
          -0.23278778299188033,
          -0.5542201742034805,
          1.130817516835987,
          -1.0203156236294415,
          -0.6560003451263542,
          1.9050964763882963,
          -0.48873438331956637,
          -0.19443868973228298,
          0.2078750770823177,
          -0.11224911009580876,
          1.8798466545665753,
          -0.367455864130886,
          -0.11819328300870134,
          -0.15193007603728442,
          0.9203915705812769,
          0.17994717183003192,
          0.028378077636339434,
          -1.1727911766586867,
          -0.27428142872025896,
          -0.40614186493007615,
          0.9197185999998129,
          1.5675331492287392,
          0.31549790306323383,
          -0.9600468947852062,
          -0.7898783312417721,
          -0.4650998066750889,
          0.7327378277474271,
          -1.4504063668945508,
          1.9594864969323,
          -1.1837997404232803,
          0.06710462339755838,
          -0.5439250147730456,
          -0.6805202673031998,
          -0.18660028703268128,
          -0.30564296100900584,
          -0.3749226214508793,
          0.3792636917660674,
          0.7726839407126967,
          0.8489104984466974,
          0.8509562364366888,
          0.8017633886647397,
          -0.64049567558334,
          -2.261208818427529,
          -2.535064947627141,
          -0.22110638537596014,
          1.6324168208268681,
          -0.7761354871003384,
          -0.42734958754239893,
          -0.14351041266370718,
          -0.12263629059096863,
          -0.5876526082928746,
          0.998850201939234,
          0.8918621098146288,
          -0.911802610468548,
          -0.107483819096009,
          -0.28227227913320946,
          0.6245701802471451,
          0.07321836835851156,
          1.1169438714769597,
          1.2778705156173897,
          0.815773569270344,
          0.9970761608278822,
          -1.3789977188461464,
          -1.3450874453770818,
          0.14328961191665385,
          2.0797462282022345,
          1.5449517630974585,
          1.4544167474742808
         ],
         "xaxis": "x15",
         "y": [
          -0.28048716161916,
          0.38589042597645334,
          -0.24555896355230156,
          1.0359933876068943,
          2.188602424554546,
          -0.37483742833276074,
          -0.06152544592235071,
          -0.33744135882751547,
          0.2906250898137876,
          -1.0924854508790909,
          -0.2068158441813486,
          -1.8728412712076505,
          -0.3531552351063383,
          0.5372122551350138,
          -2.9674873834537734,
          -0.3005238614058087,
          -1.7393975655822014,
          0.41978060727531724,
          -0.7863600332339782,
          -0.39397655827621203,
          1.6171266606089163,
          0.7637431942159277,
          0.4090932470552176,
          1.986463868774873,
          0.05938797301543664,
          -0.15103568029575504,
          -0.2997104944680906,
          2.9227042979261486,
          0.08815006639147839,
          -1.274066078955945,
          0.017959183940567117,
          -0.3511043178642469,
          -0.7148162366809442,
          1.4793676171030348,
          0.033139292377156536,
          -0.6594075747595262,
          -0.7310276316427899,
          -0.2670019744567271,
          -0.13361484696476697,
          0.9811250183384784,
          1.3041030439701036,
          -1.5520338753125933,
          -1.2669180128447932,
          -0.6419806582859231,
          0.48530503422526017,
          -1.0804420757427589,
          -1.3530587223162485,
          -0.5367496625638137,
          -0.5339709398509465,
          1.1011604095373158,
          0.8022156504237581,
          -0.668547460007973,
          -0.48133355497319047,
          1.29383729573397,
          -0.9135629504590587,
          -0.04934407389542167,
          -1.2706240982625403,
          -0.6556031143886947,
          1.0241986254924382,
          -0.46563454761994066,
          0.2733482279459654,
          1.5345044369997993,
          -1.7372038688744909,
          0.666806989228242,
          -0.08340980571751967,
          0.7024417091367539,
          0.36885977087007676,
          -1.243335553024747,
          0.18291365920098274,
          -0.017436565628707122,
          -0.46624467691635046,
          -1.0951404872243835,
          0.8223100314303123,
          -0.7376289367241221,
          0.33792468585131574,
          -1.7010921501841583,
          0.05864850995894906,
          0.6131855591589759,
          1.8343976598091685,
          0.7141275399998634,
          0.39757337321541675,
          0.13641646616786698,
          0.9738560319450598,
          -0.451621107940339,
          1.258206993496081,
          -0.5246405435883648,
          0.7202535805908966,
          0.2473480789820883,
          -1.0808258434385758,
          -0.10729158726169893,
          -1.8429497353902775,
          0.37677638524818696,
          0.9340574794462572,
          0.594786084820459,
          0.0031055629632219086,
          -0.8872625988730557,
          2.0629264388795066,
          0.2000416837259496,
          0.5839869034838178,
          -2.1171149617801857
         ],
         "yaxis": "y15"
        },
        {
         "histfunc": "count",
         "histnorm": "",
         "marker": {
          "color": "rgba(128, 0, 128, 1.0)",
          "line": {
           "color": "#4D5663",
           "width": 1.3
          }
         },
         "name": "d",
         "nbinsx": 10,
         "opacity": 0.8,
         "orientation": "v",
         "type": "histogram",
         "x": [
          -0.28048716161916,
          0.38589042597645334,
          -0.24555896355230156,
          1.0359933876068943,
          2.188602424554546,
          -0.37483742833276074,
          -0.06152544592235071,
          -0.33744135882751547,
          0.2906250898137876,
          -1.0924854508790909,
          -0.2068158441813486,
          -1.8728412712076505,
          -0.3531552351063383,
          0.5372122551350138,
          -2.9674873834537734,
          -0.3005238614058087,
          -1.7393975655822014,
          0.41978060727531724,
          -0.7863600332339782,
          -0.39397655827621203,
          1.6171266606089163,
          0.7637431942159277,
          0.4090932470552176,
          1.986463868774873,
          0.05938797301543664,
          -0.15103568029575504,
          -0.2997104944680906,
          2.9227042979261486,
          0.08815006639147839,
          -1.274066078955945,
          0.017959183940567117,
          -0.3511043178642469,
          -0.7148162366809442,
          1.4793676171030348,
          0.033139292377156536,
          -0.6594075747595262,
          -0.7310276316427899,
          -0.2670019744567271,
          -0.13361484696476697,
          0.9811250183384784,
          1.3041030439701036,
          -1.5520338753125933,
          -1.2669180128447932,
          -0.6419806582859231,
          0.48530503422526017,
          -1.0804420757427589,
          -1.3530587223162485,
          -0.5367496625638137,
          -0.5339709398509465,
          1.1011604095373158,
          0.8022156504237581,
          -0.668547460007973,
          -0.48133355497319047,
          1.29383729573397,
          -0.9135629504590587,
          -0.04934407389542167,
          -1.2706240982625403,
          -0.6556031143886947,
          1.0241986254924382,
          -0.46563454761994066,
          0.2733482279459654,
          1.5345044369997993,
          -1.7372038688744909,
          0.666806989228242,
          -0.08340980571751967,
          0.7024417091367539,
          0.36885977087007676,
          -1.243335553024747,
          0.18291365920098274,
          -0.017436565628707122,
          -0.46624467691635046,
          -1.0951404872243835,
          0.8223100314303123,
          -0.7376289367241221,
          0.33792468585131574,
          -1.7010921501841583,
          0.05864850995894906,
          0.6131855591589759,
          1.8343976598091685,
          0.7141275399998634,
          0.39757337321541675,
          0.13641646616786698,
          0.9738560319450598,
          -0.451621107940339,
          1.258206993496081,
          -0.5246405435883648,
          0.7202535805908966,
          0.2473480789820883,
          -1.0808258434385758,
          -0.10729158726169893,
          -1.8429497353902775,
          0.37677638524818696,
          0.9340574794462572,
          0.594786084820459,
          0.0031055629632219086,
          -0.8872625988730557,
          2.0629264388795066,
          0.2000416837259496,
          0.5839869034838178,
          -2.1171149617801857
         ],
         "xaxis": "x16",
         "yaxis": "y16"
        }
       ],
       "layout": {
        "bargap": 0.02,
        "legend": {
         "bgcolor": "#F5F6F9",
         "font": {
          "color": "#4D5663"
         }
        },
        "paper_bgcolor": "#F5F6F9",
        "plot_bgcolor": "#F5F6F9",
        "showlegend": false,
        "template": {
         "data": {
          "bar": [
           {
            "error_x": {
             "color": "#2a3f5f"
            },
            "error_y": {
             "color": "#2a3f5f"
            },
            "marker": {
             "line": {
              "color": "#E5ECF6",
              "width": 0.5
             }
            },
            "type": "bar"
           }
          ],
          "barpolar": [
           {
            "marker": {
             "line": {
              "color": "#E5ECF6",
              "width": 0.5
             }
            },
            "type": "barpolar"
           }
          ],
          "carpet": [
           {
            "aaxis": {
             "endlinecolor": "#2a3f5f",
             "gridcolor": "white",
             "linecolor": "white",
             "minorgridcolor": "white",
             "startlinecolor": "#2a3f5f"
            },
            "baxis": {
             "endlinecolor": "#2a3f5f",
             "gridcolor": "white",
             "linecolor": "white",
             "minorgridcolor": "white",
             "startlinecolor": "#2a3f5f"
            },
            "type": "carpet"
           }
          ],
          "choropleth": [
           {
            "colorbar": {
             "outlinewidth": 0,
             "ticks": ""
            },
            "type": "choropleth"
           }
          ],
          "contour": [
           {
            "colorbar": {
             "outlinewidth": 0,
             "ticks": ""
            },
            "colorscale": [
             [
              0,
              "#0d0887"
             ],
             [
              0.1111111111111111,
              "#46039f"
             ],
             [
              0.2222222222222222,
              "#7201a8"
             ],
             [
              0.3333333333333333,
              "#9c179e"
             ],
             [
              0.4444444444444444,
              "#bd3786"
             ],
             [
              0.5555555555555556,
              "#d8576b"
             ],
             [
              0.6666666666666666,
              "#ed7953"
             ],
             [
              0.7777777777777778,
              "#fb9f3a"
             ],
             [
              0.8888888888888888,
              "#fdca26"
             ],
             [
              1,
              "#f0f921"
             ]
            ],
            "type": "contour"
           }
          ],
          "contourcarpet": [
           {
            "colorbar": {
             "outlinewidth": 0,
             "ticks": ""
            },
            "type": "contourcarpet"
           }
          ],
          "heatmap": [
           {
            "colorbar": {
             "outlinewidth": 0,
             "ticks": ""
            },
            "colorscale": [
             [
              0,
              "#0d0887"
             ],
             [
              0.1111111111111111,
              "#46039f"
             ],
             [
              0.2222222222222222,
              "#7201a8"
             ],
             [
              0.3333333333333333,
              "#9c179e"
             ],
             [
              0.4444444444444444,
              "#bd3786"
             ],
             [
              0.5555555555555556,
              "#d8576b"
             ],
             [
              0.6666666666666666,
              "#ed7953"
             ],
             [
              0.7777777777777778,
              "#fb9f3a"
             ],
             [
              0.8888888888888888,
              "#fdca26"
             ],
             [
              1,
              "#f0f921"
             ]
            ],
            "type": "heatmap"
           }
          ],
          "heatmapgl": [
           {
            "colorbar": {
             "outlinewidth": 0,
             "ticks": ""
            },
            "colorscale": [
             [
              0,
              "#0d0887"
             ],
             [
              0.1111111111111111,
              "#46039f"
             ],
             [
              0.2222222222222222,
              "#7201a8"
             ],
             [
              0.3333333333333333,
              "#9c179e"
             ],
             [
              0.4444444444444444,
              "#bd3786"
             ],
             [
              0.5555555555555556,
              "#d8576b"
             ],
             [
              0.6666666666666666,
              "#ed7953"
             ],
             [
              0.7777777777777778,
              "#fb9f3a"
             ],
             [
              0.8888888888888888,
              "#fdca26"
             ],
             [
              1,
              "#f0f921"
             ]
            ],
            "type": "heatmapgl"
           }
          ],
          "histogram": [
           {
            "marker": {
             "colorbar": {
              "outlinewidth": 0,
              "ticks": ""
             }
            },
            "type": "histogram"
           }
          ],
          "histogram2d": [
           {
            "colorbar": {
             "outlinewidth": 0,
             "ticks": ""
            },
            "colorscale": [
             [
              0,
              "#0d0887"
             ],
             [
              0.1111111111111111,
              "#46039f"
             ],
             [
              0.2222222222222222,
              "#7201a8"
             ],
             [
              0.3333333333333333,
              "#9c179e"
             ],
             [
              0.4444444444444444,
              "#bd3786"
             ],
             [
              0.5555555555555556,
              "#d8576b"
             ],
             [
              0.6666666666666666,
              "#ed7953"
             ],
             [
              0.7777777777777778,
              "#fb9f3a"
             ],
             [
              0.8888888888888888,
              "#fdca26"
             ],
             [
              1,
              "#f0f921"
             ]
            ],
            "type": "histogram2d"
           }
          ],
          "histogram2dcontour": [
           {
            "colorbar": {
             "outlinewidth": 0,
             "ticks": ""
            },
            "colorscale": [
             [
              0,
              "#0d0887"
             ],
             [
              0.1111111111111111,
              "#46039f"
             ],
             [
              0.2222222222222222,
              "#7201a8"
             ],
             [
              0.3333333333333333,
              "#9c179e"
             ],
             [
              0.4444444444444444,
              "#bd3786"
             ],
             [
              0.5555555555555556,
              "#d8576b"
             ],
             [
              0.6666666666666666,
              "#ed7953"
             ],
             [
              0.7777777777777778,
              "#fb9f3a"
             ],
             [
              0.8888888888888888,
              "#fdca26"
             ],
             [
              1,
              "#f0f921"
             ]
            ],
            "type": "histogram2dcontour"
           }
          ],
          "mesh3d": [
           {
            "colorbar": {
             "outlinewidth": 0,
             "ticks": ""
            },
            "type": "mesh3d"
           }
          ],
          "parcoords": [
           {
            "line": {
             "colorbar": {
              "outlinewidth": 0,
              "ticks": ""
             }
            },
            "type": "parcoords"
           }
          ],
          "pie": [
           {
            "automargin": true,
            "type": "pie"
           }
          ],
          "scatter": [
           {
            "marker": {
             "colorbar": {
              "outlinewidth": 0,
              "ticks": ""
             }
            },
            "type": "scatter"
           }
          ],
          "scatter3d": [
           {
            "line": {
             "colorbar": {
              "outlinewidth": 0,
              "ticks": ""
             }
            },
            "marker": {
             "colorbar": {
              "outlinewidth": 0,
              "ticks": ""
             }
            },
            "type": "scatter3d"
           }
          ],
          "scattercarpet": [
           {
            "marker": {
             "colorbar": {
              "outlinewidth": 0,
              "ticks": ""
             }
            },
            "type": "scattercarpet"
           }
          ],
          "scattergeo": [
           {
            "marker": {
             "colorbar": {
              "outlinewidth": 0,
              "ticks": ""
             }
            },
            "type": "scattergeo"
           }
          ],
          "scattergl": [
           {
            "marker": {
             "colorbar": {
              "outlinewidth": 0,
              "ticks": ""
             }
            },
            "type": "scattergl"
           }
          ],
          "scattermapbox": [
           {
            "marker": {
             "colorbar": {
              "outlinewidth": 0,
              "ticks": ""
             }
            },
            "type": "scattermapbox"
           }
          ],
          "scatterpolar": [
           {
            "marker": {
             "colorbar": {
              "outlinewidth": 0,
              "ticks": ""
             }
            },
            "type": "scatterpolar"
           }
          ],
          "scatterpolargl": [
           {
            "marker": {
             "colorbar": {
              "outlinewidth": 0,
              "ticks": ""
             }
            },
            "type": "scatterpolargl"
           }
          ],
          "scatterternary": [
           {
            "marker": {
             "colorbar": {
              "outlinewidth": 0,
              "ticks": ""
             }
            },
            "type": "scatterternary"
           }
          ],
          "surface": [
           {
            "colorbar": {
             "outlinewidth": 0,
             "ticks": ""
            },
            "colorscale": [
             [
              0,
              "#0d0887"
             ],
             [
              0.1111111111111111,
              "#46039f"
             ],
             [
              0.2222222222222222,
              "#7201a8"
             ],
             [
              0.3333333333333333,
              "#9c179e"
             ],
             [
              0.4444444444444444,
              "#bd3786"
             ],
             [
              0.5555555555555556,
              "#d8576b"
             ],
             [
              0.6666666666666666,
              "#ed7953"
             ],
             [
              0.7777777777777778,
              "#fb9f3a"
             ],
             [
              0.8888888888888888,
              "#fdca26"
             ],
             [
              1,
              "#f0f921"
             ]
            ],
            "type": "surface"
           }
          ],
          "table": [
           {
            "cells": {
             "fill": {
              "color": "#EBF0F8"
             },
             "line": {
              "color": "white"
             }
            },
            "header": {
             "fill": {
              "color": "#C8D4E3"
             },
             "line": {
              "color": "white"
             }
            },
            "type": "table"
           }
          ]
         },
         "layout": {
          "annotationdefaults": {
           "arrowcolor": "#2a3f5f",
           "arrowhead": 0,
           "arrowwidth": 1
          },
          "autotypenumbers": "strict",
          "coloraxis": {
           "colorbar": {
            "outlinewidth": 0,
            "ticks": ""
           }
          },
          "colorscale": {
           "diverging": [
            [
             0,
             "#8e0152"
            ],
            [
             0.1,
             "#c51b7d"
            ],
            [
             0.2,
             "#de77ae"
            ],
            [
             0.3,
             "#f1b6da"
            ],
            [
             0.4,
             "#fde0ef"
            ],
            [
             0.5,
             "#f7f7f7"
            ],
            [
             0.6,
             "#e6f5d0"
            ],
            [
             0.7,
             "#b8e186"
            ],
            [
             0.8,
             "#7fbc41"
            ],
            [
             0.9,
             "#4d9221"
            ],
            [
             1,
             "#276419"
            ]
           ],
           "sequential": [
            [
             0,
             "#0d0887"
            ],
            [
             0.1111111111111111,
             "#46039f"
            ],
            [
             0.2222222222222222,
             "#7201a8"
            ],
            [
             0.3333333333333333,
             "#9c179e"
            ],
            [
             0.4444444444444444,
             "#bd3786"
            ],
            [
             0.5555555555555556,
             "#d8576b"
            ],
            [
             0.6666666666666666,
             "#ed7953"
            ],
            [
             0.7777777777777778,
             "#fb9f3a"
            ],
            [
             0.8888888888888888,
             "#fdca26"
            ],
            [
             1,
             "#f0f921"
            ]
           ],
           "sequentialminus": [
            [
             0,
             "#0d0887"
            ],
            [
             0.1111111111111111,
             "#46039f"
            ],
            [
             0.2222222222222222,
             "#7201a8"
            ],
            [
             0.3333333333333333,
             "#9c179e"
            ],
            [
             0.4444444444444444,
             "#bd3786"
            ],
            [
             0.5555555555555556,
             "#d8576b"
            ],
            [
             0.6666666666666666,
             "#ed7953"
            ],
            [
             0.7777777777777778,
             "#fb9f3a"
            ],
            [
             0.8888888888888888,
             "#fdca26"
            ],
            [
             1,
             "#f0f921"
            ]
           ]
          },
          "colorway": [
           "#636efa",
           "#EF553B",
           "#00cc96",
           "#ab63fa",
           "#FFA15A",
           "#19d3f3",
           "#FF6692",
           "#B6E880",
           "#FF97FF",
           "#FECB52"
          ],
          "font": {
           "color": "#2a3f5f"
          },
          "geo": {
           "bgcolor": "white",
           "lakecolor": "white",
           "landcolor": "#E5ECF6",
           "showlakes": true,
           "showland": true,
           "subunitcolor": "white"
          },
          "hoverlabel": {
           "align": "left"
          },
          "hovermode": "closest",
          "mapbox": {
           "style": "light"
          },
          "paper_bgcolor": "white",
          "plot_bgcolor": "#E5ECF6",
          "polar": {
           "angularaxis": {
            "gridcolor": "white",
            "linecolor": "white",
            "ticks": ""
           },
           "bgcolor": "#E5ECF6",
           "radialaxis": {
            "gridcolor": "white",
            "linecolor": "white",
            "ticks": ""
           }
          },
          "scene": {
           "xaxis": {
            "backgroundcolor": "#E5ECF6",
            "gridcolor": "white",
            "gridwidth": 2,
            "linecolor": "white",
            "showbackground": true,
            "ticks": "",
            "zerolinecolor": "white"
           },
           "yaxis": {
            "backgroundcolor": "#E5ECF6",
            "gridcolor": "white",
            "gridwidth": 2,
            "linecolor": "white",
            "showbackground": true,
            "ticks": "",
            "zerolinecolor": "white"
           },
           "zaxis": {
            "backgroundcolor": "#E5ECF6",
            "gridcolor": "white",
            "gridwidth": 2,
            "linecolor": "white",
            "showbackground": true,
            "ticks": "",
            "zerolinecolor": "white"
           }
          },
          "shapedefaults": {
           "line": {
            "color": "#2a3f5f"
           }
          },
          "ternary": {
           "aaxis": {
            "gridcolor": "white",
            "linecolor": "white",
            "ticks": ""
           },
           "baxis": {
            "gridcolor": "white",
            "linecolor": "white",
            "ticks": ""
           },
           "bgcolor": "#E5ECF6",
           "caxis": {
            "gridcolor": "white",
            "linecolor": "white",
            "ticks": ""
           }
          },
          "title": {
           "x": 0.05
          },
          "xaxis": {
           "automargin": true,
           "gridcolor": "white",
           "linecolor": "white",
           "ticks": "",
           "title": {
            "standoff": 15
           },
           "zerolinecolor": "white",
           "zerolinewidth": 2
          },
          "yaxis": {
           "automargin": true,
           "gridcolor": "white",
           "linecolor": "white",
           "ticks": "",
           "title": {
            "standoff": 15
           },
           "zerolinecolor": "white",
           "zerolinewidth": 2
          }
         }
        },
        "title": {
         "font": {
          "color": "#4D5663"
         }
        },
        "xaxis": {
         "anchor": "y",
         "domain": [
          0,
          0.2125
         ],
         "gridcolor": "#E1E5ED",
         "showgrid": false,
         "tickfont": {
          "color": "#4D5663"
         },
         "title": {
          "font": {
           "color": "#4D5663"
          },
          "text": ""
         },
         "zerolinecolor": "#E1E5ED"
        },
        "xaxis10": {
         "anchor": "y10",
         "domain": [
          0.2625,
          0.475
         ],
         "gridcolor": "#E1E5ED",
         "showgrid": false,
         "tickfont": {
          "color": "#4D5663"
         },
         "title": {
          "font": {
           "color": "#4D5663"
          },
          "text": ""
         },
         "zerolinecolor": "#E1E5ED"
        },
        "xaxis11": {
         "anchor": "y11",
         "domain": [
          0.525,
          0.7375
         ],
         "gridcolor": "#E1E5ED",
         "showgrid": false,
         "tickfont": {
          "color": "#4D5663"
         },
         "title": {
          "font": {
           "color": "#4D5663"
          },
          "text": ""
         },
         "zerolinecolor": "#E1E5ED"
        },
        "xaxis12": {
         "anchor": "y12",
         "domain": [
          0.7875,
          1
         ],
         "gridcolor": "#E1E5ED",
         "showgrid": false,
         "tickfont": {
          "color": "#4D5663"
         },
         "title": {
          "font": {
           "color": "#4D5663"
          },
          "text": ""
         },
         "zerolinecolor": "#E1E5ED"
        },
        "xaxis13": {
         "anchor": "y13",
         "domain": [
          0,
          0.2125
         ],
         "gridcolor": "#E1E5ED",
         "showgrid": false,
         "tickfont": {
          "color": "#4D5663"
         },
         "title": {
          "font": {
           "color": "#4D5663"
          },
          "text": ""
         },
         "zerolinecolor": "#E1E5ED"
        },
        "xaxis14": {
         "anchor": "y14",
         "domain": [
          0.2625,
          0.475
         ],
         "gridcolor": "#E1E5ED",
         "showgrid": false,
         "tickfont": {
          "color": "#4D5663"
         },
         "title": {
          "font": {
           "color": "#4D5663"
          },
          "text": ""
         },
         "zerolinecolor": "#E1E5ED"
        },
        "xaxis15": {
         "anchor": "y15",
         "domain": [
          0.525,
          0.7375
         ],
         "gridcolor": "#E1E5ED",
         "showgrid": false,
         "tickfont": {
          "color": "#4D5663"
         },
         "title": {
          "font": {
           "color": "#4D5663"
          },
          "text": ""
         },
         "zerolinecolor": "#E1E5ED"
        },
        "xaxis16": {
         "anchor": "y16",
         "domain": [
          0.7875,
          1
         ],
         "gridcolor": "#E1E5ED",
         "showgrid": false,
         "tickfont": {
          "color": "#4D5663"
         },
         "title": {
          "font": {
           "color": "#4D5663"
          },
          "text": ""
         },
         "zerolinecolor": "#E1E5ED"
        },
        "xaxis2": {
         "anchor": "y2",
         "domain": [
          0.2625,
          0.475
         ],
         "gridcolor": "#E1E5ED",
         "showgrid": false,
         "tickfont": {
          "color": "#4D5663"
         },
         "title": {
          "font": {
           "color": "#4D5663"
          },
          "text": ""
         },
         "zerolinecolor": "#E1E5ED"
        },
        "xaxis3": {
         "anchor": "y3",
         "domain": [
          0.525,
          0.7375
         ],
         "gridcolor": "#E1E5ED",
         "showgrid": false,
         "tickfont": {
          "color": "#4D5663"
         },
         "title": {
          "font": {
           "color": "#4D5663"
          },
          "text": ""
         },
         "zerolinecolor": "#E1E5ED"
        },
        "xaxis4": {
         "anchor": "y4",
         "domain": [
          0.7875,
          1
         ],
         "gridcolor": "#E1E5ED",
         "showgrid": false,
         "tickfont": {
          "color": "#4D5663"
         },
         "title": {
          "font": {
           "color": "#4D5663"
          },
          "text": ""
         },
         "zerolinecolor": "#E1E5ED"
        },
        "xaxis5": {
         "anchor": "y5",
         "domain": [
          0,
          0.2125
         ],
         "gridcolor": "#E1E5ED",
         "showgrid": false,
         "tickfont": {
          "color": "#4D5663"
         },
         "title": {
          "font": {
           "color": "#4D5663"
          },
          "text": ""
         },
         "zerolinecolor": "#E1E5ED"
        },
        "xaxis6": {
         "anchor": "y6",
         "domain": [
          0.2625,
          0.475
         ],
         "gridcolor": "#E1E5ED",
         "showgrid": false,
         "tickfont": {
          "color": "#4D5663"
         },
         "title": {
          "font": {
           "color": "#4D5663"
          },
          "text": ""
         },
         "zerolinecolor": "#E1E5ED"
        },
        "xaxis7": {
         "anchor": "y7",
         "domain": [
          0.525,
          0.7375
         ],
         "gridcolor": "#E1E5ED",
         "showgrid": false,
         "tickfont": {
          "color": "#4D5663"
         },
         "title": {
          "font": {
           "color": "#4D5663"
          },
          "text": ""
         },
         "zerolinecolor": "#E1E5ED"
        },
        "xaxis8": {
         "anchor": "y8",
         "domain": [
          0.7875,
          1
         ],
         "gridcolor": "#E1E5ED",
         "showgrid": false,
         "tickfont": {
          "color": "#4D5663"
         },
         "title": {
          "font": {
           "color": "#4D5663"
          },
          "text": ""
         },
         "zerolinecolor": "#E1E5ED"
        },
        "xaxis9": {
         "anchor": "y9",
         "domain": [
          0,
          0.2125
         ],
         "gridcolor": "#E1E5ED",
         "showgrid": false,
         "tickfont": {
          "color": "#4D5663"
         },
         "title": {
          "font": {
           "color": "#4D5663"
          },
          "text": ""
         },
         "zerolinecolor": "#E1E5ED"
        },
        "yaxis": {
         "anchor": "x",
         "domain": [
          0.8025,
          1
         ],
         "gridcolor": "#E1E5ED",
         "showgrid": false,
         "tickfont": {
          "color": "#4D5663"
         },
         "title": {
          "font": {
           "color": "#4D5663"
          },
          "text": ""
         },
         "zerolinecolor": "#E1E5ED"
        },
        "yaxis10": {
         "anchor": "x10",
         "domain": [
          0.2675,
          0.465
         ],
         "gridcolor": "#E1E5ED",
         "showgrid": false,
         "tickfont": {
          "color": "#4D5663"
         },
         "title": {
          "font": {
           "color": "#4D5663"
          },
          "text": ""
         },
         "zerolinecolor": "#E1E5ED"
        },
        "yaxis11": {
         "anchor": "x11",
         "domain": [
          0.2675,
          0.465
         ],
         "gridcolor": "#E1E5ED",
         "showgrid": false,
         "tickfont": {
          "color": "#4D5663"
         },
         "title": {
          "font": {
           "color": "#4D5663"
          },
          "text": ""
         },
         "zerolinecolor": "#E1E5ED"
        },
        "yaxis12": {
         "anchor": "x12",
         "domain": [
          0.2675,
          0.465
         ],
         "gridcolor": "#E1E5ED",
         "showgrid": false,
         "tickfont": {
          "color": "#4D5663"
         },
         "title": {
          "font": {
           "color": "#4D5663"
          },
          "text": ""
         },
         "zerolinecolor": "#E1E5ED"
        },
        "yaxis13": {
         "anchor": "x13",
         "domain": [
          0,
          0.1975
         ],
         "gridcolor": "#E1E5ED",
         "showgrid": false,
         "tickfont": {
          "color": "#4D5663"
         },
         "title": {
          "font": {
           "color": "#4D5663"
          },
          "text": ""
         },
         "zerolinecolor": "#E1E5ED"
        },
        "yaxis14": {
         "anchor": "x14",
         "domain": [
          0,
          0.1975
         ],
         "gridcolor": "#E1E5ED",
         "showgrid": false,
         "tickfont": {
          "color": "#4D5663"
         },
         "title": {
          "font": {
           "color": "#4D5663"
          },
          "text": ""
         },
         "zerolinecolor": "#E1E5ED"
        },
        "yaxis15": {
         "anchor": "x15",
         "domain": [
          0,
          0.1975
         ],
         "gridcolor": "#E1E5ED",
         "showgrid": false,
         "tickfont": {
          "color": "#4D5663"
         },
         "title": {
          "font": {
           "color": "#4D5663"
          },
          "text": ""
         },
         "zerolinecolor": "#E1E5ED"
        },
        "yaxis16": {
         "anchor": "x16",
         "domain": [
          0,
          0.1975
         ],
         "gridcolor": "#E1E5ED",
         "showgrid": false,
         "tickfont": {
          "color": "#4D5663"
         },
         "title": {
          "font": {
           "color": "#4D5663"
          },
          "text": ""
         },
         "zerolinecolor": "#E1E5ED"
        },
        "yaxis2": {
         "anchor": "x2",
         "domain": [
          0.8025,
          1
         ],
         "gridcolor": "#E1E5ED",
         "showgrid": false,
         "tickfont": {
          "color": "#4D5663"
         },
         "title": {
          "font": {
           "color": "#4D5663"
          },
          "text": ""
         },
         "zerolinecolor": "#E1E5ED"
        },
        "yaxis3": {
         "anchor": "x3",
         "domain": [
          0.8025,
          1
         ],
         "gridcolor": "#E1E5ED",
         "showgrid": false,
         "tickfont": {
          "color": "#4D5663"
         },
         "title": {
          "font": {
           "color": "#4D5663"
          },
          "text": ""
         },
         "zerolinecolor": "#E1E5ED"
        },
        "yaxis4": {
         "anchor": "x4",
         "domain": [
          0.8025,
          1
         ],
         "gridcolor": "#E1E5ED",
         "showgrid": false,
         "tickfont": {
          "color": "#4D5663"
         },
         "title": {
          "font": {
           "color": "#4D5663"
          },
          "text": ""
         },
         "zerolinecolor": "#E1E5ED"
        },
        "yaxis5": {
         "anchor": "x5",
         "domain": [
          0.535,
          0.7325
         ],
         "gridcolor": "#E1E5ED",
         "showgrid": false,
         "tickfont": {
          "color": "#4D5663"
         },
         "title": {
          "font": {
           "color": "#4D5663"
          },
          "text": ""
         },
         "zerolinecolor": "#E1E5ED"
        },
        "yaxis6": {
         "anchor": "x6",
         "domain": [
          0.535,
          0.7325
         ],
         "gridcolor": "#E1E5ED",
         "showgrid": false,
         "tickfont": {
          "color": "#4D5663"
         },
         "title": {
          "font": {
           "color": "#4D5663"
          },
          "text": ""
         },
         "zerolinecolor": "#E1E5ED"
        },
        "yaxis7": {
         "anchor": "x7",
         "domain": [
          0.535,
          0.7325
         ],
         "gridcolor": "#E1E5ED",
         "showgrid": false,
         "tickfont": {
          "color": "#4D5663"
         },
         "title": {
          "font": {
           "color": "#4D5663"
          },
          "text": ""
         },
         "zerolinecolor": "#E1E5ED"
        },
        "yaxis8": {
         "anchor": "x8",
         "domain": [
          0.535,
          0.7325
         ],
         "gridcolor": "#E1E5ED",
         "showgrid": false,
         "tickfont": {
          "color": "#4D5663"
         },
         "title": {
          "font": {
           "color": "#4D5663"
          },
          "text": ""
         },
         "zerolinecolor": "#E1E5ED"
        },
        "yaxis9": {
         "anchor": "x9",
         "domain": [
          0.2675,
          0.465
         ],
         "gridcolor": "#E1E5ED",
         "showgrid": false,
         "tickfont": {
          "color": "#4D5663"
         },
         "title": {
          "font": {
           "color": "#4D5663"
          },
          "text": ""
         },
         "zerolinecolor": "#E1E5ED"
        }
       }
      },
      "text/html": [
       "<div>                            <div id=\"09bb714c-0bdf-45ea-9661-e9c6f6fc28cc\" class=\"plotly-graph-div\" style=\"height:525px; width:100%;\"></div>            <script type=\"text/javascript\">                require([\"plotly\"], function(Plotly) {                    window.PLOTLYENV=window.PLOTLYENV || {};\n",
       "                    window.PLOTLYENV.BASE_URL='https://plot.ly';                                    if (document.getElementById(\"09bb714c-0bdf-45ea-9661-e9c6f6fc28cc\")) {                    Plotly.newPlot(                        \"09bb714c-0bdf-45ea-9661-e9c6f6fc28cc\",                        [{\"histfunc\": \"count\", \"histnorm\": \"\", \"marker\": {\"color\": \"rgba(255, 153, 51, 1.0)\", \"line\": {\"color\": \"#4D5663\", \"width\": 1.3}}, \"name\": \"a\", \"nbinsx\": 10, \"opacity\": 0.8, \"orientation\": \"v\", \"type\": \"histogram\", \"x\": [-0.2939247089538375, 2.0970076509999784, 0.6173777106200816, 0.23750356151887284, 1.4742614481713527, -0.5385616431849475, -0.45321074945949447, 0.12167449125140922, 0.20428924065632798, 0.22236282194300827, -0.6875098311811151, 0.359616715882246, 2.3950352145362634, -1.6207985178635114, 1.1035412290025228, 0.08046177444574407, 0.6606756828275522, -0.23956254477490263, -0.17851923115075505, -1.3840621342640793, -0.18702848968924107, -0.022384496392856452, 0.22508891444086587, -0.08976387372755973, 1.5689953760605144, -0.8888438575279914, 0.7570847381702218, 0.18871608700229803, 0.2010714627780046, -0.9376698821651582, 0.6750759305528278, -2.6466285425274574, 0.37476265045813056, -0.901004002901094, -0.9650386990444001, 0.9978649274376844, 1.1449823043540495, -0.08122776362240577, -0.46399287651831483, -0.327973144710316, -0.7052750047259908, -0.8404245727219606, -1.8027200625992401, -0.41612955979023686, 1.744646834426262, 2.08660268843734, -0.3575218095405308, -1.3969976767306818, -2.209247335595158, -0.01949960232712651, -0.43249537867595117, 0.3276816794140001, 1.3947314018656503, -0.8707272296934853, 2.119916665770619, 0.35932321797338723, -1.8635994759219356, -0.18346970394873846, 0.20263335913174033, -0.47349177490276445, -1.4520362442968655, -2.1149498689947457, 0.9130783150932135, -0.5495136750215502, -1.0960621283754712, 1.4451572160950985, 2.031408286352337, 0.5425598066205446, -0.4775211880584021, 1.3308282537961023, 1.054353691401902, 1.612940625060723, -0.6109625761183942, -0.3821873570921796, 0.06843039203537875, -0.851254205028847, -0.4766492013005475, -0.5890194171164326, 2.442183066498214, -0.6194169874355799, -1.2222617029743152, -0.38402757215563416, 1.2903773269289678, 0.5971276344830816, 0.19293385964319268, -1.943140647316925, 2.5316619216308647, -1.0653518979213665, 1.4221772704069156, 0.2182038837841717, -0.17473296264917926, 1.2593089788564307, 0.4037842122693207, 0.41043879549939155, 0.017209646728323726, 0.05546188946749892, -0.8863530371688454, 0.1294464356696457, -0.677070174398935, -1.16031510980759], \"xaxis\": \"x\", \"yaxis\": \"y\"}, {\"line\": {\"color\": \"rgba(128, 128, 128, 1.0)\", \"dash\": \"solid\", \"shape\": \"linear\", \"width\": 1.3}, \"marker\": {\"size\": 2, \"symbol\": \"circle\"}, \"mode\": \"markers\", \"name\": \"a\", \"text\": \"\", \"type\": \"scatter\", \"x\": [1.7517195955247546, -0.35359986253618086, -0.19133904818374425, 0.09425845259705241, 0.3132660279058182, 0.5781971553314883, -2.067783326993488, 0.6099826326983443, 0.4237298386704434, -0.726227751579507, -0.7189066348304399, -1.1621193679555342, -0.8387188227282664, 1.8446352326960413, -1.5261234234571448, 0.25184511373240026, 0.507382596728712, -0.7676055455944559, 0.3345289985935182, -0.519930862281465, -1.1875187855113214, 0.28321083692873156, 0.4439022981463856, -0.647070647038372, -0.13382994045631505, -0.8231744385020477, -0.7760002891058501, -1.8811016466011998, -0.5400669646741258, 0.6417993920365667, -1.0750433645350408, -0.8535304068144485, 1.7366198720263866, -0.7460551345224858, -0.42652411311431265, 0.20228592023185543, -1.2709086692771747, -1.4133149883151543, 0.548228842737083, -0.9812532497119463, -1.4533376337289736, 0.15096058684193256, 1.1737197584881935, -0.052932881986239355, 0.11726895488462656, -1.2633287230708576, -1.4576819453135772, -1.3093283709027084, -0.3055126935028742, -0.04722359550452384, 0.11528089339140782, -0.12480741368796602, 0.5678519074032968, -1.651854518362437, -0.3672919727036017, 0.25200949602089007, -0.37351570168002984, -1.045903428320767, 0.5206368286408477, 1.1232227278371094, -1.340085574768691, -0.86400745936875, 1.0550957715631073, 0.459542071919937, -0.21526127396496744, -0.08755215527323648, 0.49115860321273747, -0.22641865914983392, -0.900489261026163, -0.4097112328735374, -0.4670675693241242, 0.36811600188979976, -0.035211946204871995, 0.5760790785247979, -0.2898062105937861, -0.6454669574803571, 1.0872247062936047, 0.8388304270804362, 1.2010283395645696, 0.9091166353159125, -0.4165958388206629, -0.6321804012839619, 0.09215744767250596, 1.5640594486311639, 1.1593665190780447, 0.8373592918589178, -0.4103626401331422, 0.3403785041925423, -0.2971058215438673, -0.6546234291796629, 0.6718839090767289, -0.08626567553004098, 0.34493128880227797, -1.3166805505068733, -0.5915004452066159, 0.07001232138335309, -0.3604605295372551, -0.3267979890598825, -0.43241655790310934, 1.0308675380964412], \"xaxis\": \"x2\", \"y\": [-0.2939247089538375, 2.0970076509999784, 0.6173777106200816, 0.23750356151887284, 1.4742614481713527, -0.5385616431849475, -0.45321074945949447, 0.12167449125140922, 0.20428924065632798, 0.22236282194300827, -0.6875098311811151, 0.359616715882246, 2.3950352145362634, -1.6207985178635114, 1.1035412290025228, 0.08046177444574407, 0.6606756828275522, -0.23956254477490263, -0.17851923115075505, -1.3840621342640793, -0.18702848968924107, -0.022384496392856452, 0.22508891444086587, -0.08976387372755973, 1.5689953760605144, -0.8888438575279914, 0.7570847381702218, 0.18871608700229803, 0.2010714627780046, -0.9376698821651582, 0.6750759305528278, -2.6466285425274574, 0.37476265045813056, -0.901004002901094, -0.9650386990444001, 0.9978649274376844, 1.1449823043540495, -0.08122776362240577, -0.46399287651831483, -0.327973144710316, -0.7052750047259908, -0.8404245727219606, -1.8027200625992401, -0.41612955979023686, 1.744646834426262, 2.08660268843734, -0.3575218095405308, -1.3969976767306818, -2.209247335595158, -0.01949960232712651, -0.43249537867595117, 0.3276816794140001, 1.3947314018656503, -0.8707272296934853, 2.119916665770619, 0.35932321797338723, -1.8635994759219356, -0.18346970394873846, 0.20263335913174033, -0.47349177490276445, -1.4520362442968655, -2.1149498689947457, 0.9130783150932135, -0.5495136750215502, -1.0960621283754712, 1.4451572160950985, 2.031408286352337, 0.5425598066205446, -0.4775211880584021, 1.3308282537961023, 1.054353691401902, 1.612940625060723, -0.6109625761183942, -0.3821873570921796, 0.06843039203537875, -0.851254205028847, -0.4766492013005475, -0.5890194171164326, 2.442183066498214, -0.6194169874355799, -1.2222617029743152, -0.38402757215563416, 1.2903773269289678, 0.5971276344830816, 0.19293385964319268, -1.943140647316925, 2.5316619216308647, -1.0653518979213665, 1.4221772704069156, 0.2182038837841717, -0.17473296264917926, 1.2593089788564307, 0.4037842122693207, 0.41043879549939155, 0.017209646728323726, 0.05546188946749892, -0.8863530371688454, 0.1294464356696457, -0.677070174398935, -1.16031510980759], \"yaxis\": \"y2\"}, {\"line\": {\"color\": \"rgba(128, 128, 128, 1.0)\", \"dash\": \"solid\", \"shape\": \"linear\", \"width\": 1.3}, \"marker\": {\"size\": 2, \"symbol\": \"circle\"}, \"mode\": \"markers\", \"name\": \"a\", \"text\": \"\", \"type\": \"scatter\", \"x\": [-1.1665185982253494, 0.44703916324171267, -2.229049902899732, -1.3836613335459687, -0.9485604622744072, -0.19636657192360915, -0.8645187066477877, 1.1878271335269805, -0.7153177601251083, -1.5708769235393547, -0.9610121109570703, -0.20297366509109127, 0.32931720596616937, -0.37905430856274264, -1.4181649222721624, 0.6521683397958095, 0.717256245918316, 1.985701377744813, -1.01265751574874, 1.8311572262058446, -1.8659600216036445, 0.28815525025711985, 0.006893738773197523, 0.030200376884393546, 2.381376433069506, -1.178264522799092, 0.4846967282491856, 0.1401510638317766, 0.007629462492196791, -0.2899933489843769, -0.7191409376355365, -0.13327718346489367, -0.23278778299188033, -0.5542201742034805, 1.130817516835987, -1.0203156236294415, -0.6560003451263542, 1.9050964763882963, -0.48873438331956637, -0.19443868973228298, 0.2078750770823177, -0.11224911009580876, 1.8798466545665753, -0.367455864130886, -0.11819328300870134, -0.15193007603728442, 0.9203915705812769, 0.17994717183003192, 0.028378077636339434, -1.1727911766586867, -0.27428142872025896, -0.40614186493007615, 0.9197185999998129, 1.5675331492287392, 0.31549790306323383, -0.9600468947852062, -0.7898783312417721, -0.4650998066750889, 0.7327378277474271, -1.4504063668945508, 1.9594864969323, -1.1837997404232803, 0.06710462339755838, -0.5439250147730456, -0.6805202673031998, -0.18660028703268128, -0.30564296100900584, -0.3749226214508793, 0.3792636917660674, 0.7726839407126967, 0.8489104984466974, 0.8509562364366888, 0.8017633886647397, -0.64049567558334, -2.261208818427529, -2.535064947627141, -0.22110638537596014, 1.6324168208268681, -0.7761354871003384, -0.42734958754239893, -0.14351041266370718, -0.12263629059096863, -0.5876526082928746, 0.998850201939234, 0.8918621098146288, -0.911802610468548, -0.107483819096009, -0.28227227913320946, 0.6245701802471451, 0.07321836835851156, 1.1169438714769597, 1.2778705156173897, 0.815773569270344, 0.9970761608278822, -1.3789977188461464, -1.3450874453770818, 0.14328961191665385, 2.0797462282022345, 1.5449517630974585, 1.4544167474742808], \"xaxis\": \"x3\", \"y\": [-0.2939247089538375, 2.0970076509999784, 0.6173777106200816, 0.23750356151887284, 1.4742614481713527, -0.5385616431849475, -0.45321074945949447, 0.12167449125140922, 0.20428924065632798, 0.22236282194300827, -0.6875098311811151, 0.359616715882246, 2.3950352145362634, -1.6207985178635114, 1.1035412290025228, 0.08046177444574407, 0.6606756828275522, -0.23956254477490263, -0.17851923115075505, -1.3840621342640793, -0.18702848968924107, -0.022384496392856452, 0.22508891444086587, -0.08976387372755973, 1.5689953760605144, -0.8888438575279914, 0.7570847381702218, 0.18871608700229803, 0.2010714627780046, -0.9376698821651582, 0.6750759305528278, -2.6466285425274574, 0.37476265045813056, -0.901004002901094, -0.9650386990444001, 0.9978649274376844, 1.1449823043540495, -0.08122776362240577, -0.46399287651831483, -0.327973144710316, -0.7052750047259908, -0.8404245727219606, -1.8027200625992401, -0.41612955979023686, 1.744646834426262, 2.08660268843734, -0.3575218095405308, -1.3969976767306818, -2.209247335595158, -0.01949960232712651, -0.43249537867595117, 0.3276816794140001, 1.3947314018656503, -0.8707272296934853, 2.119916665770619, 0.35932321797338723, -1.8635994759219356, -0.18346970394873846, 0.20263335913174033, -0.47349177490276445, -1.4520362442968655, -2.1149498689947457, 0.9130783150932135, -0.5495136750215502, -1.0960621283754712, 1.4451572160950985, 2.031408286352337, 0.5425598066205446, -0.4775211880584021, 1.3308282537961023, 1.054353691401902, 1.612940625060723, -0.6109625761183942, -0.3821873570921796, 0.06843039203537875, -0.851254205028847, -0.4766492013005475, -0.5890194171164326, 2.442183066498214, -0.6194169874355799, -1.2222617029743152, -0.38402757215563416, 1.2903773269289678, 0.5971276344830816, 0.19293385964319268, -1.943140647316925, 2.5316619216308647, -1.0653518979213665, 1.4221772704069156, 0.2182038837841717, -0.17473296264917926, 1.2593089788564307, 0.4037842122693207, 0.41043879549939155, 0.017209646728323726, 0.05546188946749892, -0.8863530371688454, 0.1294464356696457, -0.677070174398935, -1.16031510980759], \"yaxis\": \"y3\"}, {\"line\": {\"color\": \"rgba(128, 128, 128, 1.0)\", \"dash\": \"solid\", \"shape\": \"linear\", \"width\": 1.3}, \"marker\": {\"size\": 2, \"symbol\": \"circle\"}, \"mode\": \"markers\", \"name\": \"a\", \"text\": \"\", \"type\": \"scatter\", \"x\": [-0.28048716161916, 0.38589042597645334, -0.24555896355230156, 1.0359933876068943, 2.188602424554546, -0.37483742833276074, -0.06152544592235071, -0.33744135882751547, 0.2906250898137876, -1.0924854508790909, -0.2068158441813486, -1.8728412712076505, -0.3531552351063383, 0.5372122551350138, -2.9674873834537734, -0.3005238614058087, -1.7393975655822014, 0.41978060727531724, -0.7863600332339782, -0.39397655827621203, 1.6171266606089163, 0.7637431942159277, 0.4090932470552176, 1.986463868774873, 0.05938797301543664, -0.15103568029575504, -0.2997104944680906, 2.9227042979261486, 0.08815006639147839, -1.274066078955945, 0.017959183940567117, -0.3511043178642469, -0.7148162366809442, 1.4793676171030348, 0.033139292377156536, -0.6594075747595262, -0.7310276316427899, -0.2670019744567271, -0.13361484696476697, 0.9811250183384784, 1.3041030439701036, -1.5520338753125933, -1.2669180128447932, -0.6419806582859231, 0.48530503422526017, -1.0804420757427589, -1.3530587223162485, -0.5367496625638137, -0.5339709398509465, 1.1011604095373158, 0.8022156504237581, -0.668547460007973, -0.48133355497319047, 1.29383729573397, -0.9135629504590587, -0.04934407389542167, -1.2706240982625403, -0.6556031143886947, 1.0241986254924382, -0.46563454761994066, 0.2733482279459654, 1.5345044369997993, -1.7372038688744909, 0.666806989228242, -0.08340980571751967, 0.7024417091367539, 0.36885977087007676, -1.243335553024747, 0.18291365920098274, -0.017436565628707122, -0.46624467691635046, -1.0951404872243835, 0.8223100314303123, -0.7376289367241221, 0.33792468585131574, -1.7010921501841583, 0.05864850995894906, 0.6131855591589759, 1.8343976598091685, 0.7141275399998634, 0.39757337321541675, 0.13641646616786698, 0.9738560319450598, -0.451621107940339, 1.258206993496081, -0.5246405435883648, 0.7202535805908966, 0.2473480789820883, -1.0808258434385758, -0.10729158726169893, -1.8429497353902775, 0.37677638524818696, 0.9340574794462572, 0.594786084820459, 0.0031055629632219086, -0.8872625988730557, 2.0629264388795066, 0.2000416837259496, 0.5839869034838178, -2.1171149617801857], \"xaxis\": \"x4\", \"y\": [-0.2939247089538375, 2.0970076509999784, 0.6173777106200816, 0.23750356151887284, 1.4742614481713527, -0.5385616431849475, -0.45321074945949447, 0.12167449125140922, 0.20428924065632798, 0.22236282194300827, -0.6875098311811151, 0.359616715882246, 2.3950352145362634, -1.6207985178635114, 1.1035412290025228, 0.08046177444574407, 0.6606756828275522, -0.23956254477490263, -0.17851923115075505, -1.3840621342640793, -0.18702848968924107, -0.022384496392856452, 0.22508891444086587, -0.08976387372755973, 1.5689953760605144, -0.8888438575279914, 0.7570847381702218, 0.18871608700229803, 0.2010714627780046, -0.9376698821651582, 0.6750759305528278, -2.6466285425274574, 0.37476265045813056, -0.901004002901094, -0.9650386990444001, 0.9978649274376844, 1.1449823043540495, -0.08122776362240577, -0.46399287651831483, -0.327973144710316, -0.7052750047259908, -0.8404245727219606, -1.8027200625992401, -0.41612955979023686, 1.744646834426262, 2.08660268843734, -0.3575218095405308, -1.3969976767306818, -2.209247335595158, -0.01949960232712651, -0.43249537867595117, 0.3276816794140001, 1.3947314018656503, -0.8707272296934853, 2.119916665770619, 0.35932321797338723, -1.8635994759219356, -0.18346970394873846, 0.20263335913174033, -0.47349177490276445, -1.4520362442968655, -2.1149498689947457, 0.9130783150932135, -0.5495136750215502, -1.0960621283754712, 1.4451572160950985, 2.031408286352337, 0.5425598066205446, -0.4775211880584021, 1.3308282537961023, 1.054353691401902, 1.612940625060723, -0.6109625761183942, -0.3821873570921796, 0.06843039203537875, -0.851254205028847, -0.4766492013005475, -0.5890194171164326, 2.442183066498214, -0.6194169874355799, -1.2222617029743152, -0.38402757215563416, 1.2903773269289678, 0.5971276344830816, 0.19293385964319268, -1.943140647316925, 2.5316619216308647, -1.0653518979213665, 1.4221772704069156, 0.2182038837841717, -0.17473296264917926, 1.2593089788564307, 0.4037842122693207, 0.41043879549939155, 0.017209646728323726, 0.05546188946749892, -0.8863530371688454, 0.1294464356696457, -0.677070174398935, -1.16031510980759], \"yaxis\": \"y4\"}, {\"line\": {\"color\": \"rgba(128, 128, 128, 1.0)\", \"dash\": \"solid\", \"shape\": \"linear\", \"width\": 1.3}, \"marker\": {\"size\": 2, \"symbol\": \"circle\"}, \"mode\": \"markers\", \"name\": \"b\", \"text\": \"\", \"type\": \"scatter\", \"x\": [-0.2939247089538375, 2.0970076509999784, 0.6173777106200816, 0.23750356151887284, 1.4742614481713527, -0.5385616431849475, -0.45321074945949447, 0.12167449125140922, 0.20428924065632798, 0.22236282194300827, -0.6875098311811151, 0.359616715882246, 2.3950352145362634, -1.6207985178635114, 1.1035412290025228, 0.08046177444574407, 0.6606756828275522, -0.23956254477490263, -0.17851923115075505, -1.3840621342640793, -0.18702848968924107, -0.022384496392856452, 0.22508891444086587, -0.08976387372755973, 1.5689953760605144, -0.8888438575279914, 0.7570847381702218, 0.18871608700229803, 0.2010714627780046, -0.9376698821651582, 0.6750759305528278, -2.6466285425274574, 0.37476265045813056, -0.901004002901094, -0.9650386990444001, 0.9978649274376844, 1.1449823043540495, -0.08122776362240577, -0.46399287651831483, -0.327973144710316, -0.7052750047259908, -0.8404245727219606, -1.8027200625992401, -0.41612955979023686, 1.744646834426262, 2.08660268843734, -0.3575218095405308, -1.3969976767306818, -2.209247335595158, -0.01949960232712651, -0.43249537867595117, 0.3276816794140001, 1.3947314018656503, -0.8707272296934853, 2.119916665770619, 0.35932321797338723, -1.8635994759219356, -0.18346970394873846, 0.20263335913174033, -0.47349177490276445, -1.4520362442968655, -2.1149498689947457, 0.9130783150932135, -0.5495136750215502, -1.0960621283754712, 1.4451572160950985, 2.031408286352337, 0.5425598066205446, -0.4775211880584021, 1.3308282537961023, 1.054353691401902, 1.612940625060723, -0.6109625761183942, -0.3821873570921796, 0.06843039203537875, -0.851254205028847, -0.4766492013005475, -0.5890194171164326, 2.442183066498214, -0.6194169874355799, -1.2222617029743152, -0.38402757215563416, 1.2903773269289678, 0.5971276344830816, 0.19293385964319268, -1.943140647316925, 2.5316619216308647, -1.0653518979213665, 1.4221772704069156, 0.2182038837841717, -0.17473296264917926, 1.2593089788564307, 0.4037842122693207, 0.41043879549939155, 0.017209646728323726, 0.05546188946749892, -0.8863530371688454, 0.1294464356696457, -0.677070174398935, -1.16031510980759], \"xaxis\": \"x5\", \"y\": [1.7517195955247546, -0.35359986253618086, -0.19133904818374425, 0.09425845259705241, 0.3132660279058182, 0.5781971553314883, -2.067783326993488, 0.6099826326983443, 0.4237298386704434, -0.726227751579507, -0.7189066348304399, -1.1621193679555342, -0.8387188227282664, 1.8446352326960413, -1.5261234234571448, 0.25184511373240026, 0.507382596728712, -0.7676055455944559, 0.3345289985935182, -0.519930862281465, -1.1875187855113214, 0.28321083692873156, 0.4439022981463856, -0.647070647038372, -0.13382994045631505, -0.8231744385020477, -0.7760002891058501, -1.8811016466011998, -0.5400669646741258, 0.6417993920365667, -1.0750433645350408, -0.8535304068144485, 1.7366198720263866, -0.7460551345224858, -0.42652411311431265, 0.20228592023185543, -1.2709086692771747, -1.4133149883151543, 0.548228842737083, -0.9812532497119463, -1.4533376337289736, 0.15096058684193256, 1.1737197584881935, -0.052932881986239355, 0.11726895488462656, -1.2633287230708576, -1.4576819453135772, -1.3093283709027084, -0.3055126935028742, -0.04722359550452384, 0.11528089339140782, -0.12480741368796602, 0.5678519074032968, -1.651854518362437, -0.3672919727036017, 0.25200949602089007, -0.37351570168002984, -1.045903428320767, 0.5206368286408477, 1.1232227278371094, -1.340085574768691, -0.86400745936875, 1.0550957715631073, 0.459542071919937, -0.21526127396496744, -0.08755215527323648, 0.49115860321273747, -0.22641865914983392, -0.900489261026163, -0.4097112328735374, -0.4670675693241242, 0.36811600188979976, -0.035211946204871995, 0.5760790785247979, -0.2898062105937861, -0.6454669574803571, 1.0872247062936047, 0.8388304270804362, 1.2010283395645696, 0.9091166353159125, -0.4165958388206629, -0.6321804012839619, 0.09215744767250596, 1.5640594486311639, 1.1593665190780447, 0.8373592918589178, -0.4103626401331422, 0.3403785041925423, -0.2971058215438673, -0.6546234291796629, 0.6718839090767289, -0.08626567553004098, 0.34493128880227797, -1.3166805505068733, -0.5915004452066159, 0.07001232138335309, -0.3604605295372551, -0.3267979890598825, -0.43241655790310934, 1.0308675380964412], \"yaxis\": \"y5\"}, {\"histfunc\": \"count\", \"histnorm\": \"\", \"marker\": {\"color\": \"rgba(55, 128, 191, 1.0)\", \"line\": {\"color\": \"#4D5663\", \"width\": 1.3}}, \"name\": \"b\", \"nbinsx\": 10, \"opacity\": 0.8, \"orientation\": \"v\", \"type\": \"histogram\", \"x\": [1.7517195955247546, -0.35359986253618086, -0.19133904818374425, 0.09425845259705241, 0.3132660279058182, 0.5781971553314883, -2.067783326993488, 0.6099826326983443, 0.4237298386704434, -0.726227751579507, -0.7189066348304399, -1.1621193679555342, -0.8387188227282664, 1.8446352326960413, -1.5261234234571448, 0.25184511373240026, 0.507382596728712, -0.7676055455944559, 0.3345289985935182, -0.519930862281465, -1.1875187855113214, 0.28321083692873156, 0.4439022981463856, -0.647070647038372, -0.13382994045631505, -0.8231744385020477, -0.7760002891058501, -1.8811016466011998, -0.5400669646741258, 0.6417993920365667, -1.0750433645350408, -0.8535304068144485, 1.7366198720263866, -0.7460551345224858, -0.42652411311431265, 0.20228592023185543, -1.2709086692771747, -1.4133149883151543, 0.548228842737083, -0.9812532497119463, -1.4533376337289736, 0.15096058684193256, 1.1737197584881935, -0.052932881986239355, 0.11726895488462656, -1.2633287230708576, -1.4576819453135772, -1.3093283709027084, -0.3055126935028742, -0.04722359550452384, 0.11528089339140782, -0.12480741368796602, 0.5678519074032968, -1.651854518362437, -0.3672919727036017, 0.25200949602089007, -0.37351570168002984, -1.045903428320767, 0.5206368286408477, 1.1232227278371094, -1.340085574768691, -0.86400745936875, 1.0550957715631073, 0.459542071919937, -0.21526127396496744, -0.08755215527323648, 0.49115860321273747, -0.22641865914983392, -0.900489261026163, -0.4097112328735374, -0.4670675693241242, 0.36811600188979976, -0.035211946204871995, 0.5760790785247979, -0.2898062105937861, -0.6454669574803571, 1.0872247062936047, 0.8388304270804362, 1.2010283395645696, 0.9091166353159125, -0.4165958388206629, -0.6321804012839619, 0.09215744767250596, 1.5640594486311639, 1.1593665190780447, 0.8373592918589178, -0.4103626401331422, 0.3403785041925423, -0.2971058215438673, -0.6546234291796629, 0.6718839090767289, -0.08626567553004098, 0.34493128880227797, -1.3166805505068733, -0.5915004452066159, 0.07001232138335309, -0.3604605295372551, -0.3267979890598825, -0.43241655790310934, 1.0308675380964412], \"xaxis\": \"x6\", \"yaxis\": \"y6\"}, {\"line\": {\"color\": \"rgba(128, 128, 128, 1.0)\", \"dash\": \"solid\", \"shape\": \"linear\", \"width\": 1.3}, \"marker\": {\"size\": 2, \"symbol\": \"circle\"}, \"mode\": \"markers\", \"name\": \"b\", \"text\": \"\", \"type\": \"scatter\", \"x\": [-1.1665185982253494, 0.44703916324171267, -2.229049902899732, -1.3836613335459687, -0.9485604622744072, -0.19636657192360915, -0.8645187066477877, 1.1878271335269805, -0.7153177601251083, -1.5708769235393547, -0.9610121109570703, -0.20297366509109127, 0.32931720596616937, -0.37905430856274264, -1.4181649222721624, 0.6521683397958095, 0.717256245918316, 1.985701377744813, -1.01265751574874, 1.8311572262058446, -1.8659600216036445, 0.28815525025711985, 0.006893738773197523, 0.030200376884393546, 2.381376433069506, -1.178264522799092, 0.4846967282491856, 0.1401510638317766, 0.007629462492196791, -0.2899933489843769, -0.7191409376355365, -0.13327718346489367, -0.23278778299188033, -0.5542201742034805, 1.130817516835987, -1.0203156236294415, -0.6560003451263542, 1.9050964763882963, -0.48873438331956637, -0.19443868973228298, 0.2078750770823177, -0.11224911009580876, 1.8798466545665753, -0.367455864130886, -0.11819328300870134, -0.15193007603728442, 0.9203915705812769, 0.17994717183003192, 0.028378077636339434, -1.1727911766586867, -0.27428142872025896, -0.40614186493007615, 0.9197185999998129, 1.5675331492287392, 0.31549790306323383, -0.9600468947852062, -0.7898783312417721, -0.4650998066750889, 0.7327378277474271, -1.4504063668945508, 1.9594864969323, -1.1837997404232803, 0.06710462339755838, -0.5439250147730456, -0.6805202673031998, -0.18660028703268128, -0.30564296100900584, -0.3749226214508793, 0.3792636917660674, 0.7726839407126967, 0.8489104984466974, 0.8509562364366888, 0.8017633886647397, -0.64049567558334, -2.261208818427529, -2.535064947627141, -0.22110638537596014, 1.6324168208268681, -0.7761354871003384, -0.42734958754239893, -0.14351041266370718, -0.12263629059096863, -0.5876526082928746, 0.998850201939234, 0.8918621098146288, -0.911802610468548, -0.107483819096009, -0.28227227913320946, 0.6245701802471451, 0.07321836835851156, 1.1169438714769597, 1.2778705156173897, 0.815773569270344, 0.9970761608278822, -1.3789977188461464, -1.3450874453770818, 0.14328961191665385, 2.0797462282022345, 1.5449517630974585, 1.4544167474742808], \"xaxis\": \"x7\", \"y\": [1.7517195955247546, -0.35359986253618086, -0.19133904818374425, 0.09425845259705241, 0.3132660279058182, 0.5781971553314883, -2.067783326993488, 0.6099826326983443, 0.4237298386704434, -0.726227751579507, -0.7189066348304399, -1.1621193679555342, -0.8387188227282664, 1.8446352326960413, -1.5261234234571448, 0.25184511373240026, 0.507382596728712, -0.7676055455944559, 0.3345289985935182, -0.519930862281465, -1.1875187855113214, 0.28321083692873156, 0.4439022981463856, -0.647070647038372, -0.13382994045631505, -0.8231744385020477, -0.7760002891058501, -1.8811016466011998, -0.5400669646741258, 0.6417993920365667, -1.0750433645350408, -0.8535304068144485, 1.7366198720263866, -0.7460551345224858, -0.42652411311431265, 0.20228592023185543, -1.2709086692771747, -1.4133149883151543, 0.548228842737083, -0.9812532497119463, -1.4533376337289736, 0.15096058684193256, 1.1737197584881935, -0.052932881986239355, 0.11726895488462656, -1.2633287230708576, -1.4576819453135772, -1.3093283709027084, -0.3055126935028742, -0.04722359550452384, 0.11528089339140782, -0.12480741368796602, 0.5678519074032968, -1.651854518362437, -0.3672919727036017, 0.25200949602089007, -0.37351570168002984, -1.045903428320767, 0.5206368286408477, 1.1232227278371094, -1.340085574768691, -0.86400745936875, 1.0550957715631073, 0.459542071919937, -0.21526127396496744, -0.08755215527323648, 0.49115860321273747, -0.22641865914983392, -0.900489261026163, -0.4097112328735374, -0.4670675693241242, 0.36811600188979976, -0.035211946204871995, 0.5760790785247979, -0.2898062105937861, -0.6454669574803571, 1.0872247062936047, 0.8388304270804362, 1.2010283395645696, 0.9091166353159125, -0.4165958388206629, -0.6321804012839619, 0.09215744767250596, 1.5640594486311639, 1.1593665190780447, 0.8373592918589178, -0.4103626401331422, 0.3403785041925423, -0.2971058215438673, -0.6546234291796629, 0.6718839090767289, -0.08626567553004098, 0.34493128880227797, -1.3166805505068733, -0.5915004452066159, 0.07001232138335309, -0.3604605295372551, -0.3267979890598825, -0.43241655790310934, 1.0308675380964412], \"yaxis\": \"y7\"}, {\"line\": {\"color\": \"rgba(128, 128, 128, 1.0)\", \"dash\": \"solid\", \"shape\": \"linear\", \"width\": 1.3}, \"marker\": {\"size\": 2, \"symbol\": \"circle\"}, \"mode\": \"markers\", \"name\": \"b\", \"text\": \"\", \"type\": \"scatter\", \"x\": [-0.28048716161916, 0.38589042597645334, -0.24555896355230156, 1.0359933876068943, 2.188602424554546, -0.37483742833276074, -0.06152544592235071, -0.33744135882751547, 0.2906250898137876, -1.0924854508790909, -0.2068158441813486, -1.8728412712076505, -0.3531552351063383, 0.5372122551350138, -2.9674873834537734, -0.3005238614058087, -1.7393975655822014, 0.41978060727531724, -0.7863600332339782, -0.39397655827621203, 1.6171266606089163, 0.7637431942159277, 0.4090932470552176, 1.986463868774873, 0.05938797301543664, -0.15103568029575504, -0.2997104944680906, 2.9227042979261486, 0.08815006639147839, -1.274066078955945, 0.017959183940567117, -0.3511043178642469, -0.7148162366809442, 1.4793676171030348, 0.033139292377156536, -0.6594075747595262, -0.7310276316427899, -0.2670019744567271, -0.13361484696476697, 0.9811250183384784, 1.3041030439701036, -1.5520338753125933, -1.2669180128447932, -0.6419806582859231, 0.48530503422526017, -1.0804420757427589, -1.3530587223162485, -0.5367496625638137, -0.5339709398509465, 1.1011604095373158, 0.8022156504237581, -0.668547460007973, -0.48133355497319047, 1.29383729573397, -0.9135629504590587, -0.04934407389542167, -1.2706240982625403, -0.6556031143886947, 1.0241986254924382, -0.46563454761994066, 0.2733482279459654, 1.5345044369997993, -1.7372038688744909, 0.666806989228242, -0.08340980571751967, 0.7024417091367539, 0.36885977087007676, -1.243335553024747, 0.18291365920098274, -0.017436565628707122, -0.46624467691635046, -1.0951404872243835, 0.8223100314303123, -0.7376289367241221, 0.33792468585131574, -1.7010921501841583, 0.05864850995894906, 0.6131855591589759, 1.8343976598091685, 0.7141275399998634, 0.39757337321541675, 0.13641646616786698, 0.9738560319450598, -0.451621107940339, 1.258206993496081, -0.5246405435883648, 0.7202535805908966, 0.2473480789820883, -1.0808258434385758, -0.10729158726169893, -1.8429497353902775, 0.37677638524818696, 0.9340574794462572, 0.594786084820459, 0.0031055629632219086, -0.8872625988730557, 2.0629264388795066, 0.2000416837259496, 0.5839869034838178, -2.1171149617801857], \"xaxis\": \"x8\", \"y\": [1.7517195955247546, -0.35359986253618086, -0.19133904818374425, 0.09425845259705241, 0.3132660279058182, 0.5781971553314883, -2.067783326993488, 0.6099826326983443, 0.4237298386704434, -0.726227751579507, -0.7189066348304399, -1.1621193679555342, -0.8387188227282664, 1.8446352326960413, -1.5261234234571448, 0.25184511373240026, 0.507382596728712, -0.7676055455944559, 0.3345289985935182, -0.519930862281465, -1.1875187855113214, 0.28321083692873156, 0.4439022981463856, -0.647070647038372, -0.13382994045631505, -0.8231744385020477, -0.7760002891058501, -1.8811016466011998, -0.5400669646741258, 0.6417993920365667, -1.0750433645350408, -0.8535304068144485, 1.7366198720263866, -0.7460551345224858, -0.42652411311431265, 0.20228592023185543, -1.2709086692771747, -1.4133149883151543, 0.548228842737083, -0.9812532497119463, -1.4533376337289736, 0.15096058684193256, 1.1737197584881935, -0.052932881986239355, 0.11726895488462656, -1.2633287230708576, -1.4576819453135772, -1.3093283709027084, -0.3055126935028742, -0.04722359550452384, 0.11528089339140782, -0.12480741368796602, 0.5678519074032968, -1.651854518362437, -0.3672919727036017, 0.25200949602089007, -0.37351570168002984, -1.045903428320767, 0.5206368286408477, 1.1232227278371094, -1.340085574768691, -0.86400745936875, 1.0550957715631073, 0.459542071919937, -0.21526127396496744, -0.08755215527323648, 0.49115860321273747, -0.22641865914983392, -0.900489261026163, -0.4097112328735374, -0.4670675693241242, 0.36811600188979976, -0.035211946204871995, 0.5760790785247979, -0.2898062105937861, -0.6454669574803571, 1.0872247062936047, 0.8388304270804362, 1.2010283395645696, 0.9091166353159125, -0.4165958388206629, -0.6321804012839619, 0.09215744767250596, 1.5640594486311639, 1.1593665190780447, 0.8373592918589178, -0.4103626401331422, 0.3403785041925423, -0.2971058215438673, -0.6546234291796629, 0.6718839090767289, -0.08626567553004098, 0.34493128880227797, -1.3166805505068733, -0.5915004452066159, 0.07001232138335309, -0.3604605295372551, -0.3267979890598825, -0.43241655790310934, 1.0308675380964412], \"yaxis\": \"y8\"}, {\"line\": {\"color\": \"rgba(128, 128, 128, 1.0)\", \"dash\": \"solid\", \"shape\": \"linear\", \"width\": 1.3}, \"marker\": {\"size\": 2, \"symbol\": \"circle\"}, \"mode\": \"markers\", \"name\": \"c\", \"text\": \"\", \"type\": \"scatter\", \"x\": [-0.2939247089538375, 2.0970076509999784, 0.6173777106200816, 0.23750356151887284, 1.4742614481713527, -0.5385616431849475, -0.45321074945949447, 0.12167449125140922, 0.20428924065632798, 0.22236282194300827, -0.6875098311811151, 0.359616715882246, 2.3950352145362634, -1.6207985178635114, 1.1035412290025228, 0.08046177444574407, 0.6606756828275522, -0.23956254477490263, -0.17851923115075505, -1.3840621342640793, -0.18702848968924107, -0.022384496392856452, 0.22508891444086587, -0.08976387372755973, 1.5689953760605144, -0.8888438575279914, 0.7570847381702218, 0.18871608700229803, 0.2010714627780046, -0.9376698821651582, 0.6750759305528278, -2.6466285425274574, 0.37476265045813056, -0.901004002901094, -0.9650386990444001, 0.9978649274376844, 1.1449823043540495, -0.08122776362240577, -0.46399287651831483, -0.327973144710316, -0.7052750047259908, -0.8404245727219606, -1.8027200625992401, -0.41612955979023686, 1.744646834426262, 2.08660268843734, -0.3575218095405308, -1.3969976767306818, -2.209247335595158, -0.01949960232712651, -0.43249537867595117, 0.3276816794140001, 1.3947314018656503, -0.8707272296934853, 2.119916665770619, 0.35932321797338723, -1.8635994759219356, -0.18346970394873846, 0.20263335913174033, -0.47349177490276445, -1.4520362442968655, -2.1149498689947457, 0.9130783150932135, -0.5495136750215502, -1.0960621283754712, 1.4451572160950985, 2.031408286352337, 0.5425598066205446, -0.4775211880584021, 1.3308282537961023, 1.054353691401902, 1.612940625060723, -0.6109625761183942, -0.3821873570921796, 0.06843039203537875, -0.851254205028847, -0.4766492013005475, -0.5890194171164326, 2.442183066498214, -0.6194169874355799, -1.2222617029743152, -0.38402757215563416, 1.2903773269289678, 0.5971276344830816, 0.19293385964319268, -1.943140647316925, 2.5316619216308647, -1.0653518979213665, 1.4221772704069156, 0.2182038837841717, -0.17473296264917926, 1.2593089788564307, 0.4037842122693207, 0.41043879549939155, 0.017209646728323726, 0.05546188946749892, -0.8863530371688454, 0.1294464356696457, -0.677070174398935, -1.16031510980759], \"xaxis\": \"x9\", \"y\": [-1.1665185982253494, 0.44703916324171267, -2.229049902899732, -1.3836613335459687, -0.9485604622744072, -0.19636657192360915, -0.8645187066477877, 1.1878271335269805, -0.7153177601251083, -1.5708769235393547, -0.9610121109570703, -0.20297366509109127, 0.32931720596616937, -0.37905430856274264, -1.4181649222721624, 0.6521683397958095, 0.717256245918316, 1.985701377744813, -1.01265751574874, 1.8311572262058446, -1.8659600216036445, 0.28815525025711985, 0.006893738773197523, 0.030200376884393546, 2.381376433069506, -1.178264522799092, 0.4846967282491856, 0.1401510638317766, 0.007629462492196791, -0.2899933489843769, -0.7191409376355365, -0.13327718346489367, -0.23278778299188033, -0.5542201742034805, 1.130817516835987, -1.0203156236294415, -0.6560003451263542, 1.9050964763882963, -0.48873438331956637, -0.19443868973228298, 0.2078750770823177, -0.11224911009580876, 1.8798466545665753, -0.367455864130886, -0.11819328300870134, -0.15193007603728442, 0.9203915705812769, 0.17994717183003192, 0.028378077636339434, -1.1727911766586867, -0.27428142872025896, -0.40614186493007615, 0.9197185999998129, 1.5675331492287392, 0.31549790306323383, -0.9600468947852062, -0.7898783312417721, -0.4650998066750889, 0.7327378277474271, -1.4504063668945508, 1.9594864969323, -1.1837997404232803, 0.06710462339755838, -0.5439250147730456, -0.6805202673031998, -0.18660028703268128, -0.30564296100900584, -0.3749226214508793, 0.3792636917660674, 0.7726839407126967, 0.8489104984466974, 0.8509562364366888, 0.8017633886647397, -0.64049567558334, -2.261208818427529, -2.535064947627141, -0.22110638537596014, 1.6324168208268681, -0.7761354871003384, -0.42734958754239893, -0.14351041266370718, -0.12263629059096863, -0.5876526082928746, 0.998850201939234, 0.8918621098146288, -0.911802610468548, -0.107483819096009, -0.28227227913320946, 0.6245701802471451, 0.07321836835851156, 1.1169438714769597, 1.2778705156173897, 0.815773569270344, 0.9970761608278822, -1.3789977188461464, -1.3450874453770818, 0.14328961191665385, 2.0797462282022345, 1.5449517630974585, 1.4544167474742808], \"yaxis\": \"y9\"}, {\"line\": {\"color\": \"rgba(128, 128, 128, 1.0)\", \"dash\": \"solid\", \"shape\": \"linear\", \"width\": 1.3}, \"marker\": {\"size\": 2, \"symbol\": \"circle\"}, \"mode\": \"markers\", \"name\": \"c\", \"text\": \"\", \"type\": \"scatter\", \"x\": [1.7517195955247546, -0.35359986253618086, -0.19133904818374425, 0.09425845259705241, 0.3132660279058182, 0.5781971553314883, -2.067783326993488, 0.6099826326983443, 0.4237298386704434, -0.726227751579507, -0.7189066348304399, -1.1621193679555342, -0.8387188227282664, 1.8446352326960413, -1.5261234234571448, 0.25184511373240026, 0.507382596728712, -0.7676055455944559, 0.3345289985935182, -0.519930862281465, -1.1875187855113214, 0.28321083692873156, 0.4439022981463856, -0.647070647038372, -0.13382994045631505, -0.8231744385020477, -0.7760002891058501, -1.8811016466011998, -0.5400669646741258, 0.6417993920365667, -1.0750433645350408, -0.8535304068144485, 1.7366198720263866, -0.7460551345224858, -0.42652411311431265, 0.20228592023185543, -1.2709086692771747, -1.4133149883151543, 0.548228842737083, -0.9812532497119463, -1.4533376337289736, 0.15096058684193256, 1.1737197584881935, -0.052932881986239355, 0.11726895488462656, -1.2633287230708576, -1.4576819453135772, -1.3093283709027084, -0.3055126935028742, -0.04722359550452384, 0.11528089339140782, -0.12480741368796602, 0.5678519074032968, -1.651854518362437, -0.3672919727036017, 0.25200949602089007, -0.37351570168002984, -1.045903428320767, 0.5206368286408477, 1.1232227278371094, -1.340085574768691, -0.86400745936875, 1.0550957715631073, 0.459542071919937, -0.21526127396496744, -0.08755215527323648, 0.49115860321273747, -0.22641865914983392, -0.900489261026163, -0.4097112328735374, -0.4670675693241242, 0.36811600188979976, -0.035211946204871995, 0.5760790785247979, -0.2898062105937861, -0.6454669574803571, 1.0872247062936047, 0.8388304270804362, 1.2010283395645696, 0.9091166353159125, -0.4165958388206629, -0.6321804012839619, 0.09215744767250596, 1.5640594486311639, 1.1593665190780447, 0.8373592918589178, -0.4103626401331422, 0.3403785041925423, -0.2971058215438673, -0.6546234291796629, 0.6718839090767289, -0.08626567553004098, 0.34493128880227797, -1.3166805505068733, -0.5915004452066159, 0.07001232138335309, -0.3604605295372551, -0.3267979890598825, -0.43241655790310934, 1.0308675380964412], \"xaxis\": \"x10\", \"y\": [-1.1665185982253494, 0.44703916324171267, -2.229049902899732, -1.3836613335459687, -0.9485604622744072, -0.19636657192360915, -0.8645187066477877, 1.1878271335269805, -0.7153177601251083, -1.5708769235393547, -0.9610121109570703, -0.20297366509109127, 0.32931720596616937, -0.37905430856274264, -1.4181649222721624, 0.6521683397958095, 0.717256245918316, 1.985701377744813, -1.01265751574874, 1.8311572262058446, -1.8659600216036445, 0.28815525025711985, 0.006893738773197523, 0.030200376884393546, 2.381376433069506, -1.178264522799092, 0.4846967282491856, 0.1401510638317766, 0.007629462492196791, -0.2899933489843769, -0.7191409376355365, -0.13327718346489367, -0.23278778299188033, -0.5542201742034805, 1.130817516835987, -1.0203156236294415, -0.6560003451263542, 1.9050964763882963, -0.48873438331956637, -0.19443868973228298, 0.2078750770823177, -0.11224911009580876, 1.8798466545665753, -0.367455864130886, -0.11819328300870134, -0.15193007603728442, 0.9203915705812769, 0.17994717183003192, 0.028378077636339434, -1.1727911766586867, -0.27428142872025896, -0.40614186493007615, 0.9197185999998129, 1.5675331492287392, 0.31549790306323383, -0.9600468947852062, -0.7898783312417721, -0.4650998066750889, 0.7327378277474271, -1.4504063668945508, 1.9594864969323, -1.1837997404232803, 0.06710462339755838, -0.5439250147730456, -0.6805202673031998, -0.18660028703268128, -0.30564296100900584, -0.3749226214508793, 0.3792636917660674, 0.7726839407126967, 0.8489104984466974, 0.8509562364366888, 0.8017633886647397, -0.64049567558334, -2.261208818427529, -2.535064947627141, -0.22110638537596014, 1.6324168208268681, -0.7761354871003384, -0.42734958754239893, -0.14351041266370718, -0.12263629059096863, -0.5876526082928746, 0.998850201939234, 0.8918621098146288, -0.911802610468548, -0.107483819096009, -0.28227227913320946, 0.6245701802471451, 0.07321836835851156, 1.1169438714769597, 1.2778705156173897, 0.815773569270344, 0.9970761608278822, -1.3789977188461464, -1.3450874453770818, 0.14328961191665385, 2.0797462282022345, 1.5449517630974585, 1.4544167474742808], \"yaxis\": \"y10\"}, {\"histfunc\": \"count\", \"histnorm\": \"\", \"marker\": {\"color\": \"rgba(50, 171, 96, 1.0)\", \"line\": {\"color\": \"#4D5663\", \"width\": 1.3}}, \"name\": \"c\", \"nbinsx\": 10, \"opacity\": 0.8, \"orientation\": \"v\", \"type\": \"histogram\", \"x\": [-1.1665185982253494, 0.44703916324171267, -2.229049902899732, -1.3836613335459687, -0.9485604622744072, -0.19636657192360915, -0.8645187066477877, 1.1878271335269805, -0.7153177601251083, -1.5708769235393547, -0.9610121109570703, -0.20297366509109127, 0.32931720596616937, -0.37905430856274264, -1.4181649222721624, 0.6521683397958095, 0.717256245918316, 1.985701377744813, -1.01265751574874, 1.8311572262058446, -1.8659600216036445, 0.28815525025711985, 0.006893738773197523, 0.030200376884393546, 2.381376433069506, -1.178264522799092, 0.4846967282491856, 0.1401510638317766, 0.007629462492196791, -0.2899933489843769, -0.7191409376355365, -0.13327718346489367, -0.23278778299188033, -0.5542201742034805, 1.130817516835987, -1.0203156236294415, -0.6560003451263542, 1.9050964763882963, -0.48873438331956637, -0.19443868973228298, 0.2078750770823177, -0.11224911009580876, 1.8798466545665753, -0.367455864130886, -0.11819328300870134, -0.15193007603728442, 0.9203915705812769, 0.17994717183003192, 0.028378077636339434, -1.1727911766586867, -0.27428142872025896, -0.40614186493007615, 0.9197185999998129, 1.5675331492287392, 0.31549790306323383, -0.9600468947852062, -0.7898783312417721, -0.4650998066750889, 0.7327378277474271, -1.4504063668945508, 1.9594864969323, -1.1837997404232803, 0.06710462339755838, -0.5439250147730456, -0.6805202673031998, -0.18660028703268128, -0.30564296100900584, -0.3749226214508793, 0.3792636917660674, 0.7726839407126967, 0.8489104984466974, 0.8509562364366888, 0.8017633886647397, -0.64049567558334, -2.261208818427529, -2.535064947627141, -0.22110638537596014, 1.6324168208268681, -0.7761354871003384, -0.42734958754239893, -0.14351041266370718, -0.12263629059096863, -0.5876526082928746, 0.998850201939234, 0.8918621098146288, -0.911802610468548, -0.107483819096009, -0.28227227913320946, 0.6245701802471451, 0.07321836835851156, 1.1169438714769597, 1.2778705156173897, 0.815773569270344, 0.9970761608278822, -1.3789977188461464, -1.3450874453770818, 0.14328961191665385, 2.0797462282022345, 1.5449517630974585, 1.4544167474742808], \"xaxis\": \"x11\", \"yaxis\": \"y11\"}, {\"line\": {\"color\": \"rgba(128, 128, 128, 1.0)\", \"dash\": \"solid\", \"shape\": \"linear\", \"width\": 1.3}, \"marker\": {\"size\": 2, \"symbol\": \"circle\"}, \"mode\": \"markers\", \"name\": \"c\", \"text\": \"\", \"type\": \"scatter\", \"x\": [-0.28048716161916, 0.38589042597645334, -0.24555896355230156, 1.0359933876068943, 2.188602424554546, -0.37483742833276074, -0.06152544592235071, -0.33744135882751547, 0.2906250898137876, -1.0924854508790909, -0.2068158441813486, -1.8728412712076505, -0.3531552351063383, 0.5372122551350138, -2.9674873834537734, -0.3005238614058087, -1.7393975655822014, 0.41978060727531724, -0.7863600332339782, -0.39397655827621203, 1.6171266606089163, 0.7637431942159277, 0.4090932470552176, 1.986463868774873, 0.05938797301543664, -0.15103568029575504, -0.2997104944680906, 2.9227042979261486, 0.08815006639147839, -1.274066078955945, 0.017959183940567117, -0.3511043178642469, -0.7148162366809442, 1.4793676171030348, 0.033139292377156536, -0.6594075747595262, -0.7310276316427899, -0.2670019744567271, -0.13361484696476697, 0.9811250183384784, 1.3041030439701036, -1.5520338753125933, -1.2669180128447932, -0.6419806582859231, 0.48530503422526017, -1.0804420757427589, -1.3530587223162485, -0.5367496625638137, -0.5339709398509465, 1.1011604095373158, 0.8022156504237581, -0.668547460007973, -0.48133355497319047, 1.29383729573397, -0.9135629504590587, -0.04934407389542167, -1.2706240982625403, -0.6556031143886947, 1.0241986254924382, -0.46563454761994066, 0.2733482279459654, 1.5345044369997993, -1.7372038688744909, 0.666806989228242, -0.08340980571751967, 0.7024417091367539, 0.36885977087007676, -1.243335553024747, 0.18291365920098274, -0.017436565628707122, -0.46624467691635046, -1.0951404872243835, 0.8223100314303123, -0.7376289367241221, 0.33792468585131574, -1.7010921501841583, 0.05864850995894906, 0.6131855591589759, 1.8343976598091685, 0.7141275399998634, 0.39757337321541675, 0.13641646616786698, 0.9738560319450598, -0.451621107940339, 1.258206993496081, -0.5246405435883648, 0.7202535805908966, 0.2473480789820883, -1.0808258434385758, -0.10729158726169893, -1.8429497353902775, 0.37677638524818696, 0.9340574794462572, 0.594786084820459, 0.0031055629632219086, -0.8872625988730557, 2.0629264388795066, 0.2000416837259496, 0.5839869034838178, -2.1171149617801857], \"xaxis\": \"x12\", \"y\": [-1.1665185982253494, 0.44703916324171267, -2.229049902899732, -1.3836613335459687, -0.9485604622744072, -0.19636657192360915, -0.8645187066477877, 1.1878271335269805, -0.7153177601251083, -1.5708769235393547, -0.9610121109570703, -0.20297366509109127, 0.32931720596616937, -0.37905430856274264, -1.4181649222721624, 0.6521683397958095, 0.717256245918316, 1.985701377744813, -1.01265751574874, 1.8311572262058446, -1.8659600216036445, 0.28815525025711985, 0.006893738773197523, 0.030200376884393546, 2.381376433069506, -1.178264522799092, 0.4846967282491856, 0.1401510638317766, 0.007629462492196791, -0.2899933489843769, -0.7191409376355365, -0.13327718346489367, -0.23278778299188033, -0.5542201742034805, 1.130817516835987, -1.0203156236294415, -0.6560003451263542, 1.9050964763882963, -0.48873438331956637, -0.19443868973228298, 0.2078750770823177, -0.11224911009580876, 1.8798466545665753, -0.367455864130886, -0.11819328300870134, -0.15193007603728442, 0.9203915705812769, 0.17994717183003192, 0.028378077636339434, -1.1727911766586867, -0.27428142872025896, -0.40614186493007615, 0.9197185999998129, 1.5675331492287392, 0.31549790306323383, -0.9600468947852062, -0.7898783312417721, -0.4650998066750889, 0.7327378277474271, -1.4504063668945508, 1.9594864969323, -1.1837997404232803, 0.06710462339755838, -0.5439250147730456, -0.6805202673031998, -0.18660028703268128, -0.30564296100900584, -0.3749226214508793, 0.3792636917660674, 0.7726839407126967, 0.8489104984466974, 0.8509562364366888, 0.8017633886647397, -0.64049567558334, -2.261208818427529, -2.535064947627141, -0.22110638537596014, 1.6324168208268681, -0.7761354871003384, -0.42734958754239893, -0.14351041266370718, -0.12263629059096863, -0.5876526082928746, 0.998850201939234, 0.8918621098146288, -0.911802610468548, -0.107483819096009, -0.28227227913320946, 0.6245701802471451, 0.07321836835851156, 1.1169438714769597, 1.2778705156173897, 0.815773569270344, 0.9970761608278822, -1.3789977188461464, -1.3450874453770818, 0.14328961191665385, 2.0797462282022345, 1.5449517630974585, 1.4544167474742808], \"yaxis\": \"y12\"}, {\"line\": {\"color\": \"rgba(128, 128, 128, 1.0)\", \"dash\": \"solid\", \"shape\": \"linear\", \"width\": 1.3}, \"marker\": {\"size\": 2, \"symbol\": \"circle\"}, \"mode\": \"markers\", \"name\": \"d\", \"text\": \"\", \"type\": \"scatter\", \"x\": [-0.2939247089538375, 2.0970076509999784, 0.6173777106200816, 0.23750356151887284, 1.4742614481713527, -0.5385616431849475, -0.45321074945949447, 0.12167449125140922, 0.20428924065632798, 0.22236282194300827, -0.6875098311811151, 0.359616715882246, 2.3950352145362634, -1.6207985178635114, 1.1035412290025228, 0.08046177444574407, 0.6606756828275522, -0.23956254477490263, -0.17851923115075505, -1.3840621342640793, -0.18702848968924107, -0.022384496392856452, 0.22508891444086587, -0.08976387372755973, 1.5689953760605144, -0.8888438575279914, 0.7570847381702218, 0.18871608700229803, 0.2010714627780046, -0.9376698821651582, 0.6750759305528278, -2.6466285425274574, 0.37476265045813056, -0.901004002901094, -0.9650386990444001, 0.9978649274376844, 1.1449823043540495, -0.08122776362240577, -0.46399287651831483, -0.327973144710316, -0.7052750047259908, -0.8404245727219606, -1.8027200625992401, -0.41612955979023686, 1.744646834426262, 2.08660268843734, -0.3575218095405308, -1.3969976767306818, -2.209247335595158, -0.01949960232712651, -0.43249537867595117, 0.3276816794140001, 1.3947314018656503, -0.8707272296934853, 2.119916665770619, 0.35932321797338723, -1.8635994759219356, -0.18346970394873846, 0.20263335913174033, -0.47349177490276445, -1.4520362442968655, -2.1149498689947457, 0.9130783150932135, -0.5495136750215502, -1.0960621283754712, 1.4451572160950985, 2.031408286352337, 0.5425598066205446, -0.4775211880584021, 1.3308282537961023, 1.054353691401902, 1.612940625060723, -0.6109625761183942, -0.3821873570921796, 0.06843039203537875, -0.851254205028847, -0.4766492013005475, -0.5890194171164326, 2.442183066498214, -0.6194169874355799, -1.2222617029743152, -0.38402757215563416, 1.2903773269289678, 0.5971276344830816, 0.19293385964319268, -1.943140647316925, 2.5316619216308647, -1.0653518979213665, 1.4221772704069156, 0.2182038837841717, -0.17473296264917926, 1.2593089788564307, 0.4037842122693207, 0.41043879549939155, 0.017209646728323726, 0.05546188946749892, -0.8863530371688454, 0.1294464356696457, -0.677070174398935, -1.16031510980759], \"xaxis\": \"x13\", \"y\": [-0.28048716161916, 0.38589042597645334, -0.24555896355230156, 1.0359933876068943, 2.188602424554546, -0.37483742833276074, -0.06152544592235071, -0.33744135882751547, 0.2906250898137876, -1.0924854508790909, -0.2068158441813486, -1.8728412712076505, -0.3531552351063383, 0.5372122551350138, -2.9674873834537734, -0.3005238614058087, -1.7393975655822014, 0.41978060727531724, -0.7863600332339782, -0.39397655827621203, 1.6171266606089163, 0.7637431942159277, 0.4090932470552176, 1.986463868774873, 0.05938797301543664, -0.15103568029575504, -0.2997104944680906, 2.9227042979261486, 0.08815006639147839, -1.274066078955945, 0.017959183940567117, -0.3511043178642469, -0.7148162366809442, 1.4793676171030348, 0.033139292377156536, -0.6594075747595262, -0.7310276316427899, -0.2670019744567271, -0.13361484696476697, 0.9811250183384784, 1.3041030439701036, -1.5520338753125933, -1.2669180128447932, -0.6419806582859231, 0.48530503422526017, -1.0804420757427589, -1.3530587223162485, -0.5367496625638137, -0.5339709398509465, 1.1011604095373158, 0.8022156504237581, -0.668547460007973, -0.48133355497319047, 1.29383729573397, -0.9135629504590587, -0.04934407389542167, -1.2706240982625403, -0.6556031143886947, 1.0241986254924382, -0.46563454761994066, 0.2733482279459654, 1.5345044369997993, -1.7372038688744909, 0.666806989228242, -0.08340980571751967, 0.7024417091367539, 0.36885977087007676, -1.243335553024747, 0.18291365920098274, -0.017436565628707122, -0.46624467691635046, -1.0951404872243835, 0.8223100314303123, -0.7376289367241221, 0.33792468585131574, -1.7010921501841583, 0.05864850995894906, 0.6131855591589759, 1.8343976598091685, 0.7141275399998634, 0.39757337321541675, 0.13641646616786698, 0.9738560319450598, -0.451621107940339, 1.258206993496081, -0.5246405435883648, 0.7202535805908966, 0.2473480789820883, -1.0808258434385758, -0.10729158726169893, -1.8429497353902775, 0.37677638524818696, 0.9340574794462572, 0.594786084820459, 0.0031055629632219086, -0.8872625988730557, 2.0629264388795066, 0.2000416837259496, 0.5839869034838178, -2.1171149617801857], \"yaxis\": \"y13\"}, {\"line\": {\"color\": \"rgba(128, 128, 128, 1.0)\", \"dash\": \"solid\", \"shape\": \"linear\", \"width\": 1.3}, \"marker\": {\"size\": 2, \"symbol\": \"circle\"}, \"mode\": \"markers\", \"name\": \"d\", \"text\": \"\", \"type\": \"scatter\", \"x\": [1.7517195955247546, -0.35359986253618086, -0.19133904818374425, 0.09425845259705241, 0.3132660279058182, 0.5781971553314883, -2.067783326993488, 0.6099826326983443, 0.4237298386704434, -0.726227751579507, -0.7189066348304399, -1.1621193679555342, -0.8387188227282664, 1.8446352326960413, -1.5261234234571448, 0.25184511373240026, 0.507382596728712, -0.7676055455944559, 0.3345289985935182, -0.519930862281465, -1.1875187855113214, 0.28321083692873156, 0.4439022981463856, -0.647070647038372, -0.13382994045631505, -0.8231744385020477, -0.7760002891058501, -1.8811016466011998, -0.5400669646741258, 0.6417993920365667, -1.0750433645350408, -0.8535304068144485, 1.7366198720263866, -0.7460551345224858, -0.42652411311431265, 0.20228592023185543, -1.2709086692771747, -1.4133149883151543, 0.548228842737083, -0.9812532497119463, -1.4533376337289736, 0.15096058684193256, 1.1737197584881935, -0.052932881986239355, 0.11726895488462656, -1.2633287230708576, -1.4576819453135772, -1.3093283709027084, -0.3055126935028742, -0.04722359550452384, 0.11528089339140782, -0.12480741368796602, 0.5678519074032968, -1.651854518362437, -0.3672919727036017, 0.25200949602089007, -0.37351570168002984, -1.045903428320767, 0.5206368286408477, 1.1232227278371094, -1.340085574768691, -0.86400745936875, 1.0550957715631073, 0.459542071919937, -0.21526127396496744, -0.08755215527323648, 0.49115860321273747, -0.22641865914983392, -0.900489261026163, -0.4097112328735374, -0.4670675693241242, 0.36811600188979976, -0.035211946204871995, 0.5760790785247979, -0.2898062105937861, -0.6454669574803571, 1.0872247062936047, 0.8388304270804362, 1.2010283395645696, 0.9091166353159125, -0.4165958388206629, -0.6321804012839619, 0.09215744767250596, 1.5640594486311639, 1.1593665190780447, 0.8373592918589178, -0.4103626401331422, 0.3403785041925423, -0.2971058215438673, -0.6546234291796629, 0.6718839090767289, -0.08626567553004098, 0.34493128880227797, -1.3166805505068733, -0.5915004452066159, 0.07001232138335309, -0.3604605295372551, -0.3267979890598825, -0.43241655790310934, 1.0308675380964412], \"xaxis\": \"x14\", \"y\": [-0.28048716161916, 0.38589042597645334, -0.24555896355230156, 1.0359933876068943, 2.188602424554546, -0.37483742833276074, -0.06152544592235071, -0.33744135882751547, 0.2906250898137876, -1.0924854508790909, -0.2068158441813486, -1.8728412712076505, -0.3531552351063383, 0.5372122551350138, -2.9674873834537734, -0.3005238614058087, -1.7393975655822014, 0.41978060727531724, -0.7863600332339782, -0.39397655827621203, 1.6171266606089163, 0.7637431942159277, 0.4090932470552176, 1.986463868774873, 0.05938797301543664, -0.15103568029575504, -0.2997104944680906, 2.9227042979261486, 0.08815006639147839, -1.274066078955945, 0.017959183940567117, -0.3511043178642469, -0.7148162366809442, 1.4793676171030348, 0.033139292377156536, -0.6594075747595262, -0.7310276316427899, -0.2670019744567271, -0.13361484696476697, 0.9811250183384784, 1.3041030439701036, -1.5520338753125933, -1.2669180128447932, -0.6419806582859231, 0.48530503422526017, -1.0804420757427589, -1.3530587223162485, -0.5367496625638137, -0.5339709398509465, 1.1011604095373158, 0.8022156504237581, -0.668547460007973, -0.48133355497319047, 1.29383729573397, -0.9135629504590587, -0.04934407389542167, -1.2706240982625403, -0.6556031143886947, 1.0241986254924382, -0.46563454761994066, 0.2733482279459654, 1.5345044369997993, -1.7372038688744909, 0.666806989228242, -0.08340980571751967, 0.7024417091367539, 0.36885977087007676, -1.243335553024747, 0.18291365920098274, -0.017436565628707122, -0.46624467691635046, -1.0951404872243835, 0.8223100314303123, -0.7376289367241221, 0.33792468585131574, -1.7010921501841583, 0.05864850995894906, 0.6131855591589759, 1.8343976598091685, 0.7141275399998634, 0.39757337321541675, 0.13641646616786698, 0.9738560319450598, -0.451621107940339, 1.258206993496081, -0.5246405435883648, 0.7202535805908966, 0.2473480789820883, -1.0808258434385758, -0.10729158726169893, -1.8429497353902775, 0.37677638524818696, 0.9340574794462572, 0.594786084820459, 0.0031055629632219086, -0.8872625988730557, 2.0629264388795066, 0.2000416837259496, 0.5839869034838178, -2.1171149617801857], \"yaxis\": \"y14\"}, {\"line\": {\"color\": \"rgba(128, 128, 128, 1.0)\", \"dash\": \"solid\", \"shape\": \"linear\", \"width\": 1.3}, \"marker\": {\"size\": 2, \"symbol\": \"circle\"}, \"mode\": \"markers\", \"name\": \"d\", \"text\": \"\", \"type\": \"scatter\", \"x\": [-1.1665185982253494, 0.44703916324171267, -2.229049902899732, -1.3836613335459687, -0.9485604622744072, -0.19636657192360915, -0.8645187066477877, 1.1878271335269805, -0.7153177601251083, -1.5708769235393547, -0.9610121109570703, -0.20297366509109127, 0.32931720596616937, -0.37905430856274264, -1.4181649222721624, 0.6521683397958095, 0.717256245918316, 1.985701377744813, -1.01265751574874, 1.8311572262058446, -1.8659600216036445, 0.28815525025711985, 0.006893738773197523, 0.030200376884393546, 2.381376433069506, -1.178264522799092, 0.4846967282491856, 0.1401510638317766, 0.007629462492196791, -0.2899933489843769, -0.7191409376355365, -0.13327718346489367, -0.23278778299188033, -0.5542201742034805, 1.130817516835987, -1.0203156236294415, -0.6560003451263542, 1.9050964763882963, -0.48873438331956637, -0.19443868973228298, 0.2078750770823177, -0.11224911009580876, 1.8798466545665753, -0.367455864130886, -0.11819328300870134, -0.15193007603728442, 0.9203915705812769, 0.17994717183003192, 0.028378077636339434, -1.1727911766586867, -0.27428142872025896, -0.40614186493007615, 0.9197185999998129, 1.5675331492287392, 0.31549790306323383, -0.9600468947852062, -0.7898783312417721, -0.4650998066750889, 0.7327378277474271, -1.4504063668945508, 1.9594864969323, -1.1837997404232803, 0.06710462339755838, -0.5439250147730456, -0.6805202673031998, -0.18660028703268128, -0.30564296100900584, -0.3749226214508793, 0.3792636917660674, 0.7726839407126967, 0.8489104984466974, 0.8509562364366888, 0.8017633886647397, -0.64049567558334, -2.261208818427529, -2.535064947627141, -0.22110638537596014, 1.6324168208268681, -0.7761354871003384, -0.42734958754239893, -0.14351041266370718, -0.12263629059096863, -0.5876526082928746, 0.998850201939234, 0.8918621098146288, -0.911802610468548, -0.107483819096009, -0.28227227913320946, 0.6245701802471451, 0.07321836835851156, 1.1169438714769597, 1.2778705156173897, 0.815773569270344, 0.9970761608278822, -1.3789977188461464, -1.3450874453770818, 0.14328961191665385, 2.0797462282022345, 1.5449517630974585, 1.4544167474742808], \"xaxis\": \"x15\", \"y\": [-0.28048716161916, 0.38589042597645334, -0.24555896355230156, 1.0359933876068943, 2.188602424554546, -0.37483742833276074, -0.06152544592235071, -0.33744135882751547, 0.2906250898137876, -1.0924854508790909, -0.2068158441813486, -1.8728412712076505, -0.3531552351063383, 0.5372122551350138, -2.9674873834537734, -0.3005238614058087, -1.7393975655822014, 0.41978060727531724, -0.7863600332339782, -0.39397655827621203, 1.6171266606089163, 0.7637431942159277, 0.4090932470552176, 1.986463868774873, 0.05938797301543664, -0.15103568029575504, -0.2997104944680906, 2.9227042979261486, 0.08815006639147839, -1.274066078955945, 0.017959183940567117, -0.3511043178642469, -0.7148162366809442, 1.4793676171030348, 0.033139292377156536, -0.6594075747595262, -0.7310276316427899, -0.2670019744567271, -0.13361484696476697, 0.9811250183384784, 1.3041030439701036, -1.5520338753125933, -1.2669180128447932, -0.6419806582859231, 0.48530503422526017, -1.0804420757427589, -1.3530587223162485, -0.5367496625638137, -0.5339709398509465, 1.1011604095373158, 0.8022156504237581, -0.668547460007973, -0.48133355497319047, 1.29383729573397, -0.9135629504590587, -0.04934407389542167, -1.2706240982625403, -0.6556031143886947, 1.0241986254924382, -0.46563454761994066, 0.2733482279459654, 1.5345044369997993, -1.7372038688744909, 0.666806989228242, -0.08340980571751967, 0.7024417091367539, 0.36885977087007676, -1.243335553024747, 0.18291365920098274, -0.017436565628707122, -0.46624467691635046, -1.0951404872243835, 0.8223100314303123, -0.7376289367241221, 0.33792468585131574, -1.7010921501841583, 0.05864850995894906, 0.6131855591589759, 1.8343976598091685, 0.7141275399998634, 0.39757337321541675, 0.13641646616786698, 0.9738560319450598, -0.451621107940339, 1.258206993496081, -0.5246405435883648, 0.7202535805908966, 0.2473480789820883, -1.0808258434385758, -0.10729158726169893, -1.8429497353902775, 0.37677638524818696, 0.9340574794462572, 0.594786084820459, 0.0031055629632219086, -0.8872625988730557, 2.0629264388795066, 0.2000416837259496, 0.5839869034838178, -2.1171149617801857], \"yaxis\": \"y15\"}, {\"histfunc\": \"count\", \"histnorm\": \"\", \"marker\": {\"color\": \"rgba(128, 0, 128, 1.0)\", \"line\": {\"color\": \"#4D5663\", \"width\": 1.3}}, \"name\": \"d\", \"nbinsx\": 10, \"opacity\": 0.8, \"orientation\": \"v\", \"type\": \"histogram\", \"x\": [-0.28048716161916, 0.38589042597645334, -0.24555896355230156, 1.0359933876068943, 2.188602424554546, -0.37483742833276074, -0.06152544592235071, -0.33744135882751547, 0.2906250898137876, -1.0924854508790909, -0.2068158441813486, -1.8728412712076505, -0.3531552351063383, 0.5372122551350138, -2.9674873834537734, -0.3005238614058087, -1.7393975655822014, 0.41978060727531724, -0.7863600332339782, -0.39397655827621203, 1.6171266606089163, 0.7637431942159277, 0.4090932470552176, 1.986463868774873, 0.05938797301543664, -0.15103568029575504, -0.2997104944680906, 2.9227042979261486, 0.08815006639147839, -1.274066078955945, 0.017959183940567117, -0.3511043178642469, -0.7148162366809442, 1.4793676171030348, 0.033139292377156536, -0.6594075747595262, -0.7310276316427899, -0.2670019744567271, -0.13361484696476697, 0.9811250183384784, 1.3041030439701036, -1.5520338753125933, -1.2669180128447932, -0.6419806582859231, 0.48530503422526017, -1.0804420757427589, -1.3530587223162485, -0.5367496625638137, -0.5339709398509465, 1.1011604095373158, 0.8022156504237581, -0.668547460007973, -0.48133355497319047, 1.29383729573397, -0.9135629504590587, -0.04934407389542167, -1.2706240982625403, -0.6556031143886947, 1.0241986254924382, -0.46563454761994066, 0.2733482279459654, 1.5345044369997993, -1.7372038688744909, 0.666806989228242, -0.08340980571751967, 0.7024417091367539, 0.36885977087007676, -1.243335553024747, 0.18291365920098274, -0.017436565628707122, -0.46624467691635046, -1.0951404872243835, 0.8223100314303123, -0.7376289367241221, 0.33792468585131574, -1.7010921501841583, 0.05864850995894906, 0.6131855591589759, 1.8343976598091685, 0.7141275399998634, 0.39757337321541675, 0.13641646616786698, 0.9738560319450598, -0.451621107940339, 1.258206993496081, -0.5246405435883648, 0.7202535805908966, 0.2473480789820883, -1.0808258434385758, -0.10729158726169893, -1.8429497353902775, 0.37677638524818696, 0.9340574794462572, 0.594786084820459, 0.0031055629632219086, -0.8872625988730557, 2.0629264388795066, 0.2000416837259496, 0.5839869034838178, -2.1171149617801857], \"xaxis\": \"x16\", \"yaxis\": \"y16\"}],                        {\"bargap\": 0.02, \"legend\": {\"bgcolor\": \"#F5F6F9\", \"font\": {\"color\": \"#4D5663\"}}, \"paper_bgcolor\": \"#F5F6F9\", \"plot_bgcolor\": \"#F5F6F9\", \"showlegend\": false, \"template\": {\"data\": {\"bar\": [{\"error_x\": {\"color\": \"#2a3f5f\"}, \"error_y\": {\"color\": \"#2a3f5f\"}, \"marker\": {\"line\": {\"color\": \"#E5ECF6\", \"width\": 0.5}}, \"type\": \"bar\"}], \"barpolar\": [{\"marker\": {\"line\": {\"color\": \"#E5ECF6\", \"width\": 0.5}}, \"type\": \"barpolar\"}], \"carpet\": [{\"aaxis\": {\"endlinecolor\": \"#2a3f5f\", \"gridcolor\": \"white\", \"linecolor\": \"white\", \"minorgridcolor\": \"white\", \"startlinecolor\": \"#2a3f5f\"}, \"baxis\": {\"endlinecolor\": \"#2a3f5f\", \"gridcolor\": \"white\", \"linecolor\": \"white\", \"minorgridcolor\": \"white\", \"startlinecolor\": \"#2a3f5f\"}, \"type\": \"carpet\"}], \"choropleth\": [{\"colorbar\": {\"outlinewidth\": 0, \"ticks\": \"\"}, \"type\": \"choropleth\"}], \"contour\": [{\"colorbar\": {\"outlinewidth\": 0, \"ticks\": \"\"}, \"colorscale\": [[0.0, \"#0d0887\"], [0.1111111111111111, \"#46039f\"], [0.2222222222222222, \"#7201a8\"], [0.3333333333333333, \"#9c179e\"], [0.4444444444444444, \"#bd3786\"], [0.5555555555555556, \"#d8576b\"], [0.6666666666666666, \"#ed7953\"], [0.7777777777777778, \"#fb9f3a\"], [0.8888888888888888, \"#fdca26\"], [1.0, \"#f0f921\"]], \"type\": \"contour\"}], \"contourcarpet\": [{\"colorbar\": {\"outlinewidth\": 0, \"ticks\": \"\"}, \"type\": \"contourcarpet\"}], \"heatmap\": [{\"colorbar\": {\"outlinewidth\": 0, \"ticks\": \"\"}, \"colorscale\": [[0.0, \"#0d0887\"], [0.1111111111111111, \"#46039f\"], [0.2222222222222222, \"#7201a8\"], [0.3333333333333333, \"#9c179e\"], [0.4444444444444444, \"#bd3786\"], [0.5555555555555556, \"#d8576b\"], [0.6666666666666666, \"#ed7953\"], [0.7777777777777778, \"#fb9f3a\"], [0.8888888888888888, \"#fdca26\"], [1.0, \"#f0f921\"]], \"type\": \"heatmap\"}], \"heatmapgl\": [{\"colorbar\": {\"outlinewidth\": 0, \"ticks\": \"\"}, \"colorscale\": [[0.0, \"#0d0887\"], [0.1111111111111111, \"#46039f\"], [0.2222222222222222, \"#7201a8\"], [0.3333333333333333, \"#9c179e\"], [0.4444444444444444, \"#bd3786\"], [0.5555555555555556, \"#d8576b\"], [0.6666666666666666, \"#ed7953\"], [0.7777777777777778, \"#fb9f3a\"], [0.8888888888888888, \"#fdca26\"], [1.0, \"#f0f921\"]], \"type\": \"heatmapgl\"}], \"histogram\": [{\"marker\": {\"colorbar\": {\"outlinewidth\": 0, \"ticks\": \"\"}}, \"type\": \"histogram\"}], \"histogram2d\": [{\"colorbar\": {\"outlinewidth\": 0, \"ticks\": \"\"}, \"colorscale\": [[0.0, \"#0d0887\"], [0.1111111111111111, \"#46039f\"], [0.2222222222222222, \"#7201a8\"], [0.3333333333333333, \"#9c179e\"], [0.4444444444444444, \"#bd3786\"], [0.5555555555555556, \"#d8576b\"], [0.6666666666666666, \"#ed7953\"], [0.7777777777777778, \"#fb9f3a\"], [0.8888888888888888, \"#fdca26\"], [1.0, \"#f0f921\"]], \"type\": \"histogram2d\"}], \"histogram2dcontour\": [{\"colorbar\": {\"outlinewidth\": 0, \"ticks\": \"\"}, \"colorscale\": [[0.0, \"#0d0887\"], [0.1111111111111111, \"#46039f\"], [0.2222222222222222, \"#7201a8\"], [0.3333333333333333, \"#9c179e\"], [0.4444444444444444, \"#bd3786\"], [0.5555555555555556, \"#d8576b\"], [0.6666666666666666, \"#ed7953\"], [0.7777777777777778, \"#fb9f3a\"], [0.8888888888888888, \"#fdca26\"], [1.0, \"#f0f921\"]], \"type\": \"histogram2dcontour\"}], \"mesh3d\": [{\"colorbar\": {\"outlinewidth\": 0, \"ticks\": \"\"}, \"type\": \"mesh3d\"}], \"parcoords\": [{\"line\": {\"colorbar\": {\"outlinewidth\": 0, \"ticks\": \"\"}}, \"type\": \"parcoords\"}], \"pie\": [{\"automargin\": true, \"type\": \"pie\"}], \"scatter\": [{\"marker\": {\"colorbar\": {\"outlinewidth\": 0, \"ticks\": \"\"}}, \"type\": \"scatter\"}], \"scatter3d\": [{\"line\": {\"colorbar\": {\"outlinewidth\": 0, \"ticks\": \"\"}}, \"marker\": {\"colorbar\": {\"outlinewidth\": 0, \"ticks\": \"\"}}, \"type\": \"scatter3d\"}], \"scattercarpet\": [{\"marker\": {\"colorbar\": {\"outlinewidth\": 0, \"ticks\": \"\"}}, \"type\": \"scattercarpet\"}], \"scattergeo\": [{\"marker\": {\"colorbar\": {\"outlinewidth\": 0, \"ticks\": \"\"}}, \"type\": \"scattergeo\"}], \"scattergl\": [{\"marker\": {\"colorbar\": {\"outlinewidth\": 0, \"ticks\": \"\"}}, \"type\": \"scattergl\"}], \"scattermapbox\": [{\"marker\": {\"colorbar\": {\"outlinewidth\": 0, \"ticks\": \"\"}}, \"type\": \"scattermapbox\"}], \"scatterpolar\": [{\"marker\": {\"colorbar\": {\"outlinewidth\": 0, \"ticks\": \"\"}}, \"type\": \"scatterpolar\"}], \"scatterpolargl\": [{\"marker\": {\"colorbar\": {\"outlinewidth\": 0, \"ticks\": \"\"}}, \"type\": \"scatterpolargl\"}], \"scatterternary\": [{\"marker\": {\"colorbar\": {\"outlinewidth\": 0, \"ticks\": \"\"}}, \"type\": \"scatterternary\"}], \"surface\": [{\"colorbar\": {\"outlinewidth\": 0, \"ticks\": \"\"}, \"colorscale\": [[0.0, \"#0d0887\"], [0.1111111111111111, \"#46039f\"], [0.2222222222222222, \"#7201a8\"], [0.3333333333333333, \"#9c179e\"], [0.4444444444444444, \"#bd3786\"], [0.5555555555555556, \"#d8576b\"], [0.6666666666666666, \"#ed7953\"], [0.7777777777777778, \"#fb9f3a\"], [0.8888888888888888, \"#fdca26\"], [1.0, \"#f0f921\"]], \"type\": \"surface\"}], \"table\": [{\"cells\": {\"fill\": {\"color\": \"#EBF0F8\"}, \"line\": {\"color\": \"white\"}}, \"header\": {\"fill\": {\"color\": \"#C8D4E3\"}, \"line\": {\"color\": \"white\"}}, \"type\": \"table\"}]}, \"layout\": {\"annotationdefaults\": {\"arrowcolor\": \"#2a3f5f\", \"arrowhead\": 0, \"arrowwidth\": 1}, \"autotypenumbers\": \"strict\", \"coloraxis\": {\"colorbar\": {\"outlinewidth\": 0, \"ticks\": \"\"}}, \"colorscale\": {\"diverging\": [[0, \"#8e0152\"], [0.1, \"#c51b7d\"], [0.2, \"#de77ae\"], [0.3, \"#f1b6da\"], [0.4, \"#fde0ef\"], [0.5, \"#f7f7f7\"], [0.6, \"#e6f5d0\"], [0.7, \"#b8e186\"], [0.8, \"#7fbc41\"], [0.9, \"#4d9221\"], [1, \"#276419\"]], \"sequential\": [[0.0, \"#0d0887\"], [0.1111111111111111, \"#46039f\"], [0.2222222222222222, \"#7201a8\"], [0.3333333333333333, \"#9c179e\"], [0.4444444444444444, \"#bd3786\"], [0.5555555555555556, \"#d8576b\"], [0.6666666666666666, \"#ed7953\"], [0.7777777777777778, \"#fb9f3a\"], [0.8888888888888888, \"#fdca26\"], [1.0, \"#f0f921\"]], \"sequentialminus\": [[0.0, \"#0d0887\"], [0.1111111111111111, \"#46039f\"], [0.2222222222222222, \"#7201a8\"], [0.3333333333333333, \"#9c179e\"], [0.4444444444444444, \"#bd3786\"], [0.5555555555555556, \"#d8576b\"], [0.6666666666666666, \"#ed7953\"], [0.7777777777777778, \"#fb9f3a\"], [0.8888888888888888, \"#fdca26\"], [1.0, \"#f0f921\"]]}, \"colorway\": [\"#636efa\", \"#EF553B\", \"#00cc96\", \"#ab63fa\", \"#FFA15A\", \"#19d3f3\", \"#FF6692\", \"#B6E880\", \"#FF97FF\", \"#FECB52\"], \"font\": {\"color\": \"#2a3f5f\"}, \"geo\": {\"bgcolor\": \"white\", \"lakecolor\": \"white\", \"landcolor\": \"#E5ECF6\", \"showlakes\": true, \"showland\": true, \"subunitcolor\": \"white\"}, \"hoverlabel\": {\"align\": \"left\"}, \"hovermode\": \"closest\", \"mapbox\": {\"style\": \"light\"}, \"paper_bgcolor\": \"white\", \"plot_bgcolor\": \"#E5ECF6\", \"polar\": {\"angularaxis\": {\"gridcolor\": \"white\", \"linecolor\": \"white\", \"ticks\": \"\"}, \"bgcolor\": \"#E5ECF6\", \"radialaxis\": {\"gridcolor\": \"white\", \"linecolor\": \"white\", \"ticks\": \"\"}}, \"scene\": {\"xaxis\": {\"backgroundcolor\": \"#E5ECF6\", \"gridcolor\": \"white\", \"gridwidth\": 2, \"linecolor\": \"white\", \"showbackground\": true, \"ticks\": \"\", \"zerolinecolor\": \"white\"}, \"yaxis\": {\"backgroundcolor\": \"#E5ECF6\", \"gridcolor\": \"white\", \"gridwidth\": 2, \"linecolor\": \"white\", \"showbackground\": true, \"ticks\": \"\", \"zerolinecolor\": \"white\"}, \"zaxis\": {\"backgroundcolor\": \"#E5ECF6\", \"gridcolor\": \"white\", \"gridwidth\": 2, \"linecolor\": \"white\", \"showbackground\": true, \"ticks\": \"\", \"zerolinecolor\": \"white\"}}, \"shapedefaults\": {\"line\": {\"color\": \"#2a3f5f\"}}, \"ternary\": {\"aaxis\": {\"gridcolor\": \"white\", \"linecolor\": \"white\", \"ticks\": \"\"}, \"baxis\": {\"gridcolor\": \"white\", \"linecolor\": \"white\", \"ticks\": \"\"}, \"bgcolor\": \"#E5ECF6\", \"caxis\": {\"gridcolor\": \"white\", \"linecolor\": \"white\", \"ticks\": \"\"}}, \"title\": {\"x\": 0.05}, \"xaxis\": {\"automargin\": true, \"gridcolor\": \"white\", \"linecolor\": \"white\", \"ticks\": \"\", \"title\": {\"standoff\": 15}, \"zerolinecolor\": \"white\", \"zerolinewidth\": 2}, \"yaxis\": {\"automargin\": true, \"gridcolor\": \"white\", \"linecolor\": \"white\", \"ticks\": \"\", \"title\": {\"standoff\": 15}, \"zerolinecolor\": \"white\", \"zerolinewidth\": 2}}}, \"title\": {\"font\": {\"color\": \"#4D5663\"}}, \"xaxis\": {\"anchor\": \"y\", \"domain\": [0.0, 0.2125], \"gridcolor\": \"#E1E5ED\", \"showgrid\": false, \"tickfont\": {\"color\": \"#4D5663\"}, \"title\": {\"font\": {\"color\": \"#4D5663\"}, \"text\": \"\"}, \"zerolinecolor\": \"#E1E5ED\"}, \"xaxis10\": {\"anchor\": \"y10\", \"domain\": [0.2625, 0.475], \"gridcolor\": \"#E1E5ED\", \"showgrid\": false, \"tickfont\": {\"color\": \"#4D5663\"}, \"title\": {\"font\": {\"color\": \"#4D5663\"}, \"text\": \"\"}, \"zerolinecolor\": \"#E1E5ED\"}, \"xaxis11\": {\"anchor\": \"y11\", \"domain\": [0.525, 0.7375], \"gridcolor\": \"#E1E5ED\", \"showgrid\": false, \"tickfont\": {\"color\": \"#4D5663\"}, \"title\": {\"font\": {\"color\": \"#4D5663\"}, \"text\": \"\"}, \"zerolinecolor\": \"#E1E5ED\"}, \"xaxis12\": {\"anchor\": \"y12\", \"domain\": [0.7875, 1.0], \"gridcolor\": \"#E1E5ED\", \"showgrid\": false, \"tickfont\": {\"color\": \"#4D5663\"}, \"title\": {\"font\": {\"color\": \"#4D5663\"}, \"text\": \"\"}, \"zerolinecolor\": \"#E1E5ED\"}, \"xaxis13\": {\"anchor\": \"y13\", \"domain\": [0.0, 0.2125], \"gridcolor\": \"#E1E5ED\", \"showgrid\": false, \"tickfont\": {\"color\": \"#4D5663\"}, \"title\": {\"font\": {\"color\": \"#4D5663\"}, \"text\": \"\"}, \"zerolinecolor\": \"#E1E5ED\"}, \"xaxis14\": {\"anchor\": \"y14\", \"domain\": [0.2625, 0.475], \"gridcolor\": \"#E1E5ED\", \"showgrid\": false, \"tickfont\": {\"color\": \"#4D5663\"}, \"title\": {\"font\": {\"color\": \"#4D5663\"}, \"text\": \"\"}, \"zerolinecolor\": \"#E1E5ED\"}, \"xaxis15\": {\"anchor\": \"y15\", \"domain\": [0.525, 0.7375], \"gridcolor\": \"#E1E5ED\", \"showgrid\": false, \"tickfont\": {\"color\": \"#4D5663\"}, \"title\": {\"font\": {\"color\": \"#4D5663\"}, \"text\": \"\"}, \"zerolinecolor\": \"#E1E5ED\"}, \"xaxis16\": {\"anchor\": \"y16\", \"domain\": [0.7875, 1.0], \"gridcolor\": \"#E1E5ED\", \"showgrid\": false, \"tickfont\": {\"color\": \"#4D5663\"}, \"title\": {\"font\": {\"color\": \"#4D5663\"}, \"text\": \"\"}, \"zerolinecolor\": \"#E1E5ED\"}, \"xaxis2\": {\"anchor\": \"y2\", \"domain\": [0.2625, 0.475], \"gridcolor\": \"#E1E5ED\", \"showgrid\": false, \"tickfont\": {\"color\": \"#4D5663\"}, \"title\": {\"font\": {\"color\": \"#4D5663\"}, \"text\": \"\"}, \"zerolinecolor\": \"#E1E5ED\"}, \"xaxis3\": {\"anchor\": \"y3\", \"domain\": [0.525, 0.7375], \"gridcolor\": \"#E1E5ED\", \"showgrid\": false, \"tickfont\": {\"color\": \"#4D5663\"}, \"title\": {\"font\": {\"color\": \"#4D5663\"}, \"text\": \"\"}, \"zerolinecolor\": \"#E1E5ED\"}, \"xaxis4\": {\"anchor\": \"y4\", \"domain\": [0.7875, 1.0], \"gridcolor\": \"#E1E5ED\", \"showgrid\": false, \"tickfont\": {\"color\": \"#4D5663\"}, \"title\": {\"font\": {\"color\": \"#4D5663\"}, \"text\": \"\"}, \"zerolinecolor\": \"#E1E5ED\"}, \"xaxis5\": {\"anchor\": \"y5\", \"domain\": [0.0, 0.2125], \"gridcolor\": \"#E1E5ED\", \"showgrid\": false, \"tickfont\": {\"color\": \"#4D5663\"}, \"title\": {\"font\": {\"color\": \"#4D5663\"}, \"text\": \"\"}, \"zerolinecolor\": \"#E1E5ED\"}, \"xaxis6\": {\"anchor\": \"y6\", \"domain\": [0.2625, 0.475], \"gridcolor\": \"#E1E5ED\", \"showgrid\": false, \"tickfont\": {\"color\": \"#4D5663\"}, \"title\": {\"font\": {\"color\": \"#4D5663\"}, \"text\": \"\"}, \"zerolinecolor\": \"#E1E5ED\"}, \"xaxis7\": {\"anchor\": \"y7\", \"domain\": [0.525, 0.7375], \"gridcolor\": \"#E1E5ED\", \"showgrid\": false, \"tickfont\": {\"color\": \"#4D5663\"}, \"title\": {\"font\": {\"color\": \"#4D5663\"}, \"text\": \"\"}, \"zerolinecolor\": \"#E1E5ED\"}, \"xaxis8\": {\"anchor\": \"y8\", \"domain\": [0.7875, 1.0], \"gridcolor\": \"#E1E5ED\", \"showgrid\": false, \"tickfont\": {\"color\": \"#4D5663\"}, \"title\": {\"font\": {\"color\": \"#4D5663\"}, \"text\": \"\"}, \"zerolinecolor\": \"#E1E5ED\"}, \"xaxis9\": {\"anchor\": \"y9\", \"domain\": [0.0, 0.2125], \"gridcolor\": \"#E1E5ED\", \"showgrid\": false, \"tickfont\": {\"color\": \"#4D5663\"}, \"title\": {\"font\": {\"color\": \"#4D5663\"}, \"text\": \"\"}, \"zerolinecolor\": \"#E1E5ED\"}, \"yaxis\": {\"anchor\": \"x\", \"domain\": [0.8025, 1.0], \"gridcolor\": \"#E1E5ED\", \"showgrid\": false, \"tickfont\": {\"color\": \"#4D5663\"}, \"title\": {\"font\": {\"color\": \"#4D5663\"}, \"text\": \"\"}, \"zerolinecolor\": \"#E1E5ED\"}, \"yaxis10\": {\"anchor\": \"x10\", \"domain\": [0.2675, 0.465], \"gridcolor\": \"#E1E5ED\", \"showgrid\": false, \"tickfont\": {\"color\": \"#4D5663\"}, \"title\": {\"font\": {\"color\": \"#4D5663\"}, \"text\": \"\"}, \"zerolinecolor\": \"#E1E5ED\"}, \"yaxis11\": {\"anchor\": \"x11\", \"domain\": [0.2675, 0.465], \"gridcolor\": \"#E1E5ED\", \"showgrid\": false, \"tickfont\": {\"color\": \"#4D5663\"}, \"title\": {\"font\": {\"color\": \"#4D5663\"}, \"text\": \"\"}, \"zerolinecolor\": \"#E1E5ED\"}, \"yaxis12\": {\"anchor\": \"x12\", \"domain\": [0.2675, 0.465], \"gridcolor\": \"#E1E5ED\", \"showgrid\": false, \"tickfont\": {\"color\": \"#4D5663\"}, \"title\": {\"font\": {\"color\": \"#4D5663\"}, \"text\": \"\"}, \"zerolinecolor\": \"#E1E5ED\"}, \"yaxis13\": {\"anchor\": \"x13\", \"domain\": [0.0, 0.1975], \"gridcolor\": \"#E1E5ED\", \"showgrid\": false, \"tickfont\": {\"color\": \"#4D5663\"}, \"title\": {\"font\": {\"color\": \"#4D5663\"}, \"text\": \"\"}, \"zerolinecolor\": \"#E1E5ED\"}, \"yaxis14\": {\"anchor\": \"x14\", \"domain\": [0.0, 0.1975], \"gridcolor\": \"#E1E5ED\", \"showgrid\": false, \"tickfont\": {\"color\": \"#4D5663\"}, \"title\": {\"font\": {\"color\": \"#4D5663\"}, \"text\": \"\"}, \"zerolinecolor\": \"#E1E5ED\"}, \"yaxis15\": {\"anchor\": \"x15\", \"domain\": [0.0, 0.1975], \"gridcolor\": \"#E1E5ED\", \"showgrid\": false, \"tickfont\": {\"color\": \"#4D5663\"}, \"title\": {\"font\": {\"color\": \"#4D5663\"}, \"text\": \"\"}, \"zerolinecolor\": \"#E1E5ED\"}, \"yaxis16\": {\"anchor\": \"x16\", \"domain\": [0.0, 0.1975], \"gridcolor\": \"#E1E5ED\", \"showgrid\": false, \"tickfont\": {\"color\": \"#4D5663\"}, \"title\": {\"font\": {\"color\": \"#4D5663\"}, \"text\": \"\"}, \"zerolinecolor\": \"#E1E5ED\"}, \"yaxis2\": {\"anchor\": \"x2\", \"domain\": [0.8025, 1.0], \"gridcolor\": \"#E1E5ED\", \"showgrid\": false, \"tickfont\": {\"color\": \"#4D5663\"}, \"title\": {\"font\": {\"color\": \"#4D5663\"}, \"text\": \"\"}, \"zerolinecolor\": \"#E1E5ED\"}, \"yaxis3\": {\"anchor\": \"x3\", \"domain\": [0.8025, 1.0], \"gridcolor\": \"#E1E5ED\", \"showgrid\": false, \"tickfont\": {\"color\": \"#4D5663\"}, \"title\": {\"font\": {\"color\": \"#4D5663\"}, \"text\": \"\"}, \"zerolinecolor\": \"#E1E5ED\"}, \"yaxis4\": {\"anchor\": \"x4\", \"domain\": [0.8025, 1.0], \"gridcolor\": \"#E1E5ED\", \"showgrid\": false, \"tickfont\": {\"color\": \"#4D5663\"}, \"title\": {\"font\": {\"color\": \"#4D5663\"}, \"text\": \"\"}, \"zerolinecolor\": \"#E1E5ED\"}, \"yaxis5\": {\"anchor\": \"x5\", \"domain\": [0.535, 0.7325], \"gridcolor\": \"#E1E5ED\", \"showgrid\": false, \"tickfont\": {\"color\": \"#4D5663\"}, \"title\": {\"font\": {\"color\": \"#4D5663\"}, \"text\": \"\"}, \"zerolinecolor\": \"#E1E5ED\"}, \"yaxis6\": {\"anchor\": \"x6\", \"domain\": [0.535, 0.7325], \"gridcolor\": \"#E1E5ED\", \"showgrid\": false, \"tickfont\": {\"color\": \"#4D5663\"}, \"title\": {\"font\": {\"color\": \"#4D5663\"}, \"text\": \"\"}, \"zerolinecolor\": \"#E1E5ED\"}, \"yaxis7\": {\"anchor\": \"x7\", \"domain\": [0.535, 0.7325], \"gridcolor\": \"#E1E5ED\", \"showgrid\": false, \"tickfont\": {\"color\": \"#4D5663\"}, \"title\": {\"font\": {\"color\": \"#4D5663\"}, \"text\": \"\"}, \"zerolinecolor\": \"#E1E5ED\"}, \"yaxis8\": {\"anchor\": \"x8\", \"domain\": [0.535, 0.7325], \"gridcolor\": \"#E1E5ED\", \"showgrid\": false, \"tickfont\": {\"color\": \"#4D5663\"}, \"title\": {\"font\": {\"color\": \"#4D5663\"}, \"text\": \"\"}, \"zerolinecolor\": \"#E1E5ED\"}, \"yaxis9\": {\"anchor\": \"x9\", \"domain\": [0.2675, 0.465], \"gridcolor\": \"#E1E5ED\", \"showgrid\": false, \"tickfont\": {\"color\": \"#4D5663\"}, \"title\": {\"font\": {\"color\": \"#4D5663\"}, \"text\": \"\"}, \"zerolinecolor\": \"#E1E5ED\"}},                        {\"showLink\": true, \"linkText\": \"Export to plot.ly\", \"plotlyServerURL\": \"https://plot.ly\", \"responsive\": true}                    ).then(function(){\n",
       "                            \n",
       "var gd = document.getElementById('09bb714c-0bdf-45ea-9661-e9c6f6fc28cc');\n",
       "var x = new MutationObserver(function (mutations, observer) {{\n",
       "        var display = window.getComputedStyle(gd).display;\n",
       "        if (!display || display === 'none') {{\n",
       "            console.log([gd, 'removed!']);\n",
       "            Plotly.purge(gd);\n",
       "            observer.disconnect();\n",
       "        }}\n",
       "}});\n",
       "\n",
       "// Listen for the removal of the full notebook cells\n",
       "var notebookContainer = gd.closest('#notebook-container');\n",
       "if (notebookContainer) {{\n",
       "    x.observe(notebookContainer, {childList: true});\n",
       "}}\n",
       "\n",
       "// Listen for the clearing of the current output cell\n",
       "var outputEl = gd.closest('.output');\n",
       "if (outputEl) {{\n",
       "    x.observe(outputEl, {childList: true});\n",
       "}}\n",
       "\n",
       "                        })                };                });            </script>        </div>"
      ]
     },
     "metadata": {},
     "output_type": "display_data"
    }
   ],
   "source": [
    "df.scatter_matrix()\n",
    "#all variables should be numerical"
   ]
  },
  {
   "cell_type": "code",
   "execution_count": null,
   "id": "a8b69b9c",
   "metadata": {},
   "outputs": [],
   "source": []
  }
 ],
 "metadata": {
  "kernelspec": {
   "display_name": "Python 3",
   "language": "python",
   "name": "python3"
  },
  "language_info": {
   "codemirror_mode": {
    "name": "ipython",
    "version": 3
   },
   "file_extension": ".py",
   "mimetype": "text/x-python",
   "name": "python",
   "nbconvert_exporter": "python",
   "pygments_lexer": "ipython3",
   "version": "3.8.8"
  }
 },
 "nbformat": 4,
 "nbformat_minor": 5
}
