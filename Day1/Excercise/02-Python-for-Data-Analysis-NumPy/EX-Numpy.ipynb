{
 "cells": [
  {
   "cell_type": "code",
   "execution_count": 1,
   "id": "11d34c88",
   "metadata": {},
   "outputs": [],
   "source": [
    "import numpy as np"
   ]
  },
  {
   "cell_type": "code",
   "execution_count": 2,
   "id": "1d24f57b",
   "metadata": {},
   "outputs": [],
   "source": [
    "array_3d = np.random.randint(1, 100, size=(3, 3, 3))"
   ]
  },
  {
   "cell_type": "code",
   "execution_count": 7,
   "id": "b4877aa4",
   "metadata": {},
   "outputs": [
    {
     "data": {
      "text/plain": [
       "(3, 3, 3)"
      ]
     },
     "execution_count": 7,
     "metadata": {},
     "output_type": "execute_result"
    }
   ],
   "source": [
    "array_3d.shape"
   ]
  },
  {
   "cell_type": "code",
   "execution_count": 8,
   "id": "a4cf2239",
   "metadata": {},
   "outputs": [
    {
     "data": {
      "text/plain": [
       "array([[[70, 43,  7],\n",
       "        [63, 66, 85],\n",
       "        [70,  6, 74]],\n",
       "\n",
       "       [[21, 90,  2],\n",
       "        [ 5, 45, 57],\n",
       "        [16, 58, 88]],\n",
       "\n",
       "       [[ 1, 38, 87],\n",
       "        [13, 14, 60],\n",
       "        [64, 64, 24]]])"
      ]
     },
     "execution_count": 8,
     "metadata": {},
     "output_type": "execute_result"
    }
   ],
   "source": [
    "array_3d"
   ]
  },
  {
   "cell_type": "code",
   "execution_count": 28,
   "id": "359a7d32",
   "metadata": {},
   "outputs": [
    {
     "data": {
      "text/plain": [
       "45"
      ]
     },
     "execution_count": 28,
     "metadata": {},
     "output_type": "execute_result"
    }
   ],
   "source": [
    "array_3d[1][1][1]"
   ]
  },
  {
   "cell_type": "code",
   "execution_count": 30,
   "id": "3f6a6e3a",
   "metadata": {},
   "outputs": [
    {
     "data": {
      "text/plain": [
       "13"
      ]
     },
     "execution_count": 30,
     "metadata": {},
     "output_type": "execute_result"
    }
   ],
   "source": [
    "array_3d[2][1][0]"
   ]
  },
  {
   "cell_type": "code",
   "execution_count": 15,
   "id": "3c6482a9",
   "metadata": {},
   "outputs": [],
   "source": [
    "a=np.eye(5)*5\n",
    "b =np.triu(a)+1"
   ]
  },
  {
   "cell_type": "code",
   "execution_count": 35,
   "id": "fd8bb1c3",
   "metadata": {},
   "outputs": [
    {
     "data": {
      "text/plain": [
       "array([[5., 1., 1., 1., 1.],\n",
       "       [0., 5., 1., 1., 1.],\n",
       "       [0., 0., 5., 1., 1.],\n",
       "       [0., 0., 0., 5., 1.],\n",
       "       [0., 0., 0., 0., 5.]])"
      ]
     },
     "execution_count": 35,
     "metadata": {},
     "output_type": "execute_result"
    }
   ],
   "source": [
    "b=np.triu(np.ones((5,5)),k=1)\n",
    "a+=b\n",
    "a"
   ]
  },
  {
   "cell_type": "code",
   "execution_count": 25,
   "id": "b2db0fd7",
   "metadata": {},
   "outputs": [],
   "source": [
    "matrix=np.eye(5)*5"
   ]
  },
  {
   "cell_type": "code",
   "execution_count": 36,
   "id": "a4f4538b",
   "metadata": {},
   "outputs": [],
   "source": [
    "for i in range(5):\n",
    "    for j in range(i+1, 5):\n",
    "        matrix[i, j] = 1\n",
    "        #print(i,j)"
   ]
  },
  {
   "cell_type": "code",
   "execution_count": 27,
   "id": "4be02411",
   "metadata": {},
   "outputs": [
    {
     "data": {
      "text/plain": [
       "array([[5., 1., 1., 1., 1.],\n",
       "       [0., 5., 1., 1., 1.],\n",
       "       [0., 0., 5., 1., 1.],\n",
       "       [0., 0., 0., 5., 1.],\n",
       "       [0., 0., 0., 0., 5.]])"
      ]
     },
     "execution_count": 27,
     "metadata": {},
     "output_type": "execute_result"
    }
   ],
   "source": [
    "matrix"
   ]
  },
  {
   "cell_type": "code",
   "execution_count": null,
   "id": "78da54c2",
   "metadata": {},
   "outputs": [],
   "source": []
  }
 ],
 "metadata": {
  "kernelspec": {
   "display_name": "Python 3",
   "language": "python",
   "name": "python3"
  },
  "language_info": {
   "codemirror_mode": {
    "name": "ipython",
    "version": 3
   },
   "file_extension": ".py",
   "mimetype": "text/x-python",
   "name": "python",
   "nbconvert_exporter": "python",
   "pygments_lexer": "ipython3",
   "version": "3.8.8"
  }
 },
 "nbformat": 4,
 "nbformat_minor": 5
}
