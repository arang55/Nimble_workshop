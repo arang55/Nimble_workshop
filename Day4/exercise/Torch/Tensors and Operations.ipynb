{
 "cells": [
  {
   "cell_type": "code",
   "execution_count": 1,
   "metadata": {},
   "outputs": [],
   "source": [
    "import torch"
   ]
  },
  {
   "cell_type": "markdown",
   "metadata": {},
   "source": [
    "# Torch Tensors"
   ]
  },
  {
   "cell_type": "code",
   "execution_count": 2,
   "metadata": {},
   "outputs": [
    {
     "name": "stdout",
     "output_type": "stream",
     "text": [
      "tensor([2, 2, 1])\n"
     ]
    }
   ],
   "source": [
    "#This is a 1-D Tensor\n",
    "a = torch.tensor([2,2,1])\n",
    "print(a)"
   ]
  },
  {
   "cell_type": "code",
   "execution_count": 3,
   "metadata": {},
   "outputs": [
    {
     "name": "stdout",
     "output_type": "stream",
     "text": [
      "tensor([[2, 1, 4],\n",
      "        [3, 5, 4],\n",
      "        [1, 2, 0],\n",
      "        [4, 3, 2]])\n"
     ]
    }
   ],
   "source": [
    "#This is a 2-D Tensor\n",
    "b = torch.tensor([[2,1,4],[3,5,4],[1,2,0],[4,3,2]])\n",
    "print(b)"
   ]
  },
  {
   "cell_type": "code",
   "execution_count": 4,
   "metadata": {},
   "outputs": [
    {
     "name": "stdout",
     "output_type": "stream",
     "text": [
      "torch.Size([3])\n",
      "torch.Size([4, 3])\n",
      "torch.Size([3])\n",
      "torch.Size([4, 3])\n"
     ]
    }
   ],
   "source": [
    "#The size of the tensors\n",
    "print(a.shape)\n",
    "print(b.shape)\n",
    "print(a.size())\n",
    "print(b.size())"
   ]
  },
  {
   "cell_type": "code",
   "execution_count": 5,
   "metadata": {},
   "outputs": [
    {
     "name": "stdout",
     "output_type": "stream",
     "text": [
      "4\n"
     ]
    }
   ],
   "source": [
    "#Get the height/number of rows of b\n",
    "print(b.shape[0])"
   ]
  },
  {
   "cell_type": "code",
   "execution_count": 6,
   "metadata": {},
   "outputs": [],
   "source": [
    "c = torch.FloatTensor([[2,1,4],[3,5,4],[1,2,0],[4,3,2]])\n",
    "#or we can do\n",
    "#c = torch.tensor([2,2,1], dtype = torch.float)"
   ]
  },
  {
   "cell_type": "code",
   "execution_count": 7,
   "metadata": {},
   "outputs": [],
   "source": [
    "d = torch.DoubleTensor([[2,1,4],[3,5,4],[1,2,0],[4,3,2]])\n",
    "#or we can do\n",
    "#d = torch.tensor([2,2,1], dtype = torch.double)"
   ]
  },
  {
   "cell_type": "code",
   "execution_count": 8,
   "metadata": {},
   "outputs": [
    {
     "name": "stdout",
     "output_type": "stream",
     "text": [
      "tensor([[2., 1., 4.],\n",
      "        [3., 5., 4.],\n",
      "        [1., 2., 0.],\n",
      "        [4., 3., 2.]])\n",
      "torch.float32\n"
     ]
    }
   ],
   "source": [
    "print(c)\n",
    "print(c.dtype)"
   ]
  },
  {
   "cell_type": "code",
   "execution_count": 9,
   "metadata": {},
   "outputs": [
    {
     "name": "stdout",
     "output_type": "stream",
     "text": [
      "tensor([[2., 1., 4.],\n",
      "        [3., 5., 4.],\n",
      "        [1., 2., 0.],\n",
      "        [4., 3., 2.]], dtype=torch.float64)\n",
      "torch.float64\n"
     ]
    }
   ],
   "source": [
    "print(d)\n",
    "print(d.dtype)"
   ]
  },
  {
   "cell_type": "code",
   "execution_count": 10,
   "metadata": {},
   "outputs": [
    {
     "name": "stdout",
     "output_type": "stream",
     "text": [
      "tensor(2.5833)\n"
     ]
    }
   ],
   "source": [
    "print(c.mean())"
   ]
  },
  {
   "cell_type": "code",
   "execution_count": 11,
   "metadata": {},
   "outputs": [
    {
     "name": "stdout",
     "output_type": "stream",
     "text": [
      "tensor(2.5833, dtype=torch.float64)\n"
     ]
    }
   ],
   "source": [
    "print(d.mean())"
   ]
  },
  {
   "cell_type": "code",
   "execution_count": 12,
   "metadata": {},
   "outputs": [
    {
     "name": "stdout",
     "output_type": "stream",
     "text": [
      "tensor(1.5050)\n"
     ]
    }
   ],
   "source": [
    "print(c.std())"
   ]
  },
  {
   "cell_type": "code",
   "execution_count": 13,
   "metadata": {},
   "outputs": [
    {
     "name": "stdout",
     "output_type": "stream",
     "text": [
      "tensor(1.5050, dtype=torch.float64)\n"
     ]
    }
   ],
   "source": [
    "print(d.std())"
   ]
  },
  {
   "cell_type": "code",
   "execution_count": 14,
   "metadata": {},
   "outputs": [
    {
     "name": "stdout",
     "output_type": "stream",
     "text": [
      "tensor([[2],\n",
      "        [1],\n",
      "        [4],\n",
      "        [3],\n",
      "        [5],\n",
      "        [4],\n",
      "        [1],\n",
      "        [2],\n",
      "        [0],\n",
      "        [4],\n",
      "        [3],\n",
      "        [2]])\n",
      "tensor([2, 1, 4, 3, 5, 4, 1, 2, 0, 4, 3, 2])\n",
      "tensor([[2, 1, 4, 3],\n",
      "        [5, 4, 1, 2],\n",
      "        [0, 4, 3, 2]])\n",
      "tensor([[2, 1, 4, 3],\n",
      "        [5, 4, 1, 2],\n",
      "        [0, 4, 3, 2]])\n",
      "tensor([[2, 1, 4, 3, 5, 4, 1, 2, 0, 4, 3, 2]])\n",
      "torch.Size([1, 12])\n",
      "\n",
      "\n",
      "\n",
      "\n",
      "tensor([[[ 0.9248,  0.0146,  1.4791,  0.3194],\n",
      "         [-0.9543, -1.2573, -0.0661,  2.0477],\n",
      "         [-0.6474, -1.4634,  0.4326,  0.2932]],\n",
      "\n",
      "        [[ 0.5918,  0.6143,  0.3723, -0.4365],\n",
      "         [ 0.1471,  0.0219, -1.5293,  0.6783],\n",
      "         [-0.3963,  1.1156, -1.2724,  0.0129]]])\n",
      "tensor([[ 0.9248,  0.0146,  1.4791,  0.3194, -0.9543, -1.2573, -0.0661,  2.0477,\n",
      "         -0.6474, -1.4634,  0.4326,  0.2932],\n",
      "        [ 0.5918,  0.6143,  0.3723, -0.4365,  0.1471,  0.0219, -1.5293,  0.6783,\n",
      "         -0.3963,  1.1156, -1.2724,  0.0129]])\n",
      "tensor([[ 0.9248,  0.0146,  1.4791,  0.3194, -0.9543, -1.2573, -0.0661,  2.0477,\n",
      "         -0.6474, -1.4634,  0.4326,  0.2932],\n",
      "        [ 0.5918,  0.6143,  0.3723, -0.4365,  0.1471,  0.0219, -1.5293,  0.6783,\n",
      "         -0.3963,  1.1156, -1.2724,  0.0129]])\n"
     ]
    }
   ],
   "source": [
    "#Reshape b\n",
    "#Note: If one of the dimensions is -1, its size can be inferred\n",
    "print(b.view(-1,1))\n",
    "print(b.view(12))\n",
    "print(b.view(-1,4))\n",
    "print(b.view(3,4))\n",
    "#Assign b a new shape\n",
    "b = b.view(1,-1)\n",
    "print(b)\n",
    "print(b.shape)\n",
    "#We can even reshape 3D tensors\n",
    "print('\\n')\n",
    "#Create a 3D Tensor with 2 channels, 3 rows and 4 columns (channles,rows,columns)\n",
    "three_dim = torch.randn(2, 3, 4)\n",
    "print('\\n')\n",
    "print(three_dim)\n",
    "print(three_dim.view(2, 12))  # Reshape to 2 rows, 12 columns\n",
    "print(three_dim.view(2, -1))"
   ]
  },
  {
   "cell_type": "code",
   "execution_count": 15,
   "metadata": {},
   "outputs": [
    {
     "name": "stdout",
     "output_type": "stream",
     "text": [
      "tensor([[0.3222, 0.1326, 0.8404, 0.2533],\n",
      "        [0.3567, 0.7565, 0.5073, 0.7585],\n",
      "        [0.4878, 0.5512, 0.4692, 0.8913],\n",
      "        [0.3840, 0.8769, 0.1602, 0.3395]])\n"
     ]
    }
   ],
   "source": [
    "#Create a matrix with random numbers between 0 and 1\n",
    "r = torch.rand(4,4)\n",
    "print(r)"
   ]
  },
  {
   "cell_type": "code",
   "execution_count": 16,
   "metadata": {},
   "outputs": [
    {
     "name": "stdout",
     "output_type": "stream",
     "text": [
      "tensor([[-1.2360,  0.4854,  0.8183,  1.8315],\n",
      "        [ 0.9923, -0.1418,  0.4098, -0.0297],\n",
      "        [ 0.6378, -0.5151,  1.3739, -1.2425],\n",
      "        [ 0.5994, -1.0358,  0.5867, -0.6930]])\n",
      "torch.float32\n"
     ]
    }
   ],
   "source": [
    "#Create a matrix with random numbers taken from a normal distribution with mean 0 and variance 1 \n",
    "r2 = torch.randn(4,4)\n",
    "print(r2)\n",
    "print(r2.dtype)"
   ]
  },
  {
   "cell_type": "code",
   "execution_count": 17,
   "metadata": {},
   "outputs": [
    {
     "name": "stdout",
     "output_type": "stream",
     "text": [
      "tensor([6, 7, 8, 6, 8])\n",
      "torch.int64\n"
     ]
    }
   ],
   "source": [
    "#Create an array of 5 random integers from values between 6 and 9 (exlusive of 10)\n",
    "in_array = torch.randint(6,10, (5,))\n",
    "print(in_array)\n",
    "print(in_array.dtype)"
   ]
  },
  {
   "cell_type": "code",
   "execution_count": 18,
   "metadata": {},
   "outputs": [
    {
     "name": "stdout",
     "output_type": "stream",
     "text": [
      "tensor([[7, 6, 8],\n",
      "        [7, 6, 9],\n",
      "        [7, 8, 9]])\n"
     ]
    }
   ],
   "source": [
    "#Create a 2-D array (or matrix) of size 3x3 filled with random integers from values between 6 and 9 (exlusive of 10)\n",
    "in_array2 = torch.randint(6,10, (3,3))\n",
    "print(in_array2)"
   ]
  },
  {
   "cell_type": "code",
   "execution_count": 19,
   "metadata": {},
   "outputs": [
    {
     "name": "stdout",
     "output_type": "stream",
     "text": [
      "5\n",
      "9\n"
     ]
    }
   ],
   "source": [
    "#Get the number of elemetns in in_array\n",
    "print(torch.numel(in_array))\n",
    "#Get the number of elemetns in in_array\n",
    "print(torch.numel(in_array2))"
   ]
  },
  {
   "cell_type": "code",
   "execution_count": 20,
   "metadata": {},
   "outputs": [
    {
     "name": "stdout",
     "output_type": "stream",
     "text": [
      "tensor([[0, 0, 0],\n",
      "        [0, 0, 0],\n",
      "        [0, 0, 0]])\n",
      "tensor([[1., 1., 1.],\n",
      "        [1., 1., 1.],\n",
      "        [1., 1., 1.]])\n",
      "torch.float32\n"
     ]
    }
   ],
   "source": [
    "#Construct a 3x3 matrix of zeros and of dtype long:\n",
    "z = torch.zeros(3, 3, dtype=torch.long)\n",
    "print(z)\n",
    "#Construct a 3x3 matrix of ones\n",
    "o = torch.ones(3,3)\n",
    "print(o)\n",
    "print(o.dtype)\n"
   ]
  },
  {
   "cell_type": "code",
   "execution_count": 21,
   "metadata": {},
   "outputs": [
    {
     "name": "stdout",
     "output_type": "stream",
     "text": [
      "tensor([[-0.5987,  0.9316,  0.3370,  0.3710],\n",
      "        [ 0.9851, -0.4191,  0.6417,  1.3545],\n",
      "        [-0.0324,  0.0604,  0.9274, -1.0014],\n",
      "        [ 0.4830, -1.0640,  0.0398, -0.2988]], dtype=torch.float64)\n"
     ]
    }
   ],
   "source": [
    "r2_like = torch.randn_like(r2, dtype=torch.double)    # Convert the data type of the tensor\n",
    "print(r2_like)"
   ]
  },
  {
   "cell_type": "code",
   "execution_count": 22,
   "metadata": {},
   "outputs": [
    {
     "name": "stdout",
     "output_type": "stream",
     "text": [
      "tensor([[-0.9137,  0.6180,  1.6586,  2.0848],\n",
      "        [ 1.3490,  0.6147,  0.9171,  0.7288],\n",
      "        [ 1.1256,  0.0361,  1.8431, -0.3512],\n",
      "        [ 0.9834, -0.1588,  0.7469, -0.3535]])\n"
     ]
    }
   ],
   "source": [
    "#Add two tensors, make sure they are the same size and data type\n",
    "add_result = torch.add(r,r2)\n",
    "print(add_result)"
   ]
  },
  {
   "cell_type": "code",
   "execution_count": 23,
   "metadata": {},
   "outputs": [
    {
     "name": "stdout",
     "output_type": "stream",
     "text": [
      "tensor([[-0.9137,  0.6180,  1.6586,  2.0848],\n",
      "        [ 1.3490,  0.6147,  0.9171,  0.7288],\n",
      "        [ 1.1256,  0.0361,  1.8431, -0.3512],\n",
      "        [ 0.9834, -0.1588,  0.7469, -0.3535]])\n"
     ]
    }
   ],
   "source": [
    "#In-place addition (change the value of r2)\n",
    "r2.add_(r)    \n",
    "print(r2)"
   ]
  },
  {
   "cell_type": "code",
   "execution_count": 24,
   "metadata": {},
   "outputs": [
    {
     "name": "stdout",
     "output_type": "stream",
     "text": [
      "tensor([ 0.6180,  0.6147,  0.0361, -0.1588])\n",
      "tensor([[-0.9137,  0.6180],\n",
      "        [ 1.3490,  0.6147],\n",
      "        [ 1.1256,  0.0361],\n",
      "        [ 0.9834, -0.1588]])\n",
      "tensor([[-0.9137,  0.6180,  1.6586,  2.0848],\n",
      "        [ 1.3490,  0.6147,  0.9171,  0.7288],\n",
      "        [ 1.1256,  0.0361,  1.8431, -0.3512]])\n",
      "tensor(-0.3512)\n",
      "-0.35124534368515015\n",
      "tensor([ 1.1256,  0.0361,  1.8431, -0.3512])\n"
     ]
    }
   ],
   "source": [
    "print(r2[:,1])\n",
    "print(r2[:,:2])\n",
    "print(r2[:3,:])\n",
    "num_ten = r2[2,3]\n",
    "print(num_ten)\n",
    "print(num_ten.item())\n",
    "print(r2[2,:])"
   ]
  },
  {
   "cell_type": "markdown",
   "metadata": {},
   "source": [
    "## Numpy Bridge"
   ]
  },
  {
   "cell_type": "code",
   "execution_count": 25,
   "metadata": {},
   "outputs": [],
   "source": [
    "import numpy as np"
   ]
  },
  {
   "cell_type": "code",
   "execution_count": 26,
   "metadata": {},
   "outputs": [
    {
     "name": "stdout",
     "output_type": "stream",
     "text": [
      "tensor([1., 1., 1., 1., 1.])\n",
      "[1. 1. 1. 1. 1.]\n",
      "tensor([2., 2., 2., 2., 2.])\n",
      "[2. 2. 2. 2. 2.]\n"
     ]
    }
   ],
   "source": [
    "#Converting a Torch Tensor to a NumPy Array\n",
    "a = torch.ones(5)\n",
    "print(a)\n",
    "b = a.numpy()\n",
    "print(b)\n",
    "#See how the numpy array changed their value.\n",
    "a.add_(1)\n",
    "print(a)\n",
    "print(b)"
   ]
  },
  {
   "cell_type": "code",
   "execution_count": 27,
   "metadata": {},
   "outputs": [
    {
     "name": "stdout",
     "output_type": "stream",
     "text": [
      "[2. 2. 2. 2. 2.]\n",
      "tensor([2., 2., 2., 2., 2.], dtype=torch.float64)\n"
     ]
    }
   ],
   "source": [
    "#Converting NumPy Array to Torch Tensor\n",
    "#See how changing the np array changed the Torch Tensor automatically\n",
    "a = np.ones(5)\n",
    "b = torch.from_numpy(a)\n",
    "np.add(a, 1, out=a)\n",
    "print(a)\n",
    "print(b)"
   ]
  },
  {
   "cell_type": "code",
   "execution_count": 28,
   "metadata": {},
   "outputs": [
    {
     "name": "stdout",
     "output_type": "stream",
     "text": [
      "tensor([[-0.9137,  0.6180,  1.6586,  2.0848],\n",
      "        [ 1.3490,  0.6147,  0.9171,  0.7288],\n",
      "        [ 1.1256,  0.0361,  1.8431, -0.3512],\n",
      "        [ 0.9834, -0.1588,  0.7469, -0.3535]], device='cuda:0')\n"
     ]
    }
   ],
   "source": [
    "#Move the tensor to the GPU\n",
    "r2 = r2.cuda()\n",
    "print(r2)"
   ]
  },
  {
   "cell_type": "code",
   "execution_count": 29,
   "metadata": {},
   "outputs": [
    {
     "name": "stdout",
     "output_type": "stream",
     "text": [
      "True\n",
      "tensor([[-0.9137,  0.6180,  1.6586,  2.0848],\n",
      "        [ 1.3490,  0.6147,  0.9171,  0.7288],\n",
      "        [ 1.1256,  0.0361,  1.8431, -0.3512],\n",
      "        [ 0.9834, -0.1588,  0.7469, -0.3535]], device='cuda:0')\n"
     ]
    }
   ],
   "source": [
    "#Provide Easy switching between CPU and GPU\n",
    "CUDA = torch.cuda.is_available()\n",
    "print(CUDA)\n",
    "if CUDA:\n",
    "    add_result = add_result.cuda()\n",
    "    print(add_result)"
   ]
  },
  {
   "cell_type": "code",
   "execution_count": 30,
   "metadata": {},
   "outputs": [
    {
     "name": "stdout",
     "output_type": "stream",
     "text": [
      "[2, 3, 4, 1]\n",
      "tensor([2, 3, 4, 1]) torch.int64\n"
     ]
    }
   ],
   "source": [
    "#You can also convert a list to a tensor\n",
    "a = [2,3,4,1]\n",
    "print(a)\n",
    "to_list = torch.tensor(a)\n",
    "print(to_list, to_list.dtype)"
   ]
  },
  {
   "cell_type": "code",
   "execution_count": 31,
   "metadata": {},
   "outputs": [
    {
     "name": "stdout",
     "output_type": "stream",
     "text": [
      "tensor([[1., 2.],\n",
      "        [3., 4.],\n",
      "        [5., 6.],\n",
      "        [7., 8.]]) torch.float32\n"
     ]
    }
   ],
   "source": [
    "data =  [[1., 2.], [3., 4.],\n",
    "         [5., 6.], [7., 8.]]\n",
    "T = torch.tensor(data)\n",
    "print(T, T.dtype)"
   ]
  },
  {
   "cell_type": "markdown",
   "metadata": {},
   "source": [
    "## Tensor Concatenation"
   ]
  },
  {
   "cell_type": "code",
   "execution_count": 32,
   "metadata": {},
   "outputs": [
    {
     "name": "stdout",
     "output_type": "stream",
     "text": [
      "tensor([[-1.6668, -0.2234, -0.3256, -0.4049,  0.2205],\n",
      "        [ 0.2435, -0.5042, -1.2384,  0.2435,  2.4203]])\n",
      "tensor([[-0.9731,  0.5365,  0.5313,  0.8909,  0.9091],\n",
      "        [ 1.4530,  0.9038,  0.8745, -0.8372, -0.2634],\n",
      "        [ 0.4044,  1.3572, -0.1470,  1.5456, -0.3373]])\n",
      "\n",
      "\n",
      "tensor([[-1.6668, -0.2234, -0.3256, -0.4049,  0.2205],\n",
      "        [ 0.2435, -0.5042, -1.2384,  0.2435,  2.4203],\n",
      "        [-0.9731,  0.5365,  0.5313,  0.8909,  0.9091],\n",
      "        [ 1.4530,  0.9038,  0.8745, -0.8372, -0.2634],\n",
      "        [ 0.4044,  1.3572, -0.1470,  1.5456, -0.3373]])\n",
      "\n",
      "\n",
      "tensor([[ 0.7430,  2.3565,  0.7622],\n",
      "        [ 0.8552, -0.0251,  1.1309]])\n",
      "tensor([[ 0.1384,  0.9886,  1.0204,  0.0252,  0.4289],\n",
      "        [ 0.9637, -1.5840, -0.4447, -0.6336, -0.0736]])\n",
      "\n",
      "\n"
     ]
    },
    {
     "name": "stdout",
     "output_type": "stream",
     "text": [
      "tensor([[ 0.7430,  2.3565,  0.7622,  0.1384,  0.9886,  1.0204,  0.0252,  0.4289],\n",
      "        [ 0.8552, -0.0251,  1.1309,  0.9637, -1.5840, -0.4447, -0.6336, -0.0736]])\n",
      "\n",
      "\n"
     ]
    }
   ],
   "source": [
    "#Tensor Concatenation \n",
    "first_1 = torch.randn(2, 5)\n",
    "print(first_1)\n",
    "second_1 = torch.randn(3, 5)\n",
    "print(second_1)\n",
    "#Concatenate along the 0 dimension (concatenate rows)\n",
    "con_1 = torch.cat([first_1, second_1])\n",
    "print('\\n')\n",
    "print(con_1)\n",
    "print('\\n')\n",
    "first_2 = torch.randn(2, 3)\n",
    "print(first_2)\n",
    "second_2 = torch.randn(2, 5)\n",
    "print(second_2)\n",
    "# Concatenate along the 1 dimension (concatenate columns)\n",
    "con_2 = torch.cat([first_2, second_2], 1)\n",
    "print('\\n')\n",
    "print(con_2)\n",
    "print('\\n')"
   ]
  },
  {
   "cell_type": "markdown",
   "metadata": {},
   "source": [
    "## Adding Dimensions to Tensors"
   ]
  },
  {
   "cell_type": "code",
   "execution_count": 33,
   "metadata": {},
   "outputs": [
    {
     "name": "stdout",
     "output_type": "stream",
     "text": [
      "tensor([[1, 2, 3, 4]])\n",
      "torch.Size([1, 4])\n",
      "tensor([[1],\n",
      "        [2],\n",
      "        [3],\n",
      "        [4]])\n",
      "torch.Size([4, 1])\n",
      "\n",
      "\n",
      "tensor([[[0.7949, 0.3757, 0.4466, 0.5718],\n",
      "         [0.3470, 0.4698, 0.4159, 0.8523],\n",
      "         [0.7816, 0.2258, 0.0370, 0.9177]],\n",
      "\n",
      "        [[0.0267, 0.4951, 0.4356, 0.1115],\n",
      "         [0.3128, 0.4662, 0.8372, 0.1072],\n",
      "         [0.1101, 0.8820, 0.3087, 0.6665]]])\n",
      "\n",
      "\n",
      "tensor([[0.4466, 0.4159, 0.0370],\n",
      "        [0.4356, 0.8372, 0.3087]])\n",
      "torch.Size([2, 3])\n",
      "\n",
      "\n",
      "tensor([[[0.4466],\n",
      "         [0.4159],\n",
      "         [0.0370]],\n",
      "\n",
      "        [[0.4356],\n",
      "         [0.8372],\n",
      "         [0.3087]]])\n",
      "torch.Size([2, 3, 1])\n"
     ]
    }
   ],
   "source": [
    "#Adds a dimension of 1 along a specified index\n",
    "tensor_1 = torch.tensor([1, 2, 3, 4])\n",
    "tensor_a = torch.unsqueeze(tensor_1, 0)\n",
    "print(tensor_a)\n",
    "print(tensor_a.shape)\n",
    "tensor_b = torch.unsqueeze(tensor_1,1)\n",
    "print(tensor_b)\n",
    "print(tensor_b.shape)\n",
    "print('\\n')\n",
    "tensor_2 = torch.rand(2,3,4)\n",
    "print(tensor_2)\n",
    "print('\\n')\n",
    "tensor_c = tensor_2[:,:,2]\n",
    "print(tensor_c)\n",
    "print(tensor_c.shape)\n",
    "print('\\n')\n",
    "tensor_d = torch.unsqueeze(tensor_c,2)\n",
    "print(tensor_d)\n",
    "print(tensor_d.shape)"
   ]
  },
  {
   "cell_type": "markdown",
   "metadata": {},
   "source": [
    "## AutoGrad"
   ]
  },
  {
   "cell_type": "code",
   "execution_count": 34,
   "metadata": {},
   "outputs": [
    {
     "name": "stdout",
     "output_type": "stream",
     "text": [
      "tensor([5., 7., 9.], grad_fn=<AddBackward0>)\n",
      "<AddBackward0 object at 0x000001B78B625D30>\n",
      "tensor(21., grad_fn=<SumBackward0>)\n",
      "<SumBackward0 object at 0x000001B78B625DC0>\n"
     ]
    }
   ],
   "source": [
    "#Remember, If requires_grad=True, the Tensor object keeps track of how it was created.\n",
    "x = torch.tensor([1., 2., 3], requires_grad=True)\n",
    "y = torch.tensor([4., 5., 6], requires_grad=True)\n",
    "#Notice that both x and y have their required_grad set to true, therefore we an compute gradients with respect to them\n",
    "z = x + y\n",
    "print(z)\n",
    "# z knows that is was created as a result of addition of x and y. It knows that it wasn't read in from a file\n",
    "print(z.grad_fn)\n",
    "#And if we go further on this\n",
    "s = z.sum()\n",
    "print(s)\n",
    "print(s.grad_fn)"
   ]
  },
  {
   "cell_type": "code",
   "execution_count": 35,
   "metadata": {},
   "outputs": [
    {
     "name": "stdout",
     "output_type": "stream",
     "text": [
      "tensor([1., 1., 1.])\n"
     ]
    }
   ],
   "source": [
    "#Now if we backpropagate on s, we can find the gradients of s with respect to x\n",
    "s.backward()\n",
    "print(x.grad)"
   ]
  },
  {
   "cell_type": "code",
   "execution_count": 36,
   "metadata": {},
   "outputs": [
    {
     "name": "stdout",
     "output_type": "stream",
     "text": [
      "False False\n",
      "None\n",
      "<AddBackward0 object at 0x000001B78B621B80>\n",
      "True\n",
      "None\n",
      "True\n",
      "True\n",
      "False\n"
     ]
    }
   ],
   "source": [
    "# By default, Tensors have `requires_grad=False`\n",
    "x = torch.randn(2, 2)\n",
    "y = torch.randn(2, 2)\n",
    "print(x.requires_grad, y.requires_grad)\n",
    "z = x + y\n",
    "# So you can't backprop through z\n",
    "print(z.grad_fn)\n",
    "#Another way to set the requires_grad = True is\n",
    "x.requires_grad_()\n",
    "y.requires_grad_()\n",
    "# z contains enough information to compute gradients, as we saw above\n",
    "z = x + y\n",
    "print(z.grad_fn)\n",
    "# If any input to an operation has ``requires_grad=True``, so will the output\n",
    "print(z.requires_grad)\n",
    "# Now z has the computation history that relates itself to x and y\n",
    "\n",
    "new_z = z.detach()\n",
    "print(new_z.grad_fn)\n",
    "# z.detach() returns a tensor that shares the same storage as ``z``, but with the computation history forgotten. \n",
    "#It doesn't know anything about how it was computed.In other words, we have broken the Tensor away from its past history\n",
    "\n",
    "#You can also stop autograd from tracking history on Tensors. This concept is useful when applying Transfer Learning \n",
    "print(x.requires_grad)\n",
    "print((x+10).requires_grad)\n",
    "\n",
    "with torch.no_grad():\n",
    "    print((x+10).requires_grad)"
   ]
  },
  {
   "cell_type": "code",
   "execution_count": 37,
   "metadata": {},
   "outputs": [
    {
     "name": "stdout",
     "output_type": "stream",
     "text": [
      "tensor([[1., 1.],\n",
      "        [1., 1.]], requires_grad=True)\n",
      "tensor([[3., 3.],\n",
      "        [3., 3.]], grad_fn=<AddBackward0>)\n",
      "<AddBackward0 object at 0x000001B7F57D52B0>\n",
      "tensor([[27., 27.],\n",
      "        [27., 27.]], grad_fn=<MulBackward0>) tensor(27., grad_fn=<MeanBackward0>)\n"
     ]
    },
    {
     "name": "stdout",
     "output_type": "stream",
     "text": [
      "tensor([[4.5000, 4.5000],\n",
      "        [4.5000, 4.5000]])\n"
     ]
    }
   ],
   "source": [
    "#Let's walk in through one last example\n",
    "x = torch.ones(2, 2, requires_grad=True)\n",
    "print(x)\n",
    "y = x + 2\n",
    "print(y)\n",
    "print(y.grad_fn)\n",
    "z = y * y * 3\n",
    "out = z.mean()\n",
    "print(z, out)\n",
    "out.backward()\n",
    "print(x.grad)"
   ]
  },
  {
   "cell_type": "code",
   "execution_count": 38,
   "metadata": {},
   "outputs": [
    {
     "name": "stdout",
     "output_type": "stream",
     "text": [
      "tensor([[0., 0., 0., 0., 0.],\n",
      "        [0., 0., 0., 0., 0.],\n",
      "        [0., 0., 0., 0., 0.],\n",
      "        [0., 0., 0., 0., 0.],\n",
      "        [0., 0., 0., 0., 0.]])\n",
      "tensor([[0., 0., 0., 0., 0.],\n",
      "        [0., 0., 0., 0., 0.],\n",
      "        [0., 0., 0., 0., 0.],\n",
      "        [0., 0., 0., 0., 0.],\n",
      "        [0., 0., 0., 0., 0.]])\n"
     ]
    }
   ],
   "source": [
    "m1 = torch.ones(5,5)\n",
    "m2 = torch.zeros(5,5)\n",
    "#Perform element-wise multiplaction \n",
    "mul = torch.mul(m1,m2)\n",
    "#Another way to perform element-wise multiplaction \n",
    "mul_another = m1*m2\n",
    "print(mul)\n",
    "print(mul_another)"
   ]
  },
  {
   "cell_type": "code",
   "execution_count": null,
   "metadata": {},
   "outputs": [],
   "source": []
  }
 ],
 "metadata": {
  "kernelspec": {
   "display_name": "Python 3",
   "language": "python",
   "name": "python3"
  },
  "language_info": {
   "codemirror_mode": {
    "name": "ipython",
    "version": 3
   },
   "file_extension": ".py",
   "mimetype": "text/x-python",
   "name": "python",
   "nbconvert_exporter": "python",
   "pygments_lexer": "ipython3",
   "version": "3.9.7"
  }
 },
 "nbformat": 4,
 "nbformat_minor": 2
}
